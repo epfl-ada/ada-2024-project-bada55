{
 "cells": [
  {
   "cell_type": "markdown",
   "id": "05d76938-a992-42a7-ae18-7b0c50d7e369",
   "metadata": {},
   "source": [
    "# Loading"
   ]
  },
  {
   "cell_type": "code",
   "execution_count": 1,
   "id": "906e9ce0-038a-45aa-bdca-f8883a74cda4",
   "metadata": {},
   "outputs": [],
   "source": [
    "import pandas as pd\n",
    "import numpy as np\n",
    "from langdetect import detect"
   ]
  },
  {
   "cell_type": "code",
   "execution_count": 2,
   "id": "5c697a77-2ff1-45d0-98cb-bb3547003a14",
   "metadata": {},
   "outputs": [],
   "source": [
    "ba_reviews = pd.read_parquet('../generated/new_ba_reviews.parquet')\n",
    "rb_reviews = pd.read_parquet('../generated/new_rb_reviews.parquet')"
   ]
  },
  {
   "cell_type": "code",
   "execution_count": 3,
   "id": "5d882119-e523-47b1-b0b9-9b4d9922311d",
   "metadata": {},
   "outputs": [],
   "source": [
    "ba_reviews = ba_reviews.drop(['beer_name', 'beer_id', 'brewery_name', 'brewery_id', 'style', 'abv', 'date', 'user_name' ,'appearance', 'aroma', 'palate', 'taste', 'overall', 'rating'], axis= 1)\n",
    "rb_reviews = rb_reviews.drop(['beer_name', 'beer_id', 'brewery_name', 'brewery_id', 'style', 'abv', 'date', 'user_name' ,'appearance', 'aroma', 'palate', 'taste', 'overall', 'rating'], axis= 1)"
   ]
  },
  {
   "cell_type": "code",
   "execution_count": 4,
   "id": "f15d7fe6-a36b-430e-bd55-666418ca4dc9",
   "metadata": {},
   "outputs": [],
   "source": [
    "ba_users = ba_reviews.groupby('user_id').agg(number_reviews= ('text', 'count')).sort_values(by= 'number_reviews').copy()\n",
    "rb_users = rb_reviews.groupby('user_id').agg(number_reviews= ('text', 'count')).sort_values(by= 'number_reviews').copy()\n",
    "ba_experts = ba_users[(ba_users['number_reviews'] >= 500) & (ba_users['number_reviews'] < 501)].reset_index().user_id\n",
    "rb_experts = rb_users[(rb_users['number_reviews'] >= 500) & (rb_users['number_reviews'] < 501)].reset_index().user_id"
   ]
  },
  {
   "cell_type": "code",
   "execution_count": 5,
   "id": "9c175927-ef99-4443-8370-6d03ace7a30a",
   "metadata": {},
   "outputs": [],
   "source": [
    "ba_reviews_experts = ba_reviews[ba_reviews['user_id'].isin(ba_experts)].copy()\n",
    "rb_reviews_experts = rb_reviews[rb_reviews['user_id'].isin(rb_experts)].copy()"
   ]
  },
  {
   "cell_type": "code",
   "execution_count": 6,
   "id": "7464a152-0e73-4003-8092-05ed8ad128f8",
   "metadata": {},
   "outputs": [],
   "source": [
    "def detect_language(text):\n",
    "    try:\n",
    "        return detect(text)\n",
    "    except Exception as e:\n",
    "        return \"unknown\""
   ]
  },
  {
   "cell_type": "code",
   "execution_count": 7,
   "id": "0d9be3b5-e2dc-461f-8423-cb79216233fe",
   "metadata": {},
   "outputs": [],
   "source": [
    "ba_reviews_experts['language'] = ba_reviews_experts['text'].apply(detect_language)"
   ]
  },
  {
   "cell_type": "code",
   "execution_count": 8,
   "id": "d2fda559-9ad9-48b1-8dfe-ac1971c22887",
   "metadata": {},
   "outputs": [],
   "source": [
    "rb_reviews_experts['language'] = rb_reviews_experts['text'].apply(detect_language)"
   ]
  },
  {
   "cell_type": "code",
   "execution_count": 9,
   "id": "0e0d3e9f-16ef-4931-9680-387ff907c80c",
   "metadata": {},
   "outputs": [
    {
     "name": "stdout",
     "output_type": "stream",
     "text": [
      "['morey.182874' 'kitch.868336' 'blackop555.1183557' 'ggaughan.18442'\n",
      " 'clavisaurea.232335'] ['en']\n",
      "['morey.182874' 'kitch.868336' 'blackop555.1183557' 'ggaughan.18442'\n",
      " 'clavisaurea.232335'] ['en']\n"
     ]
    }
   ],
   "source": [
    "print(ba_reviews_experts.user_id.unique(), ba_reviews_experts.language.unique())\n",
    "print(ba_reviews_experts.user_id.unique(), rb_reviews_experts.language.unique())"
   ]
  },
  {
   "cell_type": "code",
   "execution_count": 10,
   "id": "39cd101b-e911-4335-8666-74fca2893400",
   "metadata": {},
   "outputs": [],
   "source": [
    "ba_reviews_experts_en = ba_reviews_experts.copy()\n",
    "rb_reviews_experts_en = rb_reviews_experts.copy()"
   ]
  },
  {
   "cell_type": "code",
   "execution_count": 12,
   "id": "94bb3bfd-7ae1-4e17-ab35-6f1cb3a920f4",
   "metadata": {},
   "outputs": [
    {
     "data": {
      "text/html": [
       "<div>\n",
       "<style scoped>\n",
       "    .dataframe tbody tr th:only-of-type {\n",
       "        vertical-align: middle;\n",
       "    }\n",
       "\n",
       "    .dataframe tbody tr th {\n",
       "        vertical-align: top;\n",
       "    }\n",
       "\n",
       "    .dataframe thead th {\n",
       "        text-align: right;\n",
       "    }\n",
       "</style>\n",
       "<table border=\"1\" class=\"dataframe\">\n",
       "  <thead>\n",
       "    <tr style=\"text-align: right;\">\n",
       "      <th></th>\n",
       "      <th>user_id</th>\n",
       "      <th>text</th>\n",
       "      <th>language</th>\n",
       "    </tr>\n",
       "  </thead>\n",
       "  <tbody>\n",
       "    <tr>\n",
       "      <th>25</th>\n",
       "      <td>morey.182874</td>\n",
       "      <td>Pours reddish-brown in color with nice clarity...</td>\n",
       "      <td>en</td>\n",
       "    </tr>\n",
       "    <tr>\n",
       "      <th>2782</th>\n",
       "      <td>kitch.868336</td>\n",
       "      <td>A 330ml foiled and capped bottle, bottle no. 0...</td>\n",
       "      <td>en</td>\n",
       "    </tr>\n",
       "    <tr>\n",
       "      <th>4542</th>\n",
       "      <td>blackop555.1183557</td>\n",
       "      <td>Pours dark brown. Thick, short, light tan head...</td>\n",
       "      <td>en</td>\n",
       "    </tr>\n",
       "    <tr>\n",
       "      <th>6005</th>\n",
       "      <td>blackop555.1183557</td>\n",
       "      <td>Pours dark brown. Thin, foamy, tan head fades ...</td>\n",
       "      <td>en</td>\n",
       "    </tr>\n",
       "    <tr>\n",
       "      <th>6232</th>\n",
       "      <td>blackop555.1183557</td>\n",
       "      <td>Pours reddish brown. Thick, tall, off white he...</td>\n",
       "      <td>en</td>\n",
       "    </tr>\n",
       "    <tr>\n",
       "      <th>...</th>\n",
       "      <td>...</td>\n",
       "      <td>...</td>\n",
       "      <td>...</td>\n",
       "    </tr>\n",
       "    <tr>\n",
       "      <th>2581112</th>\n",
       "      <td>clavisaurea.232335</td>\n",
       "      <td>12oz pint glass from The Snow Goose Restaurant...</td>\n",
       "      <td>en</td>\n",
       "    </tr>\n",
       "    <tr>\n",
       "      <th>2586909</th>\n",
       "      <td>morey.182874</td>\n",
       "      <td>12oz bottle with no freshness date. Pours a ve...</td>\n",
       "      <td>en</td>\n",
       "    </tr>\n",
       "    <tr>\n",
       "      <th>2587972</th>\n",
       "      <td>ggaughan.18442</td>\n",
       "      <td>This beer poured a hazy golden color into a pi...</td>\n",
       "      <td>en</td>\n",
       "    </tr>\n",
       "    <tr>\n",
       "      <th>2588259</th>\n",
       "      <td>ggaughan.18442</td>\n",
       "      <td>I was looking forward to trying this after lov...</td>\n",
       "      <td>en</td>\n",
       "    </tr>\n",
       "    <tr>\n",
       "      <th>2588394</th>\n",
       "      <td>ggaughan.18442</td>\n",
       "      <td>The beer poured a hazy straw color with a cris...</td>\n",
       "      <td>en</td>\n",
       "    </tr>\n",
       "  </tbody>\n",
       "</table>\n",
       "<p>2500 rows × 3 columns</p>\n",
       "</div>"
      ],
      "text/plain": [
       "                    user_id  \\\n",
       "25             morey.182874   \n",
       "2782           kitch.868336   \n",
       "4542     blackop555.1183557   \n",
       "6005     blackop555.1183557   \n",
       "6232     blackop555.1183557   \n",
       "...                     ...   \n",
       "2581112  clavisaurea.232335   \n",
       "2586909        morey.182874   \n",
       "2587972      ggaughan.18442   \n",
       "2588259      ggaughan.18442   \n",
       "2588394      ggaughan.18442   \n",
       "\n",
       "                                                      text language  \n",
       "25       Pours reddish-brown in color with nice clarity...       en  \n",
       "2782     A 330ml foiled and capped bottle, bottle no. 0...       en  \n",
       "4542     Pours dark brown. Thick, short, light tan head...       en  \n",
       "6005     Pours dark brown. Thin, foamy, tan head fades ...       en  \n",
       "6232     Pours reddish brown. Thick, tall, off white he...       en  \n",
       "...                                                    ...      ...  \n",
       "2581112  12oz pint glass from The Snow Goose Restaurant...       en  \n",
       "2586909  12oz bottle with no freshness date. Pours a ve...       en  \n",
       "2587972  This beer poured a hazy golden color into a pi...       en  \n",
       "2588259  I was looking forward to trying this after lov...       en  \n",
       "2588394  The beer poured a hazy straw color with a cris...       en  \n",
       "\n",
       "[2500 rows x 3 columns]"
      ]
     },
     "metadata": {},
     "output_type": "display_data"
    },
    {
     "data": {
      "text/html": [
       "<div>\n",
       "<style scoped>\n",
       "    .dataframe tbody tr th:only-of-type {\n",
       "        vertical-align: middle;\n",
       "    }\n",
       "\n",
       "    .dataframe tbody tr th {\n",
       "        vertical-align: top;\n",
       "    }\n",
       "\n",
       "    .dataframe thead th {\n",
       "        text-align: right;\n",
       "    }\n",
       "</style>\n",
       "<table border=\"1\" class=\"dataframe\">\n",
       "  <thead>\n",
       "    <tr style=\"text-align: right;\">\n",
       "      <th></th>\n",
       "      <th>user_id</th>\n",
       "      <th>text</th>\n",
       "      <th>language</th>\n",
       "    </tr>\n",
       "  </thead>\n",
       "  <tbody>\n",
       "    <tr>\n",
       "      <th>5559</th>\n",
       "      <td>14135</td>\n",
       "      <td>The 12 ounce bottle poured a crystal clear lig...</td>\n",
       "      <td>en</td>\n",
       "    </tr>\n",
       "    <tr>\n",
       "      <th>7300</th>\n",
       "      <td>14135</td>\n",
       "      <td>The 12 ounce clear bottle poured a clear, gold...</td>\n",
       "      <td>en</td>\n",
       "    </tr>\n",
       "    <tr>\n",
       "      <th>7443</th>\n",
       "      <td>14135</td>\n",
       "      <td>The 12 ounce bottle poured a polished pale yel...</td>\n",
       "      <td>en</td>\n",
       "    </tr>\n",
       "    <tr>\n",
       "      <th>13605</th>\n",
       "      <td>14135</td>\n",
       "      <td>The 12 ounce bottle poured a clear, golden col...</td>\n",
       "      <td>en</td>\n",
       "    </tr>\n",
       "    <tr>\n",
       "      <th>26861</th>\n",
       "      <td>14135</td>\n",
       "      <td>The bottle poured a crystal clear pale yellow ...</td>\n",
       "      <td>en</td>\n",
       "    </tr>\n",
       "    <tr>\n",
       "      <th>...</th>\n",
       "      <td>...</td>\n",
       "      <td>...</td>\n",
       "      <td>...</td>\n",
       "    </tr>\n",
       "    <tr>\n",
       "      <th>7064213</th>\n",
       "      <td>71531</td>\n",
       "      <td>Golden in colour, pours with a thick pillowy h...</td>\n",
       "      <td>en</td>\n",
       "    </tr>\n",
       "    <tr>\n",
       "      <th>7065225</th>\n",
       "      <td>71531</td>\n",
       "      <td>Amber in colour, highly carbonated. Has a good...</td>\n",
       "      <td>en</td>\n",
       "    </tr>\n",
       "    <tr>\n",
       "      <th>7065679</th>\n",
       "      <td>71531</td>\n",
       "      <td>An interesting beer this. Certainly in the fla...</td>\n",
       "      <td>en</td>\n",
       "    </tr>\n",
       "    <tr>\n",
       "      <th>7066002</th>\n",
       "      <td>71531</td>\n",
       "      <td>An interesting quitre dark amber Belgian style...</td>\n",
       "      <td>en</td>\n",
       "    </tr>\n",
       "    <tr>\n",
       "      <th>7116922</th>\n",
       "      <td>14135</td>\n",
       "      <td>The 11.2 ounce bottle poured a sparkling clear...</td>\n",
       "      <td>en</td>\n",
       "    </tr>\n",
       "  </tbody>\n",
       "</table>\n",
       "<p>1000 rows × 3 columns</p>\n",
       "</div>"
      ],
      "text/plain": [
       "        user_id                                               text language\n",
       "5559      14135  The 12 ounce bottle poured a crystal clear lig...       en\n",
       "7300      14135  The 12 ounce clear bottle poured a clear, gold...       en\n",
       "7443      14135  The 12 ounce bottle poured a polished pale yel...       en\n",
       "13605     14135  The 12 ounce bottle poured a clear, golden col...       en\n",
       "26861     14135  The bottle poured a crystal clear pale yellow ...       en\n",
       "...         ...                                                ...      ...\n",
       "7064213   71531  Golden in colour, pours with a thick pillowy h...       en\n",
       "7065225   71531  Amber in colour, highly carbonated. Has a good...       en\n",
       "7065679   71531  An interesting beer this. Certainly in the fla...       en\n",
       "7066002   71531  An interesting quitre dark amber Belgian style...       en\n",
       "7116922   14135  The 11.2 ounce bottle poured a sparkling clear...       en\n",
       "\n",
       "[1000 rows x 3 columns]"
      ]
     },
     "metadata": {},
     "output_type": "display_data"
    }
   ],
   "source": [
    "display(ba_reviews_experts_en)\n",
    "display(rb_reviews_experts_en)"
   ]
  },
  {
   "cell_type": "code",
   "execution_count": 11,
   "id": "d580e647-b715-4d8f-872f-749f6febf2a5",
   "metadata": {},
   "outputs": [],
   "source": [
    "del ba_reviews, rb_reviews, ba_reviews_experts, rb_reviews_experts"
   ]
  },
  {
   "cell_type": "markdown",
   "id": "7dd91e40-67c5-42ea-afe0-c76bac8b8b60",
   "metadata": {},
   "source": [
    "# Vocabulary Analysis"
   ]
  },
  {
   "cell_type": "code",
   "execution_count": 14,
   "id": "0b7f596f-410a-454c-b0ea-f2dbed457e3c",
   "metadata": {},
   "outputs": [
    {
     "name": "stdout",
     "output_type": "stream",
     "text": [
      "       10  10th   11  112   12  12oz  1st  2008  2011  2012  ...  wrong  year  \\\n",
      "25    0.0   0.0  0.0  0.0  0.0   0.0  0.0   0.0   0.0   0.0  ...    0.0   0.0   \n",
      "2782  0.0   0.0  0.0  0.0  0.0   0.0  0.0   0.0   0.0   0.0  ...    0.0   0.0   \n",
      "4542  0.0   0.0  0.0  0.0  0.0   0.0  0.0   0.0   0.0   0.0  ...    0.0   0.0   \n",
      "6005  0.0   0.0  0.0  0.0  0.0   0.0  0.0   0.0   0.0   0.0  ...    0.0   0.0   \n",
      "6232  0.0   0.0  0.0  0.0  0.0   0.0  0.0   0.0   0.0   0.0  ...    0.0   0.0   \n",
      "\n",
      "         years  yeast  yeasty  yellow  yelloworange  youre  zest      platform  \n",
      "25    0.000000    0.0     0.0     0.0           0.0    0.0   0.0  BeerAdvocate  \n",
      "2782  0.129324    0.0     0.0     0.0           0.0    0.0   0.0  BeerAdvocate  \n",
      "4542  0.000000    0.0     0.0     0.0           0.0    0.0   0.0  BeerAdvocate  \n",
      "6005  0.000000    0.0     0.0     0.0           0.0    0.0   0.0  BeerAdvocate  \n",
      "6232  0.000000    0.0     0.0     0.0           0.0    0.0   0.0  BeerAdvocate  \n",
      "\n",
      "[5 rows x 1001 columns]\n"
     ]
    }
   ],
   "source": [
    "from sklearn.feature_extraction.text import TfidfVectorizer\n",
    "import pandas as pd\n",
    "import string\n",
    "\n",
    "# Prétraitement (simplifié pour TF-IDF, sans lemmatization ici)\n",
    "def preprocess_for_tfidf(text):\n",
    "    text = text.lower().translate(str.maketrans('', '', string.punctuation))\n",
    "    return text\n",
    "\n",
    "# Appliquer le prétraitement\n",
    "ba_reviews_experts_en['clean_text'] = ba_reviews_experts_en['text'].apply(preprocess_for_tfidf)\n",
    "rb_reviews_experts_en['clean_text'] = rb_reviews_experts_en['text'].apply(preprocess_for_tfidf)\n",
    "\n",
    "# Combine les deux datasets pour le calcul global\n",
    "all_reviews = pd.concat([\n",
    "    ba_reviews_experts_en[['clean_text']].assign(platform='BeerAdvocate'),\n",
    "    rb_reviews_experts_en[['clean_text']].assign(platform='RateBeer')\n",
    "])\n",
    "\n",
    "# TF-IDF Vectorizer\n",
    "tfidf_vectorizer = TfidfVectorizer(stop_words='english', max_features=1000)  # 1000 mots les plus importants\n",
    "tfidf_matrix = tfidf_vectorizer.fit_transform(all_reviews['clean_text'])\n",
    "\n",
    "# Convertir en DataFrame pour inspection\n",
    "tfidf_df = pd.DataFrame(\n",
    "    tfidf_matrix.toarray(),\n",
    "    columns=tfidf_vectorizer.get_feature_names_out(),\n",
    "    index=all_reviews.index\n",
    ")\n",
    "\n",
    "# Ajouter la plateforme pour différencier\n",
    "tfidf_df['platform'] = all_reviews['platform'].values\n",
    "\n",
    "# Résumé\n",
    "print(tfidf_df.head())\n"
   ]
  },
  {
   "cell_type": "code",
   "execution_count": null,
   "id": "d04a9fa1-dd68-427a-8b8c-046ee62b412d",
   "metadata": {},
   "outputs": [],
   "source": []
  }
 ],
 "metadata": {
  "kernelspec": {
   "display_name": "Python 3 (ipykernel)",
   "language": "python",
   "name": "python3"
  },
  "language_info": {
   "codemirror_mode": {
    "name": "ipython",
    "version": 3
   },
   "file_extension": ".py",
   "mimetype": "text/x-python",
   "name": "python",
   "nbconvert_exporter": "python",
   "pygments_lexer": "ipython3",
   "version": "3.11.9"
  }
 },
 "nbformat": 4,
 "nbformat_minor": 5
}
