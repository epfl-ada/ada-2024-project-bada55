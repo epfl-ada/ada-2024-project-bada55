{
 "cells": [
  {
   "cell_type": "markdown",
   "id": "fa8aeb71-471b-4fca-978b-f7e66117e340",
   "metadata": {},
   "source": [
    "# Libraries"
   ]
  },
  {
   "cell_type": "code",
   "execution_count": 1,
   "id": "4f18bb43-210c-4c5d-8827-aa7c81b65e9f",
   "metadata": {},
   "outputs": [],
   "source": [
    "import pandas as pd\n",
    "import numpy as np\n",
    "import fasttext"
   ]
  },
  {
   "cell_type": "code",
   "execution_count": 2,
   "id": "bc8f4626-2192-4bf1-847e-9c53562cba50",
   "metadata": {},
   "outputs": [],
   "source": [
    "model_path = \"../data/bin/lid.176.bin\" "
   ]
  },
  {
   "cell_type": "markdown",
   "id": "4bf571c0-50de-4b0a-8563-324f99e85334",
   "metadata": {},
   "source": [
    "# Loading"
   ]
  },
  {
   "cell_type": "code",
   "execution_count": 3,
   "id": "7331e4d7-3fd5-4d6b-b10b-243e528717f3",
   "metadata": {},
   "outputs": [],
   "source": [
    "ba_reviews_experts = pd.read_parquet('../generated/ba_reviews_experts.parquet')\n",
    "rb_reviews_experts = pd.read_parquet('../generated/rb_reviews_experts.parquet')\n",
    "model = fasttext.load_model(model_path)"
   ]
  },
  {
   "cell_type": "markdown",
   "id": "9b446e67-1006-4a3e-8534-d1f087d76fed",
   "metadata": {},
   "source": [
    "# Langage Detection"
   ]
  },
  {
   "cell_type": "code",
   "execution_count": 4,
   "id": "6065863f-ca63-445e-9e99-1e84dc561913",
   "metadata": {},
   "outputs": [],
   "source": [
    "def detect_language_fasttext(text): #utils\n",
    "    try:\n",
    "        if pd.isnull(text) or text.strip() == \"\":\n",
    "            return \"unknown\"\n",
    "        prediction = model.predict(text.strip())\n",
    "        return prediction[0][0].replace(\"__label__\", \"\") \n",
    "    except Exception as e:\n",
    "        return \"unknown\""
   ]
  },
  {
   "cell_type": "markdown",
   "id": "7fac771e-3e98-437d-a873-5f5079efeb49",
   "metadata": {},
   "source": [
    "## BeerAdvocate"
   ]
  },
  {
   "cell_type": "code",
   "execution_count": 5,
   "id": "7dd94286-5ed7-4000-87a3-b6dab28f9fb8",
   "metadata": {},
   "outputs": [],
   "source": [
    "ba_reviews_experts['language'] = ba_reviews_experts['text'].apply(detect_language_fasttext)"
   ]
  },
  {
   "cell_type": "code",
   "execution_count": 6,
   "id": "27309146-ae84-4bf2-a1e5-d60edecfaf08",
   "metadata": {},
   "outputs": [],
   "source": [
    "ba_languages = ba_reviews_experts.groupby('language').agg(num_languages =('language', 'count'))\n",
    "ba_total_language = ba_languages['num_languages'].sum()\n",
    "ba_languages['review_proportion_percentage'] = (ba_languages['num_languages'] / ba_total_language * 100).round(5)\n",
    "ba_languages = ba_languages.sort_values(by= 'num_languages', ascending= False)"
   ]
  },
  {
   "cell_type": "code",
   "execution_count": 7,
   "id": "f6e3e807-3dcb-41e9-9e1e-55b42b155857",
   "metadata": {},
   "outputs": [
    {
     "data": {
      "text/html": [
       "<div>\n",
       "<style scoped>\n",
       "    .dataframe tbody tr th:only-of-type {\n",
       "        vertical-align: middle;\n",
       "    }\n",
       "\n",
       "    .dataframe tbody tr th {\n",
       "        vertical-align: top;\n",
       "    }\n",
       "\n",
       "    .dataframe thead th {\n",
       "        text-align: right;\n",
       "    }\n",
       "</style>\n",
       "<table border=\"1\" class=\"dataframe\">\n",
       "  <thead>\n",
       "    <tr style=\"text-align: right;\">\n",
       "      <th></th>\n",
       "      <th>num_languages</th>\n",
       "      <th>review_proportion_percentage</th>\n",
       "    </tr>\n",
       "    <tr>\n",
       "      <th>language</th>\n",
       "      <th></th>\n",
       "      <th></th>\n",
       "    </tr>\n",
       "  </thead>\n",
       "  <tbody>\n",
       "    <tr>\n",
       "      <th>en</th>\n",
       "      <td>1250674</td>\n",
       "      <td>99.98993</td>\n",
       "    </tr>\n",
       "    <tr>\n",
       "      <th>fr</th>\n",
       "      <td>122</td>\n",
       "      <td>0.00975</td>\n",
       "    </tr>\n",
       "    <tr>\n",
       "      <th>de</th>\n",
       "      <td>3</td>\n",
       "      <td>0.00024</td>\n",
       "    </tr>\n",
       "    <tr>\n",
       "      <th>it</th>\n",
       "      <td>1</td>\n",
       "      <td>0.00008</td>\n",
       "    </tr>\n",
       "  </tbody>\n",
       "</table>\n",
       "</div>"
      ],
      "text/plain": [
       "          num_languages  review_proportion_percentage\n",
       "language                                             \n",
       "en              1250674                      99.98993\n",
       "fr                  122                       0.00975\n",
       "de                    3                       0.00024\n",
       "it                    1                       0.00008"
      ]
     },
     "execution_count": 7,
     "metadata": {},
     "output_type": "execute_result"
    }
   ],
   "source": [
    "ba_languages"
   ]
  },
  {
   "cell_type": "markdown",
   "id": "16c761ce-4207-4380-96a7-8f981ddd2cd3",
   "metadata": {},
   "source": [
    "**Comment:**"
   ]
  },
  {
   "cell_type": "markdown",
   "id": "ffa33b6c-69f3-4bfa-83f0-de0248e7d4e9",
   "metadata": {},
   "source": [
    "### Saving"
   ]
  },
  {
   "cell_type": "code",
   "execution_count": 8,
   "id": "827c4917-cfbb-421b-8838-32336fec8adc",
   "metadata": {},
   "outputs": [],
   "source": [
    "ba_reviews_experts_en = ba_reviews_experts[ba_reviews_experts['language'] == 'en'].reset_index().copy()\n",
    "ba_reviews_experts_en.to_parquet('../generated/ba_reviews_experts_en.parquet')"
   ]
  },
  {
   "cell_type": "markdown",
   "id": "d9cc6637-c443-440a-815a-bb0f88fa9358",
   "metadata": {},
   "source": [
    "# RateBeer"
   ]
  },
  {
   "cell_type": "code",
   "execution_count": 9,
   "id": "1be1654a-b9e6-46c9-a5a7-74d67f05e260",
   "metadata": {},
   "outputs": [],
   "source": [
    "rb_reviews_experts['language'] = rb_reviews_experts['text'].apply(detect_language_fasttext)"
   ]
  },
  {
   "cell_type": "code",
   "execution_count": 10,
   "id": "39992f16-4547-4c2e-95ca-216a5882f815",
   "metadata": {},
   "outputs": [],
   "source": [
    "rb_languages = rb_reviews_experts.groupby('language').agg(num_languages =('language', 'count'))\n",
    "rb_total_language = rb_languages['num_languages'].sum()\n",
    "rb_languages['review_proportion_percentage'] = (rb_languages['num_languages'] / rb_total_language * 100).round(5)\n",
    "rb_languages = rb_languages.sort_values(by= 'num_languages', ascending= False)"
   ]
  },
  {
   "cell_type": "code",
   "execution_count": 11,
   "id": "83bb7373-51f5-4ccc-80f1-5235dbd40502",
   "metadata": {},
   "outputs": [
    {
     "data": {
      "text/html": [
       "<div>\n",
       "<style scoped>\n",
       "    .dataframe tbody tr th:only-of-type {\n",
       "        vertical-align: middle;\n",
       "    }\n",
       "\n",
       "    .dataframe tbody tr th {\n",
       "        vertical-align: top;\n",
       "    }\n",
       "\n",
       "    .dataframe thead th {\n",
       "        text-align: right;\n",
       "    }\n",
       "</style>\n",
       "<table border=\"1\" class=\"dataframe\">\n",
       "  <thead>\n",
       "    <tr style=\"text-align: right;\">\n",
       "      <th></th>\n",
       "      <th>num_languages</th>\n",
       "      <th>review_proportion_percentage</th>\n",
       "    </tr>\n",
       "    <tr>\n",
       "      <th>language</th>\n",
       "      <th></th>\n",
       "      <th></th>\n",
       "    </tr>\n",
       "  </thead>\n",
       "  <tbody>\n",
       "    <tr>\n",
       "      <th>en</th>\n",
       "      <td>3412968</td>\n",
       "      <td>95.87487</td>\n",
       "    </tr>\n",
       "    <tr>\n",
       "      <th>de</th>\n",
       "      <td>44389</td>\n",
       "      <td>1.24695</td>\n",
       "    </tr>\n",
       "    <tr>\n",
       "      <th>fr</th>\n",
       "      <td>36989</td>\n",
       "      <td>1.03907</td>\n",
       "    </tr>\n",
       "    <tr>\n",
       "      <th>no</th>\n",
       "      <td>18628</td>\n",
       "      <td>0.52329</td>\n",
       "    </tr>\n",
       "    <tr>\n",
       "      <th>sv</th>\n",
       "      <td>11912</td>\n",
       "      <td>0.33462</td>\n",
       "    </tr>\n",
       "    <tr>\n",
       "      <th>pl</th>\n",
       "      <td>8238</td>\n",
       "      <td>0.23142</td>\n",
       "    </tr>\n",
       "    <tr>\n",
       "      <th>it</th>\n",
       "      <td>8084</td>\n",
       "      <td>0.22709</td>\n",
       "    </tr>\n",
       "    <tr>\n",
       "      <th>nl</th>\n",
       "      <td>6990</td>\n",
       "      <td>0.19636</td>\n",
       "    </tr>\n",
       "    <tr>\n",
       "      <th>es</th>\n",
       "      <td>6909</td>\n",
       "      <td>0.19408</td>\n",
       "    </tr>\n",
       "    <tr>\n",
       "      <th>da</th>\n",
       "      <td>4432</td>\n",
       "      <td>0.12450</td>\n",
       "    </tr>\n",
       "    <tr>\n",
       "      <th>fi</th>\n",
       "      <td>83</td>\n",
       "      <td>0.00233</td>\n",
       "    </tr>\n",
       "    <tr>\n",
       "      <th>nn</th>\n",
       "      <td>76</td>\n",
       "      <td>0.00213</td>\n",
       "    </tr>\n",
       "    <tr>\n",
       "      <th>pt</th>\n",
       "      <td>47</td>\n",
       "      <td>0.00132</td>\n",
       "    </tr>\n",
       "    <tr>\n",
       "      <th>sk</th>\n",
       "      <td>19</td>\n",
       "      <td>0.00053</td>\n",
       "    </tr>\n",
       "    <tr>\n",
       "      <th>ja</th>\n",
       "      <td>12</td>\n",
       "      <td>0.00034</td>\n",
       "    </tr>\n",
       "    <tr>\n",
       "      <th>uk</th>\n",
       "      <td>5</td>\n",
       "      <td>0.00014</td>\n",
       "    </tr>\n",
       "    <tr>\n",
       "      <th>et</th>\n",
       "      <td>5</td>\n",
       "      <td>0.00014</td>\n",
       "    </tr>\n",
       "    <tr>\n",
       "      <th>ceb</th>\n",
       "      <td>4</td>\n",
       "      <td>0.00011</td>\n",
       "    </tr>\n",
       "    <tr>\n",
       "      <th>ko</th>\n",
       "      <td>3</td>\n",
       "      <td>0.00008</td>\n",
       "    </tr>\n",
       "    <tr>\n",
       "      <th>cs</th>\n",
       "      <td>3</td>\n",
       "      <td>0.00008</td>\n",
       "    </tr>\n",
       "    <tr>\n",
       "      <th>ru</th>\n",
       "      <td>2</td>\n",
       "      <td>0.00006</td>\n",
       "    </tr>\n",
       "    <tr>\n",
       "      <th>hu</th>\n",
       "      <td>2</td>\n",
       "      <td>0.00006</td>\n",
       "    </tr>\n",
       "    <tr>\n",
       "      <th>ga</th>\n",
       "      <td>2</td>\n",
       "      <td>0.00006</td>\n",
       "    </tr>\n",
       "    <tr>\n",
       "      <th>eo</th>\n",
       "      <td>2</td>\n",
       "      <td>0.00006</td>\n",
       "    </tr>\n",
       "    <tr>\n",
       "      <th>tl</th>\n",
       "      <td>1</td>\n",
       "      <td>0.00003</td>\n",
       "    </tr>\n",
       "    <tr>\n",
       "      <th>sw</th>\n",
       "      <td>1</td>\n",
       "      <td>0.00003</td>\n",
       "    </tr>\n",
       "    <tr>\n",
       "      <th>sl</th>\n",
       "      <td>1</td>\n",
       "      <td>0.00003</td>\n",
       "    </tr>\n",
       "    <tr>\n",
       "      <th>is</th>\n",
       "      <td>1</td>\n",
       "      <td>0.00003</td>\n",
       "    </tr>\n",
       "    <tr>\n",
       "      <th>el</th>\n",
       "      <td>1</td>\n",
       "      <td>0.00003</td>\n",
       "    </tr>\n",
       "    <tr>\n",
       "      <th>ar</th>\n",
       "      <td>1</td>\n",
       "      <td>0.00003</td>\n",
       "    </tr>\n",
       "    <tr>\n",
       "      <th>gl</th>\n",
       "      <td>1</td>\n",
       "      <td>0.00003</td>\n",
       "    </tr>\n",
       "    <tr>\n",
       "      <th>lv</th>\n",
       "      <td>1</td>\n",
       "      <td>0.00003</td>\n",
       "    </tr>\n",
       "    <tr>\n",
       "      <th>la</th>\n",
       "      <td>1</td>\n",
       "      <td>0.00003</td>\n",
       "    </tr>\n",
       "    <tr>\n",
       "      <th>jv</th>\n",
       "      <td>1</td>\n",
       "      <td>0.00003</td>\n",
       "    </tr>\n",
       "    <tr>\n",
       "      <th>af</th>\n",
       "      <td>1</td>\n",
       "      <td>0.00003</td>\n",
       "    </tr>\n",
       "  </tbody>\n",
       "</table>\n",
       "</div>"
      ],
      "text/plain": [
       "          num_languages  review_proportion_percentage\n",
       "language                                             \n",
       "en              3412968                      95.87487\n",
       "de                44389                       1.24695\n",
       "fr                36989                       1.03907\n",
       "no                18628                       0.52329\n",
       "sv                11912                       0.33462\n",
       "pl                 8238                       0.23142\n",
       "it                 8084                       0.22709\n",
       "nl                 6990                       0.19636\n",
       "es                 6909                       0.19408\n",
       "da                 4432                       0.12450\n",
       "fi                   83                       0.00233\n",
       "nn                   76                       0.00213\n",
       "pt                   47                       0.00132\n",
       "sk                   19                       0.00053\n",
       "ja                   12                       0.00034\n",
       "uk                    5                       0.00014\n",
       "et                    5                       0.00014\n",
       "ceb                   4                       0.00011\n",
       "ko                    3                       0.00008\n",
       "cs                    3                       0.00008\n",
       "ru                    2                       0.00006\n",
       "hu                    2                       0.00006\n",
       "ga                    2                       0.00006\n",
       "eo                    2                       0.00006\n",
       "tl                    1                       0.00003\n",
       "sw                    1                       0.00003\n",
       "sl                    1                       0.00003\n",
       "is                    1                       0.00003\n",
       "el                    1                       0.00003\n",
       "ar                    1                       0.00003\n",
       "gl                    1                       0.00003\n",
       "lv                    1                       0.00003\n",
       "la                    1                       0.00003\n",
       "jv                    1                       0.00003\n",
       "af                    1                       0.00003"
      ]
     },
     "execution_count": 11,
     "metadata": {},
     "output_type": "execute_result"
    }
   ],
   "source": [
    "rb_languages"
   ]
  },
  {
   "cell_type": "markdown",
   "id": "1526c9ce-ed38-4067-968c-5e72e52a867f",
   "metadata": {},
   "source": [
    "**Comment:**"
   ]
  },
  {
   "cell_type": "markdown",
   "id": "7ce108d3-deee-45ab-9ee2-fdcad13d8ae5",
   "metadata": {},
   "source": [
    "### Saving"
   ]
  },
  {
   "cell_type": "code",
   "execution_count": 12,
   "id": "40fc278a-c095-4202-8c0e-6efa4addb93e",
   "metadata": {},
   "outputs": [],
   "source": [
    "rb_reviews_experts_en = rb_reviews_experts[rb_reviews_experts['language'] == 'en'].reset_index().copy()\n",
    "rb_reviews_experts_en.to_parquet('../generated/rb_reviews_experts_en.parquet')"
   ]
  }
 ],
 "metadata": {
  "kernelspec": {
   "display_name": "Python 3 (ipykernel)",
   "language": "python",
   "name": "python3"
  },
  "language_info": {
   "codemirror_mode": {
    "name": "ipython",
    "version": 3
   },
   "file_extension": ".py",
   "mimetype": "text/x-python",
   "name": "python",
   "nbconvert_exporter": "python",
   "pygments_lexer": "ipython3",
   "version": "3.11.9"
  }
 },
 "nbformat": 4,
 "nbformat_minor": 5
}
