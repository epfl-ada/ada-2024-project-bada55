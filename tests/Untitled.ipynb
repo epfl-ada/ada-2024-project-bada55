{
 "cells": [
  {
   "cell_type": "code",
   "execution_count": null,
   "id": "b11cb891-b6ae-4f79-ad73-02d4745f22d9",
   "metadata": {},
   "outputs": [],
   "source": [
    "def fig_exp_site(data_exp_ba: np.array, data_exp_rb: np.array) -> go.Figure:\n",
    "\n",
    "    categories = ['Expert', 'Intermediate', 'Novice', 'Debutant']\n",
    "    bars = ['Users (%)', 'Reviews (%)']\n",
    "    \n",
    "    data1_df = pd.DataFrame(data_exp_ba, columns=categories)\n",
    "    data1_df['site'] = bars\n",
    "    data1_df['dataset'] = 'BeerAdvocate'\n",
    "    \n",
    "    data2_df = pd.DataFrame(data_exp_rb, columns=categories)\n",
    "    data2_df['site'] = bars\n",
    "    data2_df['dataset'] = 'RateBeer'\n",
    "    \n",
    "    df_combined = pd.concat([data1_df, data2_df], ignore_index=True)\n",
    "    \n",
    "    df_melted = df_combined.melt(id_vars=['site', 'dataset'], var_name='index', value_name='Coeff')\n",
    "    \n",
    "    fig = px.bar(df_melted,\n",
    "                 x=\"site\", \n",
    "                 y=\"Coeff\", \n",
    "                 color=\"index\",  \n",
    "                 text=df_melted[\"Coeff\"].apply(lambda x: f\"{x:.1f}%\"), \n",
    "                 facet_col=\"dataset\",  \n",
    "                 labels={'Coeff': 'Percentage (%)', 'site': 'Category'},  \n",
    "                 title=\"Comparison of Coefficients by Category for Both Datasets\",\n",
    "                 )\n",
    "    \n",
    "    fig.update_layout(\n",
    "        yaxis=dict(tickformat='.0%', range=[0, 1]),\n",
    "        barmode='stack',  \n",
    "        xaxis_title='Category',\n",
    "        yaxis_title='Percentage (%)',\n",
    "        template='plotly_white',\n",
    "        height=600,\n",
    "        width=1000\n",
    "    )\n",
    "    \n",
    "    fig.update_traces(texttemplate='%{text}', textposition='inside')\n",
    "    return fig"
   ]
  }
 ],
 "metadata": {
  "kernelspec": {
   "display_name": "Python 3 (ipykernel)",
   "language": "python",
   "name": "python3"
  },
  "language_info": {
   "codemirror_mode": {
    "name": "ipython",
    "version": 3
   },
   "file_extension": ".py",
   "mimetype": "text/x-python",
   "name": "python",
   "nbconvert_exporter": "python",
   "pygments_lexer": "ipython3",
   "version": "3.11.9"
  }
 },
 "nbformat": 4,
 "nbformat_minor": 5
}
