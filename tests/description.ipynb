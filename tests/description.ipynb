{
 "cells": [
  {
   "cell_type": "markdown",
   "id": "ef9f0519-51f8-4a20-83fd-8cffd0b2cd32",
   "metadata": {},
   "source": [
    "# Libraries"
   ]
  },
  {
   "cell_type": "code",
   "execution_count": 2,
   "id": "abaa378a-e4ca-4bf6-8b9c-7d1182d8e886",
   "metadata": {},
   "outputs": [],
   "source": [
    "import pandas as pd\n",
    "import numpy as np\n",
    "import matplotlib.pyplot as plt"
   ]
  },
  {
   "cell_type": "markdown",
   "id": "c9fa63c0-a085-4b40-ba7f-8dd79d5e563d",
   "metadata": {},
   "source": [
    "# Loading"
   ]
  },
  {
   "cell_type": "code",
   "execution_count": null,
   "id": "78c1b8a2-e3a0-4fb6-98f5-87416d0d4097",
   "metadata": {},
   "outputs": [],
   "source": [
    "ba_reviews_experts = pd.read_parquet('../generated/ba_reviews_experts.parquet')\n",
    "rb_reviews_experts = pd.read_parquet('../generated/rb_reviews_experts.parquet')"
   ]
  },
  {
   "cell_type": "markdown",
   "id": "6d3e94de-47f7-495a-822c-504d8e9ac067",
   "metadata": {},
   "source": [
    "# Description"
   ]
  },
  {
   "cell_type": "code",
   "execution_count": 7,
   "id": "078b1422-6973-4759-a943-9e1cb4ffdfc5",
   "metadata": {},
   "outputs": [
    {
     "name": "stdout",
     "output_type": "stream",
     "text": [
      "Number of distinct user_id values in BA: 60974\n",
      "Number of distinct user_id values in RB: 70070\n"
     ]
    }
   ],
   "source": [
    "# Count Users\n",
    "ba_reviews = pd.read_parquet('../generated/new_ba_reviews.parquet', columns=['user_id'])\n",
    "rb_reviews = pd.read_parquet('../generated/new_rb_reviews.parquet', columns=['user_id'])\n",
    "ba_distinct_user_count = ba_reviews['user_id'].nunique()\n",
    "rb_distinct_user_count = rb_reviews['user_id'].nunique()\n",
    "\n",
    "print(f\"Number of distinct user_id values in BA: {ba_distinct_user_count}\")\n",
    "print(f\"Number of distinct user_id values in RB: {rb_distinct_user_count}\")"
   ]
  },
  {
   "cell_type": "code",
   "execution_count": 9,
   "id": "5ffbe796-aeb5-4920-91d9-030d57eba653",
   "metadata": {},
   "outputs": [
    {
     "name": "stdout",
     "output_type": "stream",
     "text": [
      "Number of distinct user_id values in BA: 164428\n",
      "Number of distinct user_id values in RB: 396656\n"
     ]
    }
   ],
   "source": [
    "# Count beer\n",
    "ba_reviews = pd.read_parquet('../generated/new_ba_reviews.parquet', columns=['beer_id'])\n",
    "rb_reviews = pd.read_parquet('../generated/new_rb_reviews.parquet', columns=['beer_id'])\n",
    "ba_distinct_beer_count = ba_reviews['beer_id'].nunique()\n",
    "rb_distinct_beer_count = rb_reviews['beer_id'].nunique()\n",
    "\n",
    "print(f\"Number of distinct user_id values in BA: {ba_distinct_beer_count}\")\n",
    "print(f\"Number of distinct user_id values in RB: {rb_distinct_beer_count}\")\n"
   ]
  },
  {
   "cell_type": "code",
   "execution_count": 15,
   "id": "88c8d864-c83b-4bc6-838b-50e3f4af739a",
   "metadata": {},
   "outputs": [
    {
     "name": "stdout",
     "output_type": "stream",
     "text": [
      "Number of non-NaN text rows in BA: 2501212\n",
      "Number of non-NaN text rows in RB: 7118976\n"
     ]
    }
   ],
   "source": [
    "# Count of textual reviews\n",
    "\n",
    "ba_reviews = pd.read_parquet('../generated/new_ba_reviews.parquet', columns=['text'])\n",
    "rb_reviews = pd.read_parquet('../generated/new_rb_reviews.parquet', columns=['text'])\n",
    "\n",
    "ba_text_count = ba_reviews['text'].dropna().shape[0]\n",
    "rb_text_count = rb_reviews['text'].dropna().shape[0]\n",
    "\n",
    "print(f\"Number of non-NaN text rows in BA: {ba_text_count}\")\n",
    "print(f\"Number of non-NaN text rows in RB: {rb_text_count}\")"
   ]
  },
  {
   "cell_type": "code",
   "execution_count": 14,
   "id": "4dd458c8-82eb-4e9a-b7a4-229431b0bc87",
   "metadata": {},
   "outputs": [
    {
     "name": "stdout",
     "output_type": "stream",
     "text": [
      "Number of distinct user_id values in BA: 11787\n",
      "Number of distinct user_id values in RB: 21831\n"
     ]
    }
   ],
   "source": [
    "# Count breweries\n",
    "ba_reviews = pd.read_parquet('../generated/new_ba_reviews.parquet', columns=['brewery_id'])\n",
    "rb_reviews = pd.read_parquet('../generated/new_rb_reviews.parquet', columns=['brewery_id'])\n",
    "ba_distinct_brewery_count = ba_reviews['brewery_id'].nunique()\n",
    "rb_distinct_brewery_count = rb_reviews['brewery_id'].nunique()\n",
    "\n",
    "print(f\"Number of distinct user_id values in BA: {ba_distinct_brewery_count}\")\n",
    "print(f\"Number of distinct user_id values in RB: {rb_distinct_brewery_count}\")"
   ]
  }
 ],
 "metadata": {
  "kernelspec": {
   "display_name": "Python 3 (ipykernel)",
   "language": "python",
   "name": "python3"
  },
  "language_info": {
   "codemirror_mode": {
    "name": "ipython",
    "version": 3
   },
   "file_extension": ".py",
   "mimetype": "text/x-python",
   "name": "python",
   "nbconvert_exporter": "python",
   "pygments_lexer": "ipython3",
   "version": "3.12.4"
  }
 },
 "nbformat": 4,
 "nbformat_minor": 5
}
