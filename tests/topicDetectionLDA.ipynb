{
 "cells": [
  {
   "cell_type": "markdown",
   "id": "a13d7be7-149c-4ae4-ae1c-6ec8e4e7ae42",
   "metadata": {},
   "source": [
    "# Libraries"
   ]
  },
  {
   "cell_type": "code",
   "execution_count": 20,
   "id": "97768ce7-994d-41f8-af7d-b4fc3a6c91a2",
   "metadata": {},
   "outputs": [],
   "source": [
    "import numpy as np\n",
    "import pandas as pd\n",
    "from wordcloud import STOPWORDS\n",
    "import spacy, nltk\n",
    "from nltk.tokenize import sent_tokenize\n",
    "import matplotlib.pyplot as plt\n",
    "from nltk.corpus import PlaintextCorpusReader\n",
    "from gensim.models import LdaMulticore\n",
    "import pyLDAvis.gensim_models as gensimvis\n",
    "import pyLDAvis"
   ]
  },
  {
   "cell_type": "markdown",
   "id": "a2b8e48d-dece-470b-8f09-93d92e4afe90",
   "metadata": {},
   "source": [
    "# Loading"
   ]
  },
  {
   "cell_type": "code",
   "execution_count": 2,
   "id": "d246a7f7-86ff-44b8-b5cc-6d5b7d69400a",
   "metadata": {},
   "outputs": [],
   "source": [
    "ba_reviews_experts_en = pd.read_parquet('../generated/ba_reviews_experts_en.parquet')[['user_id', 'text']]\n",
    "rb_reviews_experts_en = pd.read_parquet('../generated/rb_reviews_experts_en.parquet')[['user_id', 'text']]"
   ]
  },
  {
   "cell_type": "code",
   "execution_count": 19,
   "id": "580f92c9-3f34-47f4-9fed-2b5c9cd1d38c",
   "metadata": {},
   "outputs": [],
   "source": [
    "nlp = spacy.load('en_core_web_sm')\n",
    "spacy_stopwords = spacy.lang.en.stop_words.STOP_WORDS\n",
    "stopwords = set(STOPWORDS)\n",
    "stopwords.update(spacy_stopwords)\n",
    "stopwords.update(['beer', 'beers'])\n",
    "NUM_TOPIC = 10"
   ]
  },
  {
   "cell_type": "markdown",
   "id": "12500adc-6a76-4482-b13f-eebc02588e21",
   "metadata": {},
   "source": [
    "# Dataset Construction for Topic Detection"
   ]
  },
  {
   "cell_type": "markdown",
   "id": "5f2d8921-9f75-4713-aefb-238833a30e55",
   "metadata": {},
   "source": [
    "To ensure a robust and balanced dataset for topic detection, we implemented an iterative and user-balanced approach for constructing ba_reviews_experts.txt and rb_reviews_experts.txt. This method iteratively selects reviews from each user in the dataset until a target number of sentences **(10,000 x 50 = 500,000 sentences)** is reached.\n",
    "\n",
    "This approach ensures that the datasets used for topic detection are:\n",
    "- Representative of the full range of users and their contributions.\n",
    "- Balanced to avoid over-representation of highly prolific users.\n",
    "- Optimized for topic modeling, as it captures a wide variety of vocabulary and themes while meeting the required size."
   ]
  },
  {
   "cell_type": "markdown",
   "id": "fd7df605-fb09-46a6-a42c-820532892f6d",
   "metadata": {},
   "source": [
    "## Why This Method?\n",
    "\n",
    "1. Avoids Prolific User Bias:\n",
    "   - By iterating over all users and selecting reviews evenly, this method ensures a fair representation of users in the dataset.\n",
    "2. Captures a Diverse Vocabulary:\n",
    "   - Each user may focus on different aspects of beers (e.g., taste, aroma, appearance). This method ensures that the dataset includes a variety of styles and perspectives, which enriches the topics detected.\n",
    "3. Maintains Balance Across Platforms:\n",
    "   - The same logic is applied to both BeerAdvocate and RateBeer, ensuring that the topic detection results are comparable across platforms.\n",
    "4. Targets a Specific Number of Sentences:\n",
    "   - The method systematically aggregates reviews until the required number of sentences is reached, ensuring datasets of equal size for both platforms.\n",
    "5. Avoids Temporal or Structural Bias:\n",
    "   - Reviews are not taken sequentially or randomly. Instead, reviews are evenly distributed across users, reducing the risk of introducing biases from review order or submission date.\n",
    "  \n",
    "This iterative and user-balanced method significantly improves the representativity, diversity, and balance of the datasets compared to simpler methods (e.g., taking the first 100,000 sentences). This improvement lays a solid foundation for generating reliable and insightful topics in the subsequent LDA analysis."
   ]
  },
  {
   "cell_type": "code",
   "execution_count": 4,
   "id": "ce82fe2c-ca51-4702-97ad-3645684ad30b",
   "metadata": {},
   "outputs": [],
   "source": [
    "limit = 10000 # how many chunks total\n",
    "size = 50 # how many sentences per chunk/page\n",
    "target_total_sentences = limit * size # how many sentences total"
   ]
  },
  {
   "cell_type": "code",
   "execution_count": 6,
   "id": "b56367a1-3427-4473-8f2e-0ffe5e8747d8",
   "metadata": {},
   "outputs": [
    {
     "name": "stdout",
     "output_type": "stream",
     "text": [
      "Iteration n°65\n",
      "BA current total sentences: 479554\n",
      "Iteration n°66\n",
      "BA current total sentences: 487048\n",
      "Iteration n°67\n",
      "BA current total sentences: 494253\n",
      "Iteration n°68\n",
      "BA current total sentences: 501437\n",
      "Le fichier a été sauvegardé sous le nom '../generated/corpus/ba_reviews_experts.txt'.\n"
     ]
    }
   ],
   "source": [
    "df_ba_current_total_reviews = pd.DataFrame(columns= ba_reviews_experts_en.columns)\n",
    "max_iter = max(ba_reviews_experts_en.groupby('user_id').agg(number_reviews= \n",
    "                                                 ('text', 'count')).reset_index().sort_values(by= 'number_reviews', ascending= False).number_reviews)\n",
    "ba_current_total_sentences = 0\n",
    "iteration = 13 * 5 #as 13 iter represent approximately 100_000 sentences for BeerAdvocateExperts\n",
    "\n",
    "while ba_current_total_sentences < target_total_sentences:\n",
    "    for user in ba_reviews_experts_en['user_id'].unique():\n",
    "        df_ba_current_total_reviews = pd.concat([df_ba_current_total_reviews, \n",
    "                                                ba_reviews_experts_en[ba_reviews_experts_en['user_id'] == user].head(iteration)])\n",
    "    ba_current_total_reviews = \" \".join(review for review in df_ba_current_total_reviews.text)\n",
    "    ba_current_total_sentences = len(sent_tokenize(ba_current_total_reviews))\n",
    "    print(f\"Iteration n°{iteration}\")\n",
    "    print(f\"BA current total sentences: {ba_current_total_sentences}\")\n",
    "    df_ba_current_total_reviews = pd.DataFrame(columns= ba_reviews_experts_en.columns)\n",
    "    if iteration > max_iter:\n",
    "        print(\"Not enough sentences to reach the target_total_sentences\")\n",
    "        break\n",
    "    iteration+= 1\n",
    "output_file = \"../generated/corpus/ba_reviews_experts.txt\"\n",
    "with open(output_file, \"w\", encoding=\"utf-8\") as file:\n",
    "    file.write(ba_current_total_reviews)\n",
    "print(f\"Le fichier a été sauvegardé sous le nom '{output_file}'.\")"
   ]
  },
  {
   "cell_type": "code",
   "execution_count": 5,
   "id": "3bbf40b0-371e-4938-917d-8c39c617d800",
   "metadata": {},
   "outputs": [
    {
     "name": "stdout",
     "output_type": "stream",
     "text": [
      "Iteration n°160\n",
      "BA current total sentences: 498500\n",
      "Iteration n°161\n",
      "BA current total sentences: 501646\n",
      "Le fichier a été sauvegardé sous le nom '../generated/corpus/rb_reviews_experts.txt'.\n"
     ]
    }
   ],
   "source": [
    "df_rb_current_total_reviews = pd.DataFrame(columns= rb_reviews_experts_en.columns)\n",
    "max_iter = max(rb_reviews_experts_en.groupby('user_id').agg(number_reviews= \n",
    "                                                 ('text', 'count')).reset_index().sort_values(by= 'number_reviews', ascending= False).number_reviews)\n",
    "rb_current_total_sentences = 0\n",
    "iteration = 32 * 5 #as 32 iter represent approximately 100_000 sentences for RateBeerExperts\n",
    "\n",
    "while rb_current_total_sentences < target_total_sentences:\n",
    "    for user in rb_reviews_experts_en['user_id'].unique():\n",
    "        df_rb_current_total_reviews = pd.concat([df_rb_current_total_reviews, \n",
    "                                                rb_reviews_experts_en[rb_reviews_experts_en['user_id'] == user].head(iteration)])\n",
    "    rb_current_total_reviews = \" \".join(review for review in df_rb_current_total_reviews.text)\n",
    "    rb_current_total_sentences = len(sent_tokenize(rb_current_total_reviews))\n",
    "    print(f\"Iteration n°{iteration}\")\n",
    "    print(f\"RB current total sentences: {rb_current_total_sentences}\")\n",
    "    df_rb_current_total_reviews = pd.DataFrame(columns= rb_reviews_experts_en.columns)\n",
    "    if iteration > max_iter:\n",
    "        print(\"Not enough sentences to reach the target_total_sentences\")\n",
    "        break\n",
    "    iteration+= 1\n",
    "output_file = \"../generated/corpus/rb_reviews_experts.txt\"\n",
    "with open(output_file, \"w\", encoding=\"utf-8\") as file:\n",
    "    file.write(rb_current_total_reviews)\n",
    "print(f\"Le fichier a été sauvegardé sous le nom '{output_file}'.\")"
   ]
  },
  {
   "cell_type": "markdown",
   "id": "6b17fd2c-47cb-43ab-8064-d0c67b9b14ad",
   "metadata": {},
   "source": [
    "# 2nd: Advanced Topic Detection Using LDA"
   ]
  },
  {
   "cell_type": "markdown",
   "id": "bdd1c0f9-d132-4770-9960-b7bd064ebbf8",
   "metadata": {},
   "source": [
    "## From Naive to Structured Topic Analysis\n",
    "\n",
    "In the previous section, we explored the datasets using WordClouds, a naive yet effective way to visualize the most frequent words. This approach gave us a high-level overview of the dominant vocabulary in BeerAdvocate and RateBeer reviews.\n",
    "\n",
    "However, WordClouds only capture word frequency without accounting for:\n",
    "- The co-occurrence of words (how words group together to form themes).\n",
    "- The latent structure or topics that reviewers naturally discuss.\n",
    "\n",
    "To go beyond this naive approach and uncover the hidden themes in the reviews, with the newly constructed, balanced datasets, we now proceed to Latent Dirichlet Allocation (LDA) to uncover the key themes present in BeerAdvocate and RateBeer expert reviews."
   ]
  },
  {
   "cell_type": "markdown",
   "id": "dce8eb2b-48e6-41a6-8699-6413e752b315",
   "metadata": {},
   "source": [
    "## Why LDA?\n",
    "\n",
    "LDA is a powerful method because it:\n",
    "- Automatically identifies topics in a corpus based on word co-occurrences.\n",
    "- Represents each \"document\" (here, a chunk of reviews) as a mixture of topics.\n",
    "- Groups together words that frequently appear in similar contexts to reveal latent themes.\n",
    "\n",
    "Unlike WordClouds, which simply count word occurrences, LDA provides a structured view of the text by detecting patterns and grouping words into coherent topics."
   ]
  },
  {
   "cell_type": "markdown",
   "id": "309d9251-39de-490d-88f1-91e2523ada24",
   "metadata": {},
   "source": [
    "## How It Works\n",
    "Text Segmentation:\n",
    "- Each dataset (BeerAdvocate and RateBeer) is split into smaller chunks of about 50 sentences.\n",
    "- These chunks act as \"documents\" for the LDA model.\n",
    "\n",
    "Text Preprocessing:\n",
    "- Stopwords, punctuation, and irrelevant tokens are removed.\n",
    "- Words are lemmatized to group different forms of the same word (e.g., \"flavors\" → \"flavor\").\n",
    "- Named Entities (like locations or brands) and bigrams (word pairs like \"dark chocolate\") are included to improve topic quality.\n",
    "\n",
    "LDA Topic Modeling:\n",
    "- The combined chunks from both platforms are processed using LDA.\n",
    "- LDA outputs a specified number of topics (e.g., 4 topics), where each topic is represented by a set of words with different weights.\n",
    "\n",
    "Linking Topics to Datasets:\n",
    "- Each chunk is assigned a dominant topic (the one with the highest probability).\n",
    "- Using the source of each chunk (BeerAdvocate or RateBeer), we analyze which topics dominate each platform."
   ]
  },
  {
   "cell_type": "markdown",
   "id": "9ef48f0b-72a1-4743-a795-b53c338d1e4e",
   "metadata": {},
   "source": [
    "## What This Method Will Reveal\n",
    "\n",
    "1. The key topics discussed in BeerAdvocate and RateBeer reviews.\n",
    "2. The focus of each platform:\n",
    "   - Does BeerAdvocate emphasize sensory details like \"aroma\" and \"citrus\"?\n",
    "   - Does RateBeer highlight presentation or complex flavors like \"chocolate\" and \"roasted coffee\"?\n",
    "3. Actionable insights for new users:\n",
    "   - Depending on their interests, users can choose the platform that aligns best with their preferences."
   ]
  },
  {
   "cell_type": "code",
   "execution_count": 8,
   "id": "2ede4d13-3975-4d9c-8e4a-fe1051c42fbe",
   "metadata": {},
   "outputs": [
    {
     "name": "stdout",
     "output_type": "stream",
     "text": [
      "['ba_reviews_experts.txt', 'rb_reviews_experts.txt']\n"
     ]
    }
   ],
   "source": [
    "# Let's load our corpus via NLTK this time\n",
    "our_datasets = PlaintextCorpusReader('../generated/corpus/', '.*.txt')\n",
    "print(our_datasets.fileids())"
   ]
  },
  {
   "cell_type": "code",
   "execution_count": 9,
   "id": "c704df89-720e-4c34-abfd-7be7527978a8",
   "metadata": {},
   "outputs": [],
   "source": [
    "def get_chunks(l, n): #utils\n",
    "    \"\"\"Yield successive n-sized chunks from l.\"\"\"\n",
    "    for i in range(0, len(l), n):\n",
    "        yield l[i:i + n]"
   ]
  },
  {
   "cell_type": "code",
   "execution_count": 10,
   "id": "f5f7af90-90a6-4a21-a460-3aecdd7985a2",
   "metadata": {},
   "outputs": [
    {
     "name": "stdout",
     "output_type": "stream",
     "text": [
      "ba_reviews_experts.txt\n",
      "Number of sentences: 501444\n",
      "Number of chunks: 10029 \n",
      "\n",
      "rb_reviews_experts.txt\n",
      "Number of sentences: 501646\n",
      "Number of chunks: 10033 \n",
      "\n"
     ]
    }
   ],
   "source": [
    "# Get the chunks again (into smaller chunks)\n",
    "dataset_id = {f:n for n,f in enumerate(our_datasets.fileids())} # dictionary of books\n",
    "chunks = list()\n",
    "chunk_class = list() # this list contains the original dataset of the chunk, for evaluation\n",
    "\n",
    "for f in our_datasets.fileids():\n",
    "    sentences = our_datasets.sents(f)\n",
    "    print(f)\n",
    "    print('Number of sentences:',len(sentences))\n",
    "    # create chunks\n",
    "    chunks_of_sents = [x for x in get_chunks(sentences,size)] # this is a list of lists of sentences, which are a list of tokens\n",
    "    chs = list()\n",
    "    \n",
    "    # regroup so to have a list of chunks which are strings\n",
    "    for c in chunks_of_sents:\n",
    "        grouped_chunk = list()\n",
    "        for s in c:\n",
    "            grouped_chunk.extend(s)\n",
    "        chs.append(\" \".join(grouped_chunk))\n",
    "    print(\"Number of chunks:\",len(chs),'\\n')\n",
    "    \n",
    "    # filter to the limit, to have the same number of chunks per book\n",
    "    chunks.extend(chs[:limit])\n",
    "    chunk_class.extend([dataset_id[f] for _ in range(len(chs[:limit]))])"
   ]
  },
  {
   "cell_type": "code",
   "execution_count": 11,
   "id": "2a4757a5-cd87-4f2d-851a-48690bf7fb72",
   "metadata": {},
   "outputs": [],
   "source": [
    "processed_docs = list()\n",
    "for doc in nlp.pipe(chunks, n_process=5, batch_size=10):\n",
    "\n",
    "    # Process document using Spacy NLP pipeline.\n",
    "    ents = doc.ents  # Named entities\n",
    "\n",
    "    # Keep only words (no numbers, no punctuation).\n",
    "    # Lemmatize tokens, remove punctuation and remove stopwords.\n",
    "    doc = [token.lemma_ for token in doc if token.is_alpha and not token.is_stop]\n",
    "\n",
    "    # Remove common words from a stopword list and keep only words of length 3 or more.\n",
    "    doc = [token for token in doc if token not in stopwords and len(token) > 2]\n",
    "\n",
    "    # Add named entities, but only if they are a compound of more than word.\n",
    "    doc.extend([str(entity) for entity in ents if len(entity) > 1])\n",
    "\n",
    "    processed_docs.append(doc)\n",
    "docs = processed_docs\n",
    "del processed_docs"
   ]
  },
  {
   "cell_type": "code",
   "execution_count": 12,
   "id": "115290b8-69d9-4a63-a89e-f5e168e814a5",
   "metadata": {},
   "outputs": [],
   "source": [
    "# Add bigrams too\n",
    "from gensim.models.phrases import Phrases\n",
    "\n",
    "# Add bigrams to docs (only ones that appear 15 times or more).\n",
    "bigram = Phrases(docs, min_count=15)\n",
    "\n",
    "for idx in range(len(docs)):\n",
    "    for token in bigram[docs[idx]]:\n",
    "        if '_' in token:\n",
    "            # Token is a bigram, add to document.\n",
    "            docs[idx].append(token)"
   ]
  },
  {
   "cell_type": "code",
   "execution_count": 13,
   "id": "5e867819-b35b-4e2f-9061-f32c8603cd95",
   "metadata": {},
   "outputs": [
    {
     "name": "stdout",
     "output_type": "stream",
     "text": [
      "Number of unique tokens: 25223\n",
      "Number of chunks: 20000\n"
     ]
    }
   ],
   "source": [
    "# Create a dictionary representation of the documents, and filter out frequent and rare words.\n",
    "from gensim.corpora import Dictionary\n",
    "dictionary = Dictionary(docs)\n",
    "\n",
    "# Remove rare and common tokens.\n",
    "# Filter out words that occur too frequently or too rarely.\n",
    "max_freq = 0.5\n",
    "min_wordcount = 5\n",
    "dictionary.filter_extremes(no_below=min_wordcount, no_above=max_freq)\n",
    "\n",
    "# Bag-of-words representation of the documents.\n",
    "corpus = [dictionary.doc2bow(doc) for doc in docs]\n",
    "#MmCorpus.serialize(\"models/corpus.mm\", corpus)\n",
    "\n",
    "print('Number of unique tokens: %d' % len(dictionary))\n",
    "print('Number of chunks: %d' % len(corpus))"
   ]
  },
  {
   "cell_type": "code",
   "execution_count": 14,
   "id": "b1b93e20-4455-4d4c-b2ba-96c75978a3d5",
   "metadata": {},
   "outputs": [],
   "source": [
    "# models\n",
    "params = {'passes': 10, 'random_state': 42}\n",
    "base_models = dict()\n",
    "model = LdaMulticore(corpus=corpus, num_topics= NUM_TOPIC, id2word=dictionary, workers=6,\n",
    "                passes=params['passes'], random_state=params['random_state'])"
   ]
  },
  {
   "cell_type": "code",
   "execution_count": 16,
   "id": "58d87d0b-961e-46f4-bdee-c49fd8484971",
   "metadata": {},
   "outputs": [
    {
     "name": "stdout",
     "output_type": "stream",
     "text": [
      "   Chunk       Dataset  Dominant_Topic\n",
      "0      0  BeerAdvocate               0\n",
      "1      1  BeerAdvocate               0\n",
      "2      2  BeerAdvocate               0\n",
      "3      3  BeerAdvocate               0\n",
      "4      4  BeerAdvocate               0\n"
     ]
    }
   ],
   "source": [
    "# Assign dominant topic to each chunk\n",
    "dominant_topics = []\n",
    "for i, chunk in enumerate(corpus):\n",
    "    topic_distribution = model[chunk]  # Get topic probabilities\n",
    "    dominant_topic = sorted(topic_distribution, key=lambda x: x[1], reverse=True)[0][0]\n",
    "    dominant_topics.append(dominant_topic)\n",
    "\n",
    "# Combine results into a DataFrame\n",
    "df_topics = pd.DataFrame({\n",
    "    'Chunk': range(len(corpus)),\n",
    "    'Dataset': chunk_class,  # 0 = BeerAdvocate, 1 = RateBeer\n",
    "    'Dominant_Topic': dominant_topics\n",
    "})\n",
    "\n",
    "# Map dataset names for readability\n",
    "df_topics['Dataset'] = df_topics['Dataset'].map({0: 'BeerAdvocate', 1: 'RateBeer'})"
   ]
  },
  {
   "cell_type": "code",
   "execution_count": 17,
   "id": "873da840-8143-4176-b1a8-3efe233dd0f9",
   "metadata": {},
   "outputs": [
    {
     "name": "stdout",
     "output_type": "stream",
     "text": [
      "Topic Distribution by Dataset:\n",
      "Dominant_Topic     0     1    2     3     4     5    6    7     8     9\n",
      "Dataset                                                                \n",
      "BeerAdvocate    4524   580   38    14   361  3793  575   22    47    46\n",
      "RateBeer         199  1972  199  1815  1954   163  330  403  1222  1743\n"
     ]
    }
   ],
   "source": [
    "# Group by dataset and dominant topic\n",
    "topic_distribution = df_topics.groupby(['Dataset', 'Dominant_Topic']).size().unstack(fill_value=0)\n",
    "\n",
    "print(\"Topic Distribution by Dataset:\")\n",
    "print(topic_distribution)"
   ]
  },
  {
   "cell_type": "code",
   "execution_count": 22,
   "id": "c471b461-6b4f-4adc-99ce-fafbbddd9f9f",
   "metadata": {},
   "outputs": [
    {
     "name": "stdout",
     "output_type": "stream",
     "text": [
      "Topic 0:\n",
      "[('quot', 0.006492431), ('nose', 0.006295373), ('ale', 0.005474249), ('smell', 0.0051860963), ('glass', 0.0051530483), ('coffee', 0.005138357), ('lace', 0.0049466793), ('brew', 0.0049413773), ('leave', 0.004727676), ('mouthfeel', 0.0045640124)]\n",
      "Topic 1:\n",
      "[('lager', 0.013703583), ('pale', 0.012187976), ('bad', 0.010031265), ('corn', 0.008963492), ('yellow', 0.008722287), ('nose', 0.0065812534), ('drink', 0.0063621406), ('gold', 0.005803901), ('pretty', 0.0057808137), ('itâ', 0.005723219)]\n",
      "Topic 2:\n",
      "[('appearance', 0.01839209), ('amp', 0.008941171), ('ounce', 0.008458806), ('lacing', 0.008065642), ('nose', 0.007808192), ('smell', 0.007778214), ('mouthfeel', 0.007178545), ('ounce_bottle', 0.006971306), ('overall', 0.00682844), ('decent', 0.005928023)]\n",
      "Topic 3:\n",
      "[('small', 0.013351932), ('nose', 0.012561763), ('pale', 0.011185689), ('hazy', 0.01100774), ('yellow', 0.010922966), ('grain', 0.010917655), ('Bottle', 0.010070351), ('citrus', 0.009670218), ('Aroma', 0.009181283), ('lightly', 0.008461558)]\n",
      "Topic 4:\n",
      "[('yeast', 0.014401845), ('spice', 0.0118904365), ('nose', 0.0095874155), ('touch', 0.0077997674), ('citrus', 0.0074791773), ('wheat', 0.0066090804), ('hazy', 0.006501396), ('apple', 0.006436877), ('spicy', 0.0064168135), ('banana', 0.006015909)]\n",
      "Topic 5:\n",
      "[('smell', 0.014995099), ('glass', 0.014983595), ('lacing', 0.012174512), ('finger', 0.009878707), ('leave', 0.009400732), ('overall', 0.007964862), ('drink', 0.0069241393), ('great', 0.0068601565), ('mouthfeel', 0.006799517), ('pretty', 0.0061414707)]\n",
      "Topic 6:\n",
      "[('coffee', 0.011281964), ('nose', 0.009449802), ('pretty', 0.007056751), ('feel', 0.0069871605), ('mouth', 0.0063055204), ('great', 0.0058010067), ('come', 0.005028141), ('drink', 0.0048579844), ('lacing', 0.0048405863), ('brew', 0.004693652)]\n",
      "Topic 7:\n",
      "[('smell', 0.01028555), ('brewpub', 0.008255291), ('tap', 0.008198076), ('rate', 0.008187399), ('thank', 0.008046304), ('Beer', 0.00783551), ('coffee', 0.007711397), ('Buddy', 0.0074731433), ('rate_Beer', 0.0074682976), ('Beer Buddy', 0.0074506914)]\n",
      "Topic 8:\n",
      "[('Taste', 0.023235433), ('Aroma', 0.01752765), ('coffee', 0.01622625), ('citrus', 0.014102417), ('roasted', 0.012940639), ('hazy', 0.012439507), ('small', 0.010601678), ('Bottle', 0.009205928), ('malty', 0.0086337915), ('pine', 0.008289997)]\n",
      "Topic 9:\n",
      "[('flavour', 0.029273089), ('colour', 0.023857372), ('malty', 0.023574587), ('Bottle', 0.013696294), ('small', 0.012493501), ('hoppy', 0.012423925), ('yellow', 0.01125302), ('hazy', 0.0088367695), ('pale', 0.00826719), ('aftertaste', 0.007307192)]\n"
     ]
    }
   ],
   "source": [
    "# Display the top words for each topic\n",
    "for topic_id in range(NUM_TOPIC):\n",
    "    print(f\"Topic {topic_id}:\")\n",
    "    print(model.show_topic(topic_id, topn=10))"
   ]
  },
  {
   "cell_type": "code",
   "execution_count": 71,
   "id": "101dad7e-2e5e-49c1-b6b2-d798b6c4e2d0",
   "metadata": {},
   "outputs": [
    {
     "data": {
      "text/html": [
       "\n",
       "<link rel=\"stylesheet\" type=\"text/css\" href=\"https://cdn.jsdelivr.net/gh/bmabey/pyLDAvis@3.4.0/pyLDAvis/js/ldavis.v1.0.0.css\">\n",
       "\n",
       "\n",
       "<div id=\"ldavis_el1672428040812392963791583936\" style=\"background-color:white;\"></div>\n",
       "<script type=\"text/javascript\">\n",
       "\n",
       "var ldavis_el1672428040812392963791583936_data = {\"mdsDat\": {\"x\": [-0.10539835528275492, -0.09634889140444232, 0.01016082170263463, -0.04784727218787116, 0.12446806817935815, 0.13238741751239314, -0.11248763047260277, 0.09587027643985968, 0.018668663392521778, -0.01947309787909601], \"y\": [0.031692535768537776, 0.015445122715787308, 0.0676402971843048, -0.11833454256907967, -0.004490098541894286, -0.04974969045241499, 0.019465189727650163, 0.08130057079450281, -0.021424278053015118, -0.021545106574378924], \"topics\": [1, 2, 3, 4, 5, 6, 7, 8, 9, 10], \"cluster\": [1, 1, 1, 1, 1, 1, 1, 1, 1, 1], \"Freq\": [26.435771619646005, 20.458036924991145, 11.880902894237593, 11.54272558816313, 7.424935427331213, 6.67715151065116, 6.312386494500035, 5.773057872303069, 1.8879995726545646, 1.6070320955220732]}, \"tinfo\": {\"Term\": [\"flavour\", \"Taste\", \"colour\", \"malty\", \"smell\", \"appearance\", \"coffee\", \"Aroma\", \"hazy\", \"citrus\", \"small\", \"Bottle\", \"yellow\", \"nose\", \"pale\", \"roasted\", \"lacing\", \"lager\", \"grain\", \"hoppy\", \"glass\", \"low\", \"amp\", \"yeast\", \"thank\", \"tap\", \"corn\", \"mouthfeel\", \"overall\", \"spice\", \"Innis_Gunn\", \"RJT\", \"serve_Type\", \"Gunn\", \"Innis\", \"cdn\", \"JLindros\", \"lace_behindS\", \"cask_aged\", \"Innis_amp\", \"rum_cask\", \"blackstrap\", \"blackstrap_molasse\", \"Innis &\", \"bottleappearance\", \"Ola_Dubh\", \"Appearance \\u0096\", \"food_match\", \"Paradox\", \"irish_whiskey\", \"Kate_great\", \"Dubh\", \"JW Lees\", \"Skull_Splitter\", \"Ola\", \"Rum_Cask\", \"serve_dogfish\", \"Harviestoun\", \"Scotch_whiskey\", \"Ola Dubh\", \"Central_Waters\", \"Waters\", \"Oil\", \"Lees_Harvest\", \"Highland\", \"Old_Engine\", \"Harvest\", \"Central Waters\", \"scottish\", \"Old_Ale\", \"Scotch\", \"old_ale\", \"scotch\", \"whiskey\", \"Smith\", \"Samuel_Smith\", \"scottish_ale\", \"Scottish\", \"whisky\", \"Belhaven\", \"Samuel Smith '\", \"Samuel\", \"quot\", \"& quot\", \"rum\", \"amp\", \"barrel\", \"sherry\", \"aging\", \"peat\", \"english\", \"oak\", \"aged\", \"ale\", \"age\", \"vintage\", \"English\", \"year\", \"Ale\", \"rich\", \"lace\", \"vanilla\", \"toffee\", \"sip\", \"warm\", \"brew\", \"stout\", \"come\", \"try\", \"nose\", \"leave\", \"thick\", \"sugar\", \"raisin\", \"mouthfeel\", \"glass\", \"coffee\", \"smell\", \"roasted\", \"style\", \"feel\", \"mild\", \"overall\", \"drink\", \"earthy\", \"character\", \"palate\", \"big\", \"tan\", \"slight\", \"lacing\", \"Personal_Perceptions\", \"Personal\", \"Perceptions\", \"Bottle_Line\", \"shaker_bright\", \"recede_skim\", \"pint & quot\", \"14 oz & quot\", \"14 oz & quot_pint & quot\", \"recede_hug\", \"veil_foam\", \"leave_glassS\", \"upfront_turn\", \"mid_stream\", \"prosit\", \"Bodied\", \"Streets\", \"Ikea_pint\", \"Pint_Glass\", \"Protz\", \"temperature_tulip\", \"Hefe_Weizen\", \"Mouthfeel / Drinkability\", \"Mentor\", \"presentation_longneck\", \"MK Poured\", \"Medium_Bodied\", \"pinta\", \"active_visible\", \"sutle\", \"lacing_observe\", \"pint_glassappearance\", \"36 degrees\", \"S - Smells\", \"glassappearance\", \"Flav\", \"effervescence_Flav\", \"Carbonation\", \"chill_degree\", \"pint_glass\", \"finger\", \"lacingS\", \"glassA\", \"pint\", \"weizen_glass\", \"Medium_body\", \"standard_pint\", \"glass\", \"Medium\", \"app\", \"smell\", \"Lagunitas\", \"Sam Adams\", \"retention\", \"lacing\", \"leave\", \"drinkability\", \"half_finger\", \"inch\", \"mug\", \"overall\", \"easy\", \"Mouthfeel\", \"great\", \"Smell\", \"tulip\", \"foam\", \"style\", \"drink\", \"easy_drink\", \"half\", \"quickly\", \"mouthfeel\", \"crisp\", \"pretty\", \"drinkable\", \"feel\", \"quot\", \"come\", \"strong\", \"lace\", \"slight\", \"brew\", \"thick\", \"decent\", \"roasted\", \"mild\", \"coffee\", \"citrus\", \"malty\", \"bodied\", \"nose\", \"complexity_robustness\", \"balance_zero\", \"retention_reduce\", \"warming_present\", \"moderate_streaming\", \"earthiness_damn\", \"thanks_DuffMan\", \"Mane Liquor_Mane Liquor\", \"Mane Liquor\", \"duration_Color\", \"enjoyable_Draught\", \"Bottle_Mane\", \"lengthy_aftertaste\", \"Girona\", \"Colmado\", \"steadily_dissipate\", \"Gurgaon_Nov\", \"estuca\", \"Gurgaon\", \"spotty_soapy\", \"share_Mrs\", \"DuffMan\", \"fair_streaming\", \"robustness_balance\", \"Mane\", \"balance_robustness\", \"Gurgaon_India\", \"zero_warming\", \"warming_notice\", \"zero_cloy\", \"enjoyable_offering\", \"robustness\", \"Dany\", \"thank_Dany\", \"lightly_sweeten\", \"retain_cap\", \"glouglouburp\", \"streaming\", \"typical_Unibroue\", \"Unibroue\", \"belgian_yeast\", \"earthiness\", \"candi_sugar\", \"yeast\", \"pear_apple\", \"candi\", \"clove\", \"spice\", \"belgian\", \"pepper\", \"tart\", \"funk\", \"pear\", \"wheat\", \"apple\", \"banana\", \"cherry\", \"coriander\", \"toast\", \"touch\", \"spicy\", \"Aromas\", \"bread\", \"lightly\", \"smoke\", \"moderate\", \"lemon\", \"sugar\", \"earthy\", \"nose\", \"citrus\", \"cloudy\", \"bready\", \"hazy\", \"floral\", \"tan\", \"balance\", \"linger\", \"soft\", \"big\", \"lacing\", \"slight\", \"sour\", \"flavor_Palate\", \"Aroma_Appearance\", \"drank_tap\", \"Aroma / Appearance\", \"the Brew Pub\", \"alky\", \"Tecate\", \"mexican_lager\", \"bottled_pasteurised\", \"Negra\", \"Dos\", \"Equis\", \"Dos_Equis\", \"Aroma / Appearance - A\", \"Corona_Extra\", \"Negra Modelo\", \"Negra_Modelo\", \"La Jolla\", \"Party Town / Florence KY\", \"BevMo_Jolla\", \"tap_Brew\", \"margarita\", \"Mex\", \"the Brew Pub_the Brew Pub\", \"Corona Extra\", \"Corona_Light\", \"favorite_mexican\", \"May 2007\", \"tecate\", \"Corona\", \"Modelo\", \"mexican_food\", \"mexican\", \"mexican_restaurant\", \"pale_lager\", \"pasteurised\", \"Asahi\", \"East European\", \"Molson\", \"macro_lager\", \"lager\", \"macro\", \"adjunct\", \"Labatt\", \"Mexico\", \"swill\", \"chinese\", \"indian\", \"Coors\", \"corn\", \"skunk\", \"cheap\", \"Bud\", \"it\\u00e2\", \"restaurant\", \"skunky\", \"bad\", \"offensive\", \"water\", \"pale\", \"rice\", \"lime\", \"don\\u00e2\", \"isn\\u00e2\", \"corny\", \"bland\", \"gold\", \"watery\", \"yellow\", \"food\", \"Lager\", \"wasn\\u00e2\", \"awful\", \"actually\", \"drink\", \"grain\", \"metallic\", \"pretty\", \"fizzy\", \"clean\", \"look\", \"nose\", \"grainy\", \"decent\", \"think\", \"mild\", \"smell\", \"brew\", \"palate\", \"small\", \"malty\", \"style\", \"expect\", \"try\", \"touch\", \"blond_coloured\", \"Kremenchuk\", \"sparkling_palate\", \"btl\", \"mediumlaste\", \"rate_beerbasher\", \"beerbasher\", \"Head_initially\", \"winphone\", \"creamy_mediumlaste\", \"mabel\", \"btl_email\", \"great_BrewDad\", \"Victoria_Pub\", \"BrewDad\", \"goldblond\", \"Flavour_compose\", \"Kremenchuk UA\", \"garthicus\", \"Finish_herby\", \"bottled_Courtesy\", \"yeasty_cobwebs\", \"almond_essence\", \"clear_goldblond\", \"Flavour\\u00e2\", \"Bishop\\u00e2\", \"btl_abv\", \"Keyaki\", \"BBGTC\", \"winphone_Bottle\", \"tupalev\", \"Tap_Brewpub\", \"GregClow\", \"moderately_heavily\", \"leafs\", \"HogTownHarry\", \"herby\", \"blankboy\", \"average_duration\", \"lightly_acidic\", \"Flavour\", \"jerc\", \"moderately_acidic\", \"watery_texture\", \"diminish\", \"Tap_brewpub\", \"Bottle_share\", \"grass\", \"hay\", \"Tap\", \"average\", \"share\", \"lightly\", \"small\", \"Bottle\", \"grain\", \"Aroma\", \"herb\", \"moderately\", \"hazy\", \"yellow\", \"pale\", \"Finish\", \"frothy\", \"clear_golden\", \"lemon\", \"colour\", \"straw\", \"corn\", \"grassy\", \"nose\", \"citrus\", \"Taste\", \"thank\", \"palate\", \"bodied\", \"bread\", \"soft\", \"watery\", \"texture\", \"mild\", \"malty\", \"floral\", \"moderate\", \"roasted\", \"coffee\", \"sample_tasting\", \"glass_zippy\", \"Paps\\u00c3\", \"Montreal_Quebec\", \"home_Washington\", \"centimetre_tall\", \"Courtesy_cousin\", \"tingly_start\", \"benzai\", \"foamy_finely\", \"brewing_cereal\", \"Bottle - 500ml\", \"Stegosaurus\", \"Bottle - 341ml\", \"Bottle 0_Bottle 0\", \"sample_Stegosaurus\", \"jinroh\", \"thanks_jinroh\", \"weakly_tingly\", \"Brickworks\", \"Brickworks_Toronto\", \"Blacklick_Wine\", \"cara_malty\", \"rebro\", \"bben\", \"Ulkl\\u00c3\", \"Ulkl\\u00c3_bben\", \"darkmalty\", \"Max\\u00e2_place\", \"sourly\", \"caramell\", \"Bottle 0\", \"soft_carbo\", \"golden_coloured\", \"Sweetish_malty\", \"Aroma\\u00e2\", \"Retronasal it\\u00e2\", \"retronasal\", \"flavour\", \"colour\", \"coloured\", \"Amber_colour\", \"Aftertaste_slightly\", \"Sweetish\", \"carbo\", \"sweetish\", \"low_carbo\", \"golden_colour\", \"Malty\", \"sourish\", \"hoppyness\", \"Draught\", \"Aftertaste\", \"Sweet_malty\", \"GBBF\", \"malty\", \"hoppy\", \"Bottle\", \"medium_sized\", \"bottled\", \"sized\", \"small\", \"yellow\", \"clear_golden\", \"draught\", \"aftertaste\", \"sample\", \"hazy\", \"beige\", \"short\", \"grainy\", \"pale\", \"bodied\", \"beige_head\", \"roasted\", \"mild\", \"citrus\", \"thank\", \"coffee\", \"watery\", \"spicy\", \"grassy\", \"medium_bodied\", \"touch\", \"yeast\", \"ger\", \"tr\\u00c3\", \"rement\", \"bouche\", \"avec\", \"corps\", \"pr\\u00e3\", \"am\\u00e3\", \"moyen\", \"pas\", \"levure\", \"alcool\", \"sucr\\u00c3\", \"fruit\\u00c3\", \"nez\", \"bien\", \"sence\", \"savoured\", \"petit\", \"Mes_rate\", \"finale\", \"chez\", \"bonne\", \"Mes\", \"pice\", \"dor\\u00e3\", \"BJCP_bottle\", \"sucre\", \"SRM_body\", \"petite\", \"qui\", \"brune\", \"bottlereviewe\", \"BJCP\", \"mousse\", \"savour\", \"serve_type\", \"eye\", \"SRM\", \"mouth_feel\", \"mouth\", \"effervescence\", \"coffee\", \"feel\", \"nose\", \"pretty\", \"serve\", \"stout\", \"think\", \"great\", \"come\", \"try\", \"look\", \"style\", \"drink\", \"brew\", \"slight\", \"lacing\", \"thick\", \"big\", \"way\", \"time\", \"smoke\", \"expect\", \"smell\", \"yeast\", \"thank\", \"glass\", \"strong\", \"roasted\", \"overall\", \"spice\", \"5 / 10\", \"7 / 10\", \"6 / 10\", \"Danish_brew\", \"Havregatan\", \"Hopduvel\", \"6 / 10_6 / 10\", \"tone_Malt\", \"Belgrade_Serbia\", \"Faro\", \"Saveur Bi\\u00c3\", \"7 / 10_7 / 10\", \"Havregatan_Bottle\", \"tap_Copenhagen\", \"bottle_Saveur\", \"Bottle 341ml\", \"lacearoma\", \"muscovado_sugar\", \"tumbler_degree\", \"Boheme\", \"muscovado\", \"Boheme_Faro\", \"GeokkjerPours\", \"saveur_biere\", \"the Hoppy Pub\", \"Thessaloniki\", \"GeokkjerPours_clear\", \"Cask Stillage\", \"Beerville\", \"Bottle 750ml\", \"Saveur\", \"Hoppy_Pub\", \"4 / 10\", \"exclusive\", \"pour\\u00e2\", \"acidy\", \"QCPours\", \"headAroma\", \"refrigerate\", \"Gent\", \"Moeder_Lambic\", \"Moeder\", \"Montr\\u00c3\", \"Danish\", \"Taste\", \"oily_texture\", \"Aroma\", \"Copenhagen\", \"Borefts\", \"thx\", \"mango\", \"pine\", \"tropical_fruit\", \"resin\", \"tropical\", \"grapefruit\", \"oily\", \"Tap\", \"citrus\", \"coffee\", \"hazy\", \"roasted\", \"Bottle\", \"beige\", \"beige_head\", \"small\", \"soft\", \"peach\", \"texture\", \"hoppy\", \"email_protect\", \"licorice\", \"red\", \"Flavour\", \"malty\", \"tap\", \"spicy\", \"sour\", \"vanilla\", \"tan\", \"spice\", \"balanced\", \"roast\", \"overall\", \"floral\", \"yeast\", \"big\", \"low\", \"palate\", \"nose\", \"adhesive_aroma\", \"carbon_medium\", \"thank_erzengel\", \"erzengel\", \"display_lacework\", \"aery\", \"adhesive\", \"fair_display\", \"unstable_non\", \"Daisen\", \"non_adhesive\", \"Mondial 2006\", \"texture_moderated\", \"session_Papsoe\", \"BeerFest\", \"BeerFest_Daisen\", \"cow_fodder\", \"Oelergud\", \"23 / 09 / 11\", \"velp\", \"Gaute\", \"Festbiere\", \"Klaas\\u00e2\", \"soft_carbon\", \"Beer Buddy_Beer Buddy\", \"yespr_thank\", \"Archive\", \"Craft Bier Fest Wien\", \"20 - 10 - 2008\", \"Buddy_iPhone\", \"rate_Beer\", \"Beer Buddy\", \"iPhone\", \"Buddy\", \"carbon\", \"moderated\", \"diminish_spare\", \"tap_brewpub\", \"sample_brewpub\", \"Quebec_City\", \"Quebec City\", \"brewpub\", \"unstable\", \"draft_brewpub\", \"rate\", \"lacework\", \"Kansas\", \"Beer\", \"Oakes\", \"tap\", \"thank\", \"low\", \"smell\", \"grain\", \"aftertaste\", \"coffee\", \"fizzy\", \"thick\", \"yellow\", \"mild\", \"tan\", \"strong\", \"low_carbonation\", \"flavour\", \"malty\", \"nose\", \"sample\", \"citrus\", \"roasted\", \"decent\", \"pretty\", \"foam\", \"sour\", \"lace\", \"touch\", \"sabor\", \"Kiev 2016\", \"Botella\", \"caramelo\", \"frutal\", \"Playa del Carmen\", \"12 ounce_12 ounce\", \"amargo\", \"Kiev_sample\", \"turbio\", \"Japon\", \"Playa_del\", \"Fort Collins\", \"amarillo_sabor\", \"cuerpo\", \"Kennesaw_Georgia\", \"Sevilla\", \"Playa\", \"maltoso\", \"Wooly\", \"drinkable_accompany\", \"Carmen\", \"final_amargo\", \"Kiev_draft\", \"Kennesaw\", \"ligeramente\", \"Wooly_Hops\", \"finger\\u00e2_worth\", \"Lunar_Brewing\", \"The Beer Box\", \"Beer_Box\", \"Wine Warehouse\", \"Wine_Warehouse\", \"Oviedo\", \"Charlottesville\", \"12 ounce\", \"Scunthorpe\", \"ounce_bottle\", \"dulce\", \"ethnic\", \"amarillo\", \"2 ounce\", \"Kiev\", \"ounce\", \"sessionability\", \"Box\", \"appearance\", \"Georgia\", \"Hong_Kong\", \"Kong\", \"amp\", \"Hong\", \"Hong Kong\", \"Warehouse\", \"BBD\", \"minimally\", \"Wine\", \"lacing\", \"mouthfeel\", \"overall\", \"smell\", \"nose\", \"decent\", \"low\", \"hazy\", \"tap\", \"Taste\", \"touch\", \"glass\", \"drinkability\", \"pretty\", \"purchase\", \"vanilla\", \"foamy\", \"toffee\", \"Beer\", \"fairly\", \"big\", \"spicy\", \"banana\", \"bodied\", \"foam\", \"tan\", \"citrus\", \"palate\", \"malty\"], \"Freq\": [13220.0, 16960.0, 10880.0, 23942.0, 29480.0, 9080.0, 27073.0, 13336.0, 18875.0, 21873.0, 20956.0, 14409.0, 18960.0, 31951.0, 20367.0, 22484.0, 25270.0, 11194.0, 16695.0, 11588.0, 26965.0, 11829.0, 3868.0, 19753.0, 11583.0, 9027.0, 8924.0, 21185.0, 19833.0, 17965.0, 97.41060669693296, 62.97327358907307, 67.25374454964931, 395.94886280893274, 384.4995721556772, 47.22876263817371, 29.37632021057298, 30.95277451869357, 45.966816931909165, 282.14724486717614, 39.41625028993488, 61.65952510784804, 59.816065776585845, 258.09782737199043, 28.40587247792164, 135.48554470070974, 40.1845088087997, 64.9367178999928, 82.22114460874757, 44.578208869218244, 22.76620439009068, 143.96416925098993, 24.638511281985622, 27.38451551969071, 154.92415503396444, 24.58463279412224, 21.861646111399374, 66.33181400857599, 29.032493029805895, 66.28249100631596, 102.90270752886829, 106.40115423050509, 104.90803552394665, 39.1053228123418, 76.77683366075465, 85.32949581942681, 124.09407846785489, 72.59460695381402, 657.0330384218703, 163.84784567897552, 833.004728342542, 479.16279388485395, 1434.3299362646376, 1961.4064087782285, 1073.2478413164129, 668.3507025554723, 289.8055587610131, 335.2520067054047, 987.4231390447475, 175.71009929881745, 241.78683382056272, 717.2268100615638, 8241.0930248849, 2680.200546014314, 1168.6524273443288, 2537.654972989734, 2569.8967098072135, 852.1601366270556, 575.5406329748729, 1815.8658244706412, 2699.7021065551157, 4325.320582183759, 1165.4622851949705, 6948.675021997046, 1788.7446289487384, 1311.8651839066424, 1723.5882087288762, 2355.92393016028, 2180.850241205014, 5041.096360407279, 6279.010714112963, 4879.49874452114, 5084.139525325344, 2563.528690455038, 3860.772284839727, 6272.280657182172, 3879.4989371918523, 5209.539294167604, 4067.299207543294, 7990.960227426792, 6001.021415422263, 5160.778004293587, 4530.472944252112, 3261.3822786031583, 5793.276864291029, 6540.962782464104, 6522.314743986192, 6582.911855042551, 5640.529515612401, 4667.81226912577, 4385.920648648923, 4777.563443886333, 4812.151479754117, 4449.667929950552, 3856.8557770913153, 3584.7424221867554, 3959.796803342471, 3976.813160619132, 3911.065067556505, 3923.902476782868, 3890.6434882547005, 262.8113077721505, 262.82079933278374, 262.8028740059251, 61.38516747122794, 53.61514579507022, 41.2360530086086, 43.12721430212144, 41.19003895186384, 40.20293808778146, 34.489797637835004, 79.30942938819099, 32.162946551668554, 94.9244403455384, 31.97927627670321, 53.279657007159265, 52.00878849863183, 29.687789830607134, 22.514952062614384, 28.118503582447847, 23.133420509609092, 21.831936714957674, 33.601593403634155, 81.7001162226979, 23.203175975641194, 23.28515146862567, 47.84509886488117, 18.684544500400047, 67.76794895946738, 21.397914020585475, 24.105376330783397, 78.15000809724994, 71.52592083333224, 61.920197023852886, 161.76964236557856, 89.345368189537, 218.97357725458116, 87.12743776471906, 89.34522524434674, 62.52354008290318, 2720.0749789989004, 9703.970324635573, 269.26751305736707, 333.750402863167, 5096.620417367591, 338.73161390816455, 627.9427255544841, 233.15941505244746, 14718.562616599635, 1417.3109386344763, 205.4217013755189, 14729.862834136238, 146.6598354469083, 134.50217548104902, 5539.873554394021, 11959.166960800869, 9234.449579446926, 3255.004469990663, 758.0227343351243, 2045.0559995798685, 470.771315480158, 7823.977138714498, 4543.76834406485, 3131.3735764138028, 6738.812729319431, 2166.088950090864, 1719.3807706377672, 3629.0060370751758, 6005.331454207017, 6801.663785422258, 2025.9036312080445, 1926.3584304092685, 3823.3051446075096, 6679.245981908022, 3781.0251593008006, 6032.8391404837785, 3775.6783230481556, 4737.9839716060715, 4218.238004367597, 4533.812954878215, 4625.117193924262, 4841.920448649641, 5003.829090918229, 5126.415684113124, 4693.5140659845765, 4173.323939450925, 4898.760487967798, 4389.491373970027, 4754.332327125751, 4337.409465432947, 4342.218370345605, 3949.7219827644653, 3878.920429535517, 214.3290453545074, 146.80420261389818, 247.91427183443614, 79.67959037480226, 65.90991200288542, 63.94460524545449, 54.12805812745524, 46.38272377831677, 127.71676404172754, 92.53835252636311, 61.36888305189201, 110.52922493997582, 62.82040349120382, 39.86619386397153, 39.84348519109155, 42.4083656640248, 37.29026828437888, 38.553523822243555, 86.11068155353033, 117.28117625962295, 66.64651394317055, 69.1138853422057, 40.04071983154319, 38.161378953113775, 131.22919927559647, 37.62465152093732, 32.15500761422689, 34.95755919099996, 32.9618047147039, 32.37954786691412, 155.78098126548693, 355.4656513440349, 139.36135310046225, 84.84132858549555, 170.99951945538197, 74.36923923707648, 103.45291856027875, 175.031045647096, 102.96157111724446, 1394.1250676242037, 1101.7624142834704, 1188.932903083655, 422.1299470372727, 8215.85841647637, 292.8942463133314, 494.14417528015065, 3244.8432390924577, 6783.168568235764, 2506.499550653681, 2381.1088254736896, 3334.260570724667, 1314.3427548519542, 1477.2247808795846, 3770.299498961589, 3672.062153648972, 3431.911367329184, 2872.599452273219, 1452.553474315713, 3052.1726143639594, 4449.553983647535, 3660.616484429225, 1333.848952808061, 3189.1152675876297, 3021.8442208375213, 2921.34382822223, 3286.7926288981294, 2978.9982722049303, 3321.911170207385, 3242.362892494844, 5469.3584357387645, 4266.666077544261, 2380.2707089999326, 2393.011938930461, 3708.8686163763746, 2912.219383011259, 3086.890559906995, 2542.177544670935, 2410.837653586096, 2498.233145445955, 2754.047013707319, 2933.472476032795, 2698.7209662040104, 2436.6439372130826, 164.92298726238445, 149.77421170573913, 101.14154287942826, 87.31404511825448, 58.123742137701825, 88.5168777087555, 62.32183668601033, 201.44177477483808, 47.90005627957899, 88.73289543788054, 133.9539858801703, 123.14084035326904, 119.9622972240769, 35.37121348942201, 63.299142702455065, 74.00208160377282, 74.62985086833024, 34.04983487922474, 34.01844923880919, 32.80446049075843, 65.67734998475616, 34.207101818780956, 33.637458292492816, 27.78817580763137, 31.164569852371255, 47.50481416363284, 35.561684767046025, 42.988032169511655, 30.527926875654725, 669.1362080348869, 171.2752666746457, 137.29680055606266, 1475.2028801080526, 138.16719457216087, 1757.8908552234811, 57.296077434958775, 70.97701074786026, 52.53051292584895, 186.1124360118139, 317.1617722096666, 7595.0026960478945, 1308.5489443307035, 1225.7145329964317, 170.90422009287576, 566.6572811994038, 250.39319556838612, 282.43282514236256, 210.71276147477337, 130.56412702066137, 4967.879210366666, 1484.4222174076997, 1012.2371413956182, 246.65334024184048, 3172.007173414766, 597.928557390081, 1238.4395773732233, 5559.676425832226, 686.1230215407608, 2127.6840438016893, 6755.000851731966, 1083.3006511781584, 1283.7074216527196, 867.7344429815582, 706.5070170878208, 655.2399707611185, 1268.1140128296965, 3216.7238756864404, 3109.8658152507646, 4834.194948236313, 790.983885803397, 589.0560227469592, 490.86970628145497, 502.106467220713, 1598.2373649582612, 3526.1198492469166, 3080.0731765446626, 1547.639405803311, 3203.928244871279, 1615.5309133160647, 2196.7901026086633, 2344.2628512339193, 3647.5597516127773, 1938.7218255138914, 2450.6375171574673, 1898.7449961266204, 2246.580253529251, 2496.798725080173, 2143.391784588873, 2041.7595724067078, 2107.28417598421, 1982.5392281713057, 1849.6320620772683, 1718.9333352999847, 1677.4931600057375, 1638.4533107446175, 105.72683486087303, 76.74465824620181, 65.85443512282356, 98.37680609258511, 76.6530073964207, 80.41682442947801, 82.04871382721062, 162.90481487576852, 80.93018539899795, 60.22168471052407, 62.25374892416663, 47.11962868813222, 43.84398498304119, 43.838138129893714, 43.83131593655837, 38.4326134474786, 59.88849708879354, 40.57218297693481, 79.09130598628933, 35.10983175862718, 34.85542879696547, 29.631068366466806, 32.806988725328225, 27.448129920518742, 29.57251423332663, 35.45432917615318, 27.42100456853864, 29.487088959212763, 55.09514104370693, 26.837105232719093, 88.38075202633195, 33.460321387766434, 118.05866266171495, 43.206965922840986, 98.42013609922905, 151.70273191529975, 318.65750165775097, 149.33244773959564, 82.52979518689597, 163.416743962885, 1692.9631251049163, 144.5536024737934, 105.32713215111785, 290.76418341525834, 917.8576215619211, 152.76547918553402, 848.4122380783801, 2817.4169732299824, 1606.470455290983, 1179.0162044031713, 2944.1730141218472, 1986.8878257672393, 3016.67457420427, 4760.167459700761, 3590.2337061346766, 3892.310590614051, 3273.2675688741992, 1040.7922380938876, 1256.3326247066316, 3924.427256381518, 3894.203829678294, 3987.8686946915805, 1111.3669410034645, 1708.8433235168916, 1364.2944827358785, 2487.916510944127, 2352.515054627015, 1586.2353421882658, 1986.863753541326, 2158.6134409107603, 4478.459994743165, 3447.5803672496704, 2861.6613924279195, 2227.4495480556684, 2608.558372469365, 2555.0154334548506, 2178.120078652736, 2136.348126079121, 1929.1015343779393, 1606.199352222594, 2368.469793931646, 2401.0582753270137, 1993.9992593480806, 1881.357345562911, 2020.5148991992526, 1919.5644505017933, 140.4216441136182, 75.02617667895707, 103.86567307285479, 64.67390815296044, 58.02312364456758, 53.83423171847768, 56.763568597925705, 60.261469501605994, 60.143721985124174, 51.8454146740042, 101.28650885356446, 45.869203345462125, 38.63663749315267, 41.05110541799316, 46.363184922651115, 35.03351590085939, 33.27965269306174, 32.65704368781174, 31.443135748755978, 31.423424073617863, 31.421606867116964, 32.57020967652877, 29.06938817908837, 32.47883381536486, 30.18518562903659, 30.159306182411473, 30.159072908149483, 30.392487134696186, 27.306275646802842, 27.121342810125416, 154.78441507207614, 169.8831010103176, 88.61481766803233, 283.24508002868043, 151.08572101464577, 180.38555617166833, 47.06679608263435, 182.36204233865305, 9385.235820796943, 7648.904349490089, 1324.4784089596367, 245.18677608585216, 178.10223037143308, 416.52037645722055, 453.2885430976601, 1625.3835449851445, 167.55071296730074, 1095.6801761853003, 2160.4172120095077, 634.6208008722457, 222.8276246935673, 489.5844879840691, 711.1060194157276, 432.62193644066633, 286.6752007627971, 7558.240758626766, 3983.230655745082, 4391.164561195347, 857.7973851998083, 1227.227974063133, 1257.6198406882922, 4005.5374977168585, 3607.827051410605, 1390.632003749308, 833.8708360483046, 2342.75646811825, 1398.4983851024135, 2833.153758278854, 1605.705647960167, 1195.119507460786, 1753.4390965274072, 2650.5411420589426, 2296.459924986764, 1346.5544400456301, 2341.7617120173627, 2184.1180263231695, 2129.5364771789823, 1611.021464518502, 2155.009130815071, 1458.3064720793873, 1592.4822444830886, 1444.7180410371477, 1277.4425543751126, 1305.1901732618867, 1308.8692629503394, 668.2684710880361, 366.0517407295438, 269.36789730750723, 242.22809401558604, 250.72207443107663, 195.958782140753, 185.94342175689712, 169.6037155071439, 163.9064709119233, 170.97864540804852, 132.5739015156588, 150.24028553591012, 133.96486841347004, 135.39507214419686, 254.45970033058322, 140.7874109098923, 194.27045156542715, 103.33312813174669, 101.14590404869266, 211.87776862677492, 514.3062085153875, 74.76145389654896, 158.73744159435253, 217.00607914471925, 73.97347102544167, 54.19540793946754, 106.07313461917492, 49.75688235557644, 113.67161018594847, 40.60865333278633, 85.13617356532296, 137.16952439212952, 160.53690203053063, 145.39326641365213, 317.7209249476264, 144.8358263996153, 271.44102759628737, 480.08233970873266, 197.40899242207618, 837.8688345276198, 1911.172498238173, 479.3075886832579, 3419.5083367542834, 2117.7741830949794, 2864.188875940974, 2138.8666624411658, 1059.7162166372839, 1364.2102005565139, 1376.6304929902306, 1758.2568217276732, 1524.0050253990516, 1275.8163907026187, 1297.1778822917443, 1380.5750649554298, 1472.4313136045967, 1422.6229770119708, 1311.1627081530492, 1467.1580526283635, 1215.8754948587546, 1195.534160925435, 970.6198134227633, 921.8161091204008, 989.2729755629048, 944.8744525934395, 1350.7283965387744, 1151.279388726921, 970.30867098333, 1223.6438232172975, 1019.5360766253064, 1058.6010719722974, 1015.5943980236856, 977.0490790032961, 192.78706894550032, 273.154357076225, 318.952529690815, 85.90446504083118, 72.60594502910416, 81.28445526100529, 62.44687456698415, 69.98483939786968, 64.83013278222253, 80.41616132949355, 84.15134677432843, 51.62933093161936, 47.18358419735428, 76.49640654800719, 65.2606090141653, 114.70025848324684, 63.985714755589726, 47.01086608701371, 39.7432245819368, 35.660642502538174, 54.456949626915595, 34.37972985401847, 40.54686115928325, 33.23506798722674, 52.38408220887666, 57.30059047024007, 34.18369249953107, 26.73517457736961, 29.241343885632713, 30.492408627723698, 108.64970322984908, 54.51581044867489, 39.095287624867694, 143.58150338181306, 80.9832372645652, 75.20409848957314, 64.16758953159597, 90.29584861070138, 150.33959056080187, 100.70947841210074, 67.43466363847013, 118.67707502354673, 151.0552142358754, 160.53726020078747, 6440.834578228143, 436.4744530197887, 4858.6438139092825, 380.372861361208, 145.5935495642101, 180.91268877515262, 818.8354160843667, 2297.9773392982556, 999.555758407712, 814.5379306921906, 1293.9059490317597, 1998.792945525727, 1299.3960114683089, 904.9669341635193, 3909.173580669503, 4497.8977127755015, 3448.2169304905183, 3587.1300188114533, 2551.8724613109885, 1627.1027330479499, 1400.1375987168408, 2938.7726457413164, 2075.9460584542203, 934.5287492461306, 1344.2362113006914, 1872.7445610201835, 321.3126421141637, 974.2173363670798, 1618.6715657346779, 768.2948812745448, 2393.276882149042, 1393.5753915751761, 1688.0542757064475, 1483.1209018567426, 1481.132025668876, 1630.4562509192363, 1568.5755850260382, 1251.8403399092808, 1252.1096023526798, 1521.8221503249795, 1370.823618673216, 1487.4544007780214, 1396.9251661047276, 1281.7710677738835, 1313.0499149859734, 1336.0505555729155, 88.21407175162813, 83.95741372020642, 68.07936373413317, 68.06814533901391, 49.77846228475669, 37.247074326954234, 154.56763895042553, 34.367988780675425, 26.6156688042461, 24.452217663458207, 23.423597421606217, 24.38112913145132, 23.85542384389314, 20.21308639562474, 18.63816038900592, 18.100515109182407, 17.057611992923526, 24.807327887513082, 17.491993687005603, 16.37480432122231, 30.995526026658812, 15.886131346433151, 13.868219885975936, 47.99444196214628, 169.0031489627819, 25.712490377056646, 12.966059873771439, 15.583282169067424, 9.611392998183659, 661.4741045597742, 677.0316862615659, 675.4356136329149, 667.0627438562869, 677.4709661095847, 176.01265129644048, 60.27278545675663, 52.11261666266029, 401.11927919575396, 62.26486848846973, 43.42792721398049, 43.31696747147449, 748.3758245993893, 62.488888124590595, 78.44418990019626, 742.2211787487505, 129.83450760749, 42.83529412092131, 710.3210020784214, 42.91537425466066, 743.1890634648157, 729.4303086786283, 664.4851091455552, 932.4270733798826, 632.611611781775, 513.7095410299945, 699.0696377528117, 365.53613401298986, 561.1411688787706, 595.0348638599627, 596.0397703352737, 558.228354272472, 531.8172338541162, 285.03090436075195, 450.46941091277057, 529.3996327685852, 559.7215933714502, 311.53641549025224, 476.2336847895934, 467.8001533618408, 414.0511443352961, 435.2345559492168, 351.94323839678754, 374.26769693478553, 377.46182625444163, 377.2597051788781, 142.95727965291672, 80.44672421183476, 92.59101291689463, 44.72682324192422, 42.506241135101504, 71.94919942739828, 62.68344624371046, 41.30001192295622, 38.00847969588462, 44.5632028681172, 62.029593556638865, 75.46213500637204, 36.31604254267633, 31.347710273802438, 31.347204981533825, 35.271064445034135, 35.127451399320755, 80.14268648519541, 29.112133338190713, 30.199308954620605, 38.311192433908495, 77.88136659280543, 27.998112104965283, 29.0937249794093, 38.50376493183531, 31.235295095624913, 29.07500670803647, 34.50477636809426, 33.87027525203882, 43.03862156079862, 56.58638312223598, 54.55612776992402, 57.629221026402675, 58.11762081303974, 85.53097951010206, 312.4814703604632, 57.3112776565311, 537.9279509131968, 84.39015083771918, 64.5746002488319, 97.37883906721616, 82.11854544048366, 119.77816237114443, 652.7081124991978, 109.05939073983409, 62.890800224801765, 1419.1915511503166, 74.21710383948414, 89.30961348411627, 90.13418758567646, 689.9288842174402, 89.70367857281848, 85.18932108975693, 75.47566336471037, 99.59844202990948, 105.39312478338567, 177.52407671693223, 622.3703107938525, 553.9191531750927, 526.9039378367761, 600.19149254446, 602.5047160586818, 457.424912439461, 379.77795654442355, 429.57137006690436, 335.05158694266936, 400.4990537594803, 369.86538883353006, 400.92229554664397, 255.1698288934987, 348.0719042224381, 195.66560524862285, 295.57957422848824, 253.9888732777577, 286.9113998933525, 211.67678564394794, 266.42039256573116, 294.75879992478804, 279.86150826382686, 262.57788964896434, 282.01221181851554, 244.57565110691115, 271.6294034022472, 278.10481589999836, 258.2197999757656, 257.18553631996144], \"Total\": [13220.0, 16960.0, 10880.0, 23942.0, 29480.0, 9080.0, 27073.0, 13336.0, 18875.0, 21873.0, 20956.0, 14409.0, 18960.0, 31951.0, 20367.0, 22484.0, 25270.0, 11194.0, 16695.0, 11588.0, 26965.0, 11829.0, 3868.0, 19753.0, 11583.0, 9027.0, 8924.0, 21185.0, 19833.0, 17965.0, 99.22171427374327, 64.14743256692857, 68.62650430563414, 406.2760800191216, 394.87757669367613, 48.538286201940004, 30.344277433824303, 31.97940009479428, 47.58949397728995, 292.1475384622979, 40.82549223724607, 63.89197976068326, 61.984069216225365, 267.56168254628653, 29.45216080467795, 140.5250764202577, 41.688519799860714, 67.37356137694229, 85.54186853991212, 46.39297063144735, 23.702585417296174, 149.9006790078209, 25.663714871741423, 28.524384698989174, 161.45584855817103, 25.636152342096754, 22.80253055156134, 69.23947227974732, 30.30847168772023, 69.19723710021714, 107.64310452570427, 111.42016836066958, 110.56869379744155, 40.88642700756783, 81.01046021621116, 90.5227177167067, 132.7784583447104, 77.04455987390281, 749.2216966811285, 179.79440022021782, 980.1289525791814, 552.9508893465339, 1765.075379805004, 2481.5831251930676, 1325.9551727646292, 807.1043980911217, 332.89460439296045, 390.18834934509465, 1246.6031105896304, 196.3912649036079, 277.29043493678813, 906.5984971382445, 13311.009622182459, 3880.0394020186577, 1584.7118721812226, 3868.2314670304163, 3944.958566084994, 1156.1529842113996, 744.6808976734507, 2710.5180895194717, 4320.196662600385, 7641.0018585786, 1715.4482625385638, 14033.368787693467, 2849.701640555172, 2041.2183430363764, 2841.990288265535, 4263.290018702316, 3933.089509177099, 12106.857389095881, 16623.898198028463, 12282.117566357796, 13145.247908674497, 5310.274107051001, 9417.866579847758, 18886.51216678045, 9621.629889166012, 14764.832338134347, 11223.89800926673, 31951.802333152835, 20641.82423813417, 16392.836899771417, 13510.15742695191, 8227.114660187897, 21185.03611754771, 26965.219956516084, 27073.60572261535, 29480.257800659143, 22484.34326457296, 16135.624558343647, 15367.05939338251, 19405.846245328725, 19833.234042168137, 19193.014184833533, 13122.43477762472, 11279.951445654908, 15956.798123393086, 16485.917335074453, 16931.390179257138, 17599.327356340924, 25270.18918231484, 264.1372742506321, 264.15590665931785, 264.14479222129415, 62.32386607797854, 54.61765667330991, 42.21883650332825, 44.18276529737211, 42.21939126579299, 41.231780096925085, 35.41484569352873, 81.5218982094078, 33.23742144500238, 98.21426941673361, 33.26232567866445, 55.436278133345425, 54.16462007647498, 30.920754849083508, 23.463334221832266, 29.309271319174538, 24.13396857977922, 22.781693305702948, 35.078325877959095, 85.3904184263259, 24.260847688316712, 24.371728817184664, 50.132800600546055, 19.58168955295453, 71.03330875090961, 22.43192383492393, 25.28378510916579, 82.01565542231482, 75.51040963437022, 65.50181275782829, 174.2696366746003, 95.9379633886795, 242.43052539242697, 93.93109429608666, 97.64945891842699, 67.54978411277554, 3609.1474523198717, 15004.812993816658, 324.2290200516754, 408.71263056036315, 7811.055234667542, 422.18565845753886, 832.9600657554221, 281.44426814061035, 26965.219956516084, 2087.577059304446, 246.69284343860645, 29480.257800659143, 171.69917016427553, 155.9876543725727, 10332.258841174049, 25270.18918231484, 20641.82423813417, 6249.036209132011, 1152.2092702339087, 3893.615115928634, 686.1051897852996, 19833.234042168137, 10619.934645357876, 6837.779359452551, 17750.43838065218, 4476.425544978222, 3388.2465505204727, 8590.271883636842, 16135.624558343647, 19193.014184833533, 4287.097365080938, 4028.069382211755, 10148.118628524475, 21185.03611754771, 10528.465547805028, 19886.69684450701, 11084.296882669309, 15367.05939338251, 13311.009622182459, 14764.832338134347, 15289.795509646681, 16623.898198028463, 17599.327356340924, 18886.51216678045, 16392.836899771417, 15058.923685221698, 22484.34326457296, 19405.846245328725, 27073.60572261535, 21873.243686073067, 23942.16252282575, 16253.806531901524, 31951.802333152835, 216.32781688547328, 148.4208022435122, 250.6484210345477, 81.01106337232666, 67.14627876115917, 65.16281299879779, 55.179734041733205, 47.420819879667185, 130.58155011811658, 94.65034428808298, 62.79078764237005, 113.11825616671922, 64.38553720729153, 40.88026568442422, 40.875183043410146, 43.50988148440663, 38.28655982894039, 39.584710417035616, 88.4144097431182, 120.44669976554593, 68.48784945135958, 71.0695106623279, 41.1781359866146, 39.24807009121095, 135.0039993973551, 38.723564631391426, 33.140512181371314, 36.038903425919855, 34.036512584854925, 33.44022116685279, 161.25025737424826, 373.2672030313508, 148.83257468102587, 89.76806150655023, 186.41885150795287, 79.70300420122152, 113.89318301404681, 206.6331186251232, 115.70299210632614, 2184.3125045609263, 1704.6131469296201, 1945.1827294820978, 599.5512583483732, 19753.59015182768, 397.702782543343, 737.6459395606742, 7239.589043243799, 17965.441612030518, 5422.44692829943, 5521.05555004505, 8664.566281580852, 2770.6512495735715, 3331.2167781446983, 10974.826015906354, 11305.18715923254, 10664.977162793011, 8834.887190684702, 3579.2316513277488, 10554.294077268361, 17970.349616388954, 13771.594216614598, 3439.9013880864068, 11905.05679949082, 11119.170845025765, 10616.693981159793, 12758.064522407174, 11500.942353787697, 13510.15742695191, 13122.43477762472, 31951.802333152835, 21873.243686073067, 8770.633654646686, 8937.042172866084, 18875.784085191684, 13847.685427530745, 16931.390179257138, 11437.079645459911, 10316.54037929495, 12170.463755280281, 16485.917335074453, 25270.18918231484, 17599.327356340924, 12109.649817808599, 166.76738181449045, 151.4779950666476, 102.45903634855436, 88.53643977270302, 59.24413461586603, 90.56940525201351, 63.874191088162554, 206.55411815909446, 49.14239535008246, 91.09124618350017, 137.63297814798904, 126.60385437981569, 123.4317615719867, 36.4230310599981, 65.20712469318372, 76.31895274059845, 77.0293641386855, 35.15449525945066, 35.132411271064456, 33.88847654440712, 67.86780585250877, 35.359066395210135, 34.783989576219746, 28.749748752427525, 32.2721784920033, 49.24864017295519, 36.87939017436546, 44.583217560936426, 31.69534633148555, 695.2086713816601, 179.68080410566142, 143.72608682628785, 1584.6886394988444, 146.506492023798, 2135.1272386785326, 60.489051202006394, 76.03770282800953, 55.4366560952181, 212.02461899808614, 373.9834447549113, 11194.83547235743, 1717.0975302261656, 1621.4898905453574, 195.3298975850771, 709.5263594196305, 294.6894428176204, 337.7478711986153, 248.28782018982864, 146.3550642073051, 8924.866905324323, 2296.953712347383, 1532.9362378565504, 303.9270414147292, 6229.589607972072, 882.1016416517626, 2224.8219480071607, 14111.4775841495, 1095.9930658691212, 4549.640240458221, 20367.78960090567, 2076.193820845812, 2598.1190873720193, 1604.140068280739, 1229.6479072385828, 1121.3837652885197, 2755.3012480616967, 10428.987294160044, 10147.644482754493, 18960.013632954433, 1512.6987005442907, 1032.3737603333104, 788.7895279175224, 816.9349224838256, 5042.246043925844, 19193.014184833533, 16695.06105584873, 5289.303481541384, 19886.69684450701, 5810.3528886210615, 10653.364592138609, 12716.297286838011, 31951.802333152835, 8837.079930430775, 15058.923685221698, 10078.571669573399, 19405.846245328725, 29480.257800659143, 18886.51216678045, 15956.798123393086, 20956.548876006753, 23942.16252282575, 16135.624558343647, 10123.25800263564, 11223.89800926673, 17970.349616388954, 106.93595251954004, 77.87650654119572, 66.8517492439399, 99.89363768547221, 77.94998048141909, 81.78647722924302, 83.45564370631779, 165.71589623292678, 82.35736392178916, 61.45187880189456, 63.57218739142895, 48.19139802100191, 44.88949534492072, 44.89323946808725, 44.89788820554577, 39.37114017862892, 61.376936279263475, 41.58746683331718, 81.23459548986888, 36.071689818085254, 35.97508380185906, 30.584859756725276, 33.88486813609503, 28.384019071395905, 30.59289347877572, 36.68963531083276, 28.392016770393308, 30.53169628862115, 57.10022024619607, 27.85024258674781, 92.40059507435734, 34.76245198469622, 127.44680795877781, 45.392533596821536, 107.32603282035404, 173.45618940883435, 390.3331049516833, 174.80425585486987, 93.10028030445064, 204.82870100433956, 2930.342171289572, 181.9859794096773, 127.80348528254964, 425.74421536428673, 1788.7491962232546, 202.62177021015842, 1668.1408474618313, 7460.414389710391, 3744.67659551573, 2665.1122058712313, 9589.907585004066, 6213.025999466531, 11119.170845025765, 20956.548876006753, 14409.682497922242, 16695.06105584873, 13336.2632120299, 2835.0088619057287, 3735.8223333022224, 18875.784085191684, 18960.013632954433, 20367.78960090567, 3337.923901259134, 6447.363295263371, 4712.961079769066, 11500.942353787697, 10880.565985539304, 6242.827799443937, 8924.866905324323, 10229.517384861545, 31951.802333152835, 21873.243686073067, 16960.46206665516, 11583.854726902688, 15956.798123393086, 16253.806531901524, 11905.05679949082, 12170.463755280281, 10147.644482754493, 6668.329211641513, 19405.846245328725, 23942.16252282575, 13847.685427530745, 12758.064522407174, 22484.34326457296, 27073.60572261535, 142.12996034189027, 76.12164659721739, 105.64227720195363, 65.79496058849693, 59.09743948647324, 54.90021324028417, 57.89752451483445, 61.55891624335284, 61.55694998681816, 53.06594869723109, 103.67522179376172, 46.98550147330305, 39.64573507726926, 42.13726869572039, 47.60658785698768, 36.00388675940914, 34.274473247904204, 33.6563394805468, 32.44303157597347, 32.429979031381485, 32.43135478672803, 33.62085283714065, 30.01760394228007, 33.552079279778475, 31.21222225208378, 31.211505333401856, 31.212585333206636, 31.50457941462734, 28.312488558447615, 28.182368641736506, 163.33393116267493, 180.32309680809354, 93.20699290490005, 308.9613610968786, 163.23548977203845, 200.26944557048375, 49.48678476350029, 205.37731095640473, 13220.455849240238, 10880.565985539304, 1692.5425588763446, 285.7404713669767, 203.6250920545245, 506.72633349338093, 560.6790536900232, 2276.299840277592, 193.92909548315671, 1617.9818582678292, 3683.74228241506, 973.77722794976, 298.7517951909887, 768.8025114663128, 1222.8317739941638, 691.9935815783265, 418.1218151473498, 23942.16252282575, 11588.12546680397, 14409.682497922242, 1884.7351934935139, 3108.907047828989, 3643.804013253492, 20956.548876006753, 18960.013632954433, 4712.961079769066, 2202.5180231702084, 11133.651713365216, 5048.063798928458, 18875.784085191684, 7534.314391897348, 4648.178154731343, 8837.079930430775, 20367.78960090567, 16253.806531901524, 6066.661937066872, 22484.34326457296, 19405.846245328725, 21873.243686073067, 11583.854726902688, 27073.60572261535, 10147.644482754493, 13771.594216614598, 10229.517384861545, 8467.295480377712, 17970.349616388954, 19753.59015182768, 670.7760097888957, 367.9337309401412, 270.84564070857397, 243.70981761777753, 252.27054234910437, 197.32157425744563, 187.309575426761, 170.90425070425312, 165.17146304223414, 172.33344516193048, 133.74511530448487, 151.57647732816278, 135.16166519822275, 136.63282532547865, 257.03404782833735, 142.31595773725394, 196.45964165242833, 104.51680331874094, 102.32978356503797, 214.81976935055272, 521.7821736225652, 75.88008516818836, 161.18373637873987, 220.4763362553892, 75.1628416321903, 55.18892679687123, 108.23230712951393, 50.85557598811859, 116.19217107464517, 41.642968922229834, 87.56329573482944, 142.94065874381505, 168.04577419160773, 152.1787066095249, 358.91440369286295, 155.88830050025973, 327.404027463017, 730.841815178065, 248.19705114733273, 2120.2571793353713, 8276.96244646109, 1047.627089243192, 27073.60572261535, 15367.05939338251, 31951.802333152835, 19886.69684450701, 5723.562052513484, 9621.629889166012, 10078.571669573399, 17750.43838065218, 14764.832338134347, 11223.89800926673, 12716.297286838011, 16135.624558343647, 19193.014184833533, 18886.51216678045, 17599.327356340924, 25270.18918231484, 16392.836899771417, 16485.917335074453, 9952.577188375248, 8697.405926239408, 10616.693981159793, 10123.25800263564, 29480.257800659143, 19753.59015182768, 11583.854726902688, 26965.219956516084, 15289.795509646681, 22484.34326457296, 19833.234042168137, 17965.441612030518, 194.64208165945428, 276.1671155976428, 323.09141882935864, 87.13916038049129, 73.75922288159339, 82.59242486888486, 63.50626565220582, 71.20363259472175, 66.02129858482112, 81.97930185980364, 85.79419804403317, 52.67540581622617, 48.192791043972875, 78.1923859645371, 66.9509779769991, 117.71705416872508, 65.70245106795947, 48.282240852616894, 40.8290462437021, 36.652499217673125, 55.98178793417579, 35.37351050787438, 41.73948882759484, 34.21777304407528, 53.93316272300354, 59.05098617155662, 35.357508962238136, 27.669892503964597, 30.26576388629158, 31.56072475317847, 112.55454214155795, 56.473760865297294, 40.47231902920403, 156.33058309673538, 86.24363238096636, 80.89674377050841, 68.40354770588044, 98.47227709461056, 174.5659820146558, 112.68874046787951, 72.56052118542407, 138.33278670308277, 187.36123627432343, 202.82076884087348, 16960.46206665516, 681.9918861815299, 13336.2632120299, 611.2303216626059, 189.00605673657833, 252.15789709970798, 1826.0848079238551, 8084.511769283934, 2675.7603938243615, 2088.5781740174134, 3952.5397556170606, 7233.3089910936, 4370.62349587069, 2665.1122058712313, 21873.243686073067, 27073.60572261535, 18875.784085191684, 22484.34326457296, 14409.682497922242, 7534.314391897348, 6066.661937066872, 20956.548876006753, 12170.463755280281, 3470.552684504582, 6668.329211641513, 11588.12546680397, 655.2179380935169, 4324.535664620423, 10829.274165731731, 2930.342171289572, 23942.16252282575, 9027.079874067025, 13771.594216614598, 12109.649817808599, 12282.117566357796, 16931.390179257138, 17965.441612030518, 9198.15084250795, 9578.342052113, 19833.234042168137, 13847.685427530745, 19753.59015182768, 16485.917335074453, 11829.269541740661, 15956.798123393086, 31951.802333152835, 89.4064943170927, 85.1447866457349, 69.14635393703152, 69.14924823314992, 51.03042216468467, 38.24486373662393, 159.86319783287934, 35.597718067330035, 27.589999530314238, 25.461874001027372, 24.393542814521254, 25.452843368832344, 24.93301204458367, 21.182923951950443, 19.60920282655563, 19.0631760825493, 17.996447380712258, 26.24666848804607, 18.51842189290613, 17.36872485330382, 33.03361715187901, 16.938306048055704, 14.799209481049484, 51.268073720641304, 180.5365872119489, 27.634386708911467, 14.00193600076385, 16.989940276672105, 10.521673088619, 726.4237902465119, 747.1361306774652, 746.2570526087231, 738.227170638254, 750.895343795813, 202.80176499963923, 71.25126832435659, 61.391889489106326, 580.7051846924062, 78.66002183884574, 52.55354749429336, 52.5844660482529, 2009.129979125533, 85.81562138639532, 121.43647463487993, 3050.929883923427, 264.3952311222585, 56.62205465341119, 3817.312963552992, 57.78338023175304, 9027.079874067025, 11583.854726902688, 11829.269541740661, 29480.257800659143, 16695.06105584873, 11133.651713365216, 27073.60572261535, 5810.3528886210615, 16392.836899771417, 18960.013632954433, 19405.846245328725, 16931.390179257138, 15289.795509646681, 3564.669520553106, 13220.455849240238, 23942.16252282575, 31951.802333152835, 5048.063798928458, 21873.243686073067, 22484.34326457296, 15058.923685221698, 19886.69684450701, 8590.271883636842, 12109.649817808599, 16623.898198028463, 17970.349616388954, 144.2812526912384, 81.60375619742567, 94.53394028710011, 45.74428218792908, 43.50307256029374, 73.64779414427564, 64.16421878923981, 42.393241771713186, 39.03122192753092, 45.76697740295197, 63.72869222664406, 77.64381829163457, 37.37514331325316, 32.30413066019447, 32.303700518822616, 36.37039744688065, 36.24604499607503, 82.74768838161968, 30.06274981162921, 31.20586202472467, 39.59766319359199, 80.5133640526872, 28.944420203099593, 30.080871376910675, 39.828902796746846, 32.31915760120949, 30.087015852827125, 35.7285686739988, 35.15886780398395, 44.74015297756504, 58.982001601332996, 57.00834808472479, 60.40292880089764, 60.95677481198558, 91.98499764094528, 380.32423334002056, 61.83275050010374, 699.2745081691287, 95.73167204856492, 71.59762770558606, 116.78780074291058, 99.75001503778732, 162.32364458723555, 1356.0297955767705, 148.3036625468855, 78.12647364616912, 9080.793129634032, 104.32232850835165, 139.43612320378423, 141.8451117646814, 3868.2314670304163, 142.8706673083294, 131.64226317420184, 107.46643467566014, 187.5219758737353, 239.5924374249137, 949.9334577456561, 25270.18918231484, 21185.03611754771, 19833.234042168137, 29480.257800659143, 31951.802333152835, 15058.923685221698, 11829.269541740661, 18875.784085191684, 9027.079874067025, 16960.46206665516, 17970.349616388954, 26965.219956516084, 6249.036209132011, 19886.69684450701, 2414.41412024518, 12282.117566357796, 7446.87587288178, 13145.247908674497, 3817.312963552992, 10173.337673676157, 16485.917335074453, 13771.594216614598, 10664.977162793011, 16253.806531901524, 8590.271883636842, 16931.390179257138, 21873.243686073067, 15956.798123393086, 23942.16252282575], \"Category\": [\"Default\", \"Default\", \"Default\", \"Default\", \"Default\", \"Default\", \"Default\", \"Default\", \"Default\", \"Default\", \"Default\", \"Default\", \"Default\", \"Default\", \"Default\", \"Default\", \"Default\", \"Default\", \"Default\", \"Default\", \"Default\", \"Default\", \"Default\", \"Default\", \"Default\", \"Default\", \"Default\", \"Default\", \"Default\", \"Default\", \"Topic1\", \"Topic1\", \"Topic1\", \"Topic1\", \"Topic1\", \"Topic1\", \"Topic1\", \"Topic1\", \"Topic1\", \"Topic1\", \"Topic1\", \"Topic1\", \"Topic1\", \"Topic1\", \"Topic1\", \"Topic1\", \"Topic1\", \"Topic1\", \"Topic1\", \"Topic1\", \"Topic1\", \"Topic1\", \"Topic1\", \"Topic1\", \"Topic1\", \"Topic1\", \"Topic1\", \"Topic1\", \"Topic1\", \"Topic1\", \"Topic1\", \"Topic1\", \"Topic1\", \"Topic1\", \"Topic1\", \"Topic1\", \"Topic1\", \"Topic1\", \"Topic1\", \"Topic1\", \"Topic1\", \"Topic1\", \"Topic1\", \"Topic1\", \"Topic1\", \"Topic1\", \"Topic1\", \"Topic1\", \"Topic1\", \"Topic1\", \"Topic1\", \"Topic1\", \"Topic1\", \"Topic1\", \"Topic1\", \"Topic1\", \"Topic1\", \"Topic1\", \"Topic1\", \"Topic1\", \"Topic1\", \"Topic1\", \"Topic1\", \"Topic1\", \"Topic1\", \"Topic1\", \"Topic1\", \"Topic1\", \"Topic1\", \"Topic1\", \"Topic1\", \"Topic1\", \"Topic1\", \"Topic1\", \"Topic1\", \"Topic1\", \"Topic1\", \"Topic1\", \"Topic1\", \"Topic1\", \"Topic1\", \"Topic1\", \"Topic1\", \"Topic1\", \"Topic1\", \"Topic1\", \"Topic1\", \"Topic1\", \"Topic1\", \"Topic1\", \"Topic1\", \"Topic1\", \"Topic1\", \"Topic1\", \"Topic1\", \"Topic1\", \"Topic1\", \"Topic1\", \"Topic1\", \"Topic1\", \"Topic1\", \"Topic2\", \"Topic2\", \"Topic2\", \"Topic2\", \"Topic2\", \"Topic2\", \"Topic2\", \"Topic2\", \"Topic2\", \"Topic2\", \"Topic2\", \"Topic2\", \"Topic2\", \"Topic2\", \"Topic2\", \"Topic2\", \"Topic2\", \"Topic2\", \"Topic2\", \"Topic2\", \"Topic2\", \"Topic2\", \"Topic2\", \"Topic2\", \"Topic2\", \"Topic2\", \"Topic2\", \"Topic2\", \"Topic2\", \"Topic2\", \"Topic2\", \"Topic2\", \"Topic2\", \"Topic2\", \"Topic2\", \"Topic2\", \"Topic2\", \"Topic2\", \"Topic2\", \"Topic2\", \"Topic2\", \"Topic2\", \"Topic2\", \"Topic2\", \"Topic2\", \"Topic2\", \"Topic2\", \"Topic2\", \"Topic2\", \"Topic2\", \"Topic2\", \"Topic2\", \"Topic2\", \"Topic2\", \"Topic2\", \"Topic2\", \"Topic2\", \"Topic2\", \"Topic2\", \"Topic2\", \"Topic2\", \"Topic2\", \"Topic2\", \"Topic2\", \"Topic2\", \"Topic2\", \"Topic2\", \"Topic2\", \"Topic2\", \"Topic2\", \"Topic2\", \"Topic2\", \"Topic2\", \"Topic2\", \"Topic2\", \"Topic2\", \"Topic2\", \"Topic2\", \"Topic2\", \"Topic2\", \"Topic2\", \"Topic2\", \"Topic2\", \"Topic2\", \"Topic2\", \"Topic2\", \"Topic2\", \"Topic2\", \"Topic2\", \"Topic2\", \"Topic2\", \"Topic2\", \"Topic3\", \"Topic3\", \"Topic3\", \"Topic3\", \"Topic3\", \"Topic3\", \"Topic3\", \"Topic3\", \"Topic3\", \"Topic3\", \"Topic3\", \"Topic3\", \"Topic3\", \"Topic3\", \"Topic3\", \"Topic3\", \"Topic3\", \"Topic3\", \"Topic3\", \"Topic3\", \"Topic3\", \"Topic3\", \"Topic3\", \"Topic3\", \"Topic3\", \"Topic3\", \"Topic3\", \"Topic3\", \"Topic3\", \"Topic3\", \"Topic3\", \"Topic3\", \"Topic3\", \"Topic3\", \"Topic3\", \"Topic3\", \"Topic3\", \"Topic3\", \"Topic3\", \"Topic3\", \"Topic3\", \"Topic3\", \"Topic3\", \"Topic3\", \"Topic3\", \"Topic3\", \"Topic3\", \"Topic3\", \"Topic3\", \"Topic3\", \"Topic3\", \"Topic3\", \"Topic3\", \"Topic3\", \"Topic3\", \"Topic3\", \"Topic3\", \"Topic3\", \"Topic3\", \"Topic3\", \"Topic3\", \"Topic3\", \"Topic3\", \"Topic3\", \"Topic3\", \"Topic3\", \"Topic3\", \"Topic3\", \"Topic3\", \"Topic3\", \"Topic3\", \"Topic3\", \"Topic3\", \"Topic3\", \"Topic3\", \"Topic3\", \"Topic3\", \"Topic3\", \"Topic3\", \"Topic3\", \"Topic3\", \"Topic3\", \"Topic3\", \"Topic4\", \"Topic4\", \"Topic4\", \"Topic4\", \"Topic4\", \"Topic4\", \"Topic4\", \"Topic4\", \"Topic4\", \"Topic4\", \"Topic4\", \"Topic4\", \"Topic4\", \"Topic4\", \"Topic4\", \"Topic4\", \"Topic4\", \"Topic4\", \"Topic4\", \"Topic4\", \"Topic4\", \"Topic4\", \"Topic4\", \"Topic4\", \"Topic4\", \"Topic4\", \"Topic4\", \"Topic4\", \"Topic4\", \"Topic4\", \"Topic4\", \"Topic4\", \"Topic4\", \"Topic4\", \"Topic4\", \"Topic4\", \"Topic4\", \"Topic4\", \"Topic4\", \"Topic4\", \"Topic4\", \"Topic4\", \"Topic4\", \"Topic4\", \"Topic4\", \"Topic4\", \"Topic4\", \"Topic4\", \"Topic4\", \"Topic4\", \"Topic4\", \"Topic4\", \"Topic4\", \"Topic4\", \"Topic4\", \"Topic4\", \"Topic4\", \"Topic4\", \"Topic4\", \"Topic4\", \"Topic4\", \"Topic4\", \"Topic4\", \"Topic4\", \"Topic4\", \"Topic4\", \"Topic4\", \"Topic4\", \"Topic4\", \"Topic4\", \"Topic4\", \"Topic4\", \"Topic4\", \"Topic4\", \"Topic4\", \"Topic4\", \"Topic4\", \"Topic4\", \"Topic4\", \"Topic4\", \"Topic4\", \"Topic4\", \"Topic4\", \"Topic4\", \"Topic4\", \"Topic4\", \"Topic4\", \"Topic4\", \"Topic4\", \"Topic4\", \"Topic4\", \"Topic4\", \"Topic4\", \"Topic4\", \"Topic4\", \"Topic5\", \"Topic5\", \"Topic5\", \"Topic5\", \"Topic5\", \"Topic5\", \"Topic5\", \"Topic5\", \"Topic5\", \"Topic5\", \"Topic5\", \"Topic5\", \"Topic5\", \"Topic5\", \"Topic5\", \"Topic5\", \"Topic5\", \"Topic5\", \"Topic5\", \"Topic5\", \"Topic5\", \"Topic5\", \"Topic5\", \"Topic5\", \"Topic5\", \"Topic5\", \"Topic5\", \"Topic5\", \"Topic5\", \"Topic5\", \"Topic5\", \"Topic5\", \"Topic5\", \"Topic5\", \"Topic5\", \"Topic5\", \"Topic5\", \"Topic5\", \"Topic5\", \"Topic5\", \"Topic5\", \"Topic5\", \"Topic5\", \"Topic5\", \"Topic5\", \"Topic5\", \"Topic5\", \"Topic5\", \"Topic5\", \"Topic5\", \"Topic5\", \"Topic5\", \"Topic5\", \"Topic5\", \"Topic5\", \"Topic5\", \"Topic5\", \"Topic5\", \"Topic5\", \"Topic5\", \"Topic5\", \"Topic5\", \"Topic5\", \"Topic5\", \"Topic5\", \"Topic5\", \"Topic5\", \"Topic5\", \"Topic5\", \"Topic5\", \"Topic5\", \"Topic5\", \"Topic5\", \"Topic5\", \"Topic5\", \"Topic5\", \"Topic5\", \"Topic5\", \"Topic5\", \"Topic5\", \"Topic5\", \"Topic5\", \"Topic5\", \"Topic5\", \"Topic5\", \"Topic5\", \"Topic6\", \"Topic6\", \"Topic6\", \"Topic6\", \"Topic6\", \"Topic6\", \"Topic6\", \"Topic6\", \"Topic6\", \"Topic6\", \"Topic6\", \"Topic6\", \"Topic6\", \"Topic6\", \"Topic6\", \"Topic6\", \"Topic6\", \"Topic6\", \"Topic6\", \"Topic6\", \"Topic6\", \"Topic6\", \"Topic6\", \"Topic6\", \"Topic6\", \"Topic6\", \"Topic6\", \"Topic6\", \"Topic6\", \"Topic6\", \"Topic6\", \"Topic6\", \"Topic6\", \"Topic6\", \"Topic6\", \"Topic6\", \"Topic6\", \"Topic6\", \"Topic6\", \"Topic6\", \"Topic6\", \"Topic6\", \"Topic6\", \"Topic6\", \"Topic6\", \"Topic6\", \"Topic6\", \"Topic6\", \"Topic6\", \"Topic6\", \"Topic6\", \"Topic6\", \"Topic6\", \"Topic6\", \"Topic6\", \"Topic6\", \"Topic6\", \"Topic6\", \"Topic6\", \"Topic6\", \"Topic6\", \"Topic6\", \"Topic6\", \"Topic6\", \"Topic6\", \"Topic6\", \"Topic6\", \"Topic6\", \"Topic6\", \"Topic6\", \"Topic6\", \"Topic6\", \"Topic6\", \"Topic6\", \"Topic6\", \"Topic6\", \"Topic6\", \"Topic6\", \"Topic6\", \"Topic6\", \"Topic6\", \"Topic6\", \"Topic6\", \"Topic6\", \"Topic6\", \"Topic7\", \"Topic7\", \"Topic7\", \"Topic7\", \"Topic7\", \"Topic7\", \"Topic7\", \"Topic7\", \"Topic7\", \"Topic7\", \"Topic7\", \"Topic7\", \"Topic7\", \"Topic7\", \"Topic7\", \"Topic7\", \"Topic7\", \"Topic7\", \"Topic7\", \"Topic7\", \"Topic7\", \"Topic7\", \"Topic7\", \"Topic7\", \"Topic7\", \"Topic7\", \"Topic7\", \"Topic7\", \"Topic7\", \"Topic7\", \"Topic7\", \"Topic7\", \"Topic7\", \"Topic7\", \"Topic7\", \"Topic7\", \"Topic7\", \"Topic7\", \"Topic7\", \"Topic7\", \"Topic7\", \"Topic7\", \"Topic7\", \"Topic7\", \"Topic7\", \"Topic7\", \"Topic7\", \"Topic7\", \"Topic7\", \"Topic7\", \"Topic7\", \"Topic7\", \"Topic7\", \"Topic7\", \"Topic7\", \"Topic7\", \"Topic7\", \"Topic7\", \"Topic7\", \"Topic7\", \"Topic7\", \"Topic7\", \"Topic7\", \"Topic7\", \"Topic7\", \"Topic7\", \"Topic7\", \"Topic7\", \"Topic7\", \"Topic7\", \"Topic7\", \"Topic7\", \"Topic8\", \"Topic8\", \"Topic8\", \"Topic8\", \"Topic8\", \"Topic8\", \"Topic8\", \"Topic8\", \"Topic8\", \"Topic8\", \"Topic8\", \"Topic8\", \"Topic8\", \"Topic8\", \"Topic8\", \"Topic8\", \"Topic8\", \"Topic8\", \"Topic8\", \"Topic8\", \"Topic8\", \"Topic8\", \"Topic8\", \"Topic8\", \"Topic8\", \"Topic8\", \"Topic8\", \"Topic8\", \"Topic8\", \"Topic8\", \"Topic8\", \"Topic8\", \"Topic8\", \"Topic8\", \"Topic8\", \"Topic8\", \"Topic8\", \"Topic8\", \"Topic8\", \"Topic8\", \"Topic8\", \"Topic8\", \"Topic8\", \"Topic8\", \"Topic8\", \"Topic8\", \"Topic8\", \"Topic8\", \"Topic8\", \"Topic8\", \"Topic8\", \"Topic8\", \"Topic8\", \"Topic8\", \"Topic8\", \"Topic8\", \"Topic8\", \"Topic8\", \"Topic8\", \"Topic8\", \"Topic8\", \"Topic8\", \"Topic8\", \"Topic8\", \"Topic8\", \"Topic8\", \"Topic8\", \"Topic8\", \"Topic8\", \"Topic8\", \"Topic8\", \"Topic8\", \"Topic8\", \"Topic8\", \"Topic8\", \"Topic8\", \"Topic8\", \"Topic8\", \"Topic8\", \"Topic8\", \"Topic8\", \"Topic8\", \"Topic8\", \"Topic8\", \"Topic8\", \"Topic8\", \"Topic8\", \"Topic8\", \"Topic8\", \"Topic8\", \"Topic9\", \"Topic9\", \"Topic9\", \"Topic9\", \"Topic9\", \"Topic9\", \"Topic9\", \"Topic9\", \"Topic9\", \"Topic9\", \"Topic9\", \"Topic9\", \"Topic9\", \"Topic9\", \"Topic9\", \"Topic9\", \"Topic9\", \"Topic9\", \"Topic9\", \"Topic9\", \"Topic9\", \"Topic9\", \"Topic9\", \"Topic9\", \"Topic9\", \"Topic9\", \"Topic9\", \"Topic9\", \"Topic9\", \"Topic9\", \"Topic9\", \"Topic9\", \"Topic9\", \"Topic9\", \"Topic9\", \"Topic9\", \"Topic9\", \"Topic9\", \"Topic9\", \"Topic9\", \"Topic9\", \"Topic9\", \"Topic9\", \"Topic9\", \"Topic9\", \"Topic9\", \"Topic9\", \"Topic9\", \"Topic9\", \"Topic9\", \"Topic9\", \"Topic9\", \"Topic9\", \"Topic9\", \"Topic9\", \"Topic9\", \"Topic9\", \"Topic9\", \"Topic9\", \"Topic9\", \"Topic9\", \"Topic9\", \"Topic9\", \"Topic9\", \"Topic9\", \"Topic9\", \"Topic9\", \"Topic9\", \"Topic9\", \"Topic9\", \"Topic9\", \"Topic9\", \"Topic9\", \"Topic9\", \"Topic9\", \"Topic10\", \"Topic10\", \"Topic10\", \"Topic10\", \"Topic10\", \"Topic10\", \"Topic10\", \"Topic10\", \"Topic10\", \"Topic10\", \"Topic10\", \"Topic10\", \"Topic10\", \"Topic10\", \"Topic10\", \"Topic10\", \"Topic10\", \"Topic10\", \"Topic10\", \"Topic10\", \"Topic10\", \"Topic10\", \"Topic10\", \"Topic10\", \"Topic10\", \"Topic10\", \"Topic10\", \"Topic10\", \"Topic10\", \"Topic10\", \"Topic10\", \"Topic10\", \"Topic10\", \"Topic10\", \"Topic10\", \"Topic10\", \"Topic10\", \"Topic10\", \"Topic10\", \"Topic10\", \"Topic10\", \"Topic10\", \"Topic10\", \"Topic10\", \"Topic10\", \"Topic10\", \"Topic10\", \"Topic10\", \"Topic10\", \"Topic10\", \"Topic10\", \"Topic10\", \"Topic10\", \"Topic10\", \"Topic10\", \"Topic10\", \"Topic10\", \"Topic10\", \"Topic10\", \"Topic10\", \"Topic10\", \"Topic10\", \"Topic10\", \"Topic10\", \"Topic10\", \"Topic10\", \"Topic10\", \"Topic10\", \"Topic10\", \"Topic10\", \"Topic10\", \"Topic10\", \"Topic10\", \"Topic10\", \"Topic10\", \"Topic10\", \"Topic10\", \"Topic10\", \"Topic10\", \"Topic10\", \"Topic10\", \"Topic10\", \"Topic10\", \"Topic10\", \"Topic10\", \"Topic10\"], \"logprob\": [30.0, 29.0, 28.0, 27.0, 26.0, 25.0, 24.0, 23.0, 22.0, 21.0, 20.0, 19.0, 18.0, 17.0, 16.0, 15.0, 14.0, 13.0, 12.0, 11.0, 10.0, 9.0, 8.0, 7.0, 6.0, 5.0, 4.0, 3.0, 2.0, 1.0, -9.4751, -9.9113, -9.8455, -8.0727, -8.1021, -10.199, -10.6738, -10.6215, -10.2261, -8.4116, -10.3798, -9.9324, -9.9627, -8.5007, -10.7074, -9.1451, -10.3605, -9.8806, -9.6446, -10.2568, -10.9287, -9.0844, -10.8497, -10.744, -9.0111, -10.8519, -10.9693, -9.8593, -10.6856, -9.8601, -9.4202, -9.3868, -9.4009, -10.3877, -9.7131, -9.6075, -9.233, -9.7691, -7.5663, -8.9551, -7.329, -7.882, -6.7856, -6.4726, -7.0756, -7.5492, -8.3848, -8.2391, -7.1589, -8.8852, -8.5659, -7.4786, -5.0371, -6.1604, -6.9904, -6.215, -6.2024, -7.3062, -7.6987, -6.5497, -6.1531, -5.6818, -6.9931, -5.2077, -6.5647, -6.8748, -6.6018, -6.2893, -6.3665, -5.5286, -5.309, -5.5612, -5.5201, -6.2049, -5.7954, -5.3101, -5.7905, -5.4958, -5.7433, -5.0679, -5.3543, -5.5052, -5.6354, -5.9641, -5.3896, -5.2682, -5.271, -5.2618, -5.4163, -5.6056, -5.6679, -5.5823, -5.5751, -5.6534, -5.7964, -5.8696, -5.7701, -5.7658, -5.7824, -5.7792, -5.7877, -8.2262, -8.2262, -8.2263, -9.6805, -9.8158, -10.0784, -10.0335, -10.0795, -10.1037, -10.257, -9.4243, -10.3268, -9.2446, -10.3326, -9.8221, -9.8463, -10.4069, -10.6835, -10.4612, -10.6564, -10.7143, -10.2831, -9.3946, -10.6534, -10.6498, -9.9297, -10.87, -9.5816, -10.7344, -10.6152, -9.439, -9.5276, -9.6718, -8.7115, -9.3052, -8.4087, -9.3303, -9.3052, -9.6621, -5.8892, -4.6174, -8.202, -7.9873, -5.2613, -7.9725, -7.3552, -8.3459, -4.2008, -6.5411, -8.4726, -4.2, -8.8095, -8.8961, -5.1779, -4.4084, -4.667, -5.7097, -7.167, -6.1745, -7.6433, -4.8327, -5.3762, -5.7484, -4.982, -6.117, -6.3479, -5.601, -5.0973, -4.9727, -6.1839, -6.2343, -5.5488, -4.9909, -5.5599, -5.0927, -5.5613, -5.3343, -5.4505, -5.3783, -5.3584, -5.3126, -5.2797, -5.2555, -5.3437, -5.4612, -5.3009, -5.4107, -5.3309, -5.4226, -5.4215, -5.5163, -5.5344, -7.8867, -8.2651, -7.7411, -8.8762, -9.0659, -9.0962, -9.2629, -9.4173, -8.4044, -8.7266, -9.1373, -8.5489, -9.1139, -9.5687, -9.5693, -9.5069, -9.6355, -9.6022, -8.7986, -8.4896, -9.0548, -9.0185, -9.5643, -9.6124, -8.3773, -9.6266, -9.7837, -9.7001, -9.7589, -9.7767, -8.2058, -7.3808, -8.3172, -8.8134, -8.1126, -8.9452, -8.6151, -8.0893, -8.6199, -6.0142, -6.2496, -6.1734, -7.2089, -4.2404, -7.5744, -7.0514, -5.1694, -4.432, -5.4276, -5.4789, -5.1422, -6.0731, -5.9563, -5.0193, -5.0457, -5.1133, -5.2912, -5.9731, -5.2306, -4.8537, -5.0488, -6.0584, -5.1867, -5.2406, -5.2744, -5.1566, -5.2549, -5.1459, -5.1702, -4.6473, -4.8956, -5.4793, -5.4739, -5.0357, -5.2775, -5.2193, -5.4134, -5.4665, -5.4309, -5.3334, -5.2703, -5.3537, -5.4558, -8.1199, -8.2162, -8.6088, -8.7558, -9.1628, -8.7422, -9.093, -7.9198, -9.3562, -8.7397, -8.3278, -8.412, -8.4382, -9.6594, -9.0775, -8.9213, -8.9128, -9.6975, -9.6984, -9.7348, -9.0406, -9.6929, -9.7097, -9.9007, -9.7861, -9.3645, -9.6541, -9.4644, -9.8067, -6.7194, -8.0821, -8.3032, -5.9288, -8.2969, -5.7535, -9.1771, -8.963, -9.2639, -7.999, -7.4659, -4.2901, -6.0487, -6.1141, -8.0842, -6.8856, -7.7023, -7.5819, -7.8748, -8.3535, -4.7146, -5.9226, -6.3054, -7.7174, -5.1632, -6.8319, -6.1037, -4.602, -6.6943, -5.5626, -4.4073, -6.2376, -6.0678, -6.4595, -6.665, -6.7403, -6.0801, -5.1492, -5.183, -4.7419, -6.5521, -6.8468, -7.0292, -7.0065, -5.8487, -5.0574, -5.1926, -5.8809, -5.1532, -5.8379, -5.5306, -5.4656, -5.0235, -5.6556, -5.4212, -5.6764, -5.5082, -5.4026, -5.5552, -5.6038, -5.5722, -5.6332, -5.7026, -5.7759, -5.8003, -5.8238, -8.1233, -8.4436, -8.5967, -8.1953, -8.4448, -8.3969, -8.3768, -7.691, -8.3905, -8.6861, -8.6529, -8.9314, -9.0035, -9.0036, -9.0038, -9.1352, -8.6916, -9.081, -8.4135, -9.2257, -9.2329, -9.3953, -9.2935, -9.4718, -9.3973, -9.2159, -9.4728, -9.4002, -8.7751, -9.4943, -8.3025, -9.2738, -8.013, -9.0181, -8.1949, -7.7622, -7.02, -7.778, -8.371, -7.6878, -5.3499, -7.8105, -8.1271, -7.1116, -5.9621, -7.7552, -6.0408, -4.8406, -5.4023, -5.7117, -4.7965, -5.1898, -4.7722, -4.3161, -4.5982, -4.5174, -4.6906, -5.8364, -5.6482, -4.5092, -4.5169, -4.4931, -5.7708, -5.3406, -5.5657, -4.9649, -5.0209, -5.415, -5.1898, -5.1069, -4.3771, -4.6387, -4.825, -5.0755, -4.9176, -4.9383, -5.0979, -5.1173, -5.2193, -5.4025, -5.0141, -5.0005, -5.1862, -5.2444, -5.173, -5.2243, -7.7333, -8.3601, -8.0349, -8.5086, -8.6171, -8.6921, -8.6391, -8.5793, -8.5812, -8.7297, -8.06, -8.8522, -9.0238, -8.9632, -8.8415, -9.1217, -9.173, -9.1919, -9.2298, -9.2304, -9.2305, -9.1946, -9.3083, -9.1974, -9.2706, -9.2715, -9.2715, -9.2638, -9.3709, -9.3777, -7.6359, -7.5429, -8.1937, -7.0317, -7.6601, -7.4829, -8.8264, -7.472, -3.5311, -3.7357, -5.4892, -7.176, -7.4956, -6.646, -6.5615, -5.2845, -7.5567, -5.6788, -4.9999, -6.225, -7.2716, -6.4844, -6.1112, -6.6081, -7.0196, -3.7476, -4.3881, -4.2906, -5.9236, -5.5655, -5.541, -4.3825, -4.4871, -5.4405, -5.9519, -4.9189, -5.4348, -4.7288, -5.2967, -5.592, -5.2086, -4.7955, -4.9389, -5.4727, -4.9193, -4.989, -5.0143, -5.2934, -5.0024, -5.3929, -5.3049, -5.4023, -5.5254, -5.5039, -5.5011, -6.1171, -6.719, -7.0257, -7.1319, -7.0975, -7.3439, -7.3964, -7.4883, -7.5225, -7.4803, -7.7347, -7.6096, -7.7242, -7.7136, -7.0827, -7.6746, -7.3526, -7.9838, -8.0052, -7.2658, -6.379, -8.3075, -7.5546, -7.2419, -8.3181, -8.6292, -7.9577, -8.7147, -7.8885, -8.9178, -8.1776, -7.7006, -7.5433, -7.6424, -6.8606, -7.6462, -7.0181, -6.4478, -7.3365, -5.8909, -5.0663, -6.4495, -4.4846, -4.9637, -4.6618, -4.9538, -5.656, -5.4035, -5.3944, -5.1497, -5.2927, -5.4705, -5.4539, -5.3915, -5.3271, -5.3615, -5.4431, -5.3307, -5.5186, -5.5355, -5.7439, -5.7955, -5.7248, -5.7708, -5.4134, -5.5732, -5.7442, -5.5122, -5.6947, -5.6571, -5.6986, -5.7373, -7.2709, -6.9225, -6.7674, -8.0793, -8.2474, -8.1345, -8.3982, -8.2842, -8.3607, -8.1453, -8.0999, -8.5884, -8.6784, -8.1952, -8.3541, -7.7902, -8.3738, -8.6821, -8.8501, -8.9584, -8.5351, -8.995, -8.83, -9.0289, -8.5739, -8.4842, -9.0007, -9.2465, -9.1569, -9.115, -7.8444, -8.534, -8.8665, -7.5656, -8.1382, -8.2123, -8.371, -8.0294, -7.5196, -7.9203, -8.3213, -7.7561, -7.5148, -7.454, -3.7621, -6.4538, -4.044, -6.5913, -7.5517, -7.3345, -5.8246, -4.7927, -5.6252, -5.8299, -5.3671, -4.9322, -5.3628, -5.7246, -4.2614, -4.1211, -4.3869, -4.3474, -4.6879, -5.1379, -5.2882, -4.5467, -4.8943, -5.6924, -5.3289, -4.9973, -6.7601, -5.6509, -5.1431, -5.8883, -4.7521, -5.2929, -5.1012, -5.2306, -5.2319, -5.1359, -5.1746, -5.4001, -5.3999, -5.2048, -5.3093, -5.2277, -5.2905, -5.3765, -5.3524, -5.335, -6.935, -6.9845, -7.1941, -7.1943, -7.5072, -7.7972, -6.3742, -7.8777, -8.1333, -8.2181, -8.2611, -8.221, -8.2428, -8.4085, -8.4896, -8.5189, -8.5782, -8.2037, -8.5531, -8.6191, -7.981, -8.6494, -8.7852, -7.5437, -6.2849, -8.1678, -8.8525, -8.6686, -9.1519, -4.9203, -4.8971, -4.8994, -4.9119, -4.8964, -6.2443, -7.3159, -7.4614, -5.4205, -7.2834, -7.6437, -7.6463, -4.7969, -7.2798, -7.0524, -4.8052, -6.5485, -7.6574, -4.8491, -7.6556, -4.8039, -4.8225, -4.9158, -4.577, -4.9649, -5.1731, -4.8651, -5.5134, -5.0848, -5.0262, -5.0245, -5.09, -5.1385, -5.7622, -5.3045, -5.1431, -5.0874, -5.6733, -5.2489, -5.2668, -5.3888, -5.3389, -5.5513, -5.4898, -5.4813, -5.4819, -6.2911, -6.8661, -6.7255, -7.4531, -7.504, -6.9777, -7.1156, -7.5328, -7.6159, -7.4568, -7.1261, -6.93, -7.6614, -7.8085, -7.8086, -7.6906, -7.6947, -6.8699, -7.8825, -7.8459, -7.6079, -6.8985, -7.9215, -7.8832, -7.6029, -7.8121, -7.8838, -7.7126, -7.7311, -7.4916, -7.2179, -7.2544, -7.1996, -7.1912, -6.8048, -5.5091, -7.2052, -4.966, -6.8182, -7.0859, -6.6751, -6.8455, -6.468, -4.7725, -6.5618, -7.1123, -3.9958, -6.9467, -6.7616, -6.7524, -4.7171, -6.7572, -6.8088, -6.9299, -6.6525, -6.596, -6.0746, -4.8201, -4.9367, -4.9867, -4.8564, -4.8526, -5.1281, -5.3141, -5.1909, -5.4394, -5.261, -5.3405, -5.2599, -5.7117, -5.4013, -5.9773, -5.5647, -5.7164, -5.5945, -5.8986, -5.6686, -5.5675, -5.6194, -5.6831, -5.6117, -5.7542, -5.6492, -5.6257, -5.6999, -5.7039], \"loglift\": [30.0, 29.0, 28.0, 27.0, 26.0, 25.0, 24.0, 23.0, 22.0, 21.0, 20.0, 19.0, 18.0, 17.0, 16.0, 15.0, 14.0, 13.0, 12.0, 11.0, 10.0, 9.0, 8.0, 7.0, 6.0, 5.0, 4.0, 3.0, 2.0, 1.0, 1.312, 1.312, 1.3102, 1.3047, 1.3038, 1.3031, 1.298, 1.2978, 1.2958, 1.2956, 1.2953, 1.2949, 1.2948, 1.2944, 1.2943, 1.2939, 1.2937, 1.2936, 1.2909, 1.2905, 1.2901, 1.29, 1.2897, 1.2897, 1.2892, 1.2886, 1.2883, 1.2876, 1.2874, 1.2874, 1.2854, 1.2844, 1.2779, 1.2859, 1.2768, 1.2714, 1.2628, 1.271, 1.1992, 1.2376, 1.1678, 1.1872, 1.123, 1.0952, 1.119, 1.1418, 1.1918, 1.1787, 1.0974, 1.2192, 1.1934, 1.0961, 0.851, 0.9605, 1.0259, 0.9089, 0.9019, 1.0254, 1.0728, 0.9299, 0.8603, 0.7614, 0.9439, 0.6276, 0.8648, 0.8884, 0.8304, 0.7373, 0.7407, 0.4543, 0.3568, 0.4074, 0.3805, 0.6022, 0.4387, 0.2281, 0.4221, 0.2887, 0.3154, -0.0555, 0.0951, 0.1747, 0.2378, 0.4052, 0.0339, -0.086, -0.0929, -0.1688, -0.0524, 0.0901, 0.0766, -0.0712, -0.0858, -0.1313, 0.106, 0.1841, -0.0632, -0.0916, -0.1349, -0.1703, -0.5406, 1.5818, 1.5817, 1.5817, 1.5716, 1.5683, 1.5632, 1.5626, 1.5621, 1.5615, 1.5603, 1.5593, 1.5539, 1.5527, 1.5475, 1.5471, 1.5462, 1.5461, 1.5455, 1.5453, 1.5445, 1.5442, 1.5438, 1.5426, 1.5422, 1.5412, 1.5401, 1.5399, 1.5397, 1.5396, 1.5391, 1.5385, 1.5326, 1.5306, 1.5124, 1.5156, 1.485, 1.5116, 1.4979, 1.5095, 1.304, 1.151, 1.401, 1.3842, 1.1598, 1.3666, 1.3043, 1.3986, 0.9814, 1.1996, 1.4037, 0.893, 1.4292, 1.4386, 0.9635, 0.8387, 0.7824, 0.9346, 1.1681, 0.9429, 1.2101, 0.6566, 0.7378, 0.8058, 0.6183, 0.8609, 0.9084, 0.7251, 0.5984, 0.5494, 0.8372, 0.8491, 0.6106, 0.4325, 0.5627, 0.394, 0.5098, 0.4102, 0.4376, 0.4061, 0.3911, 0.3533, 0.3291, 0.2828, 0.3361, 0.3035, 0.063, 0.1004, -0.1527, -0.0312, -0.1205, 0.1721, -0.5219, 2.121, 2.1193, 2.1193, 2.1137, 2.1117, 2.1114, 2.111, 2.1081, 2.1081, 2.1077, 2.1073, 2.1071, 2.1056, 2.1051, 2.1047, 2.1046, 2.1039, 2.1038, 2.1038, 2.1036, 2.103, 2.1023, 2.1022, 2.1022, 2.1019, 2.1014, 2.1, 2.0998, 2.0982, 2.098, 2.0957, 2.0814, 2.0645, 2.0738, 2.0439, 2.061, 2.0341, 1.9643, 2.0136, 1.6812, 1.6938, 1.6379, 1.7794, 1.253, 1.8243, 1.7296, 1.3277, 1.1562, 1.3586, 1.2892, 1.1752, 1.3845, 1.3171, 1.0618, 1.0057, 0.9964, 1.0067, 1.2284, 0.8896, 0.7343, 0.8053, 1.1829, 0.813, 0.8274, 0.8399, 0.774, 0.7794, 0.7273, 0.7322, 0.3652, 0.4958, 0.826, 0.8126, 0.5031, 0.571, 0.4282, 0.6264, 0.6765, 0.5468, 0.3408, -0.0232, 0.2552, 0.5269, 2.148, 2.1478, 2.1462, 2.1452, 2.14, 2.1362, 2.1345, 2.1341, 2.1335, 2.1329, 2.132, 2.1314, 2.1306, 2.1298, 2.1294, 2.1283, 2.1275, 2.1272, 2.1269, 2.1266, 2.1263, 2.126, 2.1256, 2.1251, 2.1242, 2.1231, 2.1227, 2.1227, 2.1216, 2.1209, 2.1112, 2.1134, 2.0875, 2.1005, 1.9647, 2.1049, 2.0902, 2.1053, 2.0288, 1.9943, 1.7712, 1.8874, 1.8793, 2.0255, 1.9343, 1.9962, 1.9803, 1.995, 2.0449, 1.5733, 1.7226, 1.7441, 1.9503, 1.4842, 1.7703, 1.5733, 1.2277, 1.6908, 1.3991, 1.0554, 1.5086, 1.4541, 1.5447, 1.605, 1.6218, 1.3831, 0.9829, 0.9765, 0.7925, 1.5107, 1.598, 1.6848, 1.6724, 1.0102, 0.4648, 0.469, 0.9302, 0.3334, 0.8791, 0.5802, 0.4682, -0.0111, 0.6422, 0.3435, 0.4899, 0.0029, -0.3096, -0.0169, 0.103, -0.1379, -0.3321, -0.0069, 0.386, 0.2584, -0.2359, 2.589, 2.5857, 2.5853, 2.585, 2.5835, 2.5834, 2.5833, 2.5832, 2.5828, 2.5801, 2.5794, 2.5778, 2.5768, 2.5765, 2.5763, 2.5762, 2.5758, 2.5756, 2.5736, 2.5733, 2.5687, 2.5686, 2.568, 2.5668, 2.5664, 2.5661, 2.5655, 2.5655, 2.5646, 2.5633, 2.5558, 2.5621, 2.5238, 2.551, 2.5137, 2.4663, 2.3974, 2.4428, 2.4798, 2.3745, 2.0517, 2.37, 2.4069, 2.219, 1.9331, 2.3179, 1.9242, 1.6265, 1.754, 1.7848, 1.4194, 1.4602, 1.2958, 1.1182, 1.2106, 1.1442, 1.1956, 1.5983, 1.5106, 1.0297, 1.0175, 0.9696, 1.5006, 1.2725, 1.3606, 1.0693, 1.0688, 1.2303, 1.098, 1.0445, 0.6354, 0.7527, 0.8208, 0.9516, 0.7892, 0.7501, 0.9018, 0.8604, 0.9401, 1.1768, 0.497, 0.3006, 0.6624, 0.6862, 0.1909, -0.0461, 2.6944, 2.692, 2.6895, 2.6893, 2.6881, 2.6869, 2.6867, 2.6852, 2.6833, 2.6832, 2.6832, 2.6824, 2.6807, 2.6804, 2.68, 2.6792, 2.677, 2.6763, 2.6752, 2.6749, 2.6748, 2.6747, 2.6744, 2.674, 2.673, 2.6722, 2.6721, 2.6705, 2.6703, 2.6681, 2.6527, 2.6468, 2.656, 2.6196, 2.6291, 2.6019, 2.6563, 2.5876, 2.3639, 2.3541, 2.4613, 2.5534, 2.5726, 2.5104, 2.4939, 2.3697, 2.5603, 2.3167, 2.1729, 2.2783, 2.4133, 2.2552, 2.1644, 2.2368, 2.3291, 1.5535, 1.6386, 1.5182, 1.9193, 1.777, 1.6427, 1.0517, 1.0473, 1.4859, 1.7352, 1.1478, 1.4229, 0.81, 1.1606, 1.3482, 1.0891, 0.6673, 0.7495, 1.2012, 0.4446, 0.5221, 0.3771, 0.7337, 0.1757, 0.7665, 0.5492, 0.7491, 0.8151, 0.0841, -0.0077, 2.7589, 2.7575, 2.7572, 2.7566, 2.7565, 2.7557, 2.7553, 2.755, 2.755, 2.7548, 2.7539, 2.7538, 2.7538, 2.7536, 2.7526, 2.7519, 2.7515, 2.7513, 2.751, 2.7489, 2.7482, 2.7478, 2.7474, 2.7468, 2.7467, 2.7445, 2.7425, 2.7408, 2.7407, 2.7375, 2.7345, 2.7214, 2.7169, 2.717, 2.6407, 2.6891, 2.5752, 2.3424, 2.5337, 1.8342, 1.2969, 1.9807, 0.6936, 0.7808, 0.3507, 0.5329, 1.0761, 0.8092, 0.7719, 0.4506, 0.4917, 0.5882, 0.48, 0.3041, 0.195, 0.1767, 0.1657, -0.0836, 0.1613, 0.1387, 0.435, 0.5182, 0.3894, 0.3911, -0.3204, -0.0798, 0.2829, -0.3301, 0.0548, -0.2932, -0.2092, -0.149, 2.8424, 2.841, 2.8391, 2.8377, 2.8362, 2.836, 2.8351, 2.8347, 2.8338, 2.8327, 2.8326, 2.8319, 2.8308, 2.83, 2.8264, 2.826, 2.8255, 2.8253, 2.825, 2.8245, 2.8244, 2.8235, 2.823, 2.8228, 2.8228, 2.8219, 2.8182, 2.8176, 2.8175, 2.8175, 2.8167, 2.8167, 2.8174, 2.7669, 2.789, 2.779, 2.788, 2.7653, 2.7026, 2.7396, 2.7787, 2.6987, 2.6366, 2.6182, 1.8837, 2.4057, 1.8422, 2.3776, 2.591, 2.5199, 2.0499, 1.594, 1.8673, 1.9104, 1.7353, 1.5658, 1.639, 1.7719, 1.13, 1.057, 1.1519, 1.0165, 1.1209, 1.3193, 1.3857, 0.8875, 1.0834, 1.5399, 1.2504, 1.0294, 2.1394, 1.3615, 0.9513, 1.5133, 0.549, 0.9836, 0.7529, 0.7521, 0.7366, 0.5117, 0.4137, 0.8576, 0.8173, 0.2845, 0.5393, 0.2657, 0.3837, 0.6296, 0.3544, -0.3225, 3.9562, 3.9556, 3.9541, 3.9539, 3.9448, 3.9432, 3.936, 3.9345, 3.9337, 3.9292, 3.9291, 3.9266, 3.9255, 3.9228, 3.9189, 3.9178, 3.9161, 3.9133, 3.9126, 3.9107, 3.906, 3.9055, 3.9047, 3.9037, 3.9036, 3.8976, 3.8928, 3.8832, 3.8792, 3.876, 3.8711, 3.8699, 3.8683, 3.8668, 3.828, 3.8023, 3.8058, 3.5997, 3.7359, 3.7789, 3.7758, 2.9821, 3.6524, 3.5326, 2.5561, 3.2585, 3.6906, 2.2881, 3.6722, 1.4726, 1.2045, 1.0903, 0.516, 0.6966, 0.8936, 0.3131, 1.2036, 0.595, 0.5082, 0.4866, 0.5575, 0.611, 1.4434, 0.5904, 0.158, -0.0749, 1.1844, 0.1425, 0.0971, 0.3759, 0.1477, 0.7747, 0.4929, 0.1845, 0.1061, 4.1216, 4.1165, 4.11, 4.1083, 4.1076, 4.1074, 4.1074, 4.1047, 4.1042, 4.1041, 4.1038, 4.1023, 4.102, 4.1007, 4.1007, 4.1001, 4.0994, 4.0988, 4.0986, 4.098, 4.0978, 4.0975, 4.0975, 4.0974, 4.0969, 4.0967, 4.0966, 4.0959, 4.0934, 4.092, 4.0893, 4.0868, 4.0838, 4.0831, 4.058, 3.9343, 4.0548, 3.8685, 4.0047, 4.0275, 3.949, 3.9363, 3.8268, 3.3996, 3.8234, 3.9139, 2.2747, 3.7903, 3.6853, 3.6773, 2.4068, 3.6654, 3.6956, 3.7774, 3.498, 3.3095, 2.4535, 0.4269, 0.4867, 0.5027, 0.2366, 0.1599, 0.6367, 0.692, 0.3479, 0.8371, 0.3849, 0.2474, -0.0778, 0.9325, 0.0854, 1.618, 0.4038, 0.7525, 0.3061, 1.2385, 0.4883, 0.1067, 0.2347, 0.4266, 0.0766, 0.5719, -0.0017, -0.2342, 0.007, -0.4028]}, \"token.table\": {\"Topic\": [1, 2, 3, 4, 5, 6, 7, 8, 9, 10, 1, 2, 3, 4, 5, 7, 10, 10, 2, 2, 1, 2, 3, 7, 10, 9, 9, 2, 4, 8, 1, 8, 1, 3, 8, 8, 1, 8, 8, 1, 2, 3, 4, 5, 6, 7, 8, 9, 10, 1, 2, 4, 6, 1, 2, 3, 4, 5, 6, 7, 8, 9, 10, 5, 6, 8, 9, 10, 1, 9, 1, 2, 3, 4, 5, 6, 7, 8, 9, 10, 4, 4, 4, 1, 2, 3, 4, 5, 6, 7, 8, 9, 10, 3, 5, 6, 2, 4, 5, 6, 1, 2, 3, 4, 5, 6, 7, 10, 5, 8, 1, 7, 1, 7, 1, 2, 3, 4, 5, 6, 7, 8, 9, 10, 1, 3, 4, 5, 6, 7, 8, 9, 10, 6, 8, 9, 10, 9, 9, 4, 10, 8, 8, 1, 2, 7, 4, 5, 6, 2, 5, 8, 8, 2, 3, 4, 5, 6, 8, 9, 10, 8, 10, 1, 2, 3, 4, 5, 6, 7, 8, 9, 10, 6, 6, 6, 8, 6, 1, 5, 8, 9, 8, 2, 3, 5, 1, 2, 3, 4, 5, 6, 7, 8, 9, 10, 1, 2, 4, 7, 9, 10, 5, 6, 6, 1, 2, 3, 4, 5, 6, 7, 8, 9, 10, 1, 3, 4, 5, 6, 7, 8, 9, 10, 1, 3, 4, 5, 6, 7, 8, 9, 10, 1, 2, 4, 4, 10, 8, 1, 2, 1, 2, 1, 2, 5, 10, 3, 1, 2, 3, 4, 5, 7, 10, 1, 2, 4, 5, 6, 7, 8, 9, 10, 1, 2, 3, 4, 5, 6, 7, 8, 9, 10, 4, 4, 5, 4, 6, 2, 9, 9, 1, 4, 5, 6, 7, 8, 9, 8, 1, 3, 5, 6, 7, 2, 4, 10, 2, 4, 10, 1, 2, 3, 4, 5, 6, 7, 8, 9, 10, 1, 2, 7, 8, 3, 5, 4, 6, 1, 2, 3, 4, 5, 6, 7, 8, 9, 10, 4, 10, 4, 8, 9, 1, 2, 3, 4, 5, 6, 7, 8, 9, 10, 5, 2, 3, 4, 7, 1, 2, 3, 4, 5, 6, 7, 8, 9, 10, 5, 5, 10, 1, 2, 3, 4, 5, 6, 7, 8, 6, 9, 6, 8, 9, 8, 8, 1, 2, 3, 4, 5, 6, 7, 10, 3, 5, 6, 1, 2, 3, 6, 7, 10, 3, 5, 3, 3, 1, 2, 4, 6, 7, 1, 2, 7, 8, 8, 1, 3, 5, 1, 2, 1, 7, 8, 3, 4, 5, 6, 7, 4, 5, 6, 7, 9, 10, 4, 5, 6, 9, 10, 4, 5, 6, 7, 9, 10, 8, 3, 8, 2, 1, 2, 3, 6, 7, 10, 1, 2, 6, 7, 10, 1, 1, 2, 6, 7, 10, 1, 1, 8, 10, 3, 4, 7, 9, 10, 1, 10, 10, 5, 4, 5, 6, 9, 10, 10, 10, 10, 9, 4, 5, 6, 7, 9, 10, 5, 5, 4, 1, 2, 3, 4, 5, 6, 9, 10, 1, 2, 3, 4, 5, 6, 7, 8, 9, 10, 1, 2, 4, 5, 7, 8, 1, 2, 10, 2, 9, 1, 2, 3, 4, 5, 6, 7, 8, 9, 10, 3, 5, 8, 10, 3, 5, 3, 6, 4, 1, 2, 3, 4, 5, 6, 7, 8, 9, 10, 2, 1, 2, 3, 4, 5, 6, 7, 8, 9, 10, 2, 5, 6, 7, 6, 7, 4, 1, 2, 3, 4, 5, 6, 7, 8, 9, 10, 1, 2, 3, 4, 5, 6, 10, 5, 6, 8, 6, 8, 1, 2, 3, 4, 5, 6, 7, 8, 9, 10, 9, 6, 2, 3, 4, 5, 6, 8, 1, 2, 3, 4, 5, 6, 7, 8, 9, 10, 1, 2, 4, 4, 2, 4, 1, 3, 4, 5, 6, 7, 8, 9, 9, 1, 2, 7, 1, 5, 7, 8, 1, 7, 1, 7, 1, 2, 3, 4, 7, 8, 9, 1, 2, 7, 4, 10, 6, 1, 2, 7, 4, 2, 2, 2, 2, 4, 10, 4, 10, 4, 10, 2, 2, 8, 1, 3, 7, 9, 10, 1, 3, 7, 9, 10, 1, 3, 6, 1, 1, 2, 4, 7, 1, 2, 3, 7, 10, 1, 7, 1, 2, 4, 6, 7, 10, 1, 2, 3, 4, 5, 6, 7, 8, 9, 10, 1, 2, 7, 1, 2, 3, 4, 6, 7, 8, 9, 10, 6, 7, 8, 10, 8, 1, 2, 3, 4, 5, 6, 7, 8, 9, 10, 1, 1, 2, 3, 4, 5, 6, 7, 8, 10, 4, 10, 10, 1, 1, 2, 3, 4, 5, 6, 7, 8, 9, 10, 1, 2, 3, 4, 5, 6, 7, 8, 9, 10, 6, 2, 1, 2, 3, 4, 5, 6, 7, 8, 9, 10, 1, 2, 3, 4, 5, 6, 8, 9, 10, 4, 5, 6, 8, 10, 1, 2, 3, 4, 5, 6, 7, 8, 9, 10, 5, 3, 4, 5, 8, 9, 10, 1, 2, 3, 4, 5, 6, 7, 8, 9, 10, 4, 7, 10, 3, 8, 6, 6, 1, 2, 3, 4, 5, 6, 7, 8, 9, 10, 5, 1, 2, 3, 4, 5, 6, 7, 8, 10, 1, 2, 1, 2, 3, 4, 5, 6, 7, 8, 9, 10, 2, 4, 10, 2, 4, 10, 10, 10, 2, 4, 8, 2, 1, 2, 3, 4, 5, 6, 7, 8, 9, 10, 4, 9, 9, 1, 2, 3, 4, 5, 6, 7, 8, 9, 10, 9, 1, 2, 3, 4, 5, 6, 7, 8, 9, 10, 1, 2, 3, 4, 5, 6, 7, 8, 9, 10, 1, 2, 3, 4, 5, 6, 7, 8, 9, 10, 1, 2, 3, 4, 5, 6, 7, 8, 9, 10, 7, 1, 2, 3, 4, 5, 6, 7, 8, 9, 10, 4, 7, 5, 10, 3, 5, 7, 8, 10, 10, 1, 2, 3, 4, 5, 6, 7, 8, 9, 10, 7, 2, 3, 4, 5, 6, 7, 8, 1, 2, 3, 4, 5, 6, 7, 8, 9, 10, 1, 2, 3, 4, 5, 6, 7, 8, 9, 10, 7, 1, 2, 3, 4, 5, 6, 7, 8, 9, 10, 2, 3, 4, 5, 1, 2, 3, 4, 5, 6, 7, 8, 9, 10, 1, 2, 3, 4, 5, 6, 7, 8, 9, 10, 1, 2, 3, 4, 5, 6, 7, 8, 9, 10, 3, 3, 1, 2, 3, 4, 5, 6, 7, 8, 9, 10, 1, 2, 3, 4, 5, 6, 7, 8, 9, 10, 1, 2, 3, 4, 5, 6, 7, 8, 9, 10, 6, 5, 1, 2, 3, 4, 5, 6, 7, 8, 9, 10, 1, 2, 3, 4, 5, 6, 7, 8, 9, 10, 1, 2, 3, 4, 5, 6, 7, 8, 9, 10, 1, 2, 3, 4, 5, 6, 7, 8, 9, 10, 6, 7, 1, 2, 3, 4, 5, 6, 7, 8, 9, 10, 1, 5, 1, 5, 1, 2, 3, 4, 5, 6, 7, 8, 9, 10, 4, 5, 6, 5, 1, 2, 3, 4, 5, 6, 7, 8, 9, 10, 7, 9, 8, 10, 1, 1, 2, 3, 4, 5, 6, 7, 8, 9, 10, 5, 4, 1, 4, 7, 7, 1, 2, 3, 4, 5, 6, 7, 8, 9, 10, 1, 2, 3, 4, 5, 6, 7, 8, 9, 10, 1, 2, 3, 4, 5, 6, 7, 8, 9, 10, 4, 6, 1, 2, 3, 4, 5, 6, 7, 8, 9, 10, 3, 5, 7, 9, 5, 5, 5, 1, 2, 3, 4, 5, 6, 7, 8, 9, 10, 1, 2, 3, 4, 5, 6, 7, 8, 9, 10, 6, 6, 7, 8, 10, 1, 2, 3, 4, 5, 6, 7, 8, 9, 1, 4, 5, 6, 9, 10, 9, 1, 1, 6, 1, 2, 3, 4, 5, 6, 7, 8, 9, 10, 1, 2, 3, 4, 5, 6, 7, 8, 9, 10, 1, 2, 3, 4, 5, 6, 7, 8, 9, 10, 7, 2, 4, 1, 2, 3, 4, 5, 6, 7, 8, 9, 10, 1, 2, 3, 4, 5, 6, 7, 8, 9, 10, 1, 2, 3, 4, 5, 6, 7, 8, 9, 10, 5, 1, 2, 3, 4, 5, 6, 7, 8, 9, 10, 1, 2, 3, 4, 5, 6, 7, 8, 9, 10, 1, 2, 3, 4, 5, 6, 7, 8, 9, 10, 1, 2, 3, 4, 5, 6, 7, 8, 9, 10, 1, 2, 3, 4, 5, 6, 7, 8, 9, 10, 1, 2, 3, 4, 5, 6, 7, 8, 9, 10, 1, 2, 3, 4, 5, 6, 7, 8, 9, 10, 2, 3, 1, 2, 3, 4, 5, 6, 7, 8, 9, 10, 1, 2, 3, 4, 5, 6, 7, 8, 9, 10, 1, 2, 3, 4, 5, 6, 7, 8, 9, 10, 7, 9, 5, 1, 2, 3, 4, 5, 6, 7, 8, 9, 10, 10, 6, 1, 2, 3, 4, 5, 6, 7, 8, 9, 10, 1, 2, 3, 4, 5, 6, 7, 8, 9, 10, 5, 9, 9, 1, 2, 3, 4, 5, 6, 7, 8, 9, 10, 7, 3, 4, 5, 6, 9, 10, 4, 1, 2, 3, 4, 5, 6, 7, 8, 9, 10, 1, 2, 3, 4, 5, 6, 7, 8, 9, 10, 1, 2, 3, 4, 5, 6, 7, 8, 9, 10, 1, 2, 3, 4, 5, 6, 7, 8, 9, 10, 10, 1, 3, 9, 10, 2, 3, 8, 1, 2, 3, 4, 5, 6, 7, 8, 9, 10, 3, 1, 2, 3, 4, 5, 6, 7, 8, 9, 10, 1, 2, 3, 4, 5, 6, 7, 8, 9, 10, 1, 2, 3, 4, 5, 6, 7, 8, 9, 10, 1, 2, 3, 4, 5, 6, 7, 8, 9, 10, 2, 3, 4, 1, 2, 4, 5, 6, 7, 8, 9, 10, 1, 2, 3, 4, 5, 6, 7, 8, 9, 10, 3, 1, 2, 3, 9, 3, 4, 5, 10, 1, 4, 6, 8, 1, 2, 3, 4, 5, 6, 7, 8, 9, 10, 1, 2, 3, 4, 5, 6, 7, 8, 9, 10, 9, 3, 1, 2, 3, 4, 5, 6, 7, 8, 9, 10, 4, 1, 2, 3, 4, 5, 6, 7, 8, 9, 10, 10, 1, 2, 4, 5, 7, 8, 1, 2, 3, 4, 5, 6, 7, 8, 9, 10, 10, 1, 2, 3, 4, 5, 6, 7, 8, 9, 10, 4, 1, 2, 3, 4, 5, 6, 7, 8, 9, 10, 1, 2, 3, 4, 5, 6, 7, 8, 9, 10, 1, 2, 3, 4, 5, 6, 7, 8, 9, 10, 1, 2, 3, 4, 5, 6, 7, 8, 9, 10, 6, 1, 2, 3, 4, 5, 6, 7, 8, 9, 10, 1, 7, 1, 2, 3, 4, 5, 6, 7, 8, 9, 10, 7, 10, 1, 2, 3, 4, 5, 6, 7, 8, 9, 10, 5, 6, 7, 1, 2, 3, 4, 5, 6, 7, 8, 9, 10, 1, 2, 3, 4, 7, 9, 10, 6, 1, 2, 3, 5, 7, 1, 2, 3, 4, 5, 6, 7, 8, 9, 10, 5, 1, 2, 3, 4, 5, 6, 7, 8, 9, 10, 4, 5, 6, 8, 9, 1, 2, 3, 4, 5, 6, 7, 8, 9, 10, 1, 2, 3, 4, 5, 6, 7, 8, 9, 10, 1, 2, 3, 4, 5, 6, 7, 8, 9, 10, 1, 2, 3, 4, 5, 6, 7, 8, 9, 10, 1, 2, 3, 4, 5, 6, 7, 8, 9, 10, 1, 2, 3, 4, 5, 6, 7, 8, 9, 10, 5, 1, 2, 3, 4, 5, 6, 7, 8, 9, 10, 1, 2, 3, 4, 5, 6, 7, 8, 9, 10, 1, 2, 3, 4, 5, 6, 7, 8, 9, 10, 1, 2, 3, 4, 5, 6, 7, 8, 9, 10, 3, 4, 8, 1, 2, 3, 4, 5, 6, 7, 8, 9, 10, 1, 2, 3, 4, 5, 6, 8, 6, 1, 2, 3, 4, 5, 6, 7, 8, 9, 10, 1, 2, 3, 4, 5, 6, 8, 1, 2, 3, 4, 5, 6, 7, 8, 9, 10, 1, 2, 3, 4, 5, 6, 7, 8, 9, 10, 1, 2, 3, 4, 5, 6, 7, 9, 10, 1, 1, 2, 3, 4, 5, 6, 7, 8, 9, 10, 1, 2, 3, 4, 5, 6, 7, 8, 9, 10, 3, 4, 5, 6, 6, 1, 2, 3, 4, 5, 6, 7, 8, 9, 10, 1, 1, 8, 1, 2, 3, 4, 5, 6, 7, 8, 9, 1, 2, 3, 4, 5, 6, 7, 8, 9, 10, 1, 2, 3, 4, 7, 8, 9, 10, 1, 2, 1, 2, 3, 4, 5, 6, 7, 8, 9, 10, 1, 3, 5, 8, 1, 2, 3, 4, 5, 6, 7, 8, 9, 10, 2, 1, 2, 3, 4, 5, 6, 7, 8, 9, 10, 2, 3, 7, 1, 2, 3, 4, 5, 6, 7, 8, 9, 10, 10, 1, 2, 3, 4, 5, 6, 7, 8, 9, 10, 1, 2, 3, 4, 5, 6, 7, 8, 10, 1, 2, 3, 1, 2, 3, 4, 5, 6, 7, 8, 9, 10, 1, 2, 3, 4, 5, 6, 7, 8, 9, 10, 1, 2, 3, 4, 5, 6, 7, 8, 9, 10, 1, 2, 3, 4, 5, 6, 7, 8, 9, 10, 5, 6, 8, 1, 2, 3, 4, 5, 6, 7, 8, 9, 10, 5, 1, 2, 3, 4, 5, 6, 7, 8, 9, 10, 1, 2, 3, 4, 5, 6, 7, 8, 9, 10, 10, 1, 2, 3, 4, 5, 6, 7, 8, 9, 10, 1, 2, 3, 4, 5, 6, 7, 8, 9, 10, 4, 1, 2, 3, 4, 5, 6, 7, 8, 9, 10, 1, 2, 3, 4, 5, 6, 7, 8, 9, 10, 5, 1, 2, 3, 4, 5, 6, 7, 8, 9, 10, 1, 2, 3, 4, 5, 6, 7, 8, 9, 10, 1, 2, 3, 4, 5, 7, 10, 2, 4, 5, 9, 10, 1, 2, 3, 4, 5, 6, 2, 1, 2, 3, 4, 5, 6, 7, 8, 9, 10, 1, 2, 3, 4, 5, 6, 7, 8, 10, 1, 2, 3, 4, 5, 6, 7, 8, 9, 10, 3, 1, 3, 5, 9, 1, 2, 3, 4, 5, 6, 7, 8, 9, 10, 1, 3, 4, 5, 5, 10, 1, 2, 3, 4, 5, 6, 7, 8, 10, 1, 2, 3, 4, 5, 6, 7, 8, 9, 10, 1, 2, 3, 4, 5, 6, 7, 8, 9, 10, 1, 2, 3, 4, 5, 6, 7, 8, 9, 10, 7, 1, 2, 3, 4, 5, 6, 7, 8, 9, 10, 8, 8, 7, 10, 9, 1, 2, 3, 4, 5, 6, 7, 8, 9, 10, 1, 2, 3, 4, 5, 6, 7, 8, 9, 10, 1, 2, 3, 4, 5, 6, 7, 8, 9, 10, 1, 2, 3, 4, 5, 6, 7, 8, 9, 10, 1, 2, 3, 4, 5, 6, 7, 8, 9, 10, 1, 2, 3, 4, 5, 6, 7, 8, 9, 10, 1, 2, 3, 4, 5, 6, 7, 8, 9, 10, 1, 2, 3, 4, 5, 6, 7, 8, 9, 10, 1, 2, 3, 4, 5, 6, 7, 8, 9, 10, 1, 2, 3, 4, 5, 6, 7, 8, 9, 10, 1, 2, 3, 4, 5, 6, 7, 8, 9, 10, 1, 2, 3, 4, 5, 6, 7, 8, 9, 10, 7, 4, 6, 1, 2, 3, 4, 5, 6, 7, 8, 9, 10, 1, 2, 3, 4, 5, 6, 7, 8, 9, 10, 1, 2, 3, 4, 5, 6, 7, 8, 10, 1, 2, 3, 4, 5, 6, 7, 8, 9, 10, 1, 2, 3, 4, 5, 6, 7, 8, 9, 10, 7, 7, 7, 1, 2, 3, 4, 5, 6, 7, 8, 9, 10, 1, 2, 3, 4, 5, 6, 7, 8, 9, 10, 2, 1, 2, 3, 4, 5, 6, 7, 8, 9, 10, 1, 2, 1, 2, 5, 2, 4, 5, 8, 10, 2, 1, 2, 3, 4, 5, 6, 7, 8, 9, 10, 1, 2, 9, 7, 1, 2, 3, 4, 5, 6, 7, 8, 9, 10, 5, 7, 1, 2, 3, 4, 5, 6, 7, 8, 9, 10, 1, 2, 3, 4, 5, 6, 7, 8, 9, 10, 1, 2, 3, 4, 5, 6, 7, 8, 9, 10, 1, 2, 3, 4, 5, 6, 7, 8, 9, 10, 1, 3, 4, 5, 6, 7, 8, 9, 10, 5, 6, 2, 2, 1, 2, 3, 4, 5, 6, 7, 8, 9, 10, 1, 2, 4, 7, 8, 9, 7, 1, 2, 3, 4, 5, 6, 7, 8, 9, 10, 1, 2, 3, 4, 5, 6, 7, 8, 9, 10, 1, 2, 3, 1, 2, 3, 4, 5, 6, 7, 8, 9, 10, 1, 2, 3, 5, 3, 4, 5, 6, 8, 9, 1, 2, 3, 4, 5, 6, 7, 8, 9, 10, 1, 2, 3, 4, 5, 6, 7, 8, 9, 10, 1, 2, 3, 4, 5, 6, 7, 8, 9, 10, 1, 2, 3, 4, 5, 6, 7, 8, 9, 10, 1, 2, 3, 5, 7, 3, 1, 2, 3, 4, 5, 6, 7, 8, 9, 10, 1, 10, 1, 2, 3, 4, 5, 6, 7, 8, 9, 10, 6, 2, 3, 4, 5, 9, 10, 6, 8, 1, 4, 5, 7, 9, 7, 1, 2, 3, 4, 5, 6, 7, 8, 9, 10, 1, 2, 3, 4, 5, 6, 7, 8, 9, 10, 1, 2, 3, 4, 6, 7, 8, 9, 10, 5, 7, 1, 2, 3, 4, 5, 6, 7, 8, 9, 10, 1, 1, 1, 2, 3, 4, 5, 7, 10, 9, 1, 2, 4, 10, 2, 1, 2, 3, 4, 5, 6, 7, 8, 9, 10, 3, 5, 1, 2, 3, 4, 5, 6, 7, 8, 9, 10, 1, 2, 3, 4, 5, 6, 7, 8, 9, 10, 1, 2, 3, 4, 5, 6, 7, 8, 9, 10, 1, 2, 3, 4, 5, 6, 7, 8, 9, 10, 1, 2, 3, 4, 5, 6, 7, 8, 9, 10, 1, 2, 3, 4, 5, 6, 7, 8, 9, 10, 1, 2, 3, 4, 5, 6, 7, 8, 9, 10, 1, 2, 3, 4, 5, 6, 7, 8, 9, 10, 1, 2, 3, 4, 5, 6, 7, 8, 9, 10, 1, 2, 3, 4, 5, 6, 7, 8, 9, 10, 1, 2, 3, 4, 5, 6, 7, 8, 9, 10, 3, 6, 8, 6, 9, 1, 2, 3, 4, 5, 6, 7, 8, 9, 10, 1, 2, 3, 4, 5, 6, 7, 8, 9, 10, 6, 5, 1, 2, 3, 4, 5, 6, 7, 8, 9, 10, 1, 2, 3, 4, 5, 6, 7, 8, 9, 10, 2, 3, 1, 2, 4, 7, 9, 10, 3, 1, 2, 3, 4, 5, 6, 7, 8, 9, 10, 1, 2, 3, 4, 5, 6, 7, 8, 9, 10, 1, 2, 3, 4, 5, 7, 1, 2, 3, 4, 5, 6, 7, 8, 9, 10, 1, 2, 3, 4, 5, 6, 7, 8, 9, 10, 7, 7, 1, 2, 3, 4, 5, 6, 7, 8, 9, 10, 2, 1, 2, 3, 4, 5, 6, 7, 8, 9, 10, 1, 2, 3, 4, 5, 6, 7, 9, 1, 2, 3, 4, 5, 6, 7, 8, 9, 10, 1, 2, 3, 4, 5, 6, 7, 8, 9, 10, 4, 9, 7, 8, 2, 3, 4, 5, 6, 8, 9, 10, 1, 2, 3, 4, 5, 6, 7, 8, 9, 10, 4, 2, 1, 2, 3, 4, 5, 6, 7, 8, 9, 10, 9, 1, 2, 3, 4, 5, 6, 7, 8, 9, 10, 1, 3, 5, 7, 9, 3, 6, 4, 4, 3, 8, 1, 2, 3, 4, 5, 6, 7, 8, 9, 10, 1, 2, 3, 4, 5, 6, 7, 8, 9, 10, 2, 4, 5, 6, 7, 8, 1, 2, 3, 4, 5, 6, 7, 8, 9, 10, 6, 1, 2, 3, 4, 5, 6, 7, 8, 9, 10, 1, 2, 3, 4, 5, 6, 7, 8, 9, 10, 8, 1, 2, 3, 4, 5, 6, 7, 8, 9, 10, 1, 2, 3, 4, 5, 6, 7, 8, 9, 10, 1, 2, 3, 4, 5, 6, 7, 8, 9, 10, 1, 2, 3, 4, 5, 6, 7, 8, 9, 10, 7, 1, 2, 3, 4, 5, 6, 7, 8, 9, 10, 8, 5, 6, 10, 1, 2, 3, 4, 5, 6, 7, 8, 3, 5, 6, 7, 9, 9, 1, 2, 8, 1, 2, 3, 4, 5, 6, 7, 8, 9, 10, 2, 9, 9, 1, 2, 3, 4, 5, 6, 7, 8, 9, 10, 1, 2, 3, 4, 5, 6, 7, 8, 9, 10, 3, 3, 1, 2, 3, 4, 5, 6, 7, 8, 9, 10, 1, 2, 3, 4, 5, 6, 7, 8, 9, 10, 1, 2, 3, 4, 5, 6, 7, 8, 9, 10, 1, 2, 3, 4, 5, 6, 7, 8, 9, 10, 1, 2, 3, 4, 5, 6, 7, 8, 9, 10, 6, 1, 2, 3, 4, 5, 6, 7, 8, 9, 10, 1, 2, 3, 4, 5, 6, 7, 8, 9, 10, 1, 2, 3, 4, 5, 6, 7, 8, 9, 10, 1, 2, 3, 4, 5, 6, 7, 8, 9, 10, 5, 5, 1, 2, 3, 4, 5, 6, 7, 8, 9, 10, 1, 2, 3, 4, 5, 6, 7, 8, 9, 10, 5, 1, 2, 3, 4, 5, 6, 7, 8, 9, 10, 6, 9, 3, 3], \"Freq\": [0.6907146351672829, 0.25515204806552616, 0.0012886467074016473, 0.015721489830300098, 0.0005154586829606589, 0.0010309173659213179, 0.031700709002080524, 0.0007731880244409885, 0.0010309173659213179, 0.001546376048881977, 0.00525867095671483, 0.01577601287014449, 0.09728541269922435, 0.04995737408879088, 0.002629335478357415, 0.00525867095671483, 0.8203526692475134, 0.9818556383727834, 0.9711177440215495, 0.9701254688973046, 0.05012530572657958, 0.07017542801721141, 0.04010024458126366, 0.010025061145315916, 0.8220550139159051, 0.9504191886380429, 0.9180047899498502, 0.9465386893829166, 0.030533506109126345, 0.9636215797730386, 0.00513763514793065, 0.9915635835506155, 0.006190198449858255, 0.0030950992249291274, 0.9873366527523916, 0.9762816214000847, 0.0036209959242827945, 0.9885318873292029, 0.9871779665337079, 0.12184832220487521, 0.1488348633643442, 0.004088869872646819, 0.04415979462458564, 0.013902157566999184, 0.5814372958903776, 0.008177739745293637, 0.05151976039534992, 0.020444349363234093, 0.005724417821705546, 0.019643944465002006, 0.014732958348751504, 0.08839775009250903, 0.8741555286925892, 0.5545259000363609, 0.20950451243923038, 0.03025611284013157, 0.0594952134839562, 0.027967835398440947, 0.03457841467443608, 0.03483266772351282, 0.0297476067419781, 0.007627591472302076, 0.011441387208453115, 0.11548941541997415, 0.8574214175119292, 0.013998717020602926, 0.0034996792551507316, 0.0034996792551507316, 0.9594967677440456, 0.9284430381120732, 0.042890575186310856, 0.05106377919908688, 0.10527686636639938, 0.11337508685612241, 0.2454210709524396, 0.04469017973958264, 0.0033742585373845954, 0.36434493851448335, 0.024669579084434044, 0.004948912521497407, 0.982646244002498, 0.9609304602449477, 0.9902428397867472, 0.14012029579375043, 0.04244307714914432, 0.3878018144997159, 0.0191865965194762, 0.21366891578507585, 0.08256050623532182, 0.008139768220383842, 0.09244451050293077, 0.004360590118062772, 0.009302592251867248, 0.0499327292364254, 0.03495291046549778, 0.8987891262556572, 0.013151370475537778, 0.9337473037631823, 0.013151370475537778, 0.013151370475537778, 0.16531395776713295, 0.015998124945206412, 0.02133083326027522, 0.20797562428768337, 0.01066541663013761, 0.015998124945206412, 0.02666354157534402, 0.5332708315068805, 0.9632187014841508, 0.017513067299711832, 0.03285610787079096, 0.9528271282529379, 0.009239385415700055, 0.9793748540642058, 0.08409056398174565, 0.036936976702262106, 0.026720366125040675, 0.11054896573301141, 0.0979746757918158, 0.19463952971475706, 0.045843765410609, 0.1618939829928935, 0.1859947053801851, 0.05553644724028062, 0.0013400208366597765, 0.0013400208366597765, 0.004020062509979329, 0.002680041673319553, 0.05360083346639106, 0.0013400208366597765, 0.025460395896535752, 0.9045140647453491, 0.004020062509979329, 0.0387733041158136, 0.016617130335348687, 0.9360983422246427, 0.005539043445116229, 0.968932810173669, 0.9442288064724667, 0.01695432458801805, 0.9663965015170288, 0.9581783598442434, 0.9845307710282462, 0.8961702043437815, 0.08147001857670741, 0.01527562848313264, 0.9737823403408864, 0.9539478848312812, 0.9815336975493137, 0.9600362732459167, 0.018462236023959935, 0.9821976882449942, 0.9611712129173997, 0.0052908357396912456, 0.010581671479382491, 0.01587250721907374, 0.058199193136603704, 0.11110755053351616, 0.7724620179949219, 0.01587250721907374, 0.0052908357396912456, 0.010578211348886911, 0.9837736554464828, 0.019708969995761563, 0.01894559439733418, 0.11263259965887681, 0.07474141086420846, 0.24913803621402822, 0.30472565933587686, 0.01526751196854769, 0.1771031388351532, 0.01568389865859899, 0.012005816229812501, 0.9730103841344636, 0.9790254133211069, 0.9427522209255326, 0.04991041169605761, 0.9662528248860442, 0.008494945843332857, 0.008494945843332857, 0.9769187719832786, 0.008494945843332857, 0.9505485135279953, 0.9787582805546411, 0.9812739672754747, 0.008840306011490762, 0.005395227875208498, 0.0017984092917361662, 0.15346425956148618, 0.021580911500833994, 0.5083503597974229, 0.1264881201854437, 0.020381971973009883, 0.1582600176727826, 0.0017984092917361662, 0.0023978790556482216, 0.01279975856236581, 0.02559951712473162, 0.02559951712473162, 0.1151978270612923, 0.01279975856236581, 0.806384789429046, 0.9800015492614002, 0.9559056442806287, 0.9558650942539784, 0.03290263332098284, 0.07567605663826052, 0.01645131666049142, 0.8126950430282761, 0.02632210665678627, 0.00987078999629485, 0.00987078999629485, 0.0032902633320982836, 0.0032902633320982836, 0.00987078999629485, 0.0013317435089488644, 0.0013317435089488644, 0.003995230526846594, 0.003995230526846594, 0.05326974035795458, 0.0013317435089488644, 0.027966613687926155, 0.9015903555583813, 0.005326974035795458, 0.0013766068972777584, 0.0013766068972777584, 0.004129820691833276, 0.0013766068972777584, 0.05368766899383258, 0.0013766068972777584, 0.022025710356444135, 0.9099371591005984, 0.004129820691833276, 0.030722136438114802, 0.9114233809974057, 0.04096284858415307, 0.012420298316508168, 0.9687832686876371, 0.9757898407495218, 0.947503628023543, 0.03893850526124149, 0.9568657505172982, 0.02786987622865917, 0.010871337996913423, 0.021742675993826847, 0.021742675993826847, 0.9349350677345544, 0.9785888899266656, 0.03416349155446875, 0.013665396621787501, 0.013665396621787501, 0.8950834787270813, 0.006832698310893751, 0.03416349155446875, 0.006832698310893751, 0.0032720889804023555, 0.004908133470603534, 0.006544177960804711, 0.0441732012354318, 0.3043042751774191, 0.011452311431408246, 0.6216969062764476, 0.0016360444902011777, 0.0016360444902011777, 0.007192085205242021, 0.005753668164193617, 0.0028768340820968085, 0.9623010004613824, 0.007192085205242021, 0.004315251123145213, 0.0028768340820968085, 0.0028768340820968085, 0.0028768340820968085, 0.004315251123145213, 0.9605797144336404, 0.9661520929872494, 0.015335747507734117, 0.9746462000053175, 0.9844980502645758, 0.05885835875321126, 0.9417337400513801, 0.9425857656444147, 0.00986092307720781, 0.014791384615811715, 0.11340061538788981, 0.03944369230883124, 0.01972184615441562, 0.7938043077152287, 0.004930461538603905, 0.9869271131886379, 0.006718959220743, 0.933935331683277, 0.006718959220743, 0.006718959220743, 0.033594796103715, 0.007265700513468189, 0.9736038688047374, 0.007265700513468189, 0.008101642456239186, 0.9721970947487024, 0.008101642456239186, 0.01040579327029233, 0.035119552287236615, 0.05332969051024819, 0.03642027644602316, 0.1326738641962272, 0.6373548378054052, 0.023413034858157742, 0.06893838041568669, 0.0013007241587865413, 0.0026014483175730825, 0.9606360755209584, 0.006671083857784433, 0.026684335431137733, 0.006671083857784433, 0.9708804712028939, 0.014070731466708607, 0.9560461206203907, 0.03607721209888267, 0.6066171327602095, 0.30858655767442206, 0.011259714761210383, 0.022167563436132943, 0.008796652157195613, 0.00703732172575649, 0.015130241710376453, 0.008796652157195613, 0.006333589553180841, 0.005629857380605192, 0.9715344023492049, 0.007898653677635812, 0.012198200976511649, 0.9758560781209319, 0.9446044931887738, 0.1968289330239572, 0.07969025294425056, 0.09766549796926949, 0.09437003638134935, 0.3328416203799337, 0.1051551833963607, 0.004194223839171082, 0.07399809201966123, 0.011983496683345949, 0.0035950490050037846, 0.970290002395509, 0.9033515876167016, 0.04949871712968228, 0.03712403784726171, 0.00412489309414019, 0.002730056605123147, 0.0040950849076847205, 0.002730056605123147, 0.0023887995294827537, 0.577748229059186, 0.13786785855871891, 0.0013650283025615736, 0.2620854340918221, 0.008531426891009834, 0.0003412570756403934, 0.9775659007644427, 0.980619895297349, 0.9632070089543834, 0.002391647514606697, 0.002391647514606697, 0.002391647514606697, 0.10523249064269467, 0.043049655262920546, 0.6864028366921221, 0.021524827631460273, 0.13871555584718842, 0.03027219197347628, 0.9384379511777646, 0.03549600415615745, 0.8962741049429758, 0.05324400623423618, 0.9822832322971347, 0.9616062046766938, 0.047928378051873326, 0.009585675610374666, 0.009585675610374666, 0.15337080976599465, 0.009585675610374666, 0.03834270244149866, 0.009585675610374666, 0.7093399951677253, 0.9784672220278743, 0.9258764647771065, 0.06277128574760044, 0.9747066575550352, 0.002461380448371301, 0.002461380448371301, 0.002461380448371301, 0.007384141345113902, 0.009845521793485204, 0.9726921239407343, 0.011310373534194586, 0.965585559597585, 0.9663965674981356, 0.9338864266527304, 0.030125368601700977, 0.007531342150425244, 0.015062684300850488, 0.007531342150425244, 0.95321350418936, 0.01444262885135394, 0.01444262885135394, 0.9897067396871551, 0.9752495960882505, 0.006034424112183064, 0.006034424112183064, 0.9836111302858395, 0.028507631848768873, 0.9692594828581417, 0.9504945385385106, 0.024688169832169107, 0.012344084916084554, 0.02882572260488817, 0.005765144520977634, 0.8763019671886003, 0.08071202329368687, 0.005765144520977634, 0.09799072310474045, 0.027997349458497273, 0.22397879566797818, 0.013998674729248636, 0.006999337364624318, 0.6299403628161887, 0.09875248029424362, 0.02278903391405622, 0.22029399450254344, 0.00759634463801874, 0.6456892942315929, 0.10040439793022046, 0.014343485418602924, 0.22232402398834533, 0.014343485418602924, 0.007171742709301462, 0.6382851011278301, 0.9807194803710773, 0.01770733849982519, 0.9739036174903856, 0.9802528397093223, 0.9724532935378238, 0.0025324304519214165, 0.0025324304519214165, 0.0025324304519214165, 0.005064860903842833, 0.010129721807685666, 0.9642636327620177, 0.003737455940938053, 0.003737455940938053, 0.01121236782281416, 0.014949823763752212, 0.977608588099841, 0.9652657061027832, 0.0034229280358254724, 0.0034229280358254724, 0.010268784107476416, 0.01369171214330189, 0.9556991450280554, 0.9741380047643747, 0.01569151923663537, 0.9728741926713927, 0.0706438511368824, 0.08830481392110301, 0.0176609627842206, 0.7594213997214859, 0.05298288835266181, 0.9703582792793783, 0.9791884099600517, 0.9623210758452081, 0.949832584664089, 0.012321063915769617, 0.006160531957884808, 0.1478527669892354, 0.09240797936827212, 0.739263834946177, 0.9803470296937599, 0.9640678169402923, 0.9735795633186789, 0.9459964748743588, 0.10574914999457113, 0.021149829998914228, 0.21149829998914227, 0.014099886665942817, 0.007049943332971409, 0.6344948999674268, 0.9887449170471962, 0.9858739452520214, 0.9671593845700204, 0.005119543973366617, 0.015358631920099852, 0.005119543973366617, 0.8754420194456914, 0.010239087946733234, 0.06655407165376602, 0.005119543973366617, 0.015358631920099852, 0.033902450202434396, 0.129797952203606, 0.009686414343552685, 0.5705298048352532, 0.0523066374551845, 0.09298957769810577, 0.064898976101803, 0.015498262949684295, 0.00678049004048688, 0.024216035858881713, 0.10483451948415506, 0.8561485757872664, 0.005824139971341949, 0.005824139971341949, 0.011648279942683897, 0.011648279942683897, 0.9538617789414892, 0.024457994331833054, 0.9670391034647413, 0.9574569827538655, 0.019947020474038863, 0.05809309761477171, 0.07329502970088018, 0.042619702455697, 0.05374968844731214, 0.07329502970088018, 0.5863602376070415, 0.016287784377973374, 0.07600966043054241, 0.01384461672127737, 0.005972187605256905, 0.9703416238390821, 0.007407187968237267, 0.007407187968237267, 0.007407187968237267, 0.9802303609064109, 0.007658049694581335, 0.9700380574761763, 0.9536427694888725, 0.964488485857431, 0.20310627486070928, 0.6787773383906252, 0.02347218742494046, 0.0019160969326482008, 0.0033531696321343514, 0.010059508896403054, 0.017723896626995857, 0.012933654295375355, 0.002395121165810251, 0.04598632638355682, 0.970294210242611, 0.16207259573430663, 0.7539377046010709, 0.027612368162141132, 0.0012005377461800492, 0.0036016132385401477, 0.009604301969440393, 0.021609679431240886, 0.012005377461800491, 0.0024010754923600983, 0.004802150984720197, 0.9480295287075274, 0.00453563415005975, 0.0090712683001195, 0.9842326105629658, 0.004655065048357604, 0.986873790251812, 0.9774611944813908, 0.001409390908067133, 0.023959645437141262, 0.004228172724201399, 0.7991246448740644, 0.011275127264537064, 0.02818781816134266, 0.005637563632268532, 0.002818781816134266, 0.01409390908067133, 0.10993249082923638, 0.0055654247818923905, 0.0055654247818923905, 0.0055654247818923905, 0.9516876377035988, 0.011130849563784781, 0.011130849563784781, 0.0055654247818923905, 0.014457888456283296, 0.11566310765026637, 0.8602443631488562, 0.05512639565774672, 0.9233671272672576, 0.009432866850325778, 0.009432866850325778, 0.028298600550977337, 0.8772566170802973, 0.004716433425162889, 0.009432866850325778, 0.004716433425162889, 0.004716433425162889, 0.004716433425162889, 0.047164334251628894, 0.9429201937174773, 0.9879176067378643, 0.048035549823244775, 0.010674566627387728, 0.010674566627387728, 0.09607109964648955, 0.02668641656846932, 0.8059297803677735, 0.37629175566232376, 0.4578971966493337, 0.013015921591118078, 0.05528110518474869, 0.02252193174193465, 0.014332138381231142, 0.0109684732509422, 0.0415339520435678, 0.0057036060904899445, 0.0024861872702135654, 0.03513274738884637, 0.9602950952951341, 0.9770422925240541, 0.9696149821594071, 0.012982062245763528, 0.9736546684322647, 0.017306014220512516, 0.017306014220512516, 0.08653007110256258, 0.03461202844102503, 0.05191804266153755, 0.017306014220512516, 0.017306014220512516, 0.7441586114820382, 0.9525018389052363, 0.9496358905383903, 0.02713245401538258, 0.00904415133846086, 0.9600147742195598, 0.012387287409284643, 0.018580931113926964, 0.0061936437046423215, 0.9537953069486483, 0.028902888089352978, 0.9606826300258733, 0.02134850288946385, 0.9121529914120109, 0.055619084842195785, 0.0055619084842195785, 0.0055619084842195785, 0.0055619084842195785, 0.0055619084842195785, 0.0055619084842195785, 0.9389908096441582, 0.03314085210508794, 0.011046950701695979, 0.016405067411856832, 0.9514939098876962, 0.9844543562913346, 0.9585949126390716, 0.011690181861452093, 0.011690181861452093, 0.967767334205235, 0.9956660428105845, 0.9956241498668866, 0.9956943818177173, 0.955329107130753, 0.01208492973710822, 0.9667943789686575, 0.01357813919098521, 0.977626021750935, 0.012879325386136259, 0.9659494039602194, 0.9530135884601539, 0.0438573743703954, 0.9356239865684353, 0.019017022994630647, 0.019017022994630647, 0.057051068983891944, 0.8177319887691179, 0.07606809197852259, 0.019028211180388672, 0.019028211180388672, 0.05708463354116602, 0.8182130807567128, 0.07611284472155469, 0.9821125722259985, 0.04041483013208669, 0.9497485081040372, 0.9751853424177022, 0.057382342620431334, 0.9295939504509876, 0.005738234262043134, 0.005738234262043134, 0.18936566644420058, 0.004029056732855332, 0.004029056732855332, 0.7937241763725003, 0.004029056732855332, 0.017212863668027538, 0.9811332290775696, 0.10257221998982298, 0.8654531061641314, 0.006410763749363936, 0.006410763749363936, 0.012821527498727872, 0.006410763749363936, 0.7908682865273565, 0.19082317094732593, 0.00220604821904423, 0.00220604821904423, 0.001103024109522115, 0.001103024109522115, 0.007721168766654806, 0.001103024109522115, 0.001103024109522115, 0.00220604821904423, 0.8727311493999674, 0.11900879309999557, 0.003606327063636229, 0.8276500556556045, 0.16230861869892843, 0.0012389970893047972, 0.0012389970893047972, 0.0012389970893047972, 0.0024779941786095944, 0.0012389970893047972, 0.0012389970893047972, 0.0012389970893047972, 0.008884581474662452, 0.017769162949324905, 0.9684193807382073, 0.008884581474662452, 0.9790871867219703, 0.8498881680905194, 0.05305424338620289, 0.02856766951564771, 0.011223013024004457, 0.007141917378911927, 0.0020405478225462652, 0.025506847781828313, 0.014283834757823854, 0.0051013695563656624, 0.0030608217338193976, 0.9568281864819213, 0.8585597200999859, 0.08713740442805827, 0.002562864836119361, 0.015377189016716166, 0.005125729672238722, 0.007688594508358083, 0.010251459344477444, 0.005125729672238722, 0.005125729672238722, 0.04851797753999261, 0.9218415732598595, 0.9656225942386277, 0.9465585422761742, 0.36077892590255445, 0.48386820650460244, 0.006478383189581474, 0.03507262623325143, 0.02859424304366995, 0.008265523379810845, 0.005138028046909444, 0.05428438327821717, 0.013403551426720289, 0.0042444579517947586, 0.8092279603712279, 0.1674264745595644, 0.005279213161788066, 0.0030166932353074666, 0.003770866544134333, 0.0030166932353074666, 0.003770866544134333, 0.0015083466176537333, 0.0007541733088268667, 0.0015083466176537333, 0.9837123696657225, 0.9702221095966937, 0.05057850380659689, 0.08815110663435458, 0.021676501631398667, 0.04190790315403742, 0.10115700761319378, 0.6257283470930415, 0.005780400435039645, 0.04624320348031716, 0.015896101196359022, 0.0028902002175198224, 0.001973451809985838, 0.001973451809985838, 0.003946903619971676, 0.06315045791954682, 0.02960177714978757, 0.8229294047640945, 0.03157522895977341, 0.001973451809985838, 0.043415939819688436, 0.006126118783338841, 0.018378356350016525, 0.925043936284165, 0.012252237566677681, 0.024504475133355363, 0.004502624682579611, 0.00787959319451432, 0.05965977704417985, 0.01951137362451165, 0.4423828750634468, 0.0780454944980466, 0.004502624682579611, 0.33957294481121236, 0.006753937023869417, 0.03714665363128179, 0.949300124586375, 0.029611823022653617, 0.09870607674217872, 0.7551014870776672, 0.09870607674217872, 0.004935303837108936, 0.009870607674217872, 0.11921845006660049, 0.14109285410948316, 0.03514055204732636, 0.0932167999778909, 0.16874540261652354, 0.015388731685154663, 0.006308790384335437, 0.3797655968738743, 0.01751131536586565, 0.02358426311901098, 0.9706580849599223, 0.022351287008371433, 0.9611053413599717, 0.016934518199150327, 0.9652675373515687, 0.961184014661884, 0.9611507563291598, 0.04898566472360525, 0.16069129269145274, 0.6381870712589319, 0.014192108471324886, 0.009156199013757992, 0.0027468597041273974, 0.11307905781991119, 0.006867149260318493, 0.00045780995068789955, 0.005035909457566895, 0.9801030293498374, 0.046526155027756214, 0.02791569301665373, 0.02791569301665373, 0.10235754106106368, 0.009305231005551244, 0.009305231005551244, 0.037220924022204976, 0.018610462011102488, 0.6978923254163433, 0.9513537949150789, 0.02692510740325695, 0.09158536241734752, 0.06526772953879939, 0.1357989856533084, 0.2558073915794879, 0.09684888899305716, 0.07474207737507671, 0.051582560441954355, 0.03158115945425777, 0.010527053151419255, 0.18738154609526275, 0.017541290593332363, 0.017541290593332363, 0.96477098263328, 0.016555488613743164, 0.016555488613743164, 0.9602183395971036, 0.961357836429282, 0.9638709316289676, 0.037084310939764616, 0.024722873959843076, 0.9271077734941154, 0.9361658034566528, 0.23144447728920922, 0.18880474925392218, 0.07337999708398235, 0.3169222576762265, 0.024592215238956248, 0.025385512504729032, 0.10094707706958654, 0.019435783011433165, 0.012891080568807712, 0.006148053809739062, 0.02502139363045641, 0.9695790031801859, 0.9842685441607366, 0.02096837001466888, 0.14431172304213288, 0.01603463589357032, 0.7560947540583544, 0.01788478618898228, 0.007400601181647841, 0.021585086779806202, 0.0037003005908239203, 0.0037003005908239203, 0.008634034711922482, 0.9674501719970354, 0.20694018991398838, 0.24268767063697771, 0.0499386916632715, 0.09511704041619519, 0.0490405137556587, 0.2104430837536783, 0.03242422246482197, 0.04805251805728463, 0.046166344451297754, 0.019221007222913852, 0.6277850195052248, 0.06351542120203785, 0.12352170311114541, 0.02912585613132122, 0.011580159666669882, 0.007018278585860535, 0.0996595559192196, 0.02035300789899555, 0.009123762161618695, 0.008421934303032641, 0.6791227840797737, 0.03089571464053906, 0.10026533807873055, 0.018071078374654923, 0.01923695439882621, 0.009909946205455926, 0.08685776380076075, 0.04022272283390935, 0.007578194157113354, 0.007578194157113354, 0.7734856658731982, 0.046999997058267254, 0.04431428294065198, 0.009399999411653452, 0.0026857141176152718, 0.0053714282352305435, 0.0859428517636887, 0.02685714117615272, 0.0013428570588076359, 0.0026857141176152718, 0.9895994592567967, 0.49517689623420363, 0.2053676521725392, 0.05665068822941314, 0.07710194297386794, 0.025154330748406083, 0.04311153003622006, 0.045391809310863104, 0.02743461002304913, 0.01688831837782505, 0.0077672012792528704, 0.9826717946568538, 0.01104125611973993, 0.9738860386724526, 0.9671352858737304, 0.04281269077929372, 0.017125076311717488, 0.025687614467576232, 0.06850030524686995, 0.8305662011182982, 0.9596296005017887, 0.656113787820558, 0.10573307297817501, 0.00284367677936412, 0.006204385700430808, 0.000775548212553851, 0.004394773204471822, 0.04239663561961052, 0.002068128566810269, 0.0010340642834051345, 0.1783760888873857, 0.9947090215689374, 0.8309928944129163, 0.09323334912925403, 0.044589862627034536, 0.004053623875184958, 0.008107247750369915, 0.008107247750369915, 0.004053623875184958, 0.29138423948510733, 0.3228792857786601, 0.020372669805270163, 0.09635722205195348, 0.01178311172521031, 0.02048279234475811, 0.030834311056625114, 0.04393889325569079, 0.005836494592861182, 0.15626388353339657, 0.20901909598818297, 0.13604374508244835, 0.32480665275861526, 0.08456295207985735, 0.10075021173531122, 0.04811950411238745, 0.03352443393124052, 0.042635295923107996, 0.011233781290943393, 0.009287771933457136, 0.9949635722931688, 0.09551708312938989, 0.22481968474559452, 0.061001630601193325, 0.14682101860936786, 0.3069894025468601, 0.041084858900632765, 0.03368124219518879, 0.05224242210461172, 0.02711183582275259, 0.010740458037475064, 0.06444663732890149, 0.032223318664450745, 0.01074110622148358, 0.8915118163831373, 0.08568613983004983, 0.07466935042332913, 0.03427445593201993, 0.6144920313526431, 0.06977299957589772, 0.0403948944913092, 0.0403948944913092, 0.007344526271147128, 0.013464964830436401, 0.02080949110158353, 0.12344561294960882, 0.16950740882632853, 0.06051811335187482, 0.3940055154993255, 0.06136848496806041, 0.08744654786441865, 0.04188080209714053, 0.029196092155705414, 0.016865703721014293, 0.0158027392007823, 0.2820650113493439, 0.2791796594043568, 0.2222595346714297, 0.046165631119793424, 0.023345120282168265, 0.027716865653360824, 0.045028977323283356, 0.045815891490098015, 0.017574416392194085, 0.010929363427981398, 0.9813146171257988, 0.9904272027772689, 0.22830675816873405, 0.2694019746391062, 0.12806921958227083, 0.03913830140035441, 0.044791611602627825, 0.10219445365648096, 0.035333188764208844, 0.13611431487012146, 0.011741490420106323, 0.004783570171154428, 0.08270059902960132, 0.2736996015503472, 0.32180097037368677, 0.03413040594872436, 0.08748260645648304, 0.058134207934640386, 0.05560255694393831, 0.0362869975333965, 0.02550403961003578, 0.02466015594646842, 0.6514643834524445, 0.02433485634686174, 0.11584405573453974, 0.009379059217019628, 0.012674404347323823, 0.0086185949561802, 0.09886035390912581, 0.0666673668669233, 0.006590690260608388, 0.005576737912822482, 0.9611619370676867, 0.9825578757568484, 0.10193362793911716, 0.04446323614531803, 0.1397605601821489, 0.03012881971637968, 0.1771893141910435, 0.21315808134143507, 0.04857774456473552, 0.2159453289803953, 0.02163435072145325, 0.0072999342925149, 0.07697808199047046, 0.03791211746854005, 0.14670341107391585, 0.029175846921441692, 0.2006045519965793, 0.22203314013097153, 0.03346156454832013, 0.2307694106780699, 0.01631869404080637, 0.006098905853634704, 0.09110278192338651, 0.12226952310770295, 0.46215297874495265, 0.03835906607300485, 0.038174647486115404, 0.03983441476812042, 0.12190068593392406, 0.07081673736554742, 0.00811441782313564, 0.007192324888688409, 0.03989174911767097, 0.10911566670421764, 0.6464809930540206, 0.006453077063152656, 0.04634482618082362, 0.015252727603815368, 0.06159755378463899, 0.06805063084779164, 0.0041065035856426, 0.002346573477510057, 0.9747071616259161, 0.9907532664770912, 0.2412361968805201, 0.21970266660830873, 0.16705166864695808, 0.08261596684718843, 0.05070994734526397, 0.04464416416999316, 0.07254676677623888, 0.08473899095853321, 0.018925243506844925, 0.017894060367048888, 0.9703878363486317, 0.01565141671530051, 0.9679906588690695, 0.016133177647817826, 0.09291180054452894, 0.12376142181907955, 0.0482705838766498, 0.4602037620721199, 0.09908172479943905, 0.09545235759066839, 0.016332152439467975, 0.016695089160345043, 0.01705802588122211, 0.030486684553673555, 0.022882738068579832, 0.8523819930545988, 0.11441369034289917, 0.9912475411918268, 0.20985853334141716, 0.2430199961004391, 0.11818769936935279, 0.032546222262565136, 0.1571939468447144, 0.14125921798648308, 0.029408495730635417, 0.045220176489575374, 0.005967832815631036, 0.01734978200008198, 0.986451881388277, 0.006204099882945138, 0.9708596045054136, 0.014936301607775595, 0.9506942524757879, 0.12608932784714208, 0.06722619775523646, 0.025089202989992555, 0.12448104560419383, 0.13220080037034537, 0.39467246241949827, 0.019942699812558185, 0.08041411214741204, 0.01769110467243065, 0.011901288597816981, 0.9728955794174226, 0.9767533645451302, 0.00595075957613661, 0.035704557456819656, 0.9580722917579941, 0.9929842070603034, 0.1921032413804036, 0.16782784271012086, 0.26786936456585353, 0.04267094299136206, 0.1829474681795011, 0.05090273908024687, 0.02452739242810575, 0.03947902205893734, 0.015791608823574936, 0.01587560674284927, 0.11446740210155311, 0.32471593440733837, 0.26776196796580315, 0.06825524465488504, 0.07519266296407008, 0.05404472650542537, 0.01734354577296259, 0.04688352050884727, 0.011301278213349818, 0.020028998021679383, 0.33208884438874015, 0.27141062122714954, 0.04797074187120513, 0.11346721835540022, 0.022979362000113714, 0.06613185054871436, 0.07534477448424381, 0.06173717993578939, 0.0047653054838945495, 0.004076983580665336, 0.009645506252104023, 0.9741961314625064, 0.00248863938717207, 0.010452285426122693, 0.08959101793819452, 0.1607661044113157, 0.15130927474006184, 0.1811729473861267, 0.00248863938717207, 0.007963646038950624, 0.37230045232094167, 0.020904570852245386, 0.027983640450188408, 0.006995910112547102, 0.958439685418953, 0.006995910112547102, 0.9810434605311444, 0.9509715431048604, 0.9752777867020439, 0.10709745117969562, 0.028468942718653262, 0.6696979858578435, 0.013556639389834887, 0.05829354937629002, 0.00948964757288442, 0.06778319694917444, 0.031180270596620242, 0.0067783196949174436, 0.0067783196949174436, 0.11175024498250526, 0.021682883354814452, 0.7038597519793615, 0.008339570521082482, 0.058376993647577376, 0.010007484625298978, 0.035026196188546424, 0.03335828208432993, 0.006671656416865985, 0.010007484625298978, 0.9660997611855767, 0.9489761184136649, 0.012244853140821483, 0.03673455942246445, 0.9837295033973562, 0.008917757792257917, 0.012484860909161084, 0.0107013093507095, 0.021402618701419, 0.021402618701419, 0.8079488559785674, 0.00535065467535475, 0.11058019662399818, 0.0017835515584515836, 0.04930923554840753, 0.014792770664522259, 0.004930923554840753, 0.05424015910324828, 0.8678425456519725, 0.004930923554840753, 0.9865548239553638, 0.9665998974889612, 0.9683077767612133, 0.9836027369084313, 0.3178205169828953, 0.1807631894360177, 0.20780231291712875, 0.0868798065950453, 0.05186192536540969, 0.029432750805668408, 0.08289042772078302, 0.02083342301003637, 0.016932696999646585, 0.0048759075129872365, 0.10241782803668824, 0.0626249139587393, 0.028050742710685313, 0.6601709679817102, 0.037183542663001466, 0.05088274259147568, 0.03131245697936965, 0.010437485659789884, 0.007828114244842413, 0.00848045709857928, 0.3454486666471483, 0.10311393686617042, 0.32518807971076574, 0.022184776757156313, 0.04301130187611938, 0.01958146111728593, 0.05138718697831105, 0.07108183573211309, 0.009847324376901017, 0.009168198557804395, 0.9884016317820724, 0.9326454677459872, 0.059215585253713475, 0.011843153846698174, 0.011843153846698174, 0.005921576923349087, 0.8349423461922212, 0.041451038463443605, 0.07698050000353812, 0.0029607884616745434, 0.005921576923349087, 0.008882365385023629, 0.0029607884616745434, 0.08636121953886276, 0.198278776675515, 0.19507851973124798, 0.03296264652595027, 0.15763551348332389, 0.09737924701841064, 0.019155823709255428, 0.17871149135913952, 0.02176174722101571, 0.012709591864374722, 0.14192699282213092, 0.292959090342507, 0.16849137044690807, 0.2062259280623159, 0.05594476701189817, 0.059417848185455605, 0.03379214114812641, 0.01614513410410484, 0.01783474116151116, 0.00722776352334926, 0.9512394961434247, 0.026098242255382043, 0.08614541752589519, 0.046255421233116135, 0.11648727640816862, 0.28941465395399274, 0.2951435364002961, 0.006577605771681653, 0.09760318241850194, 0.020369359809078665, 0.015913562350842708, 0.06453353569272989, 0.17490184408594994, 0.2713600970825038, 0.06248123243748407, 0.12450639748491352, 0.09417791604628073, 0.035573256424261006, 0.1332856947434651, 0.029758397201064494, 0.00934938149611988, 0.040886298687939485, 0.28993358427697624, 0.4482298623052825, 0.017956820369703152, 0.06257261251904252, 0.028454653816606532, 0.06008628354477593, 0.021962572606021545, 0.015332362007977307, 0.014779844458140286, 0.2408988321253415, 0.17559537686658594, 0.07956088383900423, 0.027295957825916494, 0.07091777946652188, 0.07959782018247638, 0.1263222946747421, 0.16613967293771637, 0.02581850408703062, 0.007830504816095124, 0.017278512923855186, 0.006893023772814568, 0.0010109768200128033, 0.017554233874767768, 0.2162571324991024, 0.7029965178434485, 0.003952000296413686, 0.017646140858405296, 0.013786047545629137, 0.002573395541850772, 0.0041357896516629996, 0.0011816541861894285, 0.0005908270930947143, 0.007680752210231285, 0.16661324025270943, 0.7822550712574017, 0.0011816541861894285, 0.017724812792841427, 0.017724812792841427, 0.0005908270930947143, 0.35286550369716724, 0.30708103527120084, 0.075314095990643, 0.0902820952837474, 0.012326587653144806, 0.016187112357701147, 0.10321823946919058, 0.0184221529761285, 0.013545700717741546, 0.010768832070604528, 0.004622614023463348, 0.9892394010211565, 0.09443367541595576, 0.07543518450386999, 0.4059530484597152, 0.03939392968535433, 0.12432835964526721, 0.10393292087199865, 0.06649471819230021, 0.062862653753225, 0.015645816045247108, 0.012013751606171888, 0.011764881326954016, 0.022745437232111098, 0.043810177131800195, 0.5566469564981671, 0.22263637330150124, 0.07226998529414609, 0.007619161240313077, 0.013893764614688551, 0.026555017852267635, 0.02196111181031416, 0.002675266124642114, 0.007134042999045637, 0.025860905871540434, 0.5840997705468616, 0.1355468169818671, 0.19440267172399361, 0.005350532249284228, 0.016943352122733388, 0.004458776874403523, 0.023185639746898322, 0.9933024340474733, 0.9446308841054817, 0.9763737280258745, 0.11502150949740905, 0.3591216576463283, 0.17314963816166531, 0.1439905932271446, 0.08187327926240016, 0.03903702758334857, 0.028684141922557832, 0.0319134824039054, 0.014816973973241793, 0.012442458913427403, 0.959642378492737, 0.9522425170377365, 0.1727215074841325, 0.27711143818965206, 0.1007376112469931, 0.16276063623360584, 0.08167914425431873, 0.05571447319461253, 0.040308325660464606, 0.05106606661103341, 0.02749200465145362, 0.030347454409937934, 0.051991637618263746, 0.04248778988159188, 0.09559752723358172, 0.051991637618263746, 0.5132077777802808, 0.15038441418616072, 0.01062194747039797, 0.02292104454138509, 0.04360588961531798, 0.017330545872754583, 0.13031037269865361, 0.8470174225412485, 0.9798076888065063, 0.0024935478385544347, 0.004987095677108869, 0.20260076188254783, 0.5410998809663123, 0.05610482636747478, 0.039896765416870955, 0.04426047413434122, 0.06794917860060835, 0.01932499574879687, 0.021195156627712698, 0.9784571495429291, 0.11528661419144007, 0.09058233972184576, 0.0494085489391886, 0.008234758156531434, 0.6423111362094518, 0.09058233972184576, 0.9857598080115562, 0.01498285128786426, 0.03178180576213631, 0.07219010165970961, 0.0835407465747583, 0.17207577691213802, 0.378657514366024, 0.05584517298203951, 0.16662746735291464, 0.022701289830097362, 0.0022701289830097363, 0.23185519257920542, 0.35439977975814724, 0.0597092248754538, 0.18371267618747827, 0.02063250702502592, 0.023550235291191202, 0.07669457156777311, 0.028708362047447682, 0.011149890159988754, 0.009638923736438876, 0.34549327732250157, 0.520880323151803, 0.004960764982398124, 0.01744268977681921, 0.0067210364277652, 0.0022403454759217334, 0.04224651468880983, 0.01280197414812419, 0.006400987074062095, 0.040806292597145855, 0.21525948152206167, 0.3406621132553667, 0.04709365019049296, 0.14209291005752187, 0.04727408563183584, 0.0949992598670289, 0.046552343866464306, 0.036718612313277076, 0.01705114920690262, 0.012359827731987615, 0.9596525889474574, 0.06267518232582614, 0.020891727441942044, 0.010445863720971022, 0.877452552561566, 0.010565201928440378, 0.9825637793449552, 0.010565201928440378, 0.15679760845974908, 0.1408608023540041, 0.6112536277332513, 0.008739538832182736, 0.050380870914935774, 0.007711357793102414, 0.010281810390803219, 0.005140905195401609, 0.004112724156321287, 0.00565499571494177, 0.9821552670106608, 0.29392411281606323, 0.20819307135428697, 0.2470578101502922, 0.031167996406992447, 0.07559572722673963, 0.024309513090050344, 0.022023351984402976, 0.07033755668375068, 0.012345269970495787, 0.015012457927084381, 0.20988829728573966, 0.4278745728427102, 0.07485921773986677, 0.09943564016767208, 0.04340893003531897, 0.0394541034377411, 0.04001907866596651, 0.04114902912241733, 0.012146967406846305, 0.0118644797927336, 0.17727612304547033, 0.47258082275016167, 0.06367944946238605, 0.10473286743081076, 0.031023321532957306, 0.04291948242153492, 0.03498870849581651, 0.04548532104456146, 0.01282919311513272, 0.014695257568242933, 0.10977188465322738, 0.2519980656387133, 0.058226825772581474, 0.045817830116129686, 0.011454457529032422, 0.0028636143822581054, 0.4572237630338775, 0.016227148166129263, 0.013363533783871158, 0.03245429633225853, 0.9262108639526898, 0.053230509422568385, 0.010646101884513677, 0.0015262097416161914, 0.0015262097416161914, 0.0030524194832323827, 0.4532842932600088, 0.027471775349091444, 0.0015262097416161914, 0.4899133270587974, 0.012209677932929531, 0.01068346819131334, 0.6249715489513927, 0.25623833507007104, 0.017591791748261424, 0.01805473363637357, 0.009721779650354997, 0.012036489090915712, 0.02152679779721464, 0.022452681573438923, 0.012267960034971784, 0.005323831713289642, 0.9714800895225327, 0.018604621467594017, 0.012403080978396012, 0.967440316314889, 0.9833801774782134, 0.9852288822912803, 0.06983471604059724, 0.013966943208119446, 0.9078513085277641, 0.044776907124234856, 0.025586804070991346, 0.0063967010177478365, 0.9211249465556886, 0.31916602334532945, 0.24873415251734432, 0.0867309713702257, 0.16980699292188836, 0.020151615215861098, 0.02281874075913683, 0.09334939401465067, 0.02509073659229764, 0.006914769927011161, 0.007211117209597354, 0.16008936211660754, 0.06841425731478955, 0.009577996024070536, 0.08893853450922641, 0.001368285146295791, 0.008209710877774746, 0.6567768702219796, 0.002736570292591582, 0.002736570292591582, 0.001368285146295791, 0.9551174020675121, 0.9713892832109359, 0.24308639694512138, 0.24003921606954567, 0.17929219087258447, 0.11923323877655974, 0.048951486323764844, 0.036861058978738585, 0.06438398301619673, 0.021723450758136607, 0.020150712241710427, 0.026146777835585236, 0.976154969748477, 0.2854156991082325, 0.30832183820675, 0.05362118925334783, 0.061820545862476255, 0.05166896148926963, 0.049065991137165366, 0.13782728014392076, 0.030064307566804244, 0.009956361596798809, 0.012233960654890038, 0.9673712516446104, 0.0019165085557778312, 0.0019165085557778312, 0.0019165085557778312, 0.005749525667333493, 0.9850853976698052, 0.0019165085557778312, 0.2197961415020017, 0.6467258208415477, 0.06971096543695991, 0.011462988580456123, 0.005598203725339037, 0.0019327131908908578, 0.03158986387869885, 0.0053982678780055, 0.0021992943206689073, 0.0056648490077835486, 0.9796082322623517, 0.08226694818073968, 0.09586336848676151, 0.1657386424645446, 0.2781242432219149, 0.21564955244867537, 0.04010083457345679, 0.021513323269021882, 0.01394063347832618, 0.06299101053169608, 0.02375070888900016, 0.9894021133193992, 0.047577784546373854, 0.005219184632273125, 0.004614061776357401, 0.045535494907658285, 0.10635034192718862, 0.7098847503461345, 0.01096785176347251, 0.035097125643112036, 0.03403816064525952, 0.0006807632129051903, 0.15244424861089756, 0.22133662813472335, 0.2102878502865626, 0.04188425589498843, 0.14399518319759816, 0.05784360167566506, 0.036468188322360616, 0.09900571522763645, 0.0206532710102874, 0.01603156001497833, 0.23992255750669436, 0.4224546148431799, 0.04714635409520195, 0.04528378208156434, 0.09941478122790733, 0.02828781245712117, 0.03143090273013463, 0.01653032662103377, 0.040976584300027374, 0.02852063395882587, 0.1148132471381094, 0.27958032811876465, 0.14637010453864238, 0.09910196068763127, 0.054788075827308345, 0.164901365480232, 0.024439778922965977, 0.06902223278244238, 0.01289131195936667, 0.03410826289249098, 0.9799127552903485, 0.1626232639133528, 0.12890868480936502, 0.021815315890815618, 0.5229065112010652, 0.015204614105719976, 0.042308491424612106, 0.03371457910398777, 0.017848894819758234, 0.00462749124956695, 0.05024133356672688, 0.9647701364091076, 0.01484261748321704, 0.1302858178655941, 0.1713878913589065, 0.19325729650063123, 0.04358370811932374, 0.26506959849083367, 0.07134699549782533, 0.021093894321096186, 0.07181230199020246, 0.008220414698662484, 0.024040835439484622, 0.9880495384503026, 0.9884359303679873, 0.10142019860610334, 0.0808474181059329, 0.4742567294249814, 0.04222833892140246, 0.08012556615855851, 0.02165555842123203, 0.055582599947828874, 0.12632409079052018, 0.010466853236928813, 0.006857593500056809, 0.9724920709410368, 0.012310026214443505, 0.9958614951214946, 0.24257172797210513, 0.5458512863509273, 0.056665586353978996, 0.05703643443221185, 0.009234117147997887, 0.012200901773860661, 0.045391804775700456, 0.007379876756833653, 0.008826184261941756, 0.014871007937137158, 0.08074132662539824, 0.8172000937237276, 0.00978682746974524, 0.03670060301154465, 0.03180718927667203, 0.00244670686743631, 0.01712694807205417, 0.9852650770528867, 0.05211701211274608, 0.9276828156068803, 0.9043561455938647, 0.061461097273369444, 0.017560313506676986, 0.0632851475779995, 0.11640631690862331, 0.2120052443862983, 0.3084671511491278, 0.15821286894499872, 0.050724004649638985, 0.013711781975233223, 0.03902584100643302, 0.017451358877569555, 0.020615616256469533, 0.9651739783910757, 0.0024722156058549997, 0.0024722156058549997, 0.0006180539014637499, 0.014215239733666249, 0.2830686868703975, 0.67738707600427, 0.00185416170439125, 0.012361078029275, 0.004944431211709999, 0.0012361078029274998, 0.012946602726629468, 0.0485497602248605, 0.9159721429090348, 0.012946602726629468, 0.003236650681657367, 0.12943947870396935, 0.16447978182373893, 0.12452784647179653, 0.1844856984767356, 0.23312283716605678, 0.06307254561558526, 0.02234193686098129, 0.027493160909357675, 0.03791540491421222, 0.013177549891195399, 0.05725873297327236, 0.17392623039509805, 0.091659236577768, 0.21941637002999032, 0.18501586642549467, 0.19836869348250286, 0.020595038342165157, 0.02761093052466098, 0.013579146159669334, 0.012673869749024711, 0.11654417100638022, 0.17170564696313667, 0.12165939559384886, 0.02364063255289563, 0.14543827745991933, 0.07520762636710657, 0.027235114695441164, 0.27636037703648164, 0.027926361261315306, 0.01423967925700731, 0.059380079558448894, 0.058843916311871476, 0.1900698709116942, 0.1058922411990398, 0.3775929664021457, 0.06152473254475856, 0.0057637549007072296, 0.09919020061682209, 0.027478366387092605, 0.014208326034301541, 0.08182204189208958, 0.1844661804663955, 0.1098781064357332, 0.1358812882078907, 0.21105590017326334, 0.1412578859427353, 0.015152229980016588, 0.08162652924718614, 0.017791650686213027, 0.021115365649571505, 0.21351585345244578, 0.37965259536043067, 0.12433495740621316, 0.07312495455970307, 0.024844456826524693, 0.02045019915652713, 0.09903980748532973, 0.04411158661036017, 0.014309505745889507, 0.006704059778586029, 0.9801847773496664, 0.2842552824577458, 0.47814469346167543, 0.021101920531797724, 0.09880663966653522, 0.00943379976715663, 0.005709931438015854, 0.06802266147897149, 0.006454705103844009, 0.008937283989937858, 0.018619341645703873, 0.27165204107102714, 0.6578666042550754, 0.001735795789591228, 0.00433948947397807, 0.0026036936843868417, 0.000867897894795614, 0.048602282108554384, 0.0026036936843868417, 0.000867897894795614, 0.00867897894795614, 0.06035234131316873, 0.032045490962744456, 0.15996040905569942, 0.07984668164883828, 0.42887548738472997, 0.12951719264109218, 0.007210235466617503, 0.06889780556990058, 0.028840941866470012, 0.004272732128365928, 0.05605065173584051, 0.10807498066267925, 0.19649514866562615, 0.03623690528101598, 0.20788540398056538, 0.15008648049871093, 0.028872972775078526, 0.1826679084926069, 0.010807498066267926, 0.02278051062987847, 0.030465427311258873, 0.030465427311258873, 0.9139628193377661, 0.11745995029311944, 0.04126971226515007, 0.11146349637425147, 0.05890634143829113, 0.3671946193847968, 0.14426762663629383, 0.010581977503884633, 0.12345640421198739, 0.00917104717003335, 0.016578431422752594, 0.0025619143939220406, 0.015371486363532243, 0.005123828787844081, 0.015371486363532243, 0.817250691661131, 0.04867637348451877, 0.09735274696903753, 0.9814299994042139, 0.0778383011630244, 0.16180356394752854, 0.02562968452928852, 0.05479747365689633, 0.11278787097569055, 0.3437139174416033, 0.0296855605322399, 0.16163097347931785, 0.024766732188235035, 0.007248799664849278, 0.026778081768130263, 0.040167122652195394, 0.09037602596743964, 0.006694520442032566, 0.006694520442032566, 0.7464390292866311, 0.08033424530439079, 0.0027091931583483257, 0.0013545965791741629, 0.0013545965791741629, 0.004063789737522489, 0.0013545965791741629, 0.05553845974614068, 0.0027091931583483257, 0.024382738425134932, 0.9035159183091667, 0.005418386316696651, 0.29484167433590824, 0.5252188362516832, 0.05316396044210192, 0.04314756209793779, 0.0023114765409609534, 0.0017978150874140746, 0.04314756209793779, 0.003852460901601589, 0.022344273229289214, 0.01027322907093757, 0.008055167581200312, 0.004027583790600156, 0.004027583790600156, 0.8498201798166329, 0.016110335162400624, 0.09666201097440374, 0.012082751371800468, 0.004027583790600156, 0.004027583790600156, 0.9699745325102522, 0.0016264818475488605, 0.005692686466421012, 0.1935513398583144, 0.5749613331085222, 0.05123417819778911, 0.02521046863700734, 0.06343279205440557, 0.048794455426465815, 0.024397227713232907, 0.011385372932842024, 0.0017657663975044493, 0.0016052421795494992, 0.2256970504446596, 0.5091828193531012, 0.06870436528471857, 0.06019658173310622, 0.04510730524534093, 0.06565440514357451, 0.012039316346621245, 0.009952501513206896, 0.005494928802997798, 0.032969572817986785, 0.7967646764346807, 0.15385800648393835, 0.962815672215119, 0.37770924275418555, 0.29126742370055203, 0.08746444321780311, 0.09101355061109774, 0.031701349089258764, 0.011730100706651725, 0.03639338937191945, 0.036754315547508735, 0.022678194699526668, 0.013294114134205288, 0.9693740316612847, 0.015220132335179517, 0.9740884694514891, 0.1210309273135223, 0.003782216478547572, 0.011346649435642717, 0.003782216478547572, 0.31014175124090093, 0.003782216478547572, 0.007564432957095144, 0.049168814221118434, 0.49168814221118434, 0.15397589515171056, 0.4732453688304566, 0.11606561307632153, 0.03961189181363718, 0.0565488445571304, 0.02018188294201295, 0.058052592697907836, 0.04804079586588965, 0.009616073637076757, 0.02461398272535697, 0.04626359478127316, 0.829660466410832, 0.0030842396520848773, 0.0030842396520848773, 0.08944294991046145, 0.0030842396520848773, 0.018505437912509266, 0.009252718956254633, 0.024385588211197053, 0.9510379402366851, 0.024386244949655442, 0.08512854006235032, 0.02822730184648762, 0.6784378402660552, 0.05681191131128521, 0.07423065770389624, 0.015900189014793658, 0.009557978789791694, 0.011165863072186559, 0.01616816972852614, 0.03726961572031024, 0.00931740393007756, 0.9131055851476009, 0.03726961572031024, 0.29072042910401386, 0.4473441830272395, 0.08003168619893866, 0.047670205338835134, 0.025046235935140004, 0.026063587878346853, 0.04224432830839862, 0.021558172129859384, 0.010561082077099654, 0.008817050174459344, 0.9627702333332346, 0.11677303986813733, 0.13372817223916247, 0.25902225299119963, 0.08147158477769521, 0.21633009917492604, 0.0700812138002373, 0.028432452745257564, 0.059908134377622206, 0.01791157573554452, 0.01625953719682925, 0.015531438322560924, 0.9784806143213383, 0.9944288409876613, 0.2423381563421529, 0.08509584115831323, 0.13943693537625781, 0.029598553446369816, 0.11793173638787974, 0.10729475624309058, 0.021273960289578307, 0.22522649263097033, 0.02312386987997642, 0.009018309253190804, 0.959183416304139, 0.1456943168316114, 0.0944315016501185, 0.27178285522538864, 0.09020456776673225, 0.27133318140800716, 0.031117428162800952, 0.040200839273907586, 0.02347297326731517, 0.01681780077006872, 0.014929170737066353, 0.014646384931848203, 0.004882128310616068, 0.0927604379017053, 0.03905702648492854, 0.7957869146304191, 0.01952851324246427, 0.009764256621232136, 0.014646384931848203, 0.004882128310616068, 0.01609279306107095, 0.05364264353690317, 0.9172892044810442, 0.06042833092720337, 0.04888151610034923, 0.1327883705088227, 0.49420367458935754, 0.12739985692295744, 0.04965130375547284, 0.008467664206359709, 0.05542471116889991, 0.015780646930034004, 0.006928088896112489, 0.2731535860273139, 0.2604555307506715, 0.23370237612202047, 0.04313461525271635, 0.05040449422789326, 0.04313461525271635, 0.03489541908084918, 0.031115082013757185, 0.01657532406340336, 0.01357044075366357, 0.2786188400665324, 0.29662722685039805, 0.05127278682567856, 0.18433038699293028, 0.010930854860075645, 0.030040191054308604, 0.10199509894617345, 0.019659810899416624, 0.020603481822588626, 0.0058193040262273215, 0.2918185258877821, 0.19519379382238963, 0.02967216181535676, 0.06052782866038587, 0.08419792925383286, 0.10719174125889565, 0.03482886230178628, 0.108375246288568, 0.05613195283588857, 0.03212370794824948, 0.05672176200582228, 0.8662960015434675, 0.07219133346195564, 0.33775922089214694, 0.23312118983502833, 0.036749549781454525, 0.017392916690459392, 0.07406016139163354, 0.07125485224801106, 0.030577869665485063, 0.09678316545497566, 0.07995131059324076, 0.022161942234617614, 0.9752692575803846, 0.02271274596432688, 0.09434525246720397, 0.02678939267587273, 0.7623329350590741, 0.02678939267587273, 0.022130367862677476, 0.011065183931338738, 0.008153293423091701, 0.013394696337936366, 0.011647562032988145, 0.00802174545979178, 0.05882613337180639, 0.02406523637937534, 0.8476311035846648, 0.010695660613055708, 0.00802174545979178, 0.013369575766319634, 0.005347830306527854, 0.00802174545979178, 0.013369575766319634, 0.964648948672749, 0.11364888185876605, 0.18135371004438156, 0.05346217154693883, 0.08282459857623414, 0.10028333897203134, 0.31567741605606536, 0.019923012365538922, 0.09994920039986298, 0.02209491308463331, 0.010734201630908812, 0.0766667568737792, 0.09692868547613513, 0.12047633223022447, 0.006571436303466789, 0.14457159867626937, 0.046000054124267525, 0.027928604289733854, 0.44850052771160837, 0.014785731682800275, 0.01807144983453367, 0.961563849564924, 0.1960484317391449, 0.2324236829292995, 0.13227364069147127, 0.0175971182705618, 0.18589170575747835, 0.15081557068125787, 0.020785857822945484, 0.0525551518818792, 0.004842160061027073, 0.006613682034573563, 0.01803966950761829, 0.040323967134676175, 0.2154148770615596, 0.0907289260530214, 0.1421950420012265, 0.45523636580989685, 0.0026528925746497484, 0.03130413238086703, 0.0015917355447898492, 0.0031834710895796985, 0.9878129477961122, 0.15257207358516472, 0.12099891833272047, 0.058797911877306354, 0.29266613371726763, 0.13933781689252342, 0.1370690871737849, 0.02476696609622872, 0.029115364723810863, 0.03157315525244425, 0.013045195882746427, 0.0037862327339568055, 0.010096620623884814, 0.005048310311942407, 0.9307822137643813, 0.011989736990863217, 0.007572465467913611, 0.005048310311942407, 0.0012620775779856018, 0.005679349100935208, 0.018300124880791226, 0.0069576791665429075, 0.0069576791665429075, 0.0069576791665429075, 0.9532020458163782, 0.0069576791665429075, 0.0069576791665429075, 0.0069576791665429075, 0.004841346223994279, 0.97311059102285, 0.004841346223994279, 0.004841346223994279, 0.004841346223994279, 0.006825636094252831, 0.020476908282758492, 0.006825636094252831, 0.9419377810068906, 0.006825636094252831, 0.013651272188505661, 0.9620493861175152, 0.24621446236337854, 0.2261689567419147, 0.08100651629033719, 0.11578984866691326, 0.12202508306330691, 0.11254340431176617, 0.018654172326400802, 0.039060393987325435, 0.030712394216947176, 0.007832691142577132, 0.06260631663176296, 0.025042526652705184, 0.029216281094822712, 0.07512757995811555, 0.2587727754112869, 0.03756378997905777, 0.06260631663176296, 0.00417375444211753, 0.4382442164223407, 0.12862452585326623, 0.262892540957864, 0.25764096068231934, 0.03268520858062889, 0.14743615669103824, 0.09374462700823058, 0.008621997467312178, 0.04287484195108874, 0.014187104923486401, 0.011208596707505831, 0.9829286330931829, 0.09824386519175989, 0.028069675769074254, 0.014034837884537127, 0.8420902730722276, 0.12580898074576014, 0.13651612804327162, 0.17077899939530844, 0.05380341516999529, 0.3362044251418611, 0.08994003729909661, 0.014722327534078313, 0.03881340895347919, 0.007762681790695838, 0.025697153514027602, 0.007824512749313423, 0.15649025498626845, 0.007824512749313423, 0.8215738386779093, 0.9472923538907935, 0.02203005474164636, 0.05572359257310492, 0.002786179628655246, 0.005572359257310492, 0.005572359257310492, 0.005572359257310492, 0.002786179628655246, 0.8860051219123682, 0.02786179628655246, 0.002786179628655246, 0.22677401427652155, 0.18134672105970104, 0.08215574305169668, 0.11284332942688927, 0.01449807230324059, 0.10450693785252592, 0.2308818014291064, 0.015706244995177306, 0.019209945801793783, 0.01220254418856083, 0.1249848379634156, 0.13771914220874473, 0.09432817959503065, 0.03348650375623588, 0.008017895265577604, 0.17780861853663277, 0.3952350725031784, 0.012262663347353984, 0.013677586041279444, 0.0028298453878509195, 0.2734477282859867, 0.3152697008841887, 0.09789929025809363, 0.05522766133171145, 0.08789222683730488, 0.053811567451411156, 0.040358675588558365, 0.032286940470846695, 0.017653970374410327, 0.026150533656212088, 0.9929075942014597, 0.08453514251677609, 0.6864836573345092, 0.010202517200300562, 0.11222768920330618, 0.011660019657486356, 0.004372507371557383, 0.03643756142964486, 0.002915004914371589, 0.005830009828743178, 0.04518257617275963, 0.9645994169299129, 0.9734428056781587, 0.9881959302513741, 0.003890535158469977, 0.9428724714110944, 0.2500954380188008, 0.121401602311967, 0.1711640533756503, 0.11417196319516773, 0.1401485885931911, 0.035177984273949706, 0.08963500619269747, 0.04181297774910748, 0.017526397858907326, 0.01887217483735914, 0.5660252516683131, 0.041486706307249765, 0.23583294878758385, 0.003926186716774426, 0.034157824435937505, 0.013610780618151344, 0.027875925689098423, 0.06491295371733717, 0.003010076482860393, 0.009161102339140328, 0.0629566026909879, 0.14598632508055165, 0.04470831205591895, 0.6259163687828653, 0.0456207265876724, 0.029197265016110332, 0.027372435952603438, 0.004562072658767239, 0.006386901722274135, 0.007299316254027583, 0.191277057104059, 0.07779210456385176, 0.06978409379992584, 0.05125126888912586, 0.20225947186601456, 0.054683273502236965, 0.035464047668814766, 0.29721159949542186, 0.013270417837362946, 0.006864009226222214, 0.010264051731162044, 0.01906181035787237, 0.010264051731162044, 0.029325862089034413, 0.2507361208612442, 0.008797758626710324, 0.029325862089034413, 0.6393037935409501, 0.0014662931044517205, 0.0014662931044517205, 0.8662613791363505, 0.0705306759630849, 0.010850873225089985, 0.0036169577416966616, 0.005425436612544993, 0.0036169577416966616, 0.027127183062724963, 0.005425436612544993, 0.007233915483393323, 0.0018084788708483308, 0.1194664014968014, 0.08775618381555164, 0.09660554688938879, 0.0752195861276157, 0.003687234614098809, 0.002949787691279047, 0.12831576457063854, 0.0014748938456395236, 0.002212340768459285, 0.48155284060130443, 0.02002074984351341, 0.05291198172928544, 0.11297423125982567, 0.008580321361505747, 0.0028601071205019155, 0.007150267801254789, 0.024310910524266285, 0.0014300535602509577, 0.0014300535602509577, 0.7693688154150153, 0.2426230633778151, 0.3944893698811358, 0.08042057067489923, 0.07089111120307731, 0.028941321358866557, 0.018655555579757187, 0.051227147213603524, 0.07673987997943363, 0.009428618630850255, 0.026571561596032536, 0.24817008834589038, 0.12809587388358584, 0.14119373965739673, 0.12797053545512832, 0.16350397992283536, 0.04430713445973346, 0.0387295743933738, 0.08228467828236213, 0.00958838977700031, 0.01616865727102013, 0.079635543757182, 0.1064425763659498, 0.08660733612063443, 0.3316511085571914, 0.19579935172850912, 0.13015648982755207, 0.015563789994467751, 0.02754348954856911, 0.015858372770388277, 0.010752271321099172, 0.0009367123250405605, 0.004215205462682522, 0.022012739638453172, 0.8233701337106526, 0.06978506821552176, 0.06041794496511615, 0.0014050684875608406, 0.003746849300162242, 0.004215205462682522, 0.009835479412925886, 0.9922624122051438, 0.9423192936130784, 0.03306383486361679, 0.09825524376059931, 0.06223792566653798, 0.3062912730718975, 0.021322252311684307, 0.11813680334852115, 0.07145835909861768, 0.02737316175148661, 0.26940953934357875, 0.016423897050891968, 0.00950857197683219, 0.21793838358497386, 0.10146442651752226, 0.44338153244491235, 0.03872458881881767, 0.09846252040753639, 0.03061944232185583, 0.025216011323881272, 0.025816392545878444, 0.01140724321794629, 0.006904384052967491, 0.11566426492122107, 0.06286101354414189, 0.7367310787373429, 0.007543321625297026, 0.03520216758471945, 0.005028881083531351, 0.017601083792359726, 0.015086643250594053, 0.0025144405417656755, 0.6699826158776699, 0.06050503799776315, 0.09112649015516766, 0.00737866317045892, 0.02951465268183568, 0.02139812319433087, 0.032466117950019246, 0.07710703013129572, 0.004058264743752406, 0.006271863694890082, 0.12407047779014116, 0.07589128495484547, 0.431258113311425, 0.05995230386647697, 0.11084836847819911, 0.037492830514684994, 0.05469968509871917, 0.0800571550120327, 0.016663480228748886, 0.008875114469659733, 0.9870049215515755, 0.9845599644100639, 0.9845290357982917, 0.1580800469430445, 0.16797551154041818, 0.14286577012458246, 0.015461663433396371, 0.12975427953306234, 0.04081879146416642, 0.03327349970866899, 0.28424722055955887, 0.01521427681846203, 0.012245637439249927, 0.21213523016017002, 0.6525366735826111, 0.018435409259544046, 0.04468026271931161, 0.003328615560751008, 0.007553396849396519, 0.02803718491555657, 0.0046088523148860115, 0.0061451364198480156, 0.022532166872776056, 0.9732301658936124, 0.1479573797010587, 0.7536405857432205, 0.014130760982685384, 0.02521371077302686, 0.0011082949790341477, 0.0011082949790341477, 0.01994930962261466, 0.0011082949790341477, 0.0022165899580682954, 0.03352592311578297, 0.03972962157835367, 0.9535109178804881, 0.02815580514506709, 0.9572973749322811, 0.014077902572533545, 0.011595058932382076, 0.011595058932382076, 0.011595058932382076, 0.9391997735229481, 0.011595058932382076, 0.9437163925680377, 0.19218877975985696, 0.30336863115939744, 0.09961433090117129, 0.16111272902945623, 0.05093857506455654, 0.018756257156050928, 0.1075593406348336, 0.027103545863569573, 0.02187391920343741, 0.017499135362749926, 0.018038729035788046, 0.9560526388967664, 0.018038729035788046, 0.9930084971695798, 0.3006940664869355, 0.15490300394781525, 0.04680224450829712, 0.16608584113121366, 0.004970149859288189, 0.047630602818178484, 0.14703360000394228, 0.005798508169169554, 0.04514552788853439, 0.08117911436837376, 0.01142031020655424, 0.9707263675571104, 0.25177080536074636, 0.3767200739311677, 0.09174114277528567, 0.12120473213061371, 0.04798919068911291, 0.025620512482893956, 0.03714974310019624, 0.02039786955368865, 0.011726311482555311, 0.015667928787615918, 0.6191115650811778, 0.31688054623375905, 0.0015025156293682269, 0.016602797704518907, 0.0006761320332157021, 0.0009766351590893474, 0.0404176704300053, 0.0009766351590893474, 0.0014273898478998155, 0.0015025156293682269, 0.39637225621522126, 0.11741662051637648, 0.2421261988288012, 0.015558309964902888, 0.07086323991826862, 0.045337887632099824, 0.016773802930910926, 0.07244338077407907, 0.013491971922689224, 0.009723943728064306, 0.07571462104626908, 0.04424880450755985, 0.05998171277691447, 0.22583278744969437, 0.08751430224828505, 0.07178139397893044, 0.12750211076622803, 0.05670402355413226, 0.2432045403304401, 0.007866454134677308, 0.0013384441722731984, 0.0013384441722731984, 0.004015332516819595, 0.0026768883445463967, 0.054876211063201126, 0.0013384441722731984, 0.02275355092864437, 0.9061267046289553, 0.004015332516819595, 0.9781568140630923, 0.9537411894256611, 0.9600493616216076, 0.9711305046686409, 0.24286022864970946, 0.14857874824995534, 0.14922514429579106, 0.06288510103059017, 0.08070716343720383, 0.0940044535229674, 0.04164637381027338, 0.1495021711725778, 0.01846845845244939, 0.012189182578616597, 0.011456985931154037, 0.04582794372461615, 0.03437095779346211, 0.0057284929655770185, 0.8592739448365527, 0.03437095779346211, 0.993185636277012, 0.1053348171195462, 0.13885044074849273, 0.09097097842142628, 0.012927454828307944, 0.16326896653529663, 0.05314620318304377, 0.02633370427988655, 0.3902176179655916, 0.009575892465413292, 0.010054687088683956, 0.013603874466812722, 0.08162324680087633, 0.00793559343897409, 0.6779264109295007, 0.05101452925054771, 0.11109830814563723, 0.023806780316922266, 0.01133656205567727, 0.012470218261244996, 0.00793559343897409, 0.012546578513845707, 0.03763973554153712, 0.9284468100245823, 0.22366841902863152, 0.5361847864208649, 0.0837183827173372, 0.02671245506356655, 0.060877297952838264, 0.005129565646264591, 0.036294096553758905, 0.013259443274306585, 0.003581017526637545, 0.010549484064959255, 0.003989652102624523, 0.003989652102624523, 0.9894337214508817, 0.003989652102624523, 0.058429044299578105, 0.01947634809985937, 0.014607261074894526, 0.8861738385436013, 0.004869087024964842, 0.004869087024964842, 0.013486216806383325, 0.02697243361276665, 0.03467884321641427, 0.5216276000468979, 0.1358254692642892, 0.220595974904413, 0.011077963805243446, 0.005298156602507736, 0.010114662604787494, 0.02022932520957499, 0.41637559921538425, 0.17320762379580654, 0.16486524420430607, 0.0382427896125219, 0.025605323498664772, 0.04352904994773011, 0.04460282157831928, 0.06632604764331552, 0.01891490026191688, 0.008259781773762829, 0.2242559295035979, 0.09531921025921083, 0.23845462895075306, 0.03716718384696502, 0.10367138640459624, 0.09176953539742204, 0.04886023045050457, 0.13071155667528145, 0.019210005134386414, 0.010753426787183698, 0.25088569115061227, 0.2178849496448944, 0.07929962547802547, 0.0228603519325323, 0.08988476897985949, 0.10416137008947596, 0.04709944104387491, 0.15953323420621274, 0.02081448386074925, 0.007649767572753999, 0.016074275884067048, 0.018753321864744887, 0.9510613231406336, 0.002679045980677841, 0.008037137942033524, 0.968200472321047, 0.7376735295047483, 0.049851333473802495, 0.08266486943124211, 0.0056792658387876255, 0.02461015196807971, 0.01514470890343367, 0.011358531677575251, 0.06057883561373468, 0.007572354451716835, 0.0050482363011445566, 0.9552854812714143, 0.9911197562584221, 0.12064031364446527, 0.0616077792174527, 0.1152917283104742, 0.1261869947315671, 0.08736022712185416, 0.276937862848871, 0.02396958612640443, 0.09231262094962367, 0.06180587497056349, 0.03387437378194345, 0.9721172670573743, 0.02542587649031535, 0.06356469122578838, 0.07627762947094606, 0.012712938245157675, 0.7882021711997759, 0.02542587649031535, 0.9850139946794702, 0.9644110958797146, 0.03848909751883531, 0.006414849586472551, 0.006414849586472551, 0.93015319003852, 0.006414849586472551, 0.9854874692817077, 0.812429891894147, 0.04305765117430626, 0.038525266840168756, 0.003399288250603126, 0.011330960835343752, 0.004532384334137501, 0.045890391383142194, 0.024928113837756255, 0.005665480417671876, 0.010764412793576565, 0.8769100026205215, 0.08408726052525549, 0.008008310526214809, 0.0040041552631074045, 0.0013347184210358014, 0.009343028947250611, 0.009343028947250611, 0.0040041552631074045, 0.0013347184210358014, 0.002669436842071603, 0.8711465916632095, 0.08411070540196507, 0.01201581505742358, 0.003003953764355895, 0.009011861293067686, 0.00600790752871179, 0.00600790752871179, 0.003003953764355895, 0.003003953764355895, 0.005090103960228004, 0.9874801682842328, 0.3192068126871585, 0.3099468449408972, 0.017471637257096797, 0.09399740844318077, 0.013103727942822599, 0.035816856377048435, 0.18519935492522605, 0.004542625686845167, 0.008386385883406462, 0.012404862452538726, 0.9762991817506781, 0.9648051978377291, 0.11606454659233664, 0.024434641387860348, 0.0030543301734825435, 0.015271650867412716, 0.0030543301734825435, 0.8277234770137692, 0.00916299052044763, 0.9441567200716158, 0.10788674888552854, 0.13485843610691067, 0.013485843610691068, 0.7349784767826631, 0.9886912637610148, 0.05601135421449714, 0.018509499237549343, 0.19668354841987215, 0.08787988333653862, 0.31981195639139604, 0.11910460378944794, 0.05762087588732752, 0.10381414789755936, 0.03170757695475844, 0.009013321367850114, 0.9782757165938426, 0.01460113009841556, 0.7369266971024088, 0.011244186692877129, 0.08130411916388078, 0.006054562065395377, 0.046706621647335765, 0.02767799801323601, 0.01643381132035888, 0.050166371398990266, 0.017298748758272506, 0.006054562065395377, 0.16436547278686608, 0.10864471695990494, 0.06776848681657437, 0.19276369583381153, 0.10627819837265949, 0.2570899737962107, 0.03937026376962892, 0.047545509798295034, 0.0068844177083504125, 0.009035798242209916, 0.4828375990225272, 0.24913968155491556, 0.054046174305563695, 0.08135173275262549, 0.005272797493225726, 0.0062143684741588915, 0.10037146656747543, 0.009415709809331653, 0.005272797493225726, 0.006026054277972258, 0.06257197126154504, 0.08397817195628414, 0.20088896036601303, 0.08699699513118324, 0.18634372143240827, 0.34524359582027925, 0.007958715642915818, 0.0203084468129576, 0.002469946234008357, 0.003018823174899103, 0.07705858374442992, 0.09142543834084906, 0.03961768994770126, 0.6460730976086667, 0.08184753527656964, 0.012190058445446541, 0.01262541767564106, 0.007401106913306829, 0.011319339985057502, 0.02002652458894789, 0.040003201190872806, 0.08225377323516543, 0.04719478792181623, 0.5564490233067475, 0.11911065523125049, 0.09978326589184003, 0.012585276779150995, 0.01213580260846703, 0.01663054431530667, 0.013933699291202887, 0.2229630667439235, 0.284329048416563, 0.15335813382819813, 0.08579873363489411, 0.04812683933030153, 0.0526724676023489, 0.07449148330817627, 0.05204744371494238, 0.013750525522943294, 0.012500477748130267, 0.09266792979560698, 0.0966762233604015, 0.10340443041559233, 0.10054136358359624, 0.22713663533835696, 0.19115742881627268, 0.024956399218899302, 0.14024255698727545, 0.011738574011183993, 0.01154770288905092, 0.2233019821099669, 0.4996564175117442, 0.04999956275711548, 0.08470075183481503, 0.009531802669436533, 0.02693327871719789, 0.04582727902636568, 0.008073199413971156, 0.03161437753706352, 0.020352603564633167, 0.27588626037425157, 0.12188351687411454, 0.2751327301308258, 0.02006274273121051, 0.06065918459577262, 0.054159986246225554, 0.09315517634350795, 0.0739401551361514, 0.017896343281361488, 0.007064346032116376, 0.13540979482273205, 0.09728470696002109, 0.20525101181261207, 0.0612959386758241, 0.1755068699886867, 0.09243690483954707, 0.01807655027973365, 0.17057690173057752, 0.030401470925006592, 0.013803911122705695, 0.010728808738849769, 0.9548639777576294, 0.021457617477699538, 0.03901063283356343, 0.9362551880055223, 0.1838203443939739, 0.0810923531872787, 0.20124446508900018, 0.08827670627006204, 0.14509090076379702, 0.09232306605231932, 0.05012531403735048, 0.12246431749158279, 0.030884460378861743, 0.004541832408656138, 0.011296218153673565, 0.0030807867691836997, 0.02259243630734713, 0.08420817169102111, 0.05031951723000042, 0.652099866143883, 0.0071885024614286325, 0.10680060799836825, 0.06058880646061276, 0.0020538578461224664, 0.958045803148516, 0.9872591330283386, 0.11371832900739326, 0.15607743247025488, 0.3775582112859268, 0.02827651059018883, 0.10091597185041801, 0.05677567087006418, 0.054382186705934026, 0.0873343407795399, 0.012746694734553626, 0.01219007051033731, 0.10710452085645258, 0.17151245983928204, 0.26583705142743924, 0.054677765562650034, 0.10289295325667343, 0.11560026929048985, 0.027520415867522394, 0.12257113980046913, 0.0119811836890269, 0.020331705654106254, 0.016604855125902793, 0.9713840248653134, 0.1279116474385412, 0.8278726070327804, 0.017765506588686277, 0.0071062026354745105, 0.010659303953211765, 0.0035531013177372553, 0.9652979637522628, 0.4031541479648648, 0.24819079797372962, 0.04271625543015196, 0.04375558037979069, 0.015693806739544878, 0.030348288529451022, 0.14176392313072328, 0.04905613762294823, 0.02182582394241341, 0.003429772333807821, 0.03620154315647315, 0.17492073064986144, 0.15826161344511272, 0.21032135470995242, 0.2540515373724178, 0.08986312261407717, 0.018421139216789437, 0.022425734698700184, 0.019862793590277306, 0.015698014289090127, 0.048394952689758054, 0.03871596215180644, 0.8469116720707659, 0.048394952689758054, 0.004839495268975805, 0.00967899053795161, 0.23178858067552371, 0.30248933002942924, 0.10850374022028607, 0.08299653185023691, 0.031197277929521674, 0.07979178002938457, 0.06671116035243628, 0.05520021503672179, 0.03479444834068245, 0.006540309838474145, 0.28929775746338876, 0.37215789065288124, 0.06216059355950706, 0.11465313866908082, 0.018592400865256348, 0.016981059456934133, 0.08558701864973006, 0.022124957029655053, 0.007622884354755103, 0.010783592501848682, 0.9831763583147997, 0.9914053648531254, 0.33530327270376115, 0.07609089720518022, 0.24588906664942484, 0.050554555244297764, 0.11354419874780786, 0.03945179787000103, 0.041376275814879133, 0.0656543052733413, 0.013989474291613875, 0.01806048532885601, 0.9492249636032385, 0.03206958886009399, 0.004393094364396438, 0.031190969987214705, 0.10060186094467842, 0.05052058519055903, 0.7138778342144211, 0.0013179283093189313, 0.047884728571921165, 0.001757237745758575, 0.015815139711827176, 0.0305406257989703, 0.020360417199313533, 0.0305406257989703, 0.8483507166380639, 0.03732743153207481, 0.006786805733104511, 0.013573611466209022, 0.006786805733104511, 0.23099107389252752, 0.20441322084940877, 0.18232407187579452, 0.03921709871251298, 0.08640755333796157, 0.059593452712237344, 0.05179728248625585, 0.0962708899117412, 0.032956537773467236, 0.016064835617173992, 0.06735289910823333, 0.12229868522284473, 0.15963080199829643, 0.1406877991241058, 0.09438268098719539, 0.09261023627382083, 0.049296118590729986, 0.15442424565275867, 0.0823079013773312, 0.03711056118627988, 0.9724787647243539, 0.014734526738247785, 0.012788968998254305, 0.9719616438673272, 0.013776353665995804, 0.08954629882897272, 0.07921403357947587, 0.0843801662042243, 0.02238657470724318, 0.0017220442082494754, 0.6905397275080396, 0.01549839787424528, 0.18246729826060565, 0.09440749524173017, 0.38478556129086605, 0.053089789500239466, 0.08228917372537117, 0.035316251276246255, 0.0365857897208172, 0.1072182922733097, 0.013272447375059867, 0.010617957900047893, 0.9780615638581994, 0.9656876556446633, 0.16975766553693297, 0.1018246068017469, 0.07423148802189207, 0.05518623755970966, 0.24083993891547206, 0.010797307348638848, 0.10932273690496833, 0.20154973717459182, 0.031942034239723256, 0.004648840663997281, 0.962579248631681, 0.09703160359820372, 0.04109167554514677, 0.1960487293340931, 0.08934849619585485, 0.19225033915765097, 0.13907287668746102, 0.08373723798065623, 0.08857155275067351, 0.06293241905968906, 0.009841283638963723, 0.011139819477187125, 0.9468846555609056, 0.011139819477187125, 0.02227963895437425, 0.9834213393510892, 0.9786201571605808, 0.9804987859441411, 0.978999868528203, 0.9739215546235263, 0.018541467800357286, 0.9641563256185789, 0.314832632786822, 0.28634458017852016, 0.1124271540837266, 0.04989984375501267, 0.032453199116952006, 0.03349023743459897, 0.07417874083874744, 0.05185191588234813, 0.03422226448234977, 0.010370383176469626, 0.29716512400678013, 0.26462082995862524, 0.060127567662139815, 0.18841955608977476, 0.011608787815957687, 0.009624379642289706, 0.13662650275704047, 0.01746279192827823, 0.009822820459656505, 0.004663359208119755, 0.0039657691133289435, 0.011897307339986831, 0.027760383793302607, 0.23001460857307876, 0.0039657691133289435, 0.7178042095125389, 0.3619470019793747, 0.25030451820492333, 0.0655367824422629, 0.1555636256918977, 0.011957588375430421, 0.015866799959705753, 0.10600862002064278, 0.017016568072727906, 0.007818423168550661, 0.008048376791155092, 0.974676028453942, 0.24492400733531994, 0.1587979250653757, 0.2891714005367104, 0.04727933449142153, 0.13520563190232168, 0.03562531015786472, 0.012317261490751099, 0.03903624410914964, 0.021034092699590338, 0.01658092892985725, 0.3867557337313577, 0.14180029261905008, 0.16834981092594306, 0.021528692495274237, 0.11076246032904342, 0.055153010809448136, 0.02099618066676922, 0.05948917855584612, 0.01331279571262541, 0.021832984968705674, 0.9830959102666487, 0.21485391672506857, 0.19053608155053994, 0.2476301293516071, 0.09115014648942302, 0.06126758930699313, 0.07261962220311174, 0.02921479054148174, 0.051139795252612794, 0.020979001969787837, 0.02058947142923475, 0.06729850082392726, 0.15458415038879533, 0.17229428218456566, 0.020240150623737522, 0.11334484349293013, 0.07311754412825179, 0.05211838785612412, 0.3273844363389544, 0.01037307719466548, 0.009108067780681885, 0.048958045833381494, 0.13491492019733373, 0.152480020610837, 0.012706668384236418, 0.12856158600521553, 0.07736118692755702, 0.054937654484786866, 0.3737255407128358, 0.009343138517820895, 0.007474510814256716, 0.362351831479775, 0.2803838735350017, 0.03510366894591378, 0.14941333203628784, 0.011404237627098893, 0.013453436575718226, 0.1136859938451421, 0.0158590179501844, 0.0088204650397093, 0.009533229891402982, 0.9947443499262758, 0.26355815218429873, 0.5073420645070655, 0.08558999343051135, 0.0212499294034373, 0.0032465169921918097, 0.002361103267048589, 0.10241285420823254, 0.004722206534097178, 0.0026562411754296627, 0.006197896076002546, 0.979694694831869, 0.952374818897908, 0.021644882247679728, 0.9832416854580721, 0.008642818839819133, 0.008642818839819133, 0.8902103405013707, 0.008642818839819133, 0.03457127535927653, 0.008642818839819133, 0.008642818839819133, 0.0259284565194574, 0.011652890043147015, 0.011652890043147015, 0.22140491081979327, 0.011652890043147015, 0.7224791826751149, 0.9786154570366707, 0.02036363974275252, 0.9672728877807447, 0.01018181987137626, 0.3972442026905988, 0.07311442795986016, 0.18075059027938703, 0.019459185169717792, 0.06366980252183813, 0.05487653056230039, 0.05292247012684755, 0.12058181270440188, 0.013189907939306621, 0.024100078703918268, 0.9690647756639607, 0.012266642729923553, 0.921196008062534, 0.6427533852396989, 0.06123793685591644, 0.11316770730973358, 0.017146622319656604, 0.028414402701145227, 0.02302546425782458, 0.04605092851564916, 0.04850044598988582, 0.008818262907251967, 0.011267780381488625, 0.40996545950881524, 0.19728459564034673, 0.1516266967569511, 0.06264688451442657, 0.019006427674715855, 0.038649942310595375, 0.05946144970860827, 0.03408415242225581, 0.013803550825212634, 0.013485007344630803, 0.9695470391606413, 0.987519440799341, 0.0012677653095117692, 0.0025355306190235384, 0.21044904137895368, 0.6224727669702786, 0.036765193975841305, 0.03549742866632954, 0.02789083680925892, 0.024087540880723613, 0.010142122476094154, 0.02915860211877069, 0.24089816822299234, 0.08088551633764707, 0.04132194856379796, 0.4677292901263939, 0.05582859008087596, 0.04461891254495205, 0.02637571184923274, 0.015385831912052431, 0.015385831912052431, 0.012088867930898339, 0.1035708337817837, 0.12692600752705746, 0.032125682029363924, 0.3064750647586559, 0.19009337617988653, 0.14367866380003866, 0.02118718293347621, 0.041881640682452974, 0.02414353404047289, 0.009953048726888824, 0.042278906795241725, 0.025837109708203278, 0.009395312621164829, 0.05872070388228018, 0.6835089931897412, 0.0328835941740769, 0.007046484465873621, 0.07986015727990105, 0.042278906795241725, 0.018790625242329658, 0.3301657387634325, 0.2433540533429804, 0.06641495840615609, 0.16005904499395862, 0.023913404085726397, 0.023712451110216092, 0.0975626696102535, 0.03124818769185256, 0.012157655018373506, 0.011353843116332281, 0.9555210624323361, 0.028423514062135995, 0.8029642722553418, 0.023686261718446663, 0.007105878515533999, 0.004737252343689332, 0.002368626171844666, 0.05684702812427199, 0.04263527109320399, 0.007105878515533999, 0.02605488789029133, 0.05877086334354366, 0.21421751894677696, 0.343513418302573, 0.0687026836605146, 0.11098125822083128, 0.05740409907974032, 0.04774563161553004, 0.06387344992840946, 0.0223238163087879, 0.012391995991816958, 0.7902213631660773, 0.05238591392737891, 0.05560966247675607, 0.003223748549377164, 0.010880151354147927, 0.01611874274688582, 0.023372176982984435, 0.03425232833713236, 0.006850465667426473, 0.006850465667426473, 0.791751594084471, 0.014439238797893088, 0.019252318397190785, 0.0032087197328651306, 0.016043598664325653, 0.02406539799648848, 0.05214169565905837, 0.07059183412303288, 0.005615259532513979, 0.002406539799648848, 0.983518608936073, 0.9694709091276502, 0.5526248483365278, 0.1306502718690348, 0.0785778116267983, 0.10508316301136011, 0.009147864637149653, 0.013135395376420014, 0.07459028088752793, 0.02157957811840431, 0.007505940215097151, 0.007036818951653579, 0.0950207018356272, 0.14832746743654113, 0.4159243933305877, 0.027994911089558788, 0.09294512976569609, 0.06626643511072776, 0.05826788908513954, 0.0752774553167702, 0.01073222631281458, 0.009213515042133273, 0.9808774746270769, 0.02262656600912746, 0.11603367184167927, 0.09203579880169561, 0.2549576225830353, 0.20537959915977233, 0.19029522182035402, 0.02151897186882052, 0.0525316077974148, 0.03138183397536326, 0.013238387105573408, 0.036186799096848514, 0.9408567765180613, 0.9569314700501925, 0.9711727237190947], \"Term\": [\"& quot\", \"& quot\", \"& quot\", \"& quot\", \"& quot\", \"& quot\", \"& quot\", \"& quot\", \"& quot\", \"& quot\", \"12 ounce\", \"12 ounce\", \"12 ounce\", \"12 ounce\", \"12 ounce\", \"12 ounce\", \"12 ounce\", \"12 ounce_12 ounce\", \"14 oz & quot\", \"14 oz & quot_pint & quot\", \"2 ounce\", \"2 ounce\", \"2 ounce\", \"2 ounce\", \"2 ounce\", \"20 - 10 - 2008\", \"23 / 09 / 11\", \"36 degrees\", \"36 degrees\", \"4 / 10\", \"5 / 10\", \"5 / 10\", \"6 / 10\", \"6 / 10\", \"6 / 10\", \"6 / 10_6 / 10\", \"7 / 10\", \"7 / 10\", \"7 / 10_7 / 10\", \"Aftertaste\", \"Aftertaste\", \"Aftertaste\", \"Aftertaste\", \"Aftertaste\", \"Aftertaste\", \"Aftertaste\", \"Aftertaste\", \"Aftertaste\", \"Aftertaste\", \"Aftertaste_slightly\", \"Aftertaste_slightly\", \"Aftertaste_slightly\", \"Aftertaste_slightly\", \"Ale\", \"Ale\", \"Ale\", \"Ale\", \"Ale\", \"Ale\", \"Ale\", \"Ale\", \"Ale\", \"Ale\", \"Amber_colour\", \"Amber_colour\", \"Amber_colour\", \"Amber_colour\", \"Amber_colour\", \"Appearance \\u0096\", \"Archive\", \"Aroma\", \"Aroma\", \"Aroma\", \"Aroma\", \"Aroma\", \"Aroma\", \"Aroma\", \"Aroma\", \"Aroma\", \"Aroma\", \"Aroma / Appearance\", \"Aroma / Appearance - A\", \"Aroma_Appearance\", \"Aromas\", \"Aromas\", \"Aromas\", \"Aromas\", \"Aromas\", \"Aromas\", \"Aromas\", \"Aromas\", \"Aromas\", \"Aromas\", \"Aroma\\u00e2\", \"Aroma\\u00e2\", \"Aroma\\u00e2\", \"Asahi\", \"Asahi\", \"Asahi\", \"Asahi\", \"BBD\", \"BBD\", \"BBD\", \"BBD\", \"BBD\", \"BBD\", \"BBD\", \"BBD\", \"BBGTC\", \"BBGTC\", \"BJCP\", \"BJCP\", \"BJCP_bottle\", \"BJCP_bottle\", \"Beer\", \"Beer\", \"Beer\", \"Beer\", \"Beer\", \"Beer\", \"Beer\", \"Beer\", \"Beer\", \"Beer\", \"Beer Buddy\", \"Beer Buddy\", \"Beer Buddy\", \"Beer Buddy\", \"Beer Buddy\", \"Beer Buddy\", \"Beer Buddy\", \"Beer Buddy\", \"Beer Buddy\", \"Beer Buddy_Beer Buddy\", \"Beer Buddy_Beer Buddy\", \"Beer Buddy_Beer Buddy\", \"Beer Buddy_Beer Buddy\", \"BeerFest\", \"BeerFest_Daisen\", \"Beer_Box\", \"Beer_Box\", \"Beerville\", \"Belgrade_Serbia\", \"Belhaven\", \"Belhaven\", \"Belhaven\", \"BevMo_Jolla\", \"Bishop\\u00e2\", \"Blacklick_Wine\", \"Bodied\", \"Bodied\", \"Boheme\", \"Boheme_Faro\", \"Borefts\", \"Borefts\", \"Borefts\", \"Borefts\", \"Borefts\", \"Borefts\", \"Borefts\", \"Borefts\", \"Botella\", \"Botella\", \"Bottle\", \"Bottle\", \"Bottle\", \"Bottle\", \"Bottle\", \"Bottle\", \"Bottle\", \"Bottle\", \"Bottle\", \"Bottle\", \"Bottle - 341ml\", \"Bottle - 500ml\", \"Bottle 0\", \"Bottle 0\", \"Bottle 0_Bottle 0\", \"Bottle 341ml\", \"Bottle 341ml\", \"Bottle 341ml\", \"Bottle 341ml\", \"Bottle 750ml\", \"Bottle_Line\", \"Bottle_Mane\", \"Bottle_Mane\", \"Bottle_share\", \"Bottle_share\", \"Bottle_share\", \"Bottle_share\", \"Bottle_share\", \"Bottle_share\", \"Bottle_share\", \"Bottle_share\", \"Bottle_share\", \"Bottle_share\", \"Box\", \"Box\", \"Box\", \"Box\", \"Box\", \"Box\", \"BrewDad\", \"Brickworks\", \"Brickworks_Toronto\", \"Bud\", \"Bud\", \"Bud\", \"Bud\", \"Bud\", \"Bud\", \"Bud\", \"Bud\", \"Bud\", \"Bud\", \"Buddy\", \"Buddy\", \"Buddy\", \"Buddy\", \"Buddy\", \"Buddy\", \"Buddy\", \"Buddy\", \"Buddy\", \"Buddy_iPhone\", \"Buddy_iPhone\", \"Buddy_iPhone\", \"Buddy_iPhone\", \"Buddy_iPhone\", \"Buddy_iPhone\", \"Buddy_iPhone\", \"Buddy_iPhone\", \"Buddy_iPhone\", \"Carbonation\", \"Carbonation\", \"Carbonation\", \"Carmen\", \"Carmen\", \"Cask Stillage\", \"Central Waters\", \"Central Waters\", \"Central_Waters\", \"Central_Waters\", \"Charlottesville\", \"Charlottesville\", \"Charlottesville\", \"Charlottesville\", \"Colmado\", \"Coors\", \"Coors\", \"Coors\", \"Coors\", \"Coors\", \"Coors\", \"Coors\", \"Copenhagen\", \"Copenhagen\", \"Copenhagen\", \"Copenhagen\", \"Copenhagen\", \"Copenhagen\", \"Copenhagen\", \"Copenhagen\", \"Copenhagen\", \"Corona\", \"Corona\", \"Corona\", \"Corona\", \"Corona\", \"Corona\", \"Corona\", \"Corona\", \"Corona\", \"Corona\", \"Corona Extra\", \"Corona_Extra\", \"Corona_Extra\", \"Corona_Light\", \"Courtesy_cousin\", \"Craft Bier Fest Wien\", \"Craft Bier Fest Wien\", \"Daisen\", \"Danish\", \"Danish\", \"Danish\", \"Danish\", \"Danish\", \"Danish\", \"Danish\", \"Danish_brew\", \"Dany\", \"Dany\", \"Dany\", \"Dany\", \"Dany\", \"Dos\", \"Dos\", \"Dos\", \"Dos_Equis\", \"Dos_Equis\", \"Dos_Equis\", \"Draught\", \"Draught\", \"Draught\", \"Draught\", \"Draught\", \"Draught\", \"Draught\", \"Draught\", \"Draught\", \"Draught\", \"Dubh\", \"Dubh\", \"Dubh\", \"Dubh\", \"DuffMan\", \"DuffMan\", \"East European\", \"East European\", \"English\", \"English\", \"English\", \"English\", \"English\", \"English\", \"English\", \"English\", \"English\", \"English\", \"Equis\", \"Equis\", \"Faro\", \"Faro\", \"Festbiere\", \"Finish\", \"Finish\", \"Finish\", \"Finish\", \"Finish\", \"Finish\", \"Finish\", \"Finish\", \"Finish\", \"Finish\", \"Finish_herby\", \"Flav\", \"Flav\", \"Flav\", \"Flav\", \"Flavour\", \"Flavour\", \"Flavour\", \"Flavour\", \"Flavour\", \"Flavour\", \"Flavour\", \"Flavour\", \"Flavour\", \"Flavour\", \"Flavour_compose\", \"Flavour\\u00e2\", \"Fort Collins\", \"GBBF\", \"GBBF\", \"GBBF\", \"GBBF\", \"GBBF\", \"GBBF\", \"GBBF\", \"GBBF\", \"Gaute\", \"Gaute\", \"Gent\", \"Gent\", \"Gent\", \"GeokkjerPours\", \"GeokkjerPours_clear\", \"Georgia\", \"Georgia\", \"Georgia\", \"Georgia\", \"Georgia\", \"Georgia\", \"Georgia\", \"Georgia\", \"Girona\", \"GregClow\", \"GregClow\", \"Gunn\", \"Gunn\", \"Gunn\", \"Gunn\", \"Gunn\", \"Gunn\", \"Gurgaon\", \"Gurgaon\", \"Gurgaon_India\", \"Gurgaon_Nov\", \"Harvest\", \"Harvest\", \"Harvest\", \"Harvest\", \"Harvest\", \"Harviestoun\", \"Harviestoun\", \"Harviestoun\", \"Havregatan\", \"Havregatan_Bottle\", \"Head_initially\", \"Head_initially\", \"Head_initially\", \"Hefe_Weizen\", \"Hefe_Weizen\", \"Highland\", \"Highland\", \"Highland\", \"HogTownHarry\", \"HogTownHarry\", \"HogTownHarry\", \"HogTownHarry\", \"HogTownHarry\", \"Hong\", \"Hong\", \"Hong\", \"Hong\", \"Hong\", \"Hong\", \"Hong Kong\", \"Hong Kong\", \"Hong Kong\", \"Hong Kong\", \"Hong Kong\", \"Hong_Kong\", \"Hong_Kong\", \"Hong_Kong\", \"Hong_Kong\", \"Hong_Kong\", \"Hong_Kong\", \"Hopduvel\", \"Hoppy_Pub\", \"Hoppy_Pub\", \"Ikea_pint\", \"Innis\", \"Innis\", \"Innis\", \"Innis\", \"Innis\", \"Innis\", \"Innis &\", \"Innis &\", \"Innis &\", \"Innis &\", \"Innis &\", \"Innis_Gunn\", \"Innis_amp\", \"Innis_amp\", \"Innis_amp\", \"Innis_amp\", \"Innis_amp\", \"JLindros\", \"JW Lees\", \"Japon\", \"Japon\", \"Kansas\", \"Kansas\", \"Kansas\", \"Kansas\", \"Kansas\", \"Kate_great\", \"Kennesaw\", \"Kennesaw_Georgia\", \"Keyaki\", \"Kiev\", \"Kiev\", \"Kiev\", \"Kiev\", \"Kiev\", \"Kiev 2016\", \"Kiev_draft\", \"Kiev_sample\", \"Klaas\\u00e2\", \"Kong\", \"Kong\", \"Kong\", \"Kong\", \"Kong\", \"Kong\", \"Kremenchuk\", \"Kremenchuk UA\", \"La Jolla\", \"Labatt\", \"Labatt\", \"Labatt\", \"Labatt\", \"Labatt\", \"Labatt\", \"Labatt\", \"Labatt\", \"Lager\", \"Lager\", \"Lager\", \"Lager\", \"Lager\", \"Lager\", \"Lager\", \"Lager\", \"Lager\", \"Lager\", \"Lagunitas\", \"Lagunitas\", \"Lagunitas\", \"Lagunitas\", \"Lagunitas\", \"Lagunitas\", \"Lees_Harvest\", \"Lees_Harvest\", \"Lunar_Brewing\", \"MK Poured\", \"MK Poured\", \"Malty\", \"Malty\", \"Malty\", \"Malty\", \"Malty\", \"Malty\", \"Malty\", \"Malty\", \"Malty\", \"Malty\", \"Mane\", \"Mane\", \"Mane\", \"Mane\", \"Mane Liquor\", \"Mane Liquor\", \"Mane Liquor_Mane Liquor\", \"Max\\u00e2_place\", \"May 2007\", \"Medium\", \"Medium\", \"Medium\", \"Medium\", \"Medium\", \"Medium\", \"Medium\", \"Medium\", \"Medium\", \"Medium\", \"Medium_Bodied\", \"Medium_body\", \"Medium_body\", \"Medium_body\", \"Medium_body\", \"Medium_body\", \"Medium_body\", \"Medium_body\", \"Medium_body\", \"Medium_body\", \"Medium_body\", \"Mentor\", \"Mes\", \"Mes\", \"Mes\", \"Mes_rate\", \"Mes_rate\", \"Mex\", \"Mexico\", \"Mexico\", \"Mexico\", \"Mexico\", \"Mexico\", \"Mexico\", \"Mexico\", \"Mexico\", \"Mexico\", \"Mexico\", \"Modelo\", \"Modelo\", \"Modelo\", \"Modelo\", \"Modelo\", \"Modelo\", \"Modelo\", \"Moeder\", \"Moeder\", \"Moeder\", \"Moeder_Lambic\", \"Moeder_Lambic\", \"Molson\", \"Molson\", \"Molson\", \"Molson\", \"Molson\", \"Molson\", \"Molson\", \"Molson\", \"Molson\", \"Molson\", \"Mondial 2006\", \"Montreal_Quebec\", \"Montr\\u00c3\", \"Montr\\u00c3\", \"Montr\\u00c3\", \"Montr\\u00c3\", \"Montr\\u00c3\", \"Montr\\u00c3\", \"Mouthfeel\", \"Mouthfeel\", \"Mouthfeel\", \"Mouthfeel\", \"Mouthfeel\", \"Mouthfeel\", \"Mouthfeel\", \"Mouthfeel\", \"Mouthfeel\", \"Mouthfeel\", \"Mouthfeel / Drinkability\", \"Mouthfeel / Drinkability\", \"Negra\", \"Negra Modelo\", \"Negra_Modelo\", \"Negra_Modelo\", \"Oakes\", \"Oakes\", \"Oakes\", \"Oakes\", \"Oakes\", \"Oakes\", \"Oakes\", \"Oakes\", \"Oelergud\", \"Oil\", \"Oil\", \"Oil\", \"Ola\", \"Ola\", \"Ola\", \"Ola\", \"Ola Dubh\", \"Ola Dubh\", \"Ola_Dubh\", \"Ola_Dubh\", \"Old_Ale\", \"Old_Ale\", \"Old_Ale\", \"Old_Ale\", \"Old_Ale\", \"Old_Ale\", \"Old_Ale\", \"Old_Engine\", \"Old_Engine\", \"Old_Engine\", \"Oviedo\", \"Oviedo\", \"Paps\\u00c3\", \"Paradox\", \"Paradox\", \"Paradox\", \"Party Town / Florence KY\", \"Perceptions\", \"Personal\", \"Personal_Perceptions\", \"Pint_Glass\", \"Playa\", \"Playa\", \"Playa del Carmen\", \"Playa del Carmen\", \"Playa_del\", \"Playa_del\", \"Protz\", \"QCPours\", \"QCPours\", \"Quebec City\", \"Quebec City\", \"Quebec City\", \"Quebec City\", \"Quebec City\", \"Quebec_City\", \"Quebec_City\", \"Quebec_City\", \"Quebec_City\", \"Quebec_City\", \"RJT\", \"Retronasal it\\u00e2\", \"Retronasal it\\u00e2\", \"Rum_Cask\", \"S - Smells\", \"S - Smells\", \"S - Smells\", \"S - Smells\", \"SRM\", \"SRM\", \"SRM\", \"SRM\", \"SRM\", \"SRM_body\", \"SRM_body\", \"Sam Adams\", \"Sam Adams\", \"Sam Adams\", \"Sam Adams\", \"Sam Adams\", \"Sam Adams\", \"Samuel\", \"Samuel\", \"Samuel\", \"Samuel\", \"Samuel\", \"Samuel\", \"Samuel\", \"Samuel\", \"Samuel\", \"Samuel\", \"Samuel Smith '\", \"Samuel Smith '\", \"Samuel Smith '\", \"Samuel_Smith\", \"Samuel_Smith\", \"Samuel_Smith\", \"Samuel_Smith\", \"Samuel_Smith\", \"Samuel_Smith\", \"Samuel_Smith\", \"Samuel_Smith\", \"Samuel_Smith\", \"Saveur\", \"Saveur\", \"Saveur\", \"Saveur\", \"Saveur Bi\\u00c3\", \"Scotch\", \"Scotch\", \"Scotch\", \"Scotch\", \"Scotch\", \"Scotch\", \"Scotch\", \"Scotch\", \"Scotch\", \"Scotch\", \"Scotch_whiskey\", \"Scottish\", \"Scottish\", \"Scottish\", \"Scottish\", \"Scottish\", \"Scottish\", \"Scottish\", \"Scottish\", \"Scottish\", \"Scunthorpe\", \"Scunthorpe\", \"Sevilla\", \"Skull_Splitter\", \"Smell\", \"Smell\", \"Smell\", \"Smell\", \"Smell\", \"Smell\", \"Smell\", \"Smell\", \"Smell\", \"Smell\", \"Smith\", \"Smith\", \"Smith\", \"Smith\", \"Smith\", \"Smith\", \"Smith\", \"Smith\", \"Smith\", \"Smith\", \"Stegosaurus\", \"Streets\", \"Sweet_malty\", \"Sweet_malty\", \"Sweet_malty\", \"Sweet_malty\", \"Sweet_malty\", \"Sweet_malty\", \"Sweet_malty\", \"Sweet_malty\", \"Sweet_malty\", \"Sweet_malty\", \"Sweetish\", \"Sweetish\", \"Sweetish\", \"Sweetish\", \"Sweetish\", \"Sweetish\", \"Sweetish\", \"Sweetish\", \"Sweetish\", \"Sweetish_malty\", \"Sweetish_malty\", \"Sweetish_malty\", \"Sweetish_malty\", \"Sweetish_malty\", \"Tap\", \"Tap\", \"Tap\", \"Tap\", \"Tap\", \"Tap\", \"Tap\", \"Tap\", \"Tap\", \"Tap\", \"Tap_Brewpub\", \"Tap_brewpub\", \"Tap_brewpub\", \"Tap_brewpub\", \"Tap_brewpub\", \"Tap_brewpub\", \"Tap_brewpub\", \"Taste\", \"Taste\", \"Taste\", \"Taste\", \"Taste\", \"Taste\", \"Taste\", \"Taste\", \"Taste\", \"Taste\", \"Tecate\", \"The Beer Box\", \"The Beer Box\", \"Thessaloniki\", \"Thessaloniki\", \"Ulkl\\u00c3\", \"Ulkl\\u00c3_bben\", \"Unibroue\", \"Unibroue\", \"Unibroue\", \"Unibroue\", \"Unibroue\", \"Unibroue\", \"Unibroue\", \"Unibroue\", \"Unibroue\", \"Unibroue\", \"Victoria_Pub\", \"Warehouse\", \"Warehouse\", \"Warehouse\", \"Warehouse\", \"Warehouse\", \"Warehouse\", \"Warehouse\", \"Warehouse\", \"Warehouse\", \"Waters\", \"Waters\", \"Wine\", \"Wine\", \"Wine\", \"Wine\", \"Wine\", \"Wine\", \"Wine\", \"Wine\", \"Wine\", \"Wine\", \"Wine Warehouse\", \"Wine Warehouse\", \"Wine Warehouse\", \"Wine_Warehouse\", \"Wine_Warehouse\", \"Wine_Warehouse\", \"Wooly\", \"Wooly_Hops\", \"acidy\", \"acidy\", \"acidy\", \"active_visible\", \"actually\", \"actually\", \"actually\", \"actually\", \"actually\", \"actually\", \"actually\", \"actually\", \"actually\", \"actually\", \"adhesive\", \"adhesive\", \"adhesive_aroma\", \"adjunct\", \"adjunct\", \"adjunct\", \"adjunct\", \"adjunct\", \"adjunct\", \"adjunct\", \"adjunct\", \"adjunct\", \"adjunct\", \"aery\", \"aftertaste\", \"aftertaste\", \"aftertaste\", \"aftertaste\", \"aftertaste\", \"aftertaste\", \"aftertaste\", \"aftertaste\", \"aftertaste\", \"aftertaste\", \"age\", \"age\", \"age\", \"age\", \"age\", \"age\", \"age\", \"age\", \"age\", \"age\", \"aged\", \"aged\", \"aged\", \"aged\", \"aged\", \"aged\", \"aged\", \"aged\", \"aged\", \"aged\", \"aging\", \"aging\", \"aging\", \"aging\", \"aging\", \"aging\", \"aging\", \"aging\", \"aging\", \"aging\", \"alcool\", \"ale\", \"ale\", \"ale\", \"ale\", \"ale\", \"ale\", \"ale\", \"ale\", \"ale\", \"ale\", \"alky\", \"alky\", \"almond_essence\", \"amargo\", \"amarillo\", \"amarillo\", \"amarillo\", \"amarillo\", \"amarillo\", \"amarillo_sabor\", \"amp\", \"amp\", \"amp\", \"amp\", \"amp\", \"amp\", \"amp\", \"amp\", \"amp\", \"amp\", \"am\\u00e3\", \"app\", \"app\", \"app\", \"app\", \"app\", \"app\", \"app\", \"appearance\", \"appearance\", \"appearance\", \"appearance\", \"appearance\", \"appearance\", \"appearance\", \"appearance\", \"appearance\", \"appearance\", \"apple\", \"apple\", \"apple\", \"apple\", \"apple\", \"apple\", \"apple\", \"apple\", \"apple\", \"apple\", \"avec\", \"average\", \"average\", \"average\", \"average\", \"average\", \"average\", \"average\", \"average\", \"average\", \"average\", \"average_duration\", \"average_duration\", \"average_duration\", \"average_duration\", \"awful\", \"awful\", \"awful\", \"awful\", \"awful\", \"awful\", \"awful\", \"awful\", \"awful\", \"awful\", \"bad\", \"bad\", \"bad\", \"bad\", \"bad\", \"bad\", \"bad\", \"bad\", \"bad\", \"bad\", \"balance\", \"balance\", \"balance\", \"balance\", \"balance\", \"balance\", \"balance\", \"balance\", \"balance\", \"balance\", \"balance_robustness\", \"balance_zero\", \"balanced\", \"balanced\", \"balanced\", \"balanced\", \"balanced\", \"balanced\", \"balanced\", \"balanced\", \"balanced\", \"balanced\", \"banana\", \"banana\", \"banana\", \"banana\", \"banana\", \"banana\", \"banana\", \"banana\", \"banana\", \"banana\", \"barrel\", \"barrel\", \"barrel\", \"barrel\", \"barrel\", \"barrel\", \"barrel\", \"barrel\", \"barrel\", \"barrel\", \"bben\", \"beerbasher\", \"beige\", \"beige\", \"beige\", \"beige\", \"beige\", \"beige\", \"beige\", \"beige\", \"beige\", \"beige\", \"beige_head\", \"beige_head\", \"beige_head\", \"beige_head\", \"beige_head\", \"beige_head\", \"beige_head\", \"beige_head\", \"beige_head\", \"beige_head\", \"belgian\", \"belgian\", \"belgian\", \"belgian\", \"belgian\", \"belgian\", \"belgian\", \"belgian\", \"belgian\", \"belgian\", \"belgian_yeast\", \"belgian_yeast\", \"belgian_yeast\", \"belgian_yeast\", \"belgian_yeast\", \"belgian_yeast\", \"belgian_yeast\", \"belgian_yeast\", \"belgian_yeast\", \"belgian_yeast\", \"benzai\", \"bien\", \"big\", \"big\", \"big\", \"big\", \"big\", \"big\", \"big\", \"big\", \"big\", \"big\", \"blackstrap\", \"blackstrap\", \"blackstrap_molasse\", \"blackstrap_molasse\", \"bland\", \"bland\", \"bland\", \"bland\", \"bland\", \"bland\", \"bland\", \"bland\", \"bland\", \"bland\", \"blankboy\", \"blankboy\", \"blankboy\", \"blond_coloured\", \"bodied\", \"bodied\", \"bodied\", \"bodied\", \"bodied\", \"bodied\", \"bodied\", \"bodied\", \"bodied\", \"bodied\", \"bonne\", \"bonne\", \"bottle_Saveur\", \"bottle_Saveur\", \"bottleappearance\", \"bottled\", \"bottled\", \"bottled\", \"bottled\", \"bottled\", \"bottled\", \"bottled\", \"bottled\", \"bottled\", \"bottled\", \"bottled_Courtesy\", \"bottled_pasteurised\", \"bottlereviewe\", \"bottlereviewe\", \"bottlereviewe\", \"bouche\", \"bread\", \"bread\", \"bread\", \"bread\", \"bread\", \"bread\", \"bread\", \"bread\", \"bread\", \"bread\", \"bready\", \"bready\", \"bready\", \"bready\", \"bready\", \"bready\", \"bready\", \"bready\", \"bready\", \"bready\", \"brew\", \"brew\", \"brew\", \"brew\", \"brew\", \"brew\", \"brew\", \"brew\", \"brew\", \"brew\", \"brewing_cereal\", \"brewing_cereal\", \"brewpub\", \"brewpub\", \"brewpub\", \"brewpub\", \"brewpub\", \"brewpub\", \"brewpub\", \"brewpub\", \"brewpub\", \"brewpub\", \"brune\", \"brune\", \"brune\", \"brune\", \"btl\", \"btl_abv\", \"btl_email\", \"candi\", \"candi\", \"candi\", \"candi\", \"candi\", \"candi\", \"candi\", \"candi\", \"candi\", \"candi\", \"candi_sugar\", \"candi_sugar\", \"candi_sugar\", \"candi_sugar\", \"candi_sugar\", \"candi_sugar\", \"candi_sugar\", \"candi_sugar\", \"candi_sugar\", \"candi_sugar\", \"cara_malty\", \"caramell\", \"caramell\", \"caramell\", \"caramelo\", \"carbo\", \"carbo\", \"carbo\", \"carbo\", \"carbo\", \"carbo\", \"carbo\", \"carbo\", \"carbo\", \"carbon\", \"carbon\", \"carbon\", \"carbon\", \"carbon\", \"carbon\", \"carbon_medium\", \"cask_aged\", \"cdn\", \"centimetre_tall\", \"character\", \"character\", \"character\", \"character\", \"character\", \"character\", \"character\", \"character\", \"character\", \"character\", \"cheap\", \"cheap\", \"cheap\", \"cheap\", \"cheap\", \"cheap\", \"cheap\", \"cheap\", \"cheap\", \"cheap\", \"cherry\", \"cherry\", \"cherry\", \"cherry\", \"cherry\", \"cherry\", \"cherry\", \"cherry\", \"cherry\", \"cherry\", \"chez\", \"chill_degree\", \"chill_degree\", \"chinese\", \"chinese\", \"chinese\", \"chinese\", \"chinese\", \"chinese\", \"chinese\", \"chinese\", \"chinese\", \"chinese\", \"citrus\", \"citrus\", \"citrus\", \"citrus\", \"citrus\", \"citrus\", \"citrus\", \"citrus\", \"citrus\", \"citrus\", \"clean\", \"clean\", \"clean\", \"clean\", \"clean\", \"clean\", \"clean\", \"clean\", \"clean\", \"clean\", \"clear_goldblond\", \"clear_golden\", \"clear_golden\", \"clear_golden\", \"clear_golden\", \"clear_golden\", \"clear_golden\", \"clear_golden\", \"clear_golden\", \"clear_golden\", \"clear_golden\", \"cloudy\", \"cloudy\", \"cloudy\", \"cloudy\", \"cloudy\", \"cloudy\", \"cloudy\", \"cloudy\", \"cloudy\", \"cloudy\", \"clove\", \"clove\", \"clove\", \"clove\", \"clove\", \"clove\", \"clove\", \"clove\", \"clove\", \"clove\", \"coffee\", \"coffee\", \"coffee\", \"coffee\", \"coffee\", \"coffee\", \"coffee\", \"coffee\", \"coffee\", \"coffee\", \"colour\", \"colour\", \"colour\", \"colour\", \"colour\", \"colour\", \"colour\", \"colour\", \"colour\", \"colour\", \"coloured\", \"coloured\", \"coloured\", \"coloured\", \"coloured\", \"coloured\", \"coloured\", \"coloured\", \"coloured\", \"coloured\", \"come\", \"come\", \"come\", \"come\", \"come\", \"come\", \"come\", \"come\", \"come\", \"come\", \"complexity_robustness\", \"complexity_robustness\", \"coriander\", \"coriander\", \"coriander\", \"coriander\", \"coriander\", \"coriander\", \"coriander\", \"coriander\", \"coriander\", \"coriander\", \"corn\", \"corn\", \"corn\", \"corn\", \"corn\", \"corn\", \"corn\", \"corn\", \"corn\", \"corn\", \"corny\", \"corny\", \"corny\", \"corny\", \"corny\", \"corny\", \"corny\", \"corny\", \"corny\", \"corny\", \"corps\", \"cow_fodder\", \"creamy_mediumlaste\", \"crisp\", \"crisp\", \"crisp\", \"crisp\", \"crisp\", \"crisp\", \"crisp\", \"crisp\", \"crisp\", \"crisp\", \"cuerpo\", \"darkmalty\", \"decent\", \"decent\", \"decent\", \"decent\", \"decent\", \"decent\", \"decent\", \"decent\", \"decent\", \"decent\", \"diminish\", \"diminish\", \"diminish\", \"diminish\", \"diminish\", \"diminish\", \"diminish\", \"diminish\", \"diminish\", \"diminish\", \"diminish_spare\", \"diminish_spare\", \"display_lacework\", \"don\\u00e2\", \"don\\u00e2\", \"don\\u00e2\", \"don\\u00e2\", \"don\\u00e2\", \"don\\u00e2\", \"don\\u00e2\", \"don\\u00e2\", \"don\\u00e2\", \"don\\u00e2\", \"dor\\u00e3\", \"draft_brewpub\", \"draft_brewpub\", \"draft_brewpub\", \"draft_brewpub\", \"draft_brewpub\", \"draft_brewpub\", \"drank_tap\", \"draught\", \"draught\", \"draught\", \"draught\", \"draught\", \"draught\", \"draught\", \"draught\", \"draught\", \"draught\", \"drink\", \"drink\", \"drink\", \"drink\", \"drink\", \"drink\", \"drink\", \"drink\", \"drink\", \"drink\", \"drinkability\", \"drinkability\", \"drinkability\", \"drinkability\", \"drinkability\", \"drinkability\", \"drinkability\", \"drinkability\", \"drinkability\", \"drinkability\", \"drinkable\", \"drinkable\", \"drinkable\", \"drinkable\", \"drinkable\", \"drinkable\", \"drinkable\", \"drinkable\", \"drinkable\", \"drinkable\", \"drinkable_accompany\", \"dulce\", \"dulce\", \"dulce\", \"dulce\", \"duration_Color\", \"duration_Color\", \"duration_Color\", \"earthiness\", \"earthiness\", \"earthiness\", \"earthiness\", \"earthiness\", \"earthiness\", \"earthiness\", \"earthiness\", \"earthiness\", \"earthiness\", \"earthiness_damn\", \"earthy\", \"earthy\", \"earthy\", \"earthy\", \"earthy\", \"earthy\", \"earthy\", \"earthy\", \"earthy\", \"earthy\", \"easy\", \"easy\", \"easy\", \"easy\", \"easy\", \"easy\", \"easy\", \"easy\", \"easy\", \"easy\", \"easy_drink\", \"easy_drink\", \"easy_drink\", \"easy_drink\", \"easy_drink\", \"easy_drink\", \"easy_drink\", \"easy_drink\", \"easy_drink\", \"easy_drink\", \"effervescence\", \"effervescence\", \"effervescence\", \"effervescence\", \"effervescence\", \"effervescence\", \"effervescence\", \"effervescence\", \"effervescence\", \"effervescence\", \"effervescence_Flav\", \"effervescence_Flav\", \"effervescence_Flav\", \"email_protect\", \"email_protect\", \"email_protect\", \"email_protect\", \"email_protect\", \"email_protect\", \"email_protect\", \"email_protect\", \"email_protect\", \"english\", \"english\", \"english\", \"english\", \"english\", \"english\", \"english\", \"english\", \"english\", \"english\", \"enjoyable_Draught\", \"enjoyable_offering\", \"enjoyable_offering\", \"enjoyable_offering\", \"erzengel\", \"estuca\", \"ethnic\", \"ethnic\", \"ethnic\", \"exclusive\", \"exclusive\", \"exclusive\", \"exclusive\", \"expect\", \"expect\", \"expect\", \"expect\", \"expect\", \"expect\", \"expect\", \"expect\", \"expect\", \"expect\", \"eye\", \"eye\", \"eye\", \"eye\", \"eye\", \"eye\", \"eye\", \"eye\", \"eye\", \"eye\", \"fair_display\", \"fair_streaming\", \"fairly\", \"fairly\", \"fairly\", \"fairly\", \"fairly\", \"fairly\", \"fairly\", \"fairly\", \"fairly\", \"fairly\", \"favorite_mexican\", \"feel\", \"feel\", \"feel\", \"feel\", \"feel\", \"feel\", \"feel\", \"feel\", \"feel\", \"feel\", \"final_amargo\", \"finale\", \"finale\", \"finale\", \"finale\", \"finale\", \"finale\", \"finger\", \"finger\", \"finger\", \"finger\", \"finger\", \"finger\", \"finger\", \"finger\", \"finger\", \"finger\", \"finger\\u00e2_worth\", \"fizzy\", \"fizzy\", \"fizzy\", \"fizzy\", \"fizzy\", \"fizzy\", \"fizzy\", \"fizzy\", \"fizzy\", \"fizzy\", \"flavor_Palate\", \"flavour\", \"flavour\", \"flavour\", \"flavour\", \"flavour\", \"flavour\", \"flavour\", \"flavour\", \"flavour\", \"flavour\", \"floral\", \"floral\", \"floral\", \"floral\", \"floral\", \"floral\", \"floral\", \"floral\", \"floral\", \"floral\", \"foam\", \"foam\", \"foam\", \"foam\", \"foam\", \"foam\", \"foam\", \"foam\", \"foam\", \"foam\", \"foamy\", \"foamy\", \"foamy\", \"foamy\", \"foamy\", \"foamy\", \"foamy\", \"foamy\", \"foamy\", \"foamy\", \"foamy_finely\", \"food\", \"food\", \"food\", \"food\", \"food\", \"food\", \"food\", \"food\", \"food\", \"food\", \"food_match\", \"food_match\", \"frothy\", \"frothy\", \"frothy\", \"frothy\", \"frothy\", \"frothy\", \"frothy\", \"frothy\", \"frothy\", \"frothy\", \"fruit\\u00c3\", \"frutal\", \"funk\", \"funk\", \"funk\", \"funk\", \"funk\", \"funk\", \"funk\", \"funk\", \"funk\", \"funk\", \"garthicus\", \"garthicus\", \"ger\", \"glass\", \"glass\", \"glass\", \"glass\", \"glass\", \"glass\", \"glass\", \"glass\", \"glass\", \"glass\", \"glassA\", \"glassA\", \"glassA\", \"glassA\", \"glassA\", \"glassA\", \"glassA\", \"glass_zippy\", \"glassappearance\", \"glassappearance\", \"glouglouburp\", \"glouglouburp\", \"glouglouburp\", \"gold\", \"gold\", \"gold\", \"gold\", \"gold\", \"gold\", \"gold\", \"gold\", \"gold\", \"gold\", \"goldblond\", \"golden_colour\", \"golden_colour\", \"golden_colour\", \"golden_colour\", \"golden_colour\", \"golden_colour\", \"golden_colour\", \"golden_colour\", \"golden_colour\", \"golden_colour\", \"golden_coloured\", \"golden_coloured\", \"golden_coloured\", \"golden_coloured\", \"golden_coloured\", \"grain\", \"grain\", \"grain\", \"grain\", \"grain\", \"grain\", \"grain\", \"grain\", \"grain\", \"grain\", \"grainy\", \"grainy\", \"grainy\", \"grainy\", \"grainy\", \"grainy\", \"grainy\", \"grainy\", \"grainy\", \"grainy\", \"grapefruit\", \"grapefruit\", \"grapefruit\", \"grapefruit\", \"grapefruit\", \"grapefruit\", \"grapefruit\", \"grapefruit\", \"grapefruit\", \"grapefruit\", \"grass\", \"grass\", \"grass\", \"grass\", \"grass\", \"grass\", \"grass\", \"grass\", \"grass\", \"grass\", \"grassy\", \"grassy\", \"grassy\", \"grassy\", \"grassy\", \"grassy\", \"grassy\", \"grassy\", \"grassy\", \"grassy\", \"great\", \"great\", \"great\", \"great\", \"great\", \"great\", \"great\", \"great\", \"great\", \"great\", \"great_BrewDad\", \"half\", \"half\", \"half\", \"half\", \"half\", \"half\", \"half\", \"half\", \"half\", \"half\", \"half_finger\", \"half_finger\", \"half_finger\", \"half_finger\", \"half_finger\", \"half_finger\", \"half_finger\", \"half_finger\", \"half_finger\", \"half_finger\", \"hay\", \"hay\", \"hay\", \"hay\", \"hay\", \"hay\", \"hay\", \"hay\", \"hay\", \"hay\", \"hazy\", \"hazy\", \"hazy\", \"hazy\", \"hazy\", \"hazy\", \"hazy\", \"hazy\", \"hazy\", \"hazy\", \"headAroma\", \"headAroma\", \"headAroma\", \"herb\", \"herb\", \"herb\", \"herb\", \"herb\", \"herb\", \"herb\", \"herb\", \"herb\", \"herb\", \"herby\", \"herby\", \"herby\", \"herby\", \"herby\", \"herby\", \"herby\", \"home_Washington\", \"hoppy\", \"hoppy\", \"hoppy\", \"hoppy\", \"hoppy\", \"hoppy\", \"hoppy\", \"hoppy\", \"hoppy\", \"hoppy\", \"hoppyness\", \"hoppyness\", \"hoppyness\", \"hoppyness\", \"hoppyness\", \"hoppyness\", \"hoppyness\", \"iPhone\", \"iPhone\", \"iPhone\", \"iPhone\", \"iPhone\", \"iPhone\", \"iPhone\", \"iPhone\", \"iPhone\", \"iPhone\", \"inch\", \"inch\", \"inch\", \"inch\", \"inch\", \"inch\", \"inch\", \"inch\", \"inch\", \"inch\", \"indian\", \"indian\", \"indian\", \"indian\", \"indian\", \"indian\", \"indian\", \"indian\", \"indian\", \"irish_whiskey\", \"isn\\u00e2\", \"isn\\u00e2\", \"isn\\u00e2\", \"isn\\u00e2\", \"isn\\u00e2\", \"isn\\u00e2\", \"isn\\u00e2\", \"isn\\u00e2\", \"isn\\u00e2\", \"isn\\u00e2\", \"it\\u00e2\", \"it\\u00e2\", \"it\\u00e2\", \"it\\u00e2\", \"it\\u00e2\", \"it\\u00e2\", \"it\\u00e2\", \"it\\u00e2\", \"it\\u00e2\", \"it\\u00e2\", \"jerc\", \"jerc\", \"jerc\", \"jerc\", \"jinroh\", \"lace\", \"lace\", \"lace\", \"lace\", \"lace\", \"lace\", \"lace\", \"lace\", \"lace\", \"lace\", \"lace_behindS\", \"lacearoma\", \"lacearoma\", \"lacework\", \"lacework\", \"lacework\", \"lacework\", \"lacework\", \"lacework\", \"lacework\", \"lacework\", \"lacework\", \"lacing\", \"lacing\", \"lacing\", \"lacing\", \"lacing\", \"lacing\", \"lacing\", \"lacing\", \"lacing\", \"lacing\", \"lacingS\", \"lacingS\", \"lacingS\", \"lacingS\", \"lacingS\", \"lacingS\", \"lacingS\", \"lacingS\", \"lacing_observe\", \"lacing_observe\", \"lager\", \"lager\", \"lager\", \"lager\", \"lager\", \"lager\", \"lager\", \"lager\", \"lager\", \"lager\", \"leafs\", \"leafs\", \"leafs\", \"leafs\", \"leave\", \"leave\", \"leave\", \"leave\", \"leave\", \"leave\", \"leave\", \"leave\", \"leave\", \"leave\", \"leave_glassS\", \"lemon\", \"lemon\", \"lemon\", \"lemon\", \"lemon\", \"lemon\", \"lemon\", \"lemon\", \"lemon\", \"lemon\", \"lengthy_aftertaste\", \"lengthy_aftertaste\", \"levure\", \"licorice\", \"licorice\", \"licorice\", \"licorice\", \"licorice\", \"licorice\", \"licorice\", \"licorice\", \"licorice\", \"licorice\", \"ligeramente\", \"lightly\", \"lightly\", \"lightly\", \"lightly\", \"lightly\", \"lightly\", \"lightly\", \"lightly\", \"lightly\", \"lightly\", \"lightly_acidic\", \"lightly_acidic\", \"lightly_acidic\", \"lightly_acidic\", \"lightly_acidic\", \"lightly_acidic\", \"lightly_acidic\", \"lightly_acidic\", \"lightly_acidic\", \"lightly_sweeten\", \"lightly_sweeten\", \"lightly_sweeten\", \"lime\", \"lime\", \"lime\", \"lime\", \"lime\", \"lime\", \"lime\", \"lime\", \"lime\", \"lime\", \"linger\", \"linger\", \"linger\", \"linger\", \"linger\", \"linger\", \"linger\", \"linger\", \"linger\", \"linger\", \"look\", \"look\", \"look\", \"look\", \"look\", \"look\", \"look\", \"look\", \"look\", \"look\", \"low\", \"low\", \"low\", \"low\", \"low\", \"low\", \"low\", \"low\", \"low\", \"low\", \"low_carbo\", \"low_carbo\", \"low_carbo\", \"low_carbonation\", \"low_carbonation\", \"low_carbonation\", \"low_carbonation\", \"low_carbonation\", \"low_carbonation\", \"low_carbonation\", \"low_carbonation\", \"low_carbonation\", \"low_carbonation\", \"mabel\", \"macro\", \"macro\", \"macro\", \"macro\", \"macro\", \"macro\", \"macro\", \"macro\", \"macro\", \"macro\", \"macro_lager\", \"macro_lager\", \"macro_lager\", \"macro_lager\", \"macro_lager\", \"macro_lager\", \"macro_lager\", \"macro_lager\", \"macro_lager\", \"macro_lager\", \"maltoso\", \"malty\", \"malty\", \"malty\", \"malty\", \"malty\", \"malty\", \"malty\", \"malty\", \"malty\", \"malty\", \"mango\", \"mango\", \"mango\", \"mango\", \"mango\", \"mango\", \"mango\", \"mango\", \"mango\", \"mango\", \"margarita\", \"medium_bodied\", \"medium_bodied\", \"medium_bodied\", \"medium_bodied\", \"medium_bodied\", \"medium_bodied\", \"medium_bodied\", \"medium_bodied\", \"medium_bodied\", \"medium_bodied\", \"medium_sized\", \"medium_sized\", \"medium_sized\", \"medium_sized\", \"medium_sized\", \"medium_sized\", \"medium_sized\", \"medium_sized\", \"medium_sized\", \"medium_sized\", \"mediumlaste\", \"metallic\", \"metallic\", \"metallic\", \"metallic\", \"metallic\", \"metallic\", \"metallic\", \"metallic\", \"metallic\", \"metallic\", \"mexican\", \"mexican\", \"mexican\", \"mexican\", \"mexican\", \"mexican\", \"mexican\", \"mexican\", \"mexican\", \"mexican\", \"mexican_food\", \"mexican_food\", \"mexican_food\", \"mexican_food\", \"mexican_food\", \"mexican_food\", \"mexican_food\", \"mexican_lager\", \"mexican_lager\", \"mexican_lager\", \"mexican_lager\", \"mexican_lager\", \"mexican_restaurant\", \"mexican_restaurant\", \"mexican_restaurant\", \"mexican_restaurant\", \"mexican_restaurant\", \"mexican_restaurant\", \"mid_stream\", \"mild\", \"mild\", \"mild\", \"mild\", \"mild\", \"mild\", \"mild\", \"mild\", \"mild\", \"mild\", \"minimally\", \"minimally\", \"minimally\", \"minimally\", \"minimally\", \"minimally\", \"minimally\", \"minimally\", \"minimally\", \"moderate\", \"moderate\", \"moderate\", \"moderate\", \"moderate\", \"moderate\", \"moderate\", \"moderate\", \"moderate\", \"moderate\", \"moderate_streaming\", \"moderated\", \"moderated\", \"moderated\", \"moderated\", \"moderately\", \"moderately\", \"moderately\", \"moderately\", \"moderately\", \"moderately\", \"moderately\", \"moderately\", \"moderately\", \"moderately\", \"moderately_acidic\", \"moderately_acidic\", \"moderately_acidic\", \"moderately_acidic\", \"moderately_heavily\", \"moderately_heavily\", \"mousse\", \"mousse\", \"mousse\", \"mousse\", \"mousse\", \"mousse\", \"mousse\", \"mousse\", \"mousse\", \"mouth\", \"mouth\", \"mouth\", \"mouth\", \"mouth\", \"mouth\", \"mouth\", \"mouth\", \"mouth\", \"mouth\", \"mouth_feel\", \"mouth_feel\", \"mouth_feel\", \"mouth_feel\", \"mouth_feel\", \"mouth_feel\", \"mouth_feel\", \"mouth_feel\", \"mouth_feel\", \"mouth_feel\", \"mouthfeel\", \"mouthfeel\", \"mouthfeel\", \"mouthfeel\", \"mouthfeel\", \"mouthfeel\", \"mouthfeel\", \"mouthfeel\", \"mouthfeel\", \"mouthfeel\", \"moyen\", \"mug\", \"mug\", \"mug\", \"mug\", \"mug\", \"mug\", \"mug\", \"mug\", \"mug\", \"mug\", \"muscovado\", \"muscovado_sugar\", \"nez\", \"nez\", \"non_adhesive\", \"nose\", \"nose\", \"nose\", \"nose\", \"nose\", \"nose\", \"nose\", \"nose\", \"nose\", \"nose\", \"oak\", \"oak\", \"oak\", \"oak\", \"oak\", \"oak\", \"oak\", \"oak\", \"oak\", \"oak\", \"offensive\", \"offensive\", \"offensive\", \"offensive\", \"offensive\", \"offensive\", \"offensive\", \"offensive\", \"offensive\", \"offensive\", \"oily\", \"oily\", \"oily\", \"oily\", \"oily\", \"oily\", \"oily\", \"oily\", \"oily\", \"oily\", \"oily_texture\", \"oily_texture\", \"oily_texture\", \"oily_texture\", \"oily_texture\", \"oily_texture\", \"oily_texture\", \"oily_texture\", \"oily_texture\", \"oily_texture\", \"old_ale\", \"old_ale\", \"old_ale\", \"old_ale\", \"old_ale\", \"old_ale\", \"old_ale\", \"old_ale\", \"old_ale\", \"old_ale\", \"ounce\", \"ounce\", \"ounce\", \"ounce\", \"ounce\", \"ounce\", \"ounce\", \"ounce\", \"ounce\", \"ounce\", \"ounce_bottle\", \"ounce_bottle\", \"ounce_bottle\", \"ounce_bottle\", \"ounce_bottle\", \"ounce_bottle\", \"ounce_bottle\", \"ounce_bottle\", \"ounce_bottle\", \"ounce_bottle\", \"overall\", \"overall\", \"overall\", \"overall\", \"overall\", \"overall\", \"overall\", \"overall\", \"overall\", \"overall\", \"palate\", \"palate\", \"palate\", \"palate\", \"palate\", \"palate\", \"palate\", \"palate\", \"palate\", \"palate\", \"pale\", \"pale\", \"pale\", \"pale\", \"pale\", \"pale\", \"pale\", \"pale\", \"pale\", \"pale\", \"pale_lager\", \"pale_lager\", \"pale_lager\", \"pale_lager\", \"pale_lager\", \"pale_lager\", \"pale_lager\", \"pale_lager\", \"pale_lager\", \"pale_lager\", \"pas\", \"pasteurised\", \"pasteurised\", \"peach\", \"peach\", \"peach\", \"peach\", \"peach\", \"peach\", \"peach\", \"peach\", \"peach\", \"peach\", \"pear\", \"pear\", \"pear\", \"pear\", \"pear\", \"pear\", \"pear\", \"pear\", \"pear\", \"pear\", \"pear_apple\", \"pear_apple\", \"pear_apple\", \"pear_apple\", \"pear_apple\", \"pear_apple\", \"pear_apple\", \"pear_apple\", \"pear_apple\", \"peat\", \"peat\", \"peat\", \"peat\", \"peat\", \"peat\", \"peat\", \"peat\", \"peat\", \"peat\", \"pepper\", \"pepper\", \"pepper\", \"pepper\", \"pepper\", \"pepper\", \"pepper\", \"pepper\", \"pepper\", \"pepper\", \"petit\", \"petite\", \"pice\", \"pine\", \"pine\", \"pine\", \"pine\", \"pine\", \"pine\", \"pine\", \"pine\", \"pine\", \"pine\", \"pint\", \"pint\", \"pint\", \"pint\", \"pint\", \"pint\", \"pint\", \"pint\", \"pint\", \"pint\", \"pint & quot\", \"pint_glass\", \"pint_glass\", \"pint_glass\", \"pint_glass\", \"pint_glass\", \"pint_glass\", \"pint_glass\", \"pint_glass\", \"pint_glass\", \"pint_glass\", \"pint_glassappearance\", \"pint_glassappearance\", \"pinta\", \"pinta\", \"pinta\", \"pour\\u00e2\", \"pour\\u00e2\", \"pour\\u00e2\", \"pour\\u00e2\", \"pour\\u00e2\", \"presentation_longneck\", \"pretty\", \"pretty\", \"pretty\", \"pretty\", \"pretty\", \"pretty\", \"pretty\", \"pretty\", \"pretty\", \"pretty\", \"prosit\", \"prosit\", \"prosit\", \"pr\\u00e3\", \"purchase\", \"purchase\", \"purchase\", \"purchase\", \"purchase\", \"purchase\", \"purchase\", \"purchase\", \"purchase\", \"purchase\", \"qui\", \"qui\", \"quickly\", \"quickly\", \"quickly\", \"quickly\", \"quickly\", \"quickly\", \"quickly\", \"quickly\", \"quickly\", \"quickly\", \"quot\", \"quot\", \"quot\", \"quot\", \"quot\", \"quot\", \"quot\", \"quot\", \"quot\", \"quot\", \"raisin\", \"raisin\", \"raisin\", \"raisin\", \"raisin\", \"raisin\", \"raisin\", \"raisin\", \"raisin\", \"raisin\", \"rate\", \"rate\", \"rate\", \"rate\", \"rate\", \"rate\", \"rate\", \"rate\", \"rate\", \"rate\", \"rate_Beer\", \"rate_Beer\", \"rate_Beer\", \"rate_Beer\", \"rate_Beer\", \"rate_Beer\", \"rate_Beer\", \"rate_Beer\", \"rate_Beer\", \"rate_beerbasher\", \"rebro\", \"recede_hug\", \"recede_skim\", \"red\", \"red\", \"red\", \"red\", \"red\", \"red\", \"red\", \"red\", \"red\", \"red\", \"refrigerate\", \"refrigerate\", \"refrigerate\", \"refrigerate\", \"refrigerate\", \"refrigerate\", \"rement\", \"resin\", \"resin\", \"resin\", \"resin\", \"resin\", \"resin\", \"resin\", \"resin\", \"resin\", \"resin\", \"restaurant\", \"restaurant\", \"restaurant\", \"restaurant\", \"restaurant\", \"restaurant\", \"restaurant\", \"restaurant\", \"restaurant\", \"restaurant\", \"retain_cap\", \"retain_cap\", \"retain_cap\", \"retention\", \"retention\", \"retention\", \"retention\", \"retention\", \"retention\", \"retention\", \"retention\", \"retention\", \"retention\", \"retention_reduce\", \"retention_reduce\", \"retention_reduce\", \"retention_reduce\", \"retronasal\", \"retronasal\", \"retronasal\", \"retronasal\", \"retronasal\", \"retronasal\", \"rice\", \"rice\", \"rice\", \"rice\", \"rice\", \"rice\", \"rice\", \"rice\", \"rice\", \"rice\", \"rich\", \"rich\", \"rich\", \"rich\", \"rich\", \"rich\", \"rich\", \"rich\", \"rich\", \"rich\", \"roast\", \"roast\", \"roast\", \"roast\", \"roast\", \"roast\", \"roast\", \"roast\", \"roast\", \"roast\", \"roasted\", \"roasted\", \"roasted\", \"roasted\", \"roasted\", \"roasted\", \"roasted\", \"roasted\", \"roasted\", \"roasted\", \"robustness\", \"robustness\", \"robustness\", \"robustness\", \"robustness\", \"robustness_balance\", \"rum\", \"rum\", \"rum\", \"rum\", \"rum\", \"rum\", \"rum\", \"rum\", \"rum\", \"rum\", \"rum_cask\", \"sabor\", \"sample\", \"sample\", \"sample\", \"sample\", \"sample\", \"sample\", \"sample\", \"sample\", \"sample\", \"sample\", \"sample_Stegosaurus\", \"sample_brewpub\", \"sample_brewpub\", \"sample_brewpub\", \"sample_brewpub\", \"sample_brewpub\", \"sample_brewpub\", \"sample_tasting\", \"saveur_biere\", \"savour\", \"savour\", \"savour\", \"savour\", \"savour\", \"savoured\", \"scotch\", \"scotch\", \"scotch\", \"scotch\", \"scotch\", \"scotch\", \"scotch\", \"scotch\", \"scotch\", \"scotch\", \"scottish\", \"scottish\", \"scottish\", \"scottish\", \"scottish\", \"scottish\", \"scottish\", \"scottish\", \"scottish\", \"scottish\", \"scottish_ale\", \"scottish_ale\", \"scottish_ale\", \"scottish_ale\", \"scottish_ale\", \"scottish_ale\", \"scottish_ale\", \"scottish_ale\", \"scottish_ale\", \"sence\", \"sence\", \"serve\", \"serve\", \"serve\", \"serve\", \"serve\", \"serve\", \"serve\", \"serve\", \"serve\", \"serve\", \"serve_Type\", \"serve_dogfish\", \"serve_type\", \"serve_type\", \"serve_type\", \"serve_type\", \"serve_type\", \"serve_type\", \"serve_type\", \"session_Papsoe\", \"sessionability\", \"sessionability\", \"sessionability\", \"sessionability\", \"shaker_bright\", \"share\", \"share\", \"share\", \"share\", \"share\", \"share\", \"share\", \"share\", \"share\", \"share\", \"share_Mrs\", \"share_Mrs\", \"sherry\", \"sherry\", \"sherry\", \"sherry\", \"sherry\", \"sherry\", \"sherry\", \"sherry\", \"sherry\", \"sherry\", \"short\", \"short\", \"short\", \"short\", \"short\", \"short\", \"short\", \"short\", \"short\", \"short\", \"sip\", \"sip\", \"sip\", \"sip\", \"sip\", \"sip\", \"sip\", \"sip\", \"sip\", \"sip\", \"sized\", \"sized\", \"sized\", \"sized\", \"sized\", \"sized\", \"sized\", \"sized\", \"sized\", \"sized\", \"skunk\", \"skunk\", \"skunk\", \"skunk\", \"skunk\", \"skunk\", \"skunk\", \"skunk\", \"skunk\", \"skunk\", \"skunky\", \"skunky\", \"skunky\", \"skunky\", \"skunky\", \"skunky\", \"skunky\", \"skunky\", \"skunky\", \"skunky\", \"slight\", \"slight\", \"slight\", \"slight\", \"slight\", \"slight\", \"slight\", \"slight\", \"slight\", \"slight\", \"small\", \"small\", \"small\", \"small\", \"small\", \"small\", \"small\", \"small\", \"small\", \"small\", \"smell\", \"smell\", \"smell\", \"smell\", \"smell\", \"smell\", \"smell\", \"smell\", \"smell\", \"smell\", \"smoke\", \"smoke\", \"smoke\", \"smoke\", \"smoke\", \"smoke\", \"smoke\", \"smoke\", \"smoke\", \"smoke\", \"soft\", \"soft\", \"soft\", \"soft\", \"soft\", \"soft\", \"soft\", \"soft\", \"soft\", \"soft\", \"soft_carbo\", \"soft_carbo\", \"soft_carbo\", \"soft_carbon\", \"soft_carbon\", \"sour\", \"sour\", \"sour\", \"sour\", \"sour\", \"sour\", \"sour\", \"sour\", \"sour\", \"sour\", \"sourish\", \"sourish\", \"sourish\", \"sourish\", \"sourish\", \"sourish\", \"sourish\", \"sourish\", \"sourish\", \"sourish\", \"sourly\", \"sparkling_palate\", \"spice\", \"spice\", \"spice\", \"spice\", \"spice\", \"spice\", \"spice\", \"spice\", \"spice\", \"spice\", \"spicy\", \"spicy\", \"spicy\", \"spicy\", \"spicy\", \"spicy\", \"spicy\", \"spicy\", \"spicy\", \"spicy\", \"spotty_soapy\", \"spotty_soapy\", \"standard_pint\", \"standard_pint\", \"standard_pint\", \"standard_pint\", \"standard_pint\", \"standard_pint\", \"steadily_dissipate\", \"stout\", \"stout\", \"stout\", \"stout\", \"stout\", \"stout\", \"stout\", \"stout\", \"stout\", \"stout\", \"straw\", \"straw\", \"straw\", \"straw\", \"straw\", \"straw\", \"straw\", \"straw\", \"straw\", \"straw\", \"streaming\", \"streaming\", \"streaming\", \"streaming\", \"streaming\", \"streaming\", \"strong\", \"strong\", \"strong\", \"strong\", \"strong\", \"strong\", \"strong\", \"strong\", \"strong\", \"strong\", \"style\", \"style\", \"style\", \"style\", \"style\", \"style\", \"style\", \"style\", \"style\", \"style\", \"sucre\", \"sucr\\u00c3\", \"sugar\", \"sugar\", \"sugar\", \"sugar\", \"sugar\", \"sugar\", \"sugar\", \"sugar\", \"sugar\", \"sugar\", \"sutle\", \"sweetish\", \"sweetish\", \"sweetish\", \"sweetish\", \"sweetish\", \"sweetish\", \"sweetish\", \"sweetish\", \"sweetish\", \"sweetish\", \"swill\", \"swill\", \"swill\", \"swill\", \"swill\", \"swill\", \"swill\", \"swill\", \"tan\", \"tan\", \"tan\", \"tan\", \"tan\", \"tan\", \"tan\", \"tan\", \"tan\", \"tan\", \"tap\", \"tap\", \"tap\", \"tap\", \"tap\", \"tap\", \"tap\", \"tap\", \"tap\", \"tap\", \"tap_Brew\", \"tap_Brew\", \"tap_Copenhagen\", \"tap_Copenhagen\", \"tap_brewpub\", \"tap_brewpub\", \"tap_brewpub\", \"tap_brewpub\", \"tap_brewpub\", \"tap_brewpub\", \"tap_brewpub\", \"tap_brewpub\", \"tart\", \"tart\", \"tart\", \"tart\", \"tart\", \"tart\", \"tart\", \"tart\", \"tart\", \"tart\", \"tecate\", \"temperature_tulip\", \"texture\", \"texture\", \"texture\", \"texture\", \"texture\", \"texture\", \"texture\", \"texture\", \"texture\", \"texture\", \"texture_moderated\", \"thank\", \"thank\", \"thank\", \"thank\", \"thank\", \"thank\", \"thank\", \"thank\", \"thank\", \"thank\", \"thank_Dany\", \"thank_Dany\", \"thank_Dany\", \"thank_Dany\", \"thank_erzengel\", \"thanks_DuffMan\", \"thanks_jinroh\", \"the Brew Pub\", \"the Brew Pub_the Brew Pub\", \"the Hoppy Pub\", \"the Hoppy Pub\", \"thick\", \"thick\", \"thick\", \"thick\", \"thick\", \"thick\", \"thick\", \"thick\", \"thick\", \"thick\", \"think\", \"think\", \"think\", \"think\", \"think\", \"think\", \"think\", \"think\", \"think\", \"think\", \"thx\", \"thx\", \"thx\", \"thx\", \"thx\", \"thx\", \"time\", \"time\", \"time\", \"time\", \"time\", \"time\", \"time\", \"time\", \"time\", \"time\", \"tingly_start\", \"toast\", \"toast\", \"toast\", \"toast\", \"toast\", \"toast\", \"toast\", \"toast\", \"toast\", \"toast\", \"toffee\", \"toffee\", \"toffee\", \"toffee\", \"toffee\", \"toffee\", \"toffee\", \"toffee\", \"toffee\", \"toffee\", \"tone_Malt\", \"touch\", \"touch\", \"touch\", \"touch\", \"touch\", \"touch\", \"touch\", \"touch\", \"touch\", \"touch\", \"tropical\", \"tropical\", \"tropical\", \"tropical\", \"tropical\", \"tropical\", \"tropical\", \"tropical\", \"tropical\", \"tropical\", \"tropical_fruit\", \"tropical_fruit\", \"tropical_fruit\", \"tropical_fruit\", \"tropical_fruit\", \"tropical_fruit\", \"tropical_fruit\", \"tropical_fruit\", \"tropical_fruit\", \"tropical_fruit\", \"try\", \"try\", \"try\", \"try\", \"try\", \"try\", \"try\", \"try\", \"try\", \"try\", \"tr\\u00c3\", \"tulip\", \"tulip\", \"tulip\", \"tulip\", \"tulip\", \"tulip\", \"tulip\", \"tulip\", \"tulip\", \"tulip\", \"tumbler_degree\", \"tupalev\", \"tupalev\", \"turbio\", \"typical_Unibroue\", \"typical_Unibroue\", \"typical_Unibroue\", \"typical_Unibroue\", \"typical_Unibroue\", \"typical_Unibroue\", \"typical_Unibroue\", \"typical_Unibroue\", \"unstable\", \"unstable\", \"unstable\", \"unstable\", \"unstable\", \"unstable_non\", \"upfront_turn\", \"upfront_turn\", \"upfront_turn\", \"vanilla\", \"vanilla\", \"vanilla\", \"vanilla\", \"vanilla\", \"vanilla\", \"vanilla\", \"vanilla\", \"vanilla\", \"vanilla\", \"veil_foam\", \"veil_foam\", \"velp\", \"vintage\", \"vintage\", \"vintage\", \"vintage\", \"vintage\", \"vintage\", \"vintage\", \"vintage\", \"vintage\", \"vintage\", \"warm\", \"warm\", \"warm\", \"warm\", \"warm\", \"warm\", \"warm\", \"warm\", \"warm\", \"warm\", \"warming_notice\", \"warming_present\", \"wasn\\u00e2\", \"wasn\\u00e2\", \"wasn\\u00e2\", \"wasn\\u00e2\", \"wasn\\u00e2\", \"wasn\\u00e2\", \"wasn\\u00e2\", \"wasn\\u00e2\", \"wasn\\u00e2\", \"wasn\\u00e2\", \"water\", \"water\", \"water\", \"water\", \"water\", \"water\", \"water\", \"water\", \"water\", \"water\", \"watery\", \"watery\", \"watery\", \"watery\", \"watery\", \"watery\", \"watery\", \"watery\", \"watery\", \"watery\", \"watery_texture\", \"watery_texture\", \"watery_texture\", \"watery_texture\", \"watery_texture\", \"watery_texture\", \"watery_texture\", \"watery_texture\", \"watery_texture\", \"watery_texture\", \"way\", \"way\", \"way\", \"way\", \"way\", \"way\", \"way\", \"way\", \"way\", \"way\", \"weakly_tingly\", \"weizen_glass\", \"weizen_glass\", \"weizen_glass\", \"weizen_glass\", \"weizen_glass\", \"weizen_glass\", \"weizen_glass\", \"weizen_glass\", \"weizen_glass\", \"weizen_glass\", \"wheat\", \"wheat\", \"wheat\", \"wheat\", \"wheat\", \"wheat\", \"wheat\", \"wheat\", \"wheat\", \"wheat\", \"whiskey\", \"whiskey\", \"whiskey\", \"whiskey\", \"whiskey\", \"whiskey\", \"whiskey\", \"whiskey\", \"whiskey\", \"whiskey\", \"whisky\", \"whisky\", \"whisky\", \"whisky\", \"whisky\", \"whisky\", \"whisky\", \"whisky\", \"whisky\", \"whisky\", \"winphone\", \"winphone_Bottle\", \"year\", \"year\", \"year\", \"year\", \"year\", \"year\", \"year\", \"year\", \"year\", \"year\", \"yeast\", \"yeast\", \"yeast\", \"yeast\", \"yeast\", \"yeast\", \"yeast\", \"yeast\", \"yeast\", \"yeast\", \"yeasty_cobwebs\", \"yellow\", \"yellow\", \"yellow\", \"yellow\", \"yellow\", \"yellow\", \"yellow\", \"yellow\", \"yellow\", \"yellow\", \"yespr_thank\", \"yespr_thank\", \"zero_cloy\", \"zero_warming\"]}, \"R\": 30, \"lambda.step\": 0.01, \"plot.opts\": {\"xlab\": \"PC1\", \"ylab\": \"PC2\"}, \"topic.order\": [1, 6, 5, 2, 4, 10, 7, 9, 8, 3]};\n",
       "\n",
       "function LDAvis_load_lib(url, callback){\n",
       "  var s = document.createElement('script');\n",
       "  s.src = url;\n",
       "  s.async = true;\n",
       "  s.onreadystatechange = s.onload = callback;\n",
       "  s.onerror = function(){console.warn(\"failed to load library \" + url);};\n",
       "  document.getElementsByTagName(\"head\")[0].appendChild(s);\n",
       "}\n",
       "\n",
       "if(typeof(LDAvis) !== \"undefined\"){\n",
       "   // already loaded: just create the visualization\n",
       "   !function(LDAvis){\n",
       "       new LDAvis(\"#\" + \"ldavis_el1672428040812392963791583936\", ldavis_el1672428040812392963791583936_data);\n",
       "   }(LDAvis);\n",
       "}else if(typeof define === \"function\" && define.amd){\n",
       "   // require.js is available: use it to load d3/LDAvis\n",
       "   require.config({paths: {d3: \"https://d3js.org/d3.v5\"}});\n",
       "   require([\"d3\"], function(d3){\n",
       "      window.d3 = d3;\n",
       "      LDAvis_load_lib(\"https://cdn.jsdelivr.net/gh/bmabey/pyLDAvis@3.4.0/pyLDAvis/js/ldavis.v3.0.0.js\", function(){\n",
       "        new LDAvis(\"#\" + \"ldavis_el1672428040812392963791583936\", ldavis_el1672428040812392963791583936_data);\n",
       "      });\n",
       "    });\n",
       "}else{\n",
       "    // require.js not available: dynamically load d3 & LDAvis\n",
       "    LDAvis_load_lib(\"https://d3js.org/d3.v5.js\", function(){\n",
       "         LDAvis_load_lib(\"https://cdn.jsdelivr.net/gh/bmabey/pyLDAvis@3.4.0/pyLDAvis/js/ldavis.v3.0.0.js\", function(){\n",
       "                 new LDAvis(\"#\" + \"ldavis_el1672428040812392963791583936\", ldavis_el1672428040812392963791583936_data);\n",
       "            })\n",
       "         });\n",
       "}\n",
       "</script>"
      ],
      "text/plain": [
       "<IPython.core.display.HTML object>"
      ]
     },
     "execution_count": 71,
     "metadata": {},
     "output_type": "execute_result"
    }
   ],
   "source": [
    "vis_data = gensimvis.prepare(model, corpus, dictionary)\n",
    "pyLDAvis.save_html(vis_data, '../generated/figures/lda_visualization.html')\n",
    "pyLDAvis.display(vis_data)"
   ]
  },
  {
   "cell_type": "code",
   "execution_count": 70,
   "id": "abeb61d0-704c-4cd9-a222-9a0d048494e7",
   "metadata": {},
   "outputs": [
    {
     "data": {
      "application/vnd.plotly.v1+json": {
       "config": {
        "plotlyServerURL": "https://plot.ly"
       },
       "data": [
        {
         "coloraxis": "coloraxis",
         "hovertemplate": "Dominant_Topic: %{x}<br>Dataset: %{y}<br>color: %{z}<extra></extra>",
         "name": "0",
         "type": "heatmap",
         "x": [
          0,
          1,
          2,
          3,
          4,
          5,
          6,
          7,
          8,
          9
         ],
         "xaxis": "x",
         "y": [
          "BeerAdvocate",
          "RateBeer"
         ],
         "yaxis": "y",
         "z": [
          [
           4524,
           580,
           38,
           14,
           361,
           3793,
           575,
           22,
           47,
           46
          ],
          [
           199,
           1972,
           199,
           1815,
           1954,
           163,
           330,
           403,
           1222,
           1743
          ]
         ]
        }
       ],
       "layout": {
        "annotations": [
         {
          "font": {
           "color": "white",
           "size": 25
          },
          "showarrow": false,
          "text": "4524",
          "x": 0,
          "y": 0
         },
         {
          "font": {
           "color": "black",
           "size": 11.6
          },
          "showarrow": false,
          "text": "580",
          "x": 1,
          "y": 0
         },
         {
          "font": {
           "color": "black",
           "size": 10
          },
          "showarrow": false,
          "text": "38",
          "x": 2,
          "y": 0
         },
         {
          "font": {
           "color": "black",
           "size": 10
          },
          "showarrow": false,
          "text": "14",
          "x": 3,
          "y": 0
         },
         {
          "font": {
           "color": "black",
           "size": 10
          },
          "showarrow": false,
          "text": "361",
          "x": 4,
          "y": 0
         },
         {
          "font": {
           "color": "white",
           "size": 25
          },
          "showarrow": false,
          "text": "3793",
          "x": 5,
          "y": 0
         },
         {
          "font": {
           "color": "black",
           "size": 11.5
          },
          "showarrow": false,
          "text": "575",
          "x": 6,
          "y": 0
         },
         {
          "font": {
           "color": "black",
           "size": 10
          },
          "showarrow": false,
          "text": "22",
          "x": 7,
          "y": 0
         },
         {
          "font": {
           "color": "black",
           "size": 10
          },
          "showarrow": false,
          "text": "47",
          "x": 8,
          "y": 0
         },
         {
          "font": {
           "color": "black",
           "size": 10
          },
          "showarrow": false,
          "text": "46",
          "x": 9,
          "y": 0
         },
         {
          "font": {
           "color": "black",
           "size": 10
          },
          "showarrow": false,
          "text": "199",
          "x": 0,
          "y": 1
         },
         {
          "font": {
           "color": "black",
           "size": 25
          },
          "showarrow": false,
          "text": "1972",
          "x": 1,
          "y": 1
         },
         {
          "font": {
           "color": "black",
           "size": 10
          },
          "showarrow": false,
          "text": "199",
          "x": 2,
          "y": 1
         },
         {
          "font": {
           "color": "black",
           "size": 25
          },
          "showarrow": false,
          "text": "1815",
          "x": 3,
          "y": 1
         },
         {
          "font": {
           "color": "black",
           "size": 25
          },
          "showarrow": false,
          "text": "1954",
          "x": 4,
          "y": 1
         },
         {
          "font": {
           "color": "black",
           "size": 10
          },
          "showarrow": false,
          "text": "163",
          "x": 5,
          "y": 1
         },
         {
          "font": {
           "color": "black",
           "size": 10
          },
          "showarrow": false,
          "text": "330",
          "x": 6,
          "y": 1
         },
         {
          "font": {
           "color": "black",
           "size": 10
          },
          "showarrow": false,
          "text": "403",
          "x": 7,
          "y": 1
         },
         {
          "font": {
           "color": "black",
           "size": 24.44
          },
          "showarrow": false,
          "text": "1222",
          "x": 8,
          "y": 1
         },
         {
          "font": {
           "color": "black",
           "size": 25
          },
          "showarrow": false,
          "text": "1743",
          "x": 9,
          "y": 1
         }
        ],
        "coloraxis": {
         "colorscale": [
          [
           0,
           "rgb(255,255,217)"
          ],
          [
           0.125,
           "rgb(237,248,177)"
          ],
          [
           0.25,
           "rgb(199,233,180)"
          ],
          [
           0.375,
           "rgb(127,205,187)"
          ],
          [
           0.5,
           "rgb(65,182,196)"
          ],
          [
           0.625,
           "rgb(29,145,192)"
          ],
          [
           0.75,
           "rgb(34,94,168)"
          ],
          [
           0.875,
           "rgb(37,52,148)"
          ],
          [
           1,
           "rgb(8,29,88)"
          ]
         ]
        },
        "height": 500,
        "margin": {
         "t": 60
        },
        "template": {
         "data": {
          "bar": [
           {
            "error_x": {
             "color": "#2a3f5f"
            },
            "error_y": {
             "color": "#2a3f5f"
            },
            "marker": {
             "line": {
              "color": "#E5ECF6",
              "width": 0.5
             },
             "pattern": {
              "fillmode": "overlay",
              "size": 10,
              "solidity": 0.2
             }
            },
            "type": "bar"
           }
          ],
          "barpolar": [
           {
            "marker": {
             "line": {
              "color": "#E5ECF6",
              "width": 0.5
             },
             "pattern": {
              "fillmode": "overlay",
              "size": 10,
              "solidity": 0.2
             }
            },
            "type": "barpolar"
           }
          ],
          "carpet": [
           {
            "aaxis": {
             "endlinecolor": "#2a3f5f",
             "gridcolor": "white",
             "linecolor": "white",
             "minorgridcolor": "white",
             "startlinecolor": "#2a3f5f"
            },
            "baxis": {
             "endlinecolor": "#2a3f5f",
             "gridcolor": "white",
             "linecolor": "white",
             "minorgridcolor": "white",
             "startlinecolor": "#2a3f5f"
            },
            "type": "carpet"
           }
          ],
          "choropleth": [
           {
            "colorbar": {
             "outlinewidth": 0,
             "ticks": ""
            },
            "type": "choropleth"
           }
          ],
          "contour": [
           {
            "colorbar": {
             "outlinewidth": 0,
             "ticks": ""
            },
            "colorscale": [
             [
              0,
              "#0d0887"
             ],
             [
              0.1111111111111111,
              "#46039f"
             ],
             [
              0.2222222222222222,
              "#7201a8"
             ],
             [
              0.3333333333333333,
              "#9c179e"
             ],
             [
              0.4444444444444444,
              "#bd3786"
             ],
             [
              0.5555555555555556,
              "#d8576b"
             ],
             [
              0.6666666666666666,
              "#ed7953"
             ],
             [
              0.7777777777777778,
              "#fb9f3a"
             ],
             [
              0.8888888888888888,
              "#fdca26"
             ],
             [
              1,
              "#f0f921"
             ]
            ],
            "type": "contour"
           }
          ],
          "contourcarpet": [
           {
            "colorbar": {
             "outlinewidth": 0,
             "ticks": ""
            },
            "type": "contourcarpet"
           }
          ],
          "heatmap": [
           {
            "colorbar": {
             "outlinewidth": 0,
             "ticks": ""
            },
            "colorscale": [
             [
              0,
              "#0d0887"
             ],
             [
              0.1111111111111111,
              "#46039f"
             ],
             [
              0.2222222222222222,
              "#7201a8"
             ],
             [
              0.3333333333333333,
              "#9c179e"
             ],
             [
              0.4444444444444444,
              "#bd3786"
             ],
             [
              0.5555555555555556,
              "#d8576b"
             ],
             [
              0.6666666666666666,
              "#ed7953"
             ],
             [
              0.7777777777777778,
              "#fb9f3a"
             ],
             [
              0.8888888888888888,
              "#fdca26"
             ],
             [
              1,
              "#f0f921"
             ]
            ],
            "type": "heatmap"
           }
          ],
          "heatmapgl": [
           {
            "colorbar": {
             "outlinewidth": 0,
             "ticks": ""
            },
            "colorscale": [
             [
              0,
              "#0d0887"
             ],
             [
              0.1111111111111111,
              "#46039f"
             ],
             [
              0.2222222222222222,
              "#7201a8"
             ],
             [
              0.3333333333333333,
              "#9c179e"
             ],
             [
              0.4444444444444444,
              "#bd3786"
             ],
             [
              0.5555555555555556,
              "#d8576b"
             ],
             [
              0.6666666666666666,
              "#ed7953"
             ],
             [
              0.7777777777777778,
              "#fb9f3a"
             ],
             [
              0.8888888888888888,
              "#fdca26"
             ],
             [
              1,
              "#f0f921"
             ]
            ],
            "type": "heatmapgl"
           }
          ],
          "histogram": [
           {
            "marker": {
             "pattern": {
              "fillmode": "overlay",
              "size": 10,
              "solidity": 0.2
             }
            },
            "type": "histogram"
           }
          ],
          "histogram2d": [
           {
            "colorbar": {
             "outlinewidth": 0,
             "ticks": ""
            },
            "colorscale": [
             [
              0,
              "#0d0887"
             ],
             [
              0.1111111111111111,
              "#46039f"
             ],
             [
              0.2222222222222222,
              "#7201a8"
             ],
             [
              0.3333333333333333,
              "#9c179e"
             ],
             [
              0.4444444444444444,
              "#bd3786"
             ],
             [
              0.5555555555555556,
              "#d8576b"
             ],
             [
              0.6666666666666666,
              "#ed7953"
             ],
             [
              0.7777777777777778,
              "#fb9f3a"
             ],
             [
              0.8888888888888888,
              "#fdca26"
             ],
             [
              1,
              "#f0f921"
             ]
            ],
            "type": "histogram2d"
           }
          ],
          "histogram2dcontour": [
           {
            "colorbar": {
             "outlinewidth": 0,
             "ticks": ""
            },
            "colorscale": [
             [
              0,
              "#0d0887"
             ],
             [
              0.1111111111111111,
              "#46039f"
             ],
             [
              0.2222222222222222,
              "#7201a8"
             ],
             [
              0.3333333333333333,
              "#9c179e"
             ],
             [
              0.4444444444444444,
              "#bd3786"
             ],
             [
              0.5555555555555556,
              "#d8576b"
             ],
             [
              0.6666666666666666,
              "#ed7953"
             ],
             [
              0.7777777777777778,
              "#fb9f3a"
             ],
             [
              0.8888888888888888,
              "#fdca26"
             ],
             [
              1,
              "#f0f921"
             ]
            ],
            "type": "histogram2dcontour"
           }
          ],
          "mesh3d": [
           {
            "colorbar": {
             "outlinewidth": 0,
             "ticks": ""
            },
            "type": "mesh3d"
           }
          ],
          "parcoords": [
           {
            "line": {
             "colorbar": {
              "outlinewidth": 0,
              "ticks": ""
             }
            },
            "type": "parcoords"
           }
          ],
          "pie": [
           {
            "automargin": true,
            "type": "pie"
           }
          ],
          "scatter": [
           {
            "fillpattern": {
             "fillmode": "overlay",
             "size": 10,
             "solidity": 0.2
            },
            "type": "scatter"
           }
          ],
          "scatter3d": [
           {
            "line": {
             "colorbar": {
              "outlinewidth": 0,
              "ticks": ""
             }
            },
            "marker": {
             "colorbar": {
              "outlinewidth": 0,
              "ticks": ""
             }
            },
            "type": "scatter3d"
           }
          ],
          "scattercarpet": [
           {
            "marker": {
             "colorbar": {
              "outlinewidth": 0,
              "ticks": ""
             }
            },
            "type": "scattercarpet"
           }
          ],
          "scattergeo": [
           {
            "marker": {
             "colorbar": {
              "outlinewidth": 0,
              "ticks": ""
             }
            },
            "type": "scattergeo"
           }
          ],
          "scattergl": [
           {
            "marker": {
             "colorbar": {
              "outlinewidth": 0,
              "ticks": ""
             }
            },
            "type": "scattergl"
           }
          ],
          "scattermapbox": [
           {
            "marker": {
             "colorbar": {
              "outlinewidth": 0,
              "ticks": ""
             }
            },
            "type": "scattermapbox"
           }
          ],
          "scatterpolar": [
           {
            "marker": {
             "colorbar": {
              "outlinewidth": 0,
              "ticks": ""
             }
            },
            "type": "scatterpolar"
           }
          ],
          "scatterpolargl": [
           {
            "marker": {
             "colorbar": {
              "outlinewidth": 0,
              "ticks": ""
             }
            },
            "type": "scatterpolargl"
           }
          ],
          "scatterternary": [
           {
            "marker": {
             "colorbar": {
              "outlinewidth": 0,
              "ticks": ""
             }
            },
            "type": "scatterternary"
           }
          ],
          "surface": [
           {
            "colorbar": {
             "outlinewidth": 0,
             "ticks": ""
            },
            "colorscale": [
             [
              0,
              "#0d0887"
             ],
             [
              0.1111111111111111,
              "#46039f"
             ],
             [
              0.2222222222222222,
              "#7201a8"
             ],
             [
              0.3333333333333333,
              "#9c179e"
             ],
             [
              0.4444444444444444,
              "#bd3786"
             ],
             [
              0.5555555555555556,
              "#d8576b"
             ],
             [
              0.6666666666666666,
              "#ed7953"
             ],
             [
              0.7777777777777778,
              "#fb9f3a"
             ],
             [
              0.8888888888888888,
              "#fdca26"
             ],
             [
              1,
              "#f0f921"
             ]
            ],
            "type": "surface"
           }
          ],
          "table": [
           {
            "cells": {
             "fill": {
              "color": "#EBF0F8"
             },
             "line": {
              "color": "white"
             }
            },
            "header": {
             "fill": {
              "color": "#C8D4E3"
             },
             "line": {
              "color": "white"
             }
            },
            "type": "table"
           }
          ]
         },
         "layout": {
          "annotationdefaults": {
           "arrowcolor": "#2a3f5f",
           "arrowhead": 0,
           "arrowwidth": 1
          },
          "autotypenumbers": "strict",
          "coloraxis": {
           "colorbar": {
            "outlinewidth": 0,
            "ticks": ""
           }
          },
          "colorscale": {
           "diverging": [
            [
             0,
             "#8e0152"
            ],
            [
             0.1,
             "#c51b7d"
            ],
            [
             0.2,
             "#de77ae"
            ],
            [
             0.3,
             "#f1b6da"
            ],
            [
             0.4,
             "#fde0ef"
            ],
            [
             0.5,
             "#f7f7f7"
            ],
            [
             0.6,
             "#e6f5d0"
            ],
            [
             0.7,
             "#b8e186"
            ],
            [
             0.8,
             "#7fbc41"
            ],
            [
             0.9,
             "#4d9221"
            ],
            [
             1,
             "#276419"
            ]
           ],
           "sequential": [
            [
             0,
             "#0d0887"
            ],
            [
             0.1111111111111111,
             "#46039f"
            ],
            [
             0.2222222222222222,
             "#7201a8"
            ],
            [
             0.3333333333333333,
             "#9c179e"
            ],
            [
             0.4444444444444444,
             "#bd3786"
            ],
            [
             0.5555555555555556,
             "#d8576b"
            ],
            [
             0.6666666666666666,
             "#ed7953"
            ],
            [
             0.7777777777777778,
             "#fb9f3a"
            ],
            [
             0.8888888888888888,
             "#fdca26"
            ],
            [
             1,
             "#f0f921"
            ]
           ],
           "sequentialminus": [
            [
             0,
             "#0d0887"
            ],
            [
             0.1111111111111111,
             "#46039f"
            ],
            [
             0.2222222222222222,
             "#7201a8"
            ],
            [
             0.3333333333333333,
             "#9c179e"
            ],
            [
             0.4444444444444444,
             "#bd3786"
            ],
            [
             0.5555555555555556,
             "#d8576b"
            ],
            [
             0.6666666666666666,
             "#ed7953"
            ],
            [
             0.7777777777777778,
             "#fb9f3a"
            ],
            [
             0.8888888888888888,
             "#fdca26"
            ],
            [
             1,
             "#f0f921"
            ]
           ]
          },
          "colorway": [
           "#636efa",
           "#EF553B",
           "#00cc96",
           "#ab63fa",
           "#FFA15A",
           "#19d3f3",
           "#FF6692",
           "#B6E880",
           "#FF97FF",
           "#FECB52"
          ],
          "font": {
           "color": "#2a3f5f"
          },
          "geo": {
           "bgcolor": "white",
           "lakecolor": "white",
           "landcolor": "#E5ECF6",
           "showlakes": true,
           "showland": true,
           "subunitcolor": "white"
          },
          "hoverlabel": {
           "align": "left"
          },
          "hovermode": "closest",
          "mapbox": {
           "style": "light"
          },
          "paper_bgcolor": "white",
          "plot_bgcolor": "#E5ECF6",
          "polar": {
           "angularaxis": {
            "gridcolor": "white",
            "linecolor": "white",
            "ticks": ""
           },
           "bgcolor": "#E5ECF6",
           "radialaxis": {
            "gridcolor": "white",
            "linecolor": "white",
            "ticks": ""
           }
          },
          "scene": {
           "xaxis": {
            "backgroundcolor": "#E5ECF6",
            "gridcolor": "white",
            "gridwidth": 2,
            "linecolor": "white",
            "showbackground": true,
            "ticks": "",
            "zerolinecolor": "white"
           },
           "yaxis": {
            "backgroundcolor": "#E5ECF6",
            "gridcolor": "white",
            "gridwidth": 2,
            "linecolor": "white",
            "showbackground": true,
            "ticks": "",
            "zerolinecolor": "white"
           },
           "zaxis": {
            "backgroundcolor": "#E5ECF6",
            "gridcolor": "white",
            "gridwidth": 2,
            "linecolor": "white",
            "showbackground": true,
            "ticks": "",
            "zerolinecolor": "white"
           }
          },
          "shapedefaults": {
           "line": {
            "color": "#2a3f5f"
           }
          },
          "ternary": {
           "aaxis": {
            "gridcolor": "white",
            "linecolor": "white",
            "ticks": ""
           },
           "baxis": {
            "gridcolor": "white",
            "linecolor": "white",
            "ticks": ""
           },
           "bgcolor": "#E5ECF6",
           "caxis": {
            "gridcolor": "white",
            "linecolor": "white",
            "ticks": ""
           }
          },
          "title": {
           "x": 0.05
          },
          "xaxis": {
           "automargin": true,
           "gridcolor": "white",
           "linecolor": "white",
           "ticks": "",
           "title": {
            "standoff": 15
           },
           "zerolinecolor": "white",
           "zerolinewidth": 2
          },
          "yaxis": {
           "automargin": true,
           "gridcolor": "white",
           "linecolor": "white",
           "ticks": "",
           "title": {
            "standoff": 15
           },
           "zerolinecolor": "white",
           "zerolinewidth": 2
          }
         }
        },
        "width": 900,
        "xaxis": {
         "anchor": "y",
         "constrain": "domain",
         "domain": [
          0,
          1
         ],
         "scaleanchor": "y",
         "title": {
          "text": "Dominant_Topic"
         }
        },
        "yaxis": {
         "anchor": "x",
         "autorange": "reversed",
         "constrain": "domain",
         "domain": [
          0,
          1
         ],
         "title": {
          "text": "Dataset"
         }
        }
       }
      },
      "image/png": "[encoded data removed]",
      "text/html": [
       "<div>                            <div id=\"e98e012c-579f-4ffb-b2b1-f1efebcd2fe9\" class=\"plotly-graph-div\" style=\"height:500px; width:900px;\"></div>            <script type=\"text/javascript\">                require([\"plotly\"], function(Plotly) {                    window.PLOTLYENV=window.PLOTLYENV || {};                                    if (document.getElementById(\"e98e012c-579f-4ffb-b2b1-f1efebcd2fe9\")) {                    Plotly.newPlot(                        \"e98e012c-579f-4ffb-b2b1-f1efebcd2fe9\",                        [{\"coloraxis\":\"coloraxis\",\"name\":\"0\",\"x\":[0,1,2,3,4,5,6,7,8,9],\"y\":[\"BeerAdvocate\",\"RateBeer\"],\"z\":[[4524,580,38,14,361,3793,575,22,47,46],[199,1972,199,1815,1954,163,330,403,1222,1743]],\"type\":\"heatmap\",\"xaxis\":\"x\",\"yaxis\":\"y\",\"hovertemplate\":\"Dominant_Topic: %{x}\\u003cbr\\u003eDataset: %{y}\\u003cbr\\u003ecolor: %{z}\\u003cextra\\u003e\\u003c\\u002fextra\\u003e\"}],                        {\"template\":{\"data\":{\"histogram2dcontour\":[{\"type\":\"histogram2dcontour\",\"colorbar\":{\"outlinewidth\":0,\"ticks\":\"\"},\"colorscale\":[[0.0,\"#0d0887\"],[0.1111111111111111,\"#46039f\"],[0.2222222222222222,\"#7201a8\"],[0.3333333333333333,\"#9c179e\"],[0.4444444444444444,\"#bd3786\"],[0.5555555555555556,\"#d8576b\"],[0.6666666666666666,\"#ed7953\"],[0.7777777777777778,\"#fb9f3a\"],[0.8888888888888888,\"#fdca26\"],[1.0,\"#f0f921\"]]}],\"choropleth\":[{\"type\":\"choropleth\",\"colorbar\":{\"outlinewidth\":0,\"ticks\":\"\"}}],\"histogram2d\":[{\"type\":\"histogram2d\",\"colorbar\":{\"outlinewidth\":0,\"ticks\":\"\"},\"colorscale\":[[0.0,\"#0d0887\"],[0.1111111111111111,\"#46039f\"],[0.2222222222222222,\"#7201a8\"],[0.3333333333333333,\"#9c179e\"],[0.4444444444444444,\"#bd3786\"],[0.5555555555555556,\"#d8576b\"],[0.6666666666666666,\"#ed7953\"],[0.7777777777777778,\"#fb9f3a\"],[0.8888888888888888,\"#fdca26\"],[1.0,\"#f0f921\"]]}],\"heatmap\":[{\"type\":\"heatmap\",\"colorbar\":{\"outlinewidth\":0,\"ticks\":\"\"},\"colorscale\":[[0.0,\"#0d0887\"],[0.1111111111111111,\"#46039f\"],[0.2222222222222222,\"#7201a8\"],[0.3333333333333333,\"#9c179e\"],[0.4444444444444444,\"#bd3786\"],[0.5555555555555556,\"#d8576b\"],[0.6666666666666666,\"#ed7953\"],[0.7777777777777778,\"#fb9f3a\"],[0.8888888888888888,\"#fdca26\"],[1.0,\"#f0f921\"]]}],\"heatmapgl\":[{\"type\":\"heatmapgl\",\"colorbar\":{\"outlinewidth\":0,\"ticks\":\"\"},\"colorscale\":[[0.0,\"#0d0887\"],[0.1111111111111111,\"#46039f\"],[0.2222222222222222,\"#7201a8\"],[0.3333333333333333,\"#9c179e\"],[0.4444444444444444,\"#bd3786\"],[0.5555555555555556,\"#d8576b\"],[0.6666666666666666,\"#ed7953\"],[0.7777777777777778,\"#fb9f3a\"],[0.8888888888888888,\"#fdca26\"],[1.0,\"#f0f921\"]]}],\"contourcarpet\":[{\"type\":\"contourcarpet\",\"colorbar\":{\"outlinewidth\":0,\"ticks\":\"\"}}],\"contour\":[{\"type\":\"contour\",\"colorbar\":{\"outlinewidth\":0,\"ticks\":\"\"},\"colorscale\":[[0.0,\"#0d0887\"],[0.1111111111111111,\"#46039f\"],[0.2222222222222222,\"#7201a8\"],[0.3333333333333333,\"#9c179e\"],[0.4444444444444444,\"#bd3786\"],[0.5555555555555556,\"#d8576b\"],[0.6666666666666666,\"#ed7953\"],[0.7777777777777778,\"#fb9f3a\"],[0.8888888888888888,\"#fdca26\"],[1.0,\"#f0f921\"]]}],\"surface\":[{\"type\":\"surface\",\"colorbar\":{\"outlinewidth\":0,\"ticks\":\"\"},\"colorscale\":[[0.0,\"#0d0887\"],[0.1111111111111111,\"#46039f\"],[0.2222222222222222,\"#7201a8\"],[0.3333333333333333,\"#9c179e\"],[0.4444444444444444,\"#bd3786\"],[0.5555555555555556,\"#d8576b\"],[0.6666666666666666,\"#ed7953\"],[0.7777777777777778,\"#fb9f3a\"],[0.8888888888888888,\"#fdca26\"],[1.0,\"#f0f921\"]]}],\"mesh3d\":[{\"type\":\"mesh3d\",\"colorbar\":{\"outlinewidth\":0,\"ticks\":\"\"}}],\"scatter\":[{\"fillpattern\":{\"fillmode\":\"overlay\",\"size\":10,\"solidity\":0.2},\"type\":\"scatter\"}],\"parcoords\":[{\"type\":\"parcoords\",\"line\":{\"colorbar\":{\"outlinewidth\":0,\"ticks\":\"\"}}}],\"scatterpolargl\":[{\"type\":\"scatterpolargl\",\"marker\":{\"colorbar\":{\"outlinewidth\":0,\"ticks\":\"\"}}}],\"bar\":[{\"error_x\":{\"color\":\"#2a3f5f\"},\"error_y\":{\"color\":\"#2a3f5f\"},\"marker\":{\"line\":{\"color\":\"#E5ECF6\",\"width\":0.5},\"pattern\":{\"fillmode\":\"overlay\",\"size\":10,\"solidity\":0.2}},\"type\":\"bar\"}],\"scattergeo\":[{\"type\":\"scattergeo\",\"marker\":{\"colorbar\":{\"outlinewidth\":0,\"ticks\":\"\"}}}],\"scatterpolar\":[{\"type\":\"scatterpolar\",\"marker\":{\"colorbar\":{\"outlinewidth\":0,\"ticks\":\"\"}}}],\"histogram\":[{\"marker\":{\"pattern\":{\"fillmode\":\"overlay\",\"size\":10,\"solidity\":0.2}},\"type\":\"histogram\"}],\"scattergl\":[{\"type\":\"scattergl\",\"marker\":{\"colorbar\":{\"outlinewidth\":0,\"ticks\":\"\"}}}],\"scatter3d\":[{\"type\":\"scatter3d\",\"line\":{\"colorbar\":{\"outlinewidth\":0,\"ticks\":\"\"}},\"marker\":{\"colorbar\":{\"outlinewidth\":0,\"ticks\":\"\"}}}],\"scattermapbox\":[{\"type\":\"scattermapbox\",\"marker\":{\"colorbar\":{\"outlinewidth\":0,\"ticks\":\"\"}}}],\"scatterternary\":[{\"type\":\"scatterternary\",\"marker\":{\"colorbar\":{\"outlinewidth\":0,\"ticks\":\"\"}}}],\"scattercarpet\":[{\"type\":\"scattercarpet\",\"marker\":{\"colorbar\":{\"outlinewidth\":0,\"ticks\":\"\"}}}],\"carpet\":[{\"aaxis\":{\"endlinecolor\":\"#2a3f5f\",\"gridcolor\":\"white\",\"linecolor\":\"white\",\"minorgridcolor\":\"white\",\"startlinecolor\":\"#2a3f5f\"},\"baxis\":{\"endlinecolor\":\"#2a3f5f\",\"gridcolor\":\"white\",\"linecolor\":\"white\",\"minorgridcolor\":\"white\",\"startlinecolor\":\"#2a3f5f\"},\"type\":\"carpet\"}],\"table\":[{\"cells\":{\"fill\":{\"color\":\"#EBF0F8\"},\"line\":{\"color\":\"white\"}},\"header\":{\"fill\":{\"color\":\"#C8D4E3\"},\"line\":{\"color\":\"white\"}},\"type\":\"table\"}],\"barpolar\":[{\"marker\":{\"line\":{\"color\":\"#E5ECF6\",\"width\":0.5},\"pattern\":{\"fillmode\":\"overlay\",\"size\":10,\"solidity\":0.2}},\"type\":\"barpolar\"}],\"pie\":[{\"automargin\":true,\"type\":\"pie\"}]},\"layout\":{\"autotypenumbers\":\"strict\",\"colorway\":[\"#636efa\",\"#EF553B\",\"#00cc96\",\"#ab63fa\",\"#FFA15A\",\"#19d3f3\",\"#FF6692\",\"#B6E880\",\"#FF97FF\",\"#FECB52\"],\"font\":{\"color\":\"#2a3f5f\"},\"hovermode\":\"closest\",\"hoverlabel\":{\"align\":\"left\"},\"paper_bgcolor\":\"white\",\"plot_bgcolor\":\"#E5ECF6\",\"polar\":{\"bgcolor\":\"#E5ECF6\",\"angularaxis\":{\"gridcolor\":\"white\",\"linecolor\":\"white\",\"ticks\":\"\"},\"radialaxis\":{\"gridcolor\":\"white\",\"linecolor\":\"white\",\"ticks\":\"\"}},\"ternary\":{\"bgcolor\":\"#E5ECF6\",\"aaxis\":{\"gridcolor\":\"white\",\"linecolor\":\"white\",\"ticks\":\"\"},\"baxis\":{\"gridcolor\":\"white\",\"linecolor\":\"white\",\"ticks\":\"\"},\"caxis\":{\"gridcolor\":\"white\",\"linecolor\":\"white\",\"ticks\":\"\"}},\"coloraxis\":{\"colorbar\":{\"outlinewidth\":0,\"ticks\":\"\"}},\"colorscale\":{\"sequential\":[[0.0,\"#0d0887\"],[0.1111111111111111,\"#46039f\"],[0.2222222222222222,\"#7201a8\"],[0.3333333333333333,\"#9c179e\"],[0.4444444444444444,\"#bd3786\"],[0.5555555555555556,\"#d8576b\"],[0.6666666666666666,\"#ed7953\"],[0.7777777777777778,\"#fb9f3a\"],[0.8888888888888888,\"#fdca26\"],[1.0,\"#f0f921\"]],\"sequentialminus\":[[0.0,\"#0d0887\"],[0.1111111111111111,\"#46039f\"],[0.2222222222222222,\"#7201a8\"],[0.3333333333333333,\"#9c179e\"],[0.4444444444444444,\"#bd3786\"],[0.5555555555555556,\"#d8576b\"],[0.6666666666666666,\"#ed7953\"],[0.7777777777777778,\"#fb9f3a\"],[0.8888888888888888,\"#fdca26\"],[1.0,\"#f0f921\"]],\"diverging\":[[0,\"#8e0152\"],[0.1,\"#c51b7d\"],[0.2,\"#de77ae\"],[0.3,\"#f1b6da\"],[0.4,\"#fde0ef\"],[0.5,\"#f7f7f7\"],[0.6,\"#e6f5d0\"],[0.7,\"#b8e186\"],[0.8,\"#7fbc41\"],[0.9,\"#4d9221\"],[1,\"#276419\"]]},\"xaxis\":{\"gridcolor\":\"white\",\"linecolor\":\"white\",\"ticks\":\"\",\"title\":{\"standoff\":15},\"zerolinecolor\":\"white\",\"automargin\":true,\"zerolinewidth\":2},\"yaxis\":{\"gridcolor\":\"white\",\"linecolor\":\"white\",\"ticks\":\"\",\"title\":{\"standoff\":15},\"zerolinecolor\":\"white\",\"automargin\":true,\"zerolinewidth\":2},\"scene\":{\"xaxis\":{\"backgroundcolor\":\"#E5ECF6\",\"gridcolor\":\"white\",\"linecolor\":\"white\",\"showbackground\":true,\"ticks\":\"\",\"zerolinecolor\":\"white\",\"gridwidth\":2},\"yaxis\":{\"backgroundcolor\":\"#E5ECF6\",\"gridcolor\":\"white\",\"linecolor\":\"white\",\"showbackground\":true,\"ticks\":\"\",\"zerolinecolor\":\"white\",\"gridwidth\":2},\"zaxis\":{\"backgroundcolor\":\"#E5ECF6\",\"gridcolor\":\"white\",\"linecolor\":\"white\",\"showbackground\":true,\"ticks\":\"\",\"zerolinecolor\":\"white\",\"gridwidth\":2}},\"shapedefaults\":{\"line\":{\"color\":\"#2a3f5f\"}},\"annotationdefaults\":{\"arrowcolor\":\"#2a3f5f\",\"arrowhead\":0,\"arrowwidth\":1},\"geo\":{\"bgcolor\":\"white\",\"landcolor\":\"#E5ECF6\",\"subunitcolor\":\"white\",\"showland\":true,\"showlakes\":true,\"lakecolor\":\"white\"},\"title\":{\"x\":0.05},\"mapbox\":{\"style\":\"light\"}}},\"xaxis\":{\"anchor\":\"y\",\"domain\":[0.0,1.0],\"scaleanchor\":\"y\",\"constrain\":\"domain\",\"title\":{\"text\":\"Dominant_Topic\"}},\"yaxis\":{\"anchor\":\"x\",\"domain\":[0.0,1.0],\"autorange\":\"reversed\",\"constrain\":\"domain\",\"title\":{\"text\":\"Dataset\"}},\"coloraxis\":{\"colorscale\":[[0.0,\"rgb(255,255,217)\"],[0.125,\"rgb(237,248,177)\"],[0.25,\"rgb(199,233,180)\"],[0.375,\"rgb(127,205,187)\"],[0.5,\"rgb(65,182,196)\"],[0.625,\"rgb(29,145,192)\"],[0.75,\"rgb(34,94,168)\"],[0.875,\"rgb(37,52,148)\"],[1.0,\"rgb(8,29,88)\"]]},\"margin\":{\"t\":60},\"annotations\":[{\"font\":{\"color\":\"white\",\"size\":25},\"showarrow\":false,\"text\":\"4524\",\"x\":0,\"y\":0},{\"font\":{\"color\":\"black\",\"size\":11.6},\"showarrow\":false,\"text\":\"580\",\"x\":1,\"y\":0},{\"font\":{\"color\":\"black\",\"size\":10},\"showarrow\":false,\"text\":\"38\",\"x\":2,\"y\":0},{\"font\":{\"color\":\"black\",\"size\":10},\"showarrow\":false,\"text\":\"14\",\"x\":3,\"y\":0},{\"font\":{\"color\":\"black\",\"size\":10},\"showarrow\":false,\"text\":\"361\",\"x\":4,\"y\":0},{\"font\":{\"color\":\"white\",\"size\":25},\"showarrow\":false,\"text\":\"3793\",\"x\":5,\"y\":0},{\"font\":{\"color\":\"black\",\"size\":11.5},\"showarrow\":false,\"text\":\"575\",\"x\":6,\"y\":0},{\"font\":{\"color\":\"black\",\"size\":10},\"showarrow\":false,\"text\":\"22\",\"x\":7,\"y\":0},{\"font\":{\"color\":\"black\",\"size\":10},\"showarrow\":false,\"text\":\"47\",\"x\":8,\"y\":0},{\"font\":{\"color\":\"black\",\"size\":10},\"showarrow\":false,\"text\":\"46\",\"x\":9,\"y\":0},{\"font\":{\"color\":\"black\",\"size\":10},\"showarrow\":false,\"text\":\"199\",\"x\":0,\"y\":1},{\"font\":{\"color\":\"black\",\"size\":25},\"showarrow\":false,\"text\":\"1972\",\"x\":1,\"y\":1},{\"font\":{\"color\":\"black\",\"size\":10},\"showarrow\":false,\"text\":\"199\",\"x\":2,\"y\":1},{\"font\":{\"color\":\"black\",\"size\":25},\"showarrow\":false,\"text\":\"1815\",\"x\":3,\"y\":1},{\"font\":{\"color\":\"black\",\"size\":25},\"showarrow\":false,\"text\":\"1954\",\"x\":4,\"y\":1},{\"font\":{\"color\":\"black\",\"size\":10},\"showarrow\":false,\"text\":\"163\",\"x\":5,\"y\":1},{\"font\":{\"color\":\"black\",\"size\":10},\"showarrow\":false,\"text\":\"330\",\"x\":6,\"y\":1},{\"font\":{\"color\":\"black\",\"size\":10},\"showarrow\":false,\"text\":\"403\",\"x\":7,\"y\":1},{\"font\":{\"color\":\"black\",\"size\":24.44},\"showarrow\":false,\"text\":\"1222\",\"x\":8,\"y\":1},{\"font\":{\"color\":\"black\",\"size\":25},\"showarrow\":false,\"text\":\"1743\",\"x\":9,\"y\":1}],\"height\":500,\"width\":900},                        {\"responsive\": true}                    ).then(function(){\n",
       "                            \n",
       "var gd = document.getElementById('e98e012c-579f-4ffb-b2b1-f1efebcd2fe9');\n",
       "var x = new MutationObserver(function (mutations, observer) {{\n",
       "        var display = window.getComputedStyle(gd).display;\n",
       "        if (!display || display === 'none') {{\n",
       "            console.log([gd, 'removed!']);\n",
       "            Plotly.purge(gd);\n",
       "            observer.disconnect();\n",
       "        }}\n",
       "}});\n",
       "\n",
       "// Listen for the removal of the full notebook cells\n",
       "var notebookContainer = gd.closest('#notebook-container');\n",
       "if (notebookContainer) {{\n",
       "    x.observe(notebookContainer, {childList: true});\n",
       "}}\n",
       "\n",
       "// Listen for the clearing of the current output cell\n",
       "var outputEl = gd.closest('.output');\n",
       "if (outputEl) {{\n",
       "    x.observe(outputEl, {childList: true});\n",
       "}}\n",
       "\n",
       "                        })                };                });            </script>        </div>"
      ]
     },
     "metadata": {},
     "output_type": "display_data"
    }
   ],
   "source": [
    "fig = px.imshow(topic_distribution, color_continuous_scale= \"YlGnBu\")\n",
    "for i in range(len(fig.data[0]['z'])):\n",
    "    for j in range(len(fig.data[0]['z'][i])):\n",
    "        value = fig.data[0]['z'][i][j]\n",
    "        couleur= 'black'\n",
    "        if (value == 4524) or (value == 3793):\n",
    "            couleur= 'white'\n",
    "        font_size = max(10, min(25, value / 50))  # Scale font size between 10 and 30\n",
    "        fig.add_annotation(\n",
    "            x=j,\n",
    "            y=i,\n",
    "            text=str(value),\n",
    "            showarrow=False,\n",
    "            font=dict(size=font_size, color= couleur)\n",
    "        )\n",
    "fig.layout.height = 500\n",
    "fig.layout.width = 900\n",
    "\n",
    "fig.write_html('../generated/figures/topic_distribution_heatmap.html')\n",
    "fig.show()"
   ]
  },
  {
   "cell_type": "markdown",
   "id": "498736e6-eab1-4712-9fab-fc4ca8578bcd",
   "metadata": {},
   "source": [
    "## **Analysis of LDA Results**"
   ]
  },
  {
   "cell_type": "markdown",
   "id": "2c91ff97-9f08-4461-9d2c-fd54edcf2781",
   "metadata": {},
   "source": [
    "#### **Overview of Topic Distribution**\n",
    "\n",
    "The distribution of topics between BeerAdvocate and RateBeer reviews reveals significant differences in the focus and themes of each platform:\n",
    "\n",
    "| **Dominant Topic** |   0   |   1   |  2  |  3  |   4  |   5  |  6  |  7  |   8   |   9   |\n",
    "|--------------------|-------|-------|-----|-----|------|------|-----|-----|-------|-------|\n",
    "| **BeerAdvocate**   | 4524  | 580   | 38  | 14  | 361  | 3793 | 575 | 22  | 47    | 46    |\n",
    "| **RateBeer**       | 199   | 1972  |199  |1815 |1954  |163   |330  |403  |1222   |1743   |\n",
    "\n",
    "#### Key Observations:\n",
    "- BeerAdvocate topics are **heavily concentrated** in Topics 0, 5, and 1 and 6, with little presence in other topics.\n",
    "- RateBeer topics are **more evenly distributed**, dominating Topics 1, 3, 4, 7, 8, and 9.\n",
    "\n",
    "This distribution indicates that BeerAdvocate reviews tend to focus on a **narrower range of thematic categories**, while RateBeer covers a **broader spectrum of beer-related themes**.\n",
    "\n",
    "---\n",
    "\n",
    "### **Interpretation of Topics**\n",
    "\n",
    "Below is an interpretation of each topic based on its top words:\n",
    "\n",
    "#### **Topic 0 (BeerAdvocate-heavy)**:\n",
    "- **Top Words**: \"quot\", \"nose\", \"ale\", \"smell\", \"glass\", \"coffee\", \"lace\", \"brew\", \"leave\", \"mouthfeel\"\n",
    "- **Interpretation**: Focus on sensory descriptors like aroma (\"nose\", \"smell\") and beer appearance in the glass (\"lace\"). It reflects a traditional beer review style with attention to details like \"mouthfeel\" and \"coffee\" notes.\n",
    "\n",
    "#### **Topic 1 (RateBeer-heavy)**:\n",
    "- **Top Words**: \"lager\", \"pale\", \"bad\", \"corn\", \"yellow\", \"nose\", \"drink\", \"gold\", \"pretty\"\n",
    "- **Interpretation**: Discusses lagers, pale beers, and simpler styles (e.g., \"corn\", \"bad\"). Highlights RateBeer’s tendency to cover mainstream or lighter beer styles, sometimes critically.\n",
    "\n",
    "#### **Topic 2 (RateBeer)**:\n",
    "- **Top Words**: \"appearance\", \"amp\", \"ounce\", \"lacing\", \"nose\", \"smell\", \"mouthfeel\", \"overall\"\n",
    "- **Interpretation**: A structured rating approach focusing on \"appearance\", \"overall\" impressions, and sensory details like \"smell\". Indicates a methodical review style prevalent on RateBeer.\n",
    "\n",
    "#### **Topic 3 (RateBeer)**:\n",
    "- **Top Words**: \"small\", \"nose\", \"pale\", \"hazy\", \"yellow\", \"grain\", \"citrus\"\n",
    "- **Interpretation**: Mentions of \"hazy\", \"citrus\", and \"grain\" suggest a focus on modern craft beer trends, particularly hazy pale ales.\n",
    "\n",
    "#### **Topic 4 (RateBeer)**:\n",
    "- **Top Words**: \"yeast\", \"spice\", \"citrus\", \"wheat\", \"apple\", \"spicy\", \"banana\"\n",
    "- **Interpretation**: Notes common in Belgian-style beers, wheat beers, or more complex fruity/spicy profiles. Highlights RateBeer’s ability to capture a broader stylistic range.\n",
    "\n",
    "#### **Topic 5 (BeerAdvocate-heavy)**:\n",
    "- **Top Words**: \"smell\", \"glass\", \"lacing\", \"finger\", \"overall\", \"drink\", \"great\", \"mouthfeel\"\n",
    "- **Interpretation**: A structured sensory topic focusing on beer appearance and aroma. Indicates BeerAdvocate’s focus on the visual and aromatic experience.\n",
    "\n",
    "#### **Topic 6 (Mostly BeerAdvocate)**:\n",
    "- **Top Words**: \"coffee\", \"nose\", \"pretty\", \"feel\", \"mouth\", \"great\"\n",
    "- **Interpretation**: Reflects reviews of stouts, porters, or darker beers with coffee flavors. Another sensory-heavy topic focused on aroma and flavor.\n",
    "\n",
    "#### **Topic 7 (RateBeer)**:\n",
    "- **Top Words**: \"smell\", \"brewpub\", \"tap\", \"rate\", \"thank\", \"Beer Buddy\", \"rate_Beer\"\n",
    "- **Interpretation**: References to \"brewpub\" and \"tap\" suggest discussion of drinking environments. Mentions of \"Beer Buddy\" and \"rate_Beer\" indicate a focus on tools/platform-specific experiences.\n",
    "\n",
    "#### **Topic 8 (RateBeer)**:\n",
    "- **Top Words**: \"Taste\", \"Aroma\", \"coffee\", \"citrus\", \"roasted\", \"hazy\", \"Bottle\"\n",
    "- **Interpretation**: Combines descriptors like \"citrus\" and \"roasted coffee\", highlighting RateBeer’s diverse coverage of styles.\n",
    "\n",
    "#### **Topic 9 (RateBeer)**:\n",
    "- **Top Words**: \"flavour\", \"colour\", \"malty\", \"Bottle\", \"hoppy\", \"yellow\", \"pale\"\n",
    "- **Interpretation**: Reflects a more global lexicon with British spellings (\"flavour\", \"colour\"). Covers a range of flavor profiles, indicating RateBeer’s international audience and stylistic breadth.\n",
    "\n",
    "---\n",
    "\n",
    "### **Insights for New Users**\n",
    "\n",
    "Based on the results, here’s what each platform offers:\n",
    "\n",
    "#### **BeerAdvocate**:\n",
    "- **Themes**: Focus on aroma, appearance, and structured sensory details.\n",
    "- **Strengths**: Classic beer rating style with detailed visual and aromatic evaluations.\n",
    "- **Recommendation**: Best for users who value traditional beer reviews emphasizing sensory descriptions and aesthetics.\n",
    "\n",
    "#### **RateBeer**:\n",
    "- **Themes**: Broad coverage of beer styles, environments, and modern trends.\n",
    "- **Strengths**: Includes craft styles (hazy, fruity, spicy), drinking environments, and global flavor profiles.\n",
    "- **Recommendation**: Ideal for users seeking diverse beer styles, brewery experiences, and a global perspective.\n",
    "\n",
    "---\n",
    "\n",
    "### **Conclusion**\n",
    "\n",
    "This analysis highlights distinct thematic focuses on each platform:\n",
    "- **BeerAdvocate**: Detailed sensory reviews and visual descriptions dominate.\n",
    "- **RateBeer**: Broader, trendier, and more global in its beer coverage.\n",
    "\n",
    "By understanding these differences, new users can choose the platform that aligns with their preferences and beer interests.\n"
   ]
  },
  {
   "cell_type": "code",
   "execution_count": null,
   "id": "e5ed8e19-721d-4c67-90a1-a60a599dd399",
   "metadata": {},
   "outputs": [],
   "source": []
  }
 ],
 "metadata": {
  "kernelspec": {
   "display_name": "Python 3 (ipykernel)",
   "language": "python",
   "name": "python3"
  },
  "language_info": {
   "codemirror_mode": {
    "name": "ipython",
    "version": 3
   },
   "file_extension": ".py",
   "mimetype": "text/x-python",
   "name": "python",
   "nbconvert_exporter": "python",
   "pygments_lexer": "ipython3",
   "version": "3.11.9"
  }
 },
 "nbformat": 4,
 "nbformat_minor": 5
}
