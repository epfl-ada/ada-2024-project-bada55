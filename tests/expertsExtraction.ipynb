{
 "cells": [
  {
   "cell_type": "markdown",
   "id": "ca2a28a1-2be3-4dff-bf3d-4326dd6d4530",
   "metadata": {},
   "source": [
    "# Libraries"
   ]
  },
  {
   "cell_type": "code",
   "execution_count": 1,
   "id": "54910d16-5118-4907-a138-4bb0bdc265d4",
   "metadata": {},
   "outputs": [],
   "source": [
    "import pandas as pd\n",
    "import numpy as np\n",
    "import matplotlib.pyplot as plt\n",
    "from plotly import graph_objects as go"
   ]
  },
  {
   "cell_type": "markdown",
   "id": "06434d49-a235-4369-a409-6c843faea1e3",
   "metadata": {},
   "source": [
    "# Loading"
   ]
  },
  {
   "cell_type": "code",
   "execution_count": 2,
   "id": "e0894884-3d1a-4558-8629-9d8885454bec",
   "metadata": {},
   "outputs": [],
   "source": [
    "ba_reviews = pd.read_parquet('../generated/new_ba_reviews.parquet')\n",
    "rb_reviews = pd.read_parquet('../generated/new_rb_reviews.parquet')"
   ]
  },
  {
   "cell_type": "markdown",
   "id": "61f3530f-e70e-4886-81e3-b36924f549dd",
   "metadata": {},
   "source": [
    "# BeerAdvocate Experts"
   ]
  },
  {
   "cell_type": "code",
   "execution_count": 3,
   "id": "2516b0ba-a889-4955-98c6-324e0cdcd2ed",
   "metadata": {},
   "outputs": [],
   "source": [
    "ba_users = ba_reviews.groupby('user_id').agg(num_reviews=('text', 'count'))\n",
    "ba_total_reviews = ba_users['num_reviews'].sum()\n",
    "ba_users['review_proportion_percentage'] = ba_users['num_reviews'] / ba_total_reviews * 100\n",
    "ba_users = ba_users.sort_values(by= 'num_reviews', ascending= False)"
   ]
  },
  {
   "cell_type": "code",
   "execution_count": 4,
   "id": "c5cad8e8-67b0-4ba8-9671-53b624f47a7f",
   "metadata": {},
   "outputs": [
    {
     "name": "stdout",
     "output_type": "stream",
     "text": [
      "Number of experts in BeerAdvocate: 902\n",
      "Users considering as expert participate at  50.008 % of the whole reviews but represent only  1.479 %\n"
     ]
    }
   ],
   "source": [
    "ba_sum_review_proportion_experts = 0\n",
    "ba_experts_id = []\n",
    "for index, row in ba_users.iterrows():\n",
    "    if ba_sum_review_proportion_experts >= 50:\n",
    "        break\n",
    "    ba_sum_review_proportion_experts += row['review_proportion_percentage']\n",
    "    ba_experts_id.append(row.name)\n",
    "print(f\"Number of experts in BeerAdvocate: {len(ba_experts_id)}\")\n",
    "print(f\"Users considering as expert participate at {ba_sum_review_proportion_experts: .3f} % of the whole reviews but represent only {len(ba_experts_id) / len(ba_users) * 100: .3f} %\")"
   ]
  },
  {
   "cell_type": "markdown",
   "id": "55af0f7b-ccaf-47eb-be96-111e3bff3938",
   "metadata": {},
   "source": [
    "**Comment:**"
   ]
  },
  {
   "cell_type": "code",
   "execution_count": 5,
   "id": "49f00aad-1b8f-421a-b6e5-596e4003cf50",
   "metadata": {},
   "outputs": [],
   "source": [
    "ba_reviews_experts = ba_reviews[ba_reviews['user_id'].isin(ba_experts_id)].copy()\n",
    "ba_experts_id = pd.DataFrame(ba_experts_id, columns= ['expert_user_id'])\n",
    "ba_experts_id.to_csv('../generated/ba_experts_id.csv')\n",
    "ba_reviews_experts.to_parquet('../generated/ba_reviews_experts.parquet')"
   ]
  },
  {
   "cell_type": "markdown",
   "id": "709895a8-ee30-4abf-a584-ee5f71d15d30",
   "metadata": {},
   "source": [
    "# RateBeer"
   ]
  },
  {
   "cell_type": "code",
   "execution_count": 6,
   "id": "30829490-9a88-4b53-affd-3135770adf17",
   "metadata": {},
   "outputs": [],
   "source": [
    "rb_users = rb_reviews.groupby('user_id').agg(num_reviews=('text', 'count'))\n",
    "rb_total_reviews = rb_users['num_reviews'].sum()\n",
    "rb_users['review_proportion_percentage'] = rb_users['num_reviews'] / rb_total_reviews * 100\n",
    "rb_users = rb_users.sort_values(by= 'num_reviews', ascending= False)"
   ]
  },
  {
   "cell_type": "code",
   "execution_count": 7,
   "id": "607b2e7f-01a2-4857-add7-12585cb0a73c",
   "metadata": {},
   "outputs": [
    {
     "name": "stdout",
     "output_type": "stream",
     "text": [
      "Number of experts in BeerAdvocate: 611\n",
      "Users considering as expert participate at  50.00 % of the whole reviews but represent only  0.87 %\n"
     ]
    }
   ],
   "source": [
    "rb_sum_review_proportion_experts = 0\n",
    "rb_experts_id = []\n",
    "for index, row in rb_users.iterrows():\n",
    "    if rb_sum_review_proportion_experts >= 50:\n",
    "        break\n",
    "    rb_sum_review_proportion_experts += row['review_proportion_percentage']\n",
    "    rb_experts_id.append(row.name)\n",
    "print(f\"Number of experts in BeerAdvocate: {len(rb_experts_id)}\")\n",
    "print(f\"Users considering as expert participate at {rb_sum_review_proportion_experts: .2f} % of the whole reviews but represent only {len(rb_experts_id) / len(rb_users) * 100: .2f} %\")"
   ]
  },
  {
   "cell_type": "markdown",
   "id": "1a965d85-c9e5-4fad-8318-1da1f8eb6fc8",
   "metadata": {},
   "source": [
    "**Comment:**"
   ]
  },
  {
   "cell_type": "code",
   "execution_count": 8,
   "id": "54b89f58-584a-48b9-bed1-184bb8d6aef5",
   "metadata": {},
   "outputs": [],
   "source": [
    "rb_reviews_experts = rb_reviews[rb_reviews['user_id'].isin(rb_experts_id)].copy()\n",
    "rb_experts_id = pd.DataFrame(rb_experts_id, columns= ['expert_user_id'])\n",
    "rb_experts_id.to_csv('../generated/rb_experts_id.csv')\n",
    "rb_reviews_experts.to_parquet('../generated/rb_reviews_experts.parquet')"
   ]
  },
  {
   "cell_type": "markdown",
   "id": "3dee145c-1d5e-481a-b6e4-0c01df7daab5",
   "metadata": {},
   "source": [
    "# Figures"
   ]
  },
  {
   "cell_type": "code",
   "execution_count": 9,
   "id": "ab704aa3-5f88-4180-ba57-48fd68e062c5",
   "metadata": {},
   "outputs": [],
   "source": [
    "ba_users = ba_reviews.groupby('user_id').agg(num_reviews=('text', 'count'))\n",
    "ba_total_reviews = ba_users['num_reviews'].sum()\n",
    "ba_users['user_proportion_percentage'] = 1 / len(ba_users) * 100\n",
    "ba_users['review_proportion_percentage'] = ba_users['num_reviews'] / ba_total_reviews * 100\n",
    "ba_users = ba_users.sort_values(by= 'num_reviews', ascending= False).reset_index()\n",
    "ba_users['cumulative_review_proportion'] = ba_users['review_proportion_percentage'].cumsum()\n",
    "ba_users['cumulative_user_proportion'] = ba_users['user_proportion_percentage'].cumsum()"
   ]
  },
  {
   "cell_type": "code",
   "execution_count": 10,
   "id": "936e926a-1e2b-4da2-b781-b19e13a23139",
   "metadata": {},
   "outputs": [],
   "source": [
    "last_experts_index = ba_users[ba_users['cumulative_review_proportion'] < 50].index[-1] + 1\n",
    "last_10_pourcentage_index = ba_users[ba_users['cumulative_user_proportion'] < 10].index[-1] + 1\n",
    "last_50_pourcentage_index = ba_users[ba_users['cumulative_user_proportion'] < 50].index[-1] + 1"
   ]
  },
  {
   "cell_type": "code",
   "execution_count": 11,
   "id": "8a4dea99-5d4d-49a4-a9cd-7716aeeb6acc",
   "metadata": {},
   "outputs": [],
   "source": [
    "review_proportion_experts = ba_users.loc[last_experts_index]['cumulative_review_proportion']\n",
    "user_proportion_experts = ba_users.loc[last_experts_index]['cumulative_user_proportion']\n",
    "\n",
    "ba_users['cumulative_review_proportion'] += -review_proportion_experts\n",
    "ba_users['cumulative_user_proportion'] += -user_proportion_experts\n",
    "review_proportion_10 = ba_users.loc[last_10_pourcentage_index]['cumulative_review_proportion']\n",
    "user_proportion_10 = ba_users.loc[last_10_pourcentage_index]['cumulative_user_proportion']\n",
    "\n",
    "ba_users['cumulative_review_proportion'] += -review_proportion_10\n",
    "ba_users['cumulative_user_proportion'] += -user_proportion_10\n",
    "review_proportion_50 = ba_users.loc[last_50_pourcentage_index]['cumulative_review_proportion']\n",
    "user_proportion_50 = ba_users.loc[last_50_pourcentage_index]['cumulative_user_proportion']\n",
    "\n",
    "ba_users['cumulative_review_proportion'] += -review_proportion_50\n",
    "ba_users['cumulative_user_proportion'] += -user_proportion_50\n",
    "review_proportion_less_active = ba_users.iloc[-1]['cumulative_review_proportion']\n",
    "user_proportion_less_active = ba_users.iloc[-1]['cumulative_user_proportion']"
   ]
  },
  {
   "cell_type": "code",
   "execution_count": 19,
   "id": "eec2203f-1a55-49f1-9810-084954a3b764",
   "metadata": {},
   "outputs": [
    {
     "data": {
      "image/png": "[encoded data removed]",
      "text/plain": [
       "<Figure size 800x600 with 1 Axes>"
      ]
     },
     "metadata": {},
     "output_type": "display_data"
    }
   ],
   "source": [
    "categories = ['Experts', 'Top 10%', 'Top 50%', '50 % Less Active']\n",
    "bars = ['Users (%)', 'Reviews (%)']\n",
    "pourcentage_users = [user_proportion_experts, user_proportion_10, user_proportion_50, user_proportion_less_active]\n",
    "pourcentage_reviews = [review_proportion_experts, review_proportion_10, review_proportion_50, review_proportion_less_active]\n",
    "data = np.array([pourcentage_users, pourcentage_reviews])\n",
    "\n",
    "fig, ax = plt.subplots(figsize=(8, 6))\n",
    "\n",
    "bar_width = 0.5\n",
    "x = np.arange(2)  # Two bars: Users (%) and Reviews (%)\n",
    "\n",
    "# Plot each category as a stack\n",
    "bottom_values = np.zeros(2)  # Starting point for stacking\n",
    "for i, category in enumerate(categories):\n",
    "    bars_plot = ax.bar(bars, data[:, i], bottom=bottom_values, label=category, width=bar_width)\n",
    "    \n",
    "    # Add annotations for each bar segment\n",
    "    for bar in bars_plot:\n",
    "        height = bar.get_height()\n",
    "        ax.text(bar.get_x() + bar.get_width() / 2, \n",
    "                bar.get_y() + height / 2, \n",
    "                f'{height:.1f}%', \n",
    "                ha='center', va='center', fontsize=10, color='black')\n",
    "    \n",
    "    bottom_values += data[:, i]\n",
    "\n",
    "ax.set_ylabel('Percentage (%)')\n",
    "ax.set_title('Stacked Contributions of Users and Reviews')\n",
    "ax.legend(title=\"Categories\", loc='upper left', bbox_to_anchor=(1, 1))\n",
    "plt.tight_layout()\n",
    "plt.show()"
   ]
  }
 ],
 "metadata": {
  "kernelspec": {
   "display_name": "Python 3 (ipykernel)",
   "language": "python",
   "name": "python3"
  },
  "language_info": {
   "codemirror_mode": {
    "name": "ipython",
    "version": 3
   },
   "file_extension": ".py",
   "mimetype": "text/x-python",
   "name": "python",
   "nbconvert_exporter": "python",
   "pygments_lexer": "ipython3",
   "version": "3.11.9"
  }
 },
 "nbformat": 4,
 "nbformat_minor": 5
}
