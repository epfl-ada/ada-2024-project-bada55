{
 "cells": [
  {
   "cell_type": "markdown",
   "id": "ca2a28a1-2be3-4dff-bf3d-4326dd6d4530",
   "metadata": {},
   "source": [
    "# Libraries"
   ]
  },
  {
   "cell_type": "code",
   "execution_count": 1,
   "id": "54910d16-5118-4907-a138-4bb0bdc265d4",
   "metadata": {},
   "outputs": [],
   "source": [
    "import pandas as pd\n",
    "import numpy as np\n",
    "import matplotlib.pyplot as plt\n",
    "from plotly import graph_objects as go"
   ]
  },
  {
   "cell_type": "markdown",
   "id": "06434d49-a235-4369-a409-6c843faea1e3",
   "metadata": {},
   "source": [
    "# Loading"
   ]
  },
  {
   "cell_type": "code",
   "execution_count": 5,
   "id": "e0894884-3d1a-4558-8629-9d8885454bec",
   "metadata": {},
   "outputs": [
    {
     "ename": "MemoryError",
     "evalue": "",
     "output_type": "error",
     "traceback": [
      "\u001b[1;31m---------------------------------------------------------------------------\u001b[0m",
      "\u001b[1;31mMemoryError\u001b[0m                               Traceback (most recent call last)",
      "Cell \u001b[1;32mIn[5], line 1\u001b[0m\n\u001b[1;32m----> 1\u001b[0m ba_reviews \u001b[38;5;241m=\u001b[39m pd\u001b[38;5;241m.\u001b[39mread_parquet(\u001b[38;5;124m'\u001b[39m\u001b[38;5;124m../generated/new_ba_reviews.parquet\u001b[39m\u001b[38;5;124m'\u001b[39m)\n\u001b[0;32m      2\u001b[0m rb_reviews \u001b[38;5;241m=\u001b[39m pd\u001b[38;5;241m.\u001b[39mread_parquet(\u001b[38;5;124m'\u001b[39m\u001b[38;5;124m../generated/new_rb_reviews.parquet\u001b[39m\u001b[38;5;124m'\u001b[39m)\n",
      "File \u001b[1;32m~\\anaconda3\\Lib\\site-packages\\pandas\\io\\parquet.py:667\u001b[0m, in \u001b[0;36mread_parquet\u001b[1;34m(path, engine, columns, storage_options, use_nullable_dtypes, dtype_backend, filesystem, filters, **kwargs)\u001b[0m\n\u001b[0;32m    664\u001b[0m     use_nullable_dtypes \u001b[38;5;241m=\u001b[39m \u001b[38;5;28;01mFalse\u001b[39;00m\n\u001b[0;32m    665\u001b[0m check_dtype_backend(dtype_backend)\n\u001b[1;32m--> 667\u001b[0m \u001b[38;5;28;01mreturn\u001b[39;00m impl\u001b[38;5;241m.\u001b[39mread(\n\u001b[0;32m    668\u001b[0m     path,\n\u001b[0;32m    669\u001b[0m     columns\u001b[38;5;241m=\u001b[39mcolumns,\n\u001b[0;32m    670\u001b[0m     filters\u001b[38;5;241m=\u001b[39mfilters,\n\u001b[0;32m    671\u001b[0m     storage_options\u001b[38;5;241m=\u001b[39mstorage_options,\n\u001b[0;32m    672\u001b[0m     use_nullable_dtypes\u001b[38;5;241m=\u001b[39muse_nullable_dtypes,\n\u001b[0;32m    673\u001b[0m     dtype_backend\u001b[38;5;241m=\u001b[39mdtype_backend,\n\u001b[0;32m    674\u001b[0m     filesystem\u001b[38;5;241m=\u001b[39mfilesystem,\n\u001b[0;32m    675\u001b[0m     \u001b[38;5;241m*\u001b[39m\u001b[38;5;241m*\u001b[39mkwargs,\n\u001b[0;32m    676\u001b[0m )\n",
      "File \u001b[1;32m~\\anaconda3\\Lib\\site-packages\\pandas\\io\\parquet.py:274\u001b[0m, in \u001b[0;36mPyArrowImpl.read\u001b[1;34m(self, path, columns, filters, use_nullable_dtypes, dtype_backend, storage_options, filesystem, **kwargs)\u001b[0m\n\u001b[0;32m    267\u001b[0m path_or_handle, handles, filesystem \u001b[38;5;241m=\u001b[39m _get_path_or_handle(\n\u001b[0;32m    268\u001b[0m     path,\n\u001b[0;32m    269\u001b[0m     filesystem,\n\u001b[0;32m    270\u001b[0m     storage_options\u001b[38;5;241m=\u001b[39mstorage_options,\n\u001b[0;32m    271\u001b[0m     mode\u001b[38;5;241m=\u001b[39m\u001b[38;5;124m\"\u001b[39m\u001b[38;5;124mrb\u001b[39m\u001b[38;5;124m\"\u001b[39m,\n\u001b[0;32m    272\u001b[0m )\n\u001b[0;32m    273\u001b[0m \u001b[38;5;28;01mtry\u001b[39;00m:\n\u001b[1;32m--> 274\u001b[0m     pa_table \u001b[38;5;241m=\u001b[39m \u001b[38;5;28mself\u001b[39m\u001b[38;5;241m.\u001b[39mapi\u001b[38;5;241m.\u001b[39mparquet\u001b[38;5;241m.\u001b[39mread_table(\n\u001b[0;32m    275\u001b[0m         path_or_handle,\n\u001b[0;32m    276\u001b[0m         columns\u001b[38;5;241m=\u001b[39mcolumns,\n\u001b[0;32m    277\u001b[0m         filesystem\u001b[38;5;241m=\u001b[39mfilesystem,\n\u001b[0;32m    278\u001b[0m         filters\u001b[38;5;241m=\u001b[39mfilters,\n\u001b[0;32m    279\u001b[0m         \u001b[38;5;241m*\u001b[39m\u001b[38;5;241m*\u001b[39mkwargs,\n\u001b[0;32m    280\u001b[0m     )\n\u001b[0;32m    281\u001b[0m     result \u001b[38;5;241m=\u001b[39m pa_table\u001b[38;5;241m.\u001b[39mto_pandas(\u001b[38;5;241m*\u001b[39m\u001b[38;5;241m*\u001b[39mto_pandas_kwargs)\n\u001b[0;32m    283\u001b[0m     \u001b[38;5;28;01mif\u001b[39;00m manager \u001b[38;5;241m==\u001b[39m \u001b[38;5;124m\"\u001b[39m\u001b[38;5;124marray\u001b[39m\u001b[38;5;124m\"\u001b[39m:\n",
      "File \u001b[1;32m~\\anaconda3\\Lib\\site-packages\\pyarrow\\parquet\\core.py:3003\u001b[0m, in \u001b[0;36mread_table\u001b[1;34m(source, columns, use_threads, metadata, schema, use_pandas_metadata, read_dictionary, memory_map, buffer_size, partitioning, filesystem, filters, use_legacy_dataset, ignore_prefixes, pre_buffer, coerce_int96_timestamp_unit, decryption_properties, thrift_string_size_limit, thrift_container_size_limit)\u001b[0m\n\u001b[0;32m   2992\u001b[0m         \u001b[38;5;66;03m# TODO test that source is not a directory or a list\u001b[39;00m\n\u001b[0;32m   2993\u001b[0m         dataset \u001b[38;5;241m=\u001b[39m ParquetFile(\n\u001b[0;32m   2994\u001b[0m             source, metadata\u001b[38;5;241m=\u001b[39mmetadata, read_dictionary\u001b[38;5;241m=\u001b[39mread_dictionary,\n\u001b[0;32m   2995\u001b[0m             memory_map\u001b[38;5;241m=\u001b[39mmemory_map, buffer_size\u001b[38;5;241m=\u001b[39mbuffer_size,\n\u001b[1;32m   (...)\u001b[0m\n\u001b[0;32m   3000\u001b[0m             thrift_container_size_limit\u001b[38;5;241m=\u001b[39mthrift_container_size_limit,\n\u001b[0;32m   3001\u001b[0m         )\n\u001b[1;32m-> 3003\u001b[0m     \u001b[38;5;28;01mreturn\u001b[39;00m dataset\u001b[38;5;241m.\u001b[39mread(columns\u001b[38;5;241m=\u001b[39mcolumns, use_threads\u001b[38;5;241m=\u001b[39muse_threads,\n\u001b[0;32m   3004\u001b[0m                         use_pandas_metadata\u001b[38;5;241m=\u001b[39muse_pandas_metadata)\n\u001b[0;32m   3006\u001b[0m warnings\u001b[38;5;241m.\u001b[39mwarn(\n\u001b[0;32m   3007\u001b[0m     \u001b[38;5;124m\"\u001b[39m\u001b[38;5;124mPassing \u001b[39m\u001b[38;5;124m'\u001b[39m\u001b[38;5;124muse_legacy_dataset=True\u001b[39m\u001b[38;5;124m'\u001b[39m\u001b[38;5;124m to get the legacy behaviour is \u001b[39m\u001b[38;5;124m\"\u001b[39m\n\u001b[0;32m   3008\u001b[0m     \u001b[38;5;124m\"\u001b[39m\u001b[38;5;124mdeprecated as of pyarrow 8.0.0, and the legacy implementation will \u001b[39m\u001b[38;5;124m\"\u001b[39m\n\u001b[0;32m   3009\u001b[0m     \u001b[38;5;124m\"\u001b[39m\u001b[38;5;124mbe removed in a future version.\u001b[39m\u001b[38;5;124m\"\u001b[39m,\n\u001b[0;32m   3010\u001b[0m     \u001b[38;5;167;01mFutureWarning\u001b[39;00m, stacklevel\u001b[38;5;241m=\u001b[39m\u001b[38;5;241m2\u001b[39m)\n\u001b[0;32m   3012\u001b[0m \u001b[38;5;28;01mif\u001b[39;00m ignore_prefixes \u001b[38;5;129;01mis\u001b[39;00m \u001b[38;5;129;01mnot\u001b[39;00m \u001b[38;5;28;01mNone\u001b[39;00m:\n",
      "File \u001b[1;32m~\\anaconda3\\Lib\\site-packages\\pyarrow\\parquet\\core.py:2631\u001b[0m, in \u001b[0;36m_ParquetDatasetV2.read\u001b[1;34m(self, columns, use_threads, use_pandas_metadata)\u001b[0m\n\u001b[0;32m   2623\u001b[0m         index_columns \u001b[38;5;241m=\u001b[39m [\n\u001b[0;32m   2624\u001b[0m             col \u001b[38;5;28;01mfor\u001b[39;00m col \u001b[38;5;129;01min\u001b[39;00m _get_pandas_index_columns(metadata)\n\u001b[0;32m   2625\u001b[0m             \u001b[38;5;28;01mif\u001b[39;00m \u001b[38;5;129;01mnot\u001b[39;00m \u001b[38;5;28misinstance\u001b[39m(col, \u001b[38;5;28mdict\u001b[39m)\n\u001b[0;32m   2626\u001b[0m         ]\n\u001b[0;32m   2627\u001b[0m         columns \u001b[38;5;241m=\u001b[39m (\n\u001b[0;32m   2628\u001b[0m             \u001b[38;5;28mlist\u001b[39m(columns) \u001b[38;5;241m+\u001b[39m \u001b[38;5;28mlist\u001b[39m(\u001b[38;5;28mset\u001b[39m(index_columns) \u001b[38;5;241m-\u001b[39m \u001b[38;5;28mset\u001b[39m(columns))\n\u001b[0;32m   2629\u001b[0m         )\n\u001b[1;32m-> 2631\u001b[0m table \u001b[38;5;241m=\u001b[39m \u001b[38;5;28mself\u001b[39m\u001b[38;5;241m.\u001b[39m_dataset\u001b[38;5;241m.\u001b[39mto_table(\n\u001b[0;32m   2632\u001b[0m     columns\u001b[38;5;241m=\u001b[39mcolumns, \u001b[38;5;28mfilter\u001b[39m\u001b[38;5;241m=\u001b[39m\u001b[38;5;28mself\u001b[39m\u001b[38;5;241m.\u001b[39m_filter_expression,\n\u001b[0;32m   2633\u001b[0m     use_threads\u001b[38;5;241m=\u001b[39muse_threads\n\u001b[0;32m   2634\u001b[0m )\n\u001b[0;32m   2636\u001b[0m \u001b[38;5;66;03m# if use_pandas_metadata, restore the pandas metadata (which gets\u001b[39;00m\n\u001b[0;32m   2637\u001b[0m \u001b[38;5;66;03m# lost if doing a specific `columns` selection in to_table)\u001b[39;00m\n\u001b[0;32m   2638\u001b[0m \u001b[38;5;28;01mif\u001b[39;00m use_pandas_metadata:\n",
      "File \u001b[1;32m~\\anaconda3\\Lib\\site-packages\\pyarrow\\_dataset.pyx:556\u001b[0m, in \u001b[0;36mpyarrow._dataset.Dataset.to_table\u001b[1;34m()\u001b[0m\n",
      "File \u001b[1;32m~\\anaconda3\\Lib\\site-packages\\pyarrow\\_dataset.pyx:3713\u001b[0m, in \u001b[0;36mpyarrow._dataset.Scanner.to_table\u001b[1;34m()\u001b[0m\n",
      "File \u001b[1;32m~\\anaconda3\\Lib\\site-packages\\pyarrow\\error.pxi:154\u001b[0m, in \u001b[0;36mpyarrow.lib.pyarrow_internal_check_status\u001b[1;34m()\u001b[0m\n",
      "File \u001b[1;32m~\\anaconda3\\Lib\\site-packages\\pyarrow\\types.pxi:88\u001b[0m, in \u001b[0;36mpyarrow.lib._datatype_to_pep3118\u001b[1;34m()\u001b[0m\n",
      "\u001b[1;31mMemoryError\u001b[0m: "
     ]
    }
   ],
   "source": [
    "ba_reviews = pd.read_parquet('../generated/new_ba_reviews.parquet')\n",
    "rb_reviews = pd.read_parquet('../generated/new_rb_reviews.parquet')"
   ]
  },
  {
   "cell_type": "markdown",
   "id": "61f3530f-e70e-4886-81e3-b36924f549dd",
   "metadata": {},
   "source": [
    "# BeerAdvocate Experts"
   ]
  },
  {
   "cell_type": "code",
   "execution_count": null,
   "id": "2516b0ba-a889-4955-98c6-324e0cdcd2ed",
   "metadata": {},
   "outputs": [],
   "source": [
    "ba_users = ba_reviews.groupby('user_id').agg(num_reviews=('text', 'count'))\n",
    "ba_total_reviews = ba_users['num_reviews'].sum()\n",
    "ba_users['review_proportion_percentage'] = ba_users['num_reviews'] / ba_total_reviews * 100\n",
    "ba_users = ba_users.sort_values(by= 'num_reviews', ascending= False)"
   ]
  },
  {
   "cell_type": "code",
   "execution_count": null,
   "id": "c5cad8e8-67b0-4ba8-9671-53b624f47a7f",
   "metadata": {},
   "outputs": [],
   "source": [
    "ba_sum_review_proportion_experts = 0\n",
    "ba_experts_id = []\n",
    "for index, row in ba_users.iterrows():\n",
    "    if ba_sum_review_proportion_experts >= 50:\n",
    "        break\n",
    "    ba_sum_review_proportion_experts += row['review_proportion_percentage']\n",
    "    ba_experts_id.append(row.name)\n",
    "print(f\"Number of experts in BeerAdvocate: {len(ba_experts_id)}\")\n",
    "print(f\"Users considering as expert participate at {ba_sum_review_proportion_experts: .3f} % of the whole reviews but represent only {len(ba_experts_id) / len(ba_users) * 100: .3f} %\")"
   ]
  },
  {
   "cell_type": "markdown",
   "id": "55af0f7b-ccaf-47eb-be96-111e3bff3938",
   "metadata": {},
   "source": [
    "**Comment:** We keep the users who comment the most and who are responsible for 50% of the comments on the platform. They will be called experts."
   ]
  },
  {
   "cell_type": "code",
   "execution_count": null,
   "id": "49f00aad-1b8f-421a-b6e5-596e4003cf50",
   "metadata": {},
   "outputs": [],
   "source": [
    "ba_reviews_experts = ba_reviews[ba_reviews['user_id'].isin(ba_experts_id)].copy()\n",
    "ba_experts_id = pd.DataFrame(ba_experts_id, columns= ['expert_user_id'])\n",
    "ba_experts_id.to_csv('../generated/ba_experts_id.csv')\n",
    "ba_reviews_experts.to_parquet('../generated/ba_reviews_experts.parquet')"
   ]
  },
  {
   "cell_type": "markdown",
   "id": "709895a8-ee30-4abf-a584-ee5f71d15d30",
   "metadata": {},
   "source": [
    "# RateBeer"
   ]
  },
  {
   "cell_type": "code",
   "execution_count": null,
   "id": "30829490-9a88-4b53-affd-3135770adf17",
   "metadata": {},
   "outputs": [],
   "source": [
    "rb_users = rb_reviews.groupby('user_id').agg(num_reviews=('text', 'count'))\n",
    "rb_total_reviews = rb_users['num_reviews'].sum()\n",
    "rb_users['review_proportion_percentage'] = rb_users['num_reviews'] / rb_total_reviews * 100\n",
    "rb_users = rb_users.sort_values(by= 'num_reviews', ascending= False)"
   ]
  },
  {
   "cell_type": "code",
   "execution_count": null,
   "id": "607b2e7f-01a2-4857-add7-12585cb0a73c",
   "metadata": {},
   "outputs": [],
   "source": [
    "rb_sum_review_proportion_experts = 0\n",
    "rb_experts_id = []\n",
    "for index, row in rb_users.iterrows():\n",
    "    if rb_sum_review_proportion_experts >= 50:\n",
    "        break\n",
    "    rb_sum_review_proportion_experts += row['review_proportion_percentage']\n",
    "    rb_experts_id.append(row.name)\n",
    "print(f\"Number of experts in BeerAdvocate: {len(rb_experts_id)}\")\n",
    "print(f\"Users considering as expert participate at {rb_sum_review_proportion_experts: .2f} % of the whole reviews but represent only {len(rb_experts_id) / len(rb_users) * 100: .2f} %\")"
   ]
  },
  {
   "cell_type": "markdown",
   "id": "1a965d85-c9e5-4fad-8318-1da1f8eb6fc8",
   "metadata": {},
   "source": [
    "**Comment:** We keep the users who comment the most and who are responsible for 50% of the comments on the platform. They will be called experts."
   ]
  },
  {
   "cell_type": "code",
   "execution_count": null,
   "id": "54b89f58-584a-48b9-bed1-184bb8d6aef5",
   "metadata": {},
   "outputs": [],
   "source": [
    "rb_reviews_experts = rb_reviews[rb_reviews['user_id'].isin(rb_experts_id)].copy()\n",
    "rb_experts_id = pd.DataFrame(rb_experts_id, columns= ['expert_user_id'])\n",
    "rb_experts_id.to_csv('../generated/rb_experts_id.csv')\n",
    "rb_reviews_experts.to_parquet('../generated/rb_reviews_experts.parquet')"
   ]
  },
  {
   "cell_type": "markdown",
   "id": "3dee145c-1d5e-481a-b6e4-0c01df7daab5",
   "metadata": {},
   "source": [
    "# Figures"
   ]
  },
  {
   "cell_type": "code",
   "execution_count": null,
   "id": "ab704aa3-5f88-4180-ba57-48fd68e062c5",
   "metadata": {},
   "outputs": [],
   "source": [
    "ba_users = ba_reviews.groupby('user_id').agg(num_reviews=('text', 'count'))\n",
    "ba_total_reviews = ba_users['num_reviews'].sum()\n",
    "ba_users['user_proportion_percentage'] = 1 / len(ba_users) * 100\n",
    "ba_users['review_proportion_percentage'] = ba_users['num_reviews'] / ba_total_reviews * 100\n",
    "ba_users = ba_users.sort_values(by= 'num_reviews', ascending= False).reset_index()\n",
    "ba_users['cumulative_review_proportion'] = ba_users['review_proportion_percentage'].cumsum()\n",
    "ba_users['cumulative_user_proportion'] = ba_users['user_proportion_percentage'].cumsum()"
   ]
  },
  {
   "cell_type": "code",
   "execution_count": null,
   "id": "936e926a-1e2b-4da2-b781-b19e13a23139",
   "metadata": {},
   "outputs": [],
   "source": [
    "last_experts_index = ba_users[ba_users['cumulative_review_proportion'] < 50].index[-1] + 1\n",
    "last_10_pourcentage_index = ba_users[ba_users['cumulative_user_proportion'] < 10].index[-1] + 1\n",
    "last_50_pourcentage_index = ba_users[ba_users['cumulative_user_proportion'] < 50].index[-1] + 1"
   ]
  },
  {
   "cell_type": "code",
   "execution_count": null,
   "id": "8a4dea99-5d4d-49a4-a9cd-7716aeeb6acc",
   "metadata": {},
   "outputs": [],
   "source": [
    "review_proportion_experts = ba_users.loc[last_experts_index]['cumulative_review_proportion']\n",
    "user_proportion_experts = ba_users.loc[last_experts_index]['cumulative_user_proportion']\n",
    "\n",
    "ba_users['cumulative_review_proportion'] += -review_proportion_experts\n",
    "ba_users['cumulative_user_proportion'] += -user_proportion_experts\n",
    "review_proportion_10 = ba_users.loc[last_10_pourcentage_index]['cumulative_review_proportion']\n",
    "user_proportion_10 = ba_users.loc[last_10_pourcentage_index]['cumulative_user_proportion']\n",
    "\n",
    "ba_users['cumulative_review_proportion'] += -review_proportion_10\n",
    "ba_users['cumulative_user_proportion'] += -user_proportion_10\n",
    "review_proportion_50 = ba_users.loc[last_50_pourcentage_index]['cumulative_review_proportion']\n",
    "user_proportion_50 = ba_users.loc[last_50_pourcentage_index]['cumulative_user_proportion']\n",
    "\n",
    "ba_users['cumulative_review_proportion'] += -review_proportion_50\n",
    "ba_users['cumulative_user_proportion'] += -user_proportion_50\n",
    "review_proportion_less_active = ba_users.iloc[-1]['cumulative_review_proportion']\n",
    "user_proportion_less_active = ba_users.iloc[-1]['cumulative_user_proportion']"
   ]
  },
  {
   "cell_type": "code",
   "execution_count": null,
   "id": "eec2203f-1a55-49f1-9810-084954a3b764",
   "metadata": {},
   "outputs": [],
   "source": [
    "categories = ['Experts', 'Top 10%', 'Top 50%', '50 % Less Active']\n",
    "bars = ['Users (%)', 'Reviews (%)']\n",
    "pourcentage_users = [user_proportion_experts, user_proportion_10, user_proportion_50, user_proportion_less_active]\n",
    "pourcentage_reviews = [review_proportion_experts, review_proportion_10, review_proportion_50, review_proportion_less_active]\n",
    "data = np.array([pourcentage_users, pourcentage_reviews])\n",
    "\n",
    "fig, ax = plt.subplots(figsize=(8, 6))\n",
    "\n",
    "bar_width = 0.5\n",
    "x = np.arange(2)  # Two bars: Users (%) and Reviews (%)\n",
    "\n",
    "# Plot each category as a stack\n",
    "bottom_values = np.zeros(2)  # Starting point for stacking\n",
    "for i, category in enumerate(categories):\n",
    "    bars_plot = ax.bar(bars, data[:, i], bottom=bottom_values, label=category, width=bar_width)\n",
    "    \n",
    "    # Add annotations for each bar segment\n",
    "    for bar in bars_plot:\n",
    "        height = bar.get_height()\n",
    "        ax.text(bar.get_x() + bar.get_width() / 2, \n",
    "                bar.get_y() + height / 2, \n",
    "                f'{height:.1f}%', \n",
    "                ha='center', va='center', fontsize=10, color='black')\n",
    "    \n",
    "    bottom_values += data[:, i]\n",
    "\n",
    "ax.set_ylabel('Percentage (%)')\n",
    "ax.set_title('Stacked Contributions of Users and Reviews')\n",
    "ax.legend(title=\"Categories\", loc='upper left', bbox_to_anchor=(1, 1))\n",
    "plt.tight_layout()\n",
    "plt.show()"
   ]
  }
 ],
 "metadata": {
  "kernelspec": {
   "display_name": "Python 3 (ipykernel)",
   "language": "python",
   "name": "python3"
  },
  "language_info": {
   "codemirror_mode": {
    "name": "ipython",
    "version": 3
   },
   "file_extension": ".py",
   "mimetype": "text/x-python",
   "name": "python",
   "nbconvert_exporter": "python",
   "pygments_lexer": "ipython3",
   "version": "3.12.4"
  }
 },
 "nbformat": 4,
 "nbformat_minor": 5
}
