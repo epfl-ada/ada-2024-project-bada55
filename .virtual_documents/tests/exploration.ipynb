import pandas as pd
import os 
import sys
from matplotlib.figure import Figure
import matplotlib.pyplot as plt
import seaborn as sns
import statsmodels.formula.api as smf
import numpy as np
import plotly.express as px





ba_beers = pd.read_csv('../generated/new_ba_beers.csv')
ba_breweries = pd.read_csv('../generated/new_ba_breweries.csv')
ba_users = pd.read_csv('../generated/new_ba_users.csv')
ba_reviews = pd.read_parquet('../generated/new_ba_reviews.parquet')

rb_beers = pd.read_csv('../generated/new_rb_beers.csv')
rb_breweries = pd.read_csv('../generated/new_rb_breweries.csv')
rb_users = pd.read_csv('../generated/new_rb_users.csv')
rb_reviews = pd.read_parquet('../generated/new_rb_reviews.parquet')





# Computation of percentages of continents
continent_counts = ba_beers["continent"].value_counts().sort_index()
total_count = continent_counts.sum()
continent_percentages = (continent_counts / total_count) * 100

# DataFrame for the plot
plot_df = pd.DataFrame({
    'Continent': continent_counts.index,
    'Count': continent_counts.values,
    'Percentage': continent_percentages.values
})

# Figure
fig, ax = plt.subplots(figsize=(10, 6))

# Count
sns.barplot(x='Continent', y='Count', data=plot_df, ax=ax, color='orange', label="Count", palette="tab10", hue="Continent")

# Percentages
for index, row in plot_df.iterrows():
    ax.text(index, row['Count'], f"{row['Percentage']:.1f}%", color='black', ha="center")

# Titles 
ax.set_title("Beers distribution over continents (in BeerAdvocate)")
ax.set_ylabel("Count")
ax.set_xlabel("Continent");


# Computation of percentages of continents
continent_counts = rb_beers["continent"].value_counts().sort_index()
total_count = continent_counts.sum()
continent_percentages = (continent_counts / total_count) * 100

# DataFrame for the plot
plot_df = pd.DataFrame({
    'Continent': continent_counts.index,
    'Count': continent_counts.values,
    'Percentage': continent_percentages.values
})

# Figure
fig, ax = plt.subplots(figsize=(10, 6))

# Count
sns.barplot(x='Continent', y='Count', data=plot_df, ax=ax, color='orange', label="Count", palette="tab10", hue="Continent")

# Percentages
for index, row in plot_df.iterrows():
    ax.text(index, row['Count'], f"{row['Percentage']:.1f}%", color='black', ha="center")

# Titles 
ax.set_title("Beers distribution over continents (in RateBeer)")
ax.set_ylabel("Count")
ax.set_xlabel("Continent");





ba_model = smf.ols("rating ~ appearance + aroma + palate + taste + overall - 1", ba_reviews, ).fit()
display(ba_model.summary())
print("Sum of parameters : ", ba_model.params.sum())





ba_reviews.groupby(["continent", "type"])[["appearance", "aroma", "palate", "taste", "overall", "rating"]].agg({"rating":["mean","sem"]})


fig = px.bar(
    ba_reviews.groupby(["continent", "type"])[["appearance", "aroma", "palate", "taste", "overall", "rating"]].mean().reset_index(),
    x="type",
    y="rating",
    facet_row="continent",
    color="continent",
    title="Ratings Per Continent",
    error_y="rating"
)

fig.update_yaxes(range=[3, 5])

fig.update_yaxes(title_text="Continent", matches="y", showticklabels=True)

fig.update_layout(
    title={'text': "Ratings Per Continent", 'x': 0.5, 'xanchor': 'center'},
    margin=dict(t=50),
    showlegend=False
)

# fig.show()
fig.write_html("../generated/figures/ba_style_continent_rating.html")


rb_reviews.groupby(["continent", "type"])[["appearance", "aroma", "palate", "taste", "overall", "rating"]].agg({"rating":["mean","sem"]})


fig = px.bar(
    rb_reviews.groupby(["continent", "type"])[["appearance", "aroma", "palate", "taste", "overall", "rating"]].mean().reset_index(),
    x="type",
    y="rating",
    facet_row="continent",
    color="continent",
    title="Ratings Per Continent",
    error_y="rating"
)

fig.update_yaxes(range=[3, 5])

fig.update_yaxes(title_text="Continent", matches="y", showticklabels=True)

fig.update_layout(
    title={'text': "Ratings Per Continent", 'x': 0.5, 'xanchor': 'center'},
    margin=dict(t=50),
    showlegend=False
)

# fig.show()
fig.write_html("../generated/figures/rb_style_continent_rating.html")





ba_beers[ba_beers['beer_id'] == 19590]


ba_reviews.loc[ba_reviews['beer_id'] == 19590,"rating"]


ba_reviews.loc[ba_reviews['beer_id'] == 19590,["appearance","aroma","palate","taste","overall","rating"]]


(np.mean(ba_reviews.loc[ba_reviews['beer_id'] == 19590,["appearance","aroma","palate","taste","overall"]].values,0) *  ba_model.params.values).sum()


ba_beers


rb_users.country.value_counts() / rb_users.country.value_counts().sum()


ba_users.country.value_counts() / ba_users.country.value_counts().sum()





#Descriptive statisctics

numerical_columns = ['nbr_ratings', 'nbr_reviews','avg_computed', 'ba_score', 'bros_score', 'abv', 'avg_computed']

descriptive_stats = ba_beers[numerical_columns].describe()

modes = ba_beers[numerical_columns].mode().iloc[0]  # Get the first mode

descriptive_stats.loc['mode'] = modes

print("\nDescriptive Statistics including Mode:")
print(descriptive_stats)


from scipy.stats import pearsonr
ba_beers_babro = ba_beers.dropna(subset=['ba_score', 'bros_score'])

# Calculate the Pearson correlation between ba_score and bros_score
correlation, p_value = pearsonr(ba_beers_babro['ba_score'], ba_beers_babro['bros_score'])
print(f"Pearson correlation between ba_score and bros_score: {correlation:.2f}")
print(f"P-value: {p_value:.2e}")

plt.figure(figsize=(10, 6))
sns.kdeplot(ba_beers_babro['ba_score'], label='ba_score (User Ratings)', fill=True, color="blue", alpha=0.5)
sns.kdeplot(ba_beers_babro['bros_score'], label='bros_score (Expert Ratings)', fill=True, color="orange", alpha=0.5)
plt.title("Density Plot of ba_score and bros_score")
plt.xlabel("Rating")
plt.legend()
plt.show()


#The code identifies the top 5% of beers by setting a rating threshold (top_rated_threshold). 
top_rated_threshold = ba_beers['avg_computed'].quantile(0.95)
top_beers = ba_beers[ba_beers['avg_computed'] >= top_rated_threshold]

style_counts = top_beers['style'].value_counts()

plt.figure(figsize=(12, 15))
sns.barplot(x=style_counts.values, y=style_counts.index, hue=style_counts.index, palette="viridis")
plt.title("Most Common Styles Among Top-Rated Beers")
plt.xlabel("Number of Beers")
plt.ylabel("Beer Style")
plt.show()

print("\nTop 5% Most Common Styles:\n", style_counts.head(10))



# alcohol analysis
abv_stats = top_beers['abv'].describe()
plt.figure(figsize=(8, 6))
sns.boxplot(x=top_beers['abv'], color="skyblue")
plt.title("ABV Distribution of Top-Rated Beers")
plt.xlabel("ABV (%)")
plt.show()


ba_beers_cleaned_nona = ba_beers.dropna(subset=['style', 'avg_computed'])

# Calculate the average ratings by style
style_avg_ratings = ba_beers_cleaned_nona.groupby('style')['avg'].mean().sort_values(ascending=False)

plt.figure(figsize=(12, 20))
sns.boxplot(data=ba_beers_cleaned_nona, x='avg', y='style', order=style_avg_ratings.index, palette="coolwarm")
plt.title("Distribution of Ratings by Beer Style")
plt.xlabel("Avg")
plt.ylabel("Beer Style")
plt.show()


style_counts = ba_beers['style'].value_counts()

# Visualize the distribution of beer styles
plt.figure(figsize=(12, 20))
sns.barplot(x=style_counts.values, y=style_counts.index)
plt.title("Distribution of Beer Styles in Dataset")
plt.xlabel("Number of Beers")
plt.ylabel("Beer Style")
plt.show()

print("Top 10 Most Common Beer Styles:\n", style_counts.head(10))



#Identify breweries with the highest avg scores or nbr_ratings
ba_brewery = ba_beers.dropna(subset=['brewery_id', 'avg_computed', 'nbr_ratings'])

brewery_stats = ba_brewery.groupby('brewery_id').agg(
    avg_score=('avg_computed', 'mean'),
    total_ratings=('nbr_ratings', 'sum')
).reset_index()

top_breweries_by_score = brewery_stats.sort_values(by='avg_score', ascending=False).head(10)

# trouver top 10 breweries by total number of ratings
top_breweries_by_ratings = brewery_stats.sort_values(by='total_ratings', ascending=False).head(10)

print("Top 10 Breweries by Average Score:")
print(top_breweries_by_score)

print("\nTop 10 Breweries by Number of Ratings:")
print(top_breweries_by_ratings)



#Count the unique styles each brewery produces (maybe see if breweries 
#with broader style offerings have higher scores.)

# Count unique styles per brewery and calculate average score
brewery_style_stats = ba_brewery.groupby('brewery_id').agg(
    num_styles=('style', 'nunique')   
).reset_index()

brewery_style_stats = brewery_style_stats.sort_values(by='num_styles', ascending=False)

print("Breweries with Broad Style Offerings ")
print(brewery_style_stats.head(10))



#Investigate if beers with more nbr_reviews tend to have higher or lower avg scores. 

df = ba_beers.dropna(subset=['nbr_reviews', 'avg_computed'])

# Calculate the Pearson correlation between nbr_reviews and avg score
correlation, p_value = pearsonr(df['nbr_reviews'], df['avg'])
print(f"Pearson correlation between nbr_reviews and avg score: {correlation:.2f}")
print(f"P-value: {p_value:.2e}")

plt.figure(figsize=(10, 6))
sns.regplot(x='nbr_reviews', y='avg', data=df, scatter_kws={'alpha':0.3}, line_kws={'color': 'red'})
plt.title("Trend Analysis of Number of Reviews vs. Average Score")
plt.xlabel("Number of Reviews (nbr_reviews)")
plt.ylabel("Average Score (avg)")
plt.show()



#Investigate average number of review per style (to see later if beers with more nbr_reviews tend to have higher or lower avg scores)
ba_nbr_style = ba_beers.dropna(subset=['style', 'nbr_reviews'])

style_avg_reviews = ba_nbr_style.groupby('style')['nbr_reviews'].mean().sort_values(ascending=False).reset_index()

style_avg_reviews.columns = ['style', 'avg_nbr_reviews']

print("Average Number of Reviews per Style:")
print(style_avg_reviews.head(10))

plt.figure(figsize=(12, 8))
sns.barplot(data=style_avg_reviews.head(10), x='avg_nbr_reviews', y='style', palette="magma")
plt.title("Top 10 Beer Styles by Average Number of Reviews")
plt.xlabel("Average Number of Reviews")
plt.ylabel("Beer Style")
plt.show()








unique_style = rb_beers.groupby('style').agg(nbr_beers= ('beer_id', 'count'),
                                             nbr_ratings_sum= ('nbr_ratings', 'sum'),
                                             nbr_ratings_mean= ('nbr_ratings', 'mean'),
                                             overall_score_mean= ('overall_score', 'mean'),
                                             style_score_mean= ('style_score', 'mean'),
                                             avg_mean= ('avg', 'mean'),
                                             abv_mean= ('abv', 'mean'),
                                             avg_computed_mean= ('avg_computed', 'mean')).reset_index()
display(unique_style)


sns.histplot(rb_beers['avg_computed'], bins=50, stat='proportion')
plt.title('Distribution of User Ratings')
plt.xlabel('User Rating')
plt.ylabel('Proportion')
plt.show()


sns.histplot(rb_beers['nbr_ratings'], bins=50, stat='proportion')
plt.yscale('log')
plt.title('Distribution of Number of Ratings per Beer (Logarithmic Scale)')
plt.xlabel('Number of Ratings')
plt.ylabel('Proportion (log)')
plt.show()


fig, axs = plt.subplots(10, 10, figsize=(30, 30), sharex=True, sharey=True)
cmap = plt.get_cmap('tab20')
i, j = 0, 0

for idx, name in enumerate(rb_beers['style'].unique()):
    if j == 10:
        i += 1
        j = 0
    
    style_data = rb_beers[rb_beers['style'] == name]['avg_computed'].dropna()
    color = cmap(np.random.rand())

    if not style_data.empty:
        sns.histplot(style_data, bins=50, binrange=[0, 5], ax=axs[i, j], stat='proportion', color=color)
        axs[i, j].set_title(name, fontsize=15)
        axs[i, j].set_xlabel('')
        axs[i, j].set_ylabel('')
    
    j += 1

fig.text(0.5, -0.01, 'User Rating', ha='center', fontsize=20)
fig.text(-0.01, 0.5, 'Proportion', va='center', rotation='vertical', fontsize=20)
fig.text(0.5, 1, 'Distribution of User Ratings by Beer Style', ha='center', fontsize=20)

plt.tight_layout()
plt.show()


plt.figure(figsize=(10, 20))
sorted_styles = rb_beers.groupby('style')['avg_computed'].mean().sort_values(ascending=False).index
sns.boxplot(data=rb_beers, x='avg_computed', y='style', palette='coolwarm', order=sorted_styles)
plt.title('Distribution of User Ratings by Beer Style')
plt.xlabel('User Rating')
plt.ylabel('Beer Style')
plt.show()


fig, axs = plt.subplots(10, 10, figsize=(30, 30), sharex=True, sharey=True)
cmap = plt.get_cmap('tab20')
i, j = 0, 0

for idx, name in enumerate(rb_beers['style'].unique()):
    if j == 10:
        i += 1
        j = 0
    
    style_data = rb_beers[rb_beers['style'] == name]['abv'].dropna()
    color = cmap(np.random.rand())

    if not style_data.empty:
        sns.histplot(style_data, bins=35, binrange=[0, 70], ax=axs[i, j], stat='proportion', color=color)  # 70 because Snake Venom is the highest one at 67.5%, rest is error
        axs[i, j].set_title(name, fontsize=15)
        axs[i, j].set_xlabel('')
        axs[i, j].set_ylabel('')
    
    j += 1

fig.text(0.5, -0.01, 'Alcohol By Volume (ABV)', ha='center', fontsize=20)
fig.text(-0.01, 0.5, 'Proportion', va='center', rotation='vertical', fontsize=20)
fig.text(0.5, 1, 'Distribution of Alcohol Content by Beer Style', ha='center', fontsize=20)

plt.tight_layout()
plt.show()


plt.figure(figsize=(10, 20))
sorted_styles = rb_beers.groupby('style')['abv'].mean().sort_values(ascending=False).index
sns.boxplot(data=rb_beers, x='abv', y='style', palette='coolwarm', order=sorted_styles)
plt.title('Distribution of Alcohol Content by Beer Style')
plt.xlabel('Alcohol By Volume (ABV)')
plt.ylabel('Beer Style')
plt.show()


plt.figure(figsize=(10, 10))
top_50 = unique_style.sort_values(ascending=False, by='nbr_beers').head(50)
sns.barplot(data=top_50, x='nbr_beers', y='style', hue='style', palette='coolwarm')
plt.title('Top 50 Styles with the Most Beers')
plt.xlabel('Number of Beers')
plt.ylabel('Beer Styles')
plt.show()


plt.figure(figsize=(10, 10))
top_50 = unique_style.sort_values(ascending=False, by='avg_computed_mean').head(50)
min_top_50 = min(top_50['avg_computed_mean'])
max_top_50 = max(top_50['avg_computed_mean'])
sns.barplot(data=top_50, x='avg_computed_mean', y='style', hue='style', palette='coolwarm')
plt.xlim(min_top_50 - 0.1, max_top_50 + 0.1)
plt.title('Top 50 Styles with the Highest Average Beer Ratings')
plt.xlabel('Mean User Rating')
plt.ylabel('Beer Styles')
plt.show()





unique_brewery = rb_beers.groupby('brewery_id').agg(nbr_beers= ('beer_id', 'count'),
                                             nbr_ratings_sum= ('nbr_ratings', 'sum'),
                                             nbr_ratings_mean= ('nbr_ratings', 'mean'),
                                             overall_score_mean= ('overall_score', 'mean'),
                                             style_score_mean= ('style_score', 'mean'),
                                             avg_mean= ('avg', 'mean'),
                                             abv_mean= ('abv', 'mean'),
                                             avg_computed_mean= ('avg_computed', 'mean')).reset_index()
display(unique_brewery)


plt.figure(figsize=(10, 10))
top_50 = rb_breweries.sort_values(ascending=False, by='nbr_beers').head(50)
top_50['id'] = top_50['id'].astype(str)
sns.barplot(data=top_50, x='nbr_beers', y='id', hue='id', palette='coolwarm')
plt.title('Top 50 Breweries with the Most Beers')
plt.xlabel('Number of Beers')
plt.ylabel('Brewery ID')
plt.show()


sns.histplot(rb_breweries['nbr_beers'], bins=50, stat='percent')
plt.title('Distribution of the Number of Beers Produced per Brewery')
plt.yscale('log')
plt.xlabel('Number of Beers')
plt.ylabel('Proportion (log)')
plt.show()


plt.figure(figsize=(10, 10))
top_50 = unique_brewery.sort_values(ascending=False, by='avg_computed_mean').head(50)
top_50['brewery_id'] = top_50['brewery_id'].astype(str)
min_top_50 = min(top_50['avg_computed_mean'])
max_top_50 = max(top_50['avg_computed_mean'])
sns.barplot(data=top_50, x='avg_computed_mean', y='brewery_id', hue='brewery_id', palette='coolwarm')
plt.xlim(min_top_50 - 0.1, max_top_50 + 0.1)
plt.title('Top 50 Breweries with the Highest Average Beer Ratings')
plt.xlabel('Mean User Rating')
plt.ylabel('Brewery ID')
plt.show()


sns.histplot(unique_brewery['avg_computed_mean'], bins=50, stat='percent')
plt.title('Distribution of Average Beer Ratings per Brewery')
plt.yscale('log')
plt.xlabel('Mean User Rating')
plt.ylabel('Proportion (log)')
plt.show()





ba_beers['avg_computed'].value_counts()


user_counts_by_continent = ba_users['continent'].value_counts()
total_users = ba_users['continent'].count()
proportion_by_continent = user_counts_by_continent / total_users

proportion_df = proportion_by_continent.reset_index()
proportion_df.columns = ['Continent', 'Proportion']

plt.figure(figsize=(10, 6))
ax = sns.barplot(data=proportion_df, x='Continent', y='Proportion', palette="tab10", hue="Continent")

for p in ax.patches:
    height = p.get_height()
    ax.text(p.get_x() + p.get_width() / 2, height + 0.01, f'{height * 100:.1f}%', 
            ha='center', va='bottom', color='black', fontsize=12)
plt.title("Proportion of Users by Continent")
plt.xlabel("Continent")
plt.ylabel("Proportion of Users")
plt.xticks(rotation=45)
plt.grid(axis='y', linestyle='--', alpha=0.7)
plt.show()


user_counts_by_country = ba_users['country'].value_counts()
total_users = ba_users['country'].count()
proportion_by_country = user_counts_by_country / total_users

proportion_country_df = proportion_by_country.reset_index()
proportion_country_df.columns = ['Country', 'Proportion']
top_10_countries = proportion_country_df.head(10)

plt.figure(figsize=(16, 8))
ax = sns.barplot(data=top_10_countries, x='Country', y='Proportion', hue='Country', palette="tab10")
for p in ax.patches:
    height = p.get_height()
    ax.text(p.get_x() + p.get_width() / 2, height + 0.01, f'{height * 100:.1f}%', 
            ha='center', va='bottom', color='black', fontsize=12)
plt.title("Proportion of Users by Country (Top 10)")
plt.xlabel("Country")
plt.ylabel("Proportion of Users")
plt.xticks(rotation=45)
plt.grid(axis='y', linestyle='--', alpha=0.7)
plt.show()


ba_users['joined'] = pd.to_datetime(ba_users['joined'], format='%d/%m/%Y', errors='coerce')
ba_users = ba_users.dropna(subset=['joined'])
ba_users['year_month'] = ba_users['joined'].dt.to_period('M')
monthly_signups = ba_users['year_month'].value_counts().sort_index()
plt.figure(figsize=(22, 6))
sns.lineplot(x=monthly_signups.index.astype(str), y=monthly_signups.values, marker='o', color="b")
plt.title("Time Series of User Signups")
plt.xlabel("Date (Year-Month)")
plt.ylabel("Number of Signups")
plt.xticks(ticks=range(0, len(monthly_signups.index), 3), labels=monthly_signups.index[::3].astype(str), rotation=45)
plt.grid(axis='y', linestyle='--', alpha=0.7)
plt.show()
