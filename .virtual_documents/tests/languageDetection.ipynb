


import pandas as pd
import numpy as np
import fasttext


model_path = "../data/bin/lid.176.bin" 





ba_reviews_experts = pd.read_parquet('../generated/ba_reviews_experts.parquet')


ba_reviews_experts = pd.read_parquet('../generated/ba_reviews_experts.parquet')
rb_reviews_experts = pd.read_parquet('../generated/rb_reviews_experts.parquet')
model = fasttext.load_model(model_path)





def detect_language_fasttext(text): #utils
    try:
        if pd.isnull(text) or text.strip() == "":
            return "unknown"
        prediction = model.predict(text.strip())
        return prediction[0][0].replace("__label__", "") 
    except Exception as e:
        return "unknown"





ba_reviews_experts['language'] = ba_reviews_experts['text'].apply(detect_language_fasttext)


ba_languages = ba_reviews_experts.groupby('language').agg(num_languages =('language', 'count'))
ba_total_language = ba_languages['num_languages'].sum()
ba_languages['review_proportion_percentage'] = (ba_languages['num_languages'] / total_language * 100).round(5)
ba_languages = ba_languages.sort_values(by= 'num_languages', ascending= False)


ba_languages








ba_reviews_experts_en = ba_reviews_experts[ba_reviews_experts['language'] == 'en'].copy()
ba_reviews_experts_en.to_parquet('../generated/ba_reviews_experts_en.parquet')





rb_reviews_experts['language'] = rb_reviews_experts['text'].apply(detect_language_fasttext)


rb_languages = rb_reviews_experts.groupby('language').agg(num_languages =('language', 'count'))
rb_total_language = rb_languages['num_languages'].sum()
rb_languages['review_proportion_percentage'] = (rb_languages['num_languages'] / rb_total_language * 100).round(5)
rb_languages = rb_languages.sort_values(by= 'num_languages', ascending= False)


rb_languages








rb_reviews_experts_en = rb_reviews_experts[rb_reviews_experts['language'] == 'en'].copy()
rb_reviews_experts_en.to_parquet('../generated/rb_reviews_experts_en.parquet')
