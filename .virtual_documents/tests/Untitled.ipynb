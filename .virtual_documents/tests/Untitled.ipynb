


import pandas as pd
import numpy as np
import matplotlib.pyplot as plt





ba_reviews_experts = pd.read_parquet('../generated/ba_reviews_experts.parquet')
rb_reviews_experts = pd.read_parquet('../generated/rb_reviews_experts.parquet')





# Count Users
ba_reviews = pd.read_parquet('../generated/new_ba_reviews.parquet', columns=['user_id'])
rb_reviews = pd.read_parquet('../generated/new_rb_reviews.parquet', columns=['user_id'])
ba_distinct_user_count = ba_reviews['user_id'].nunique()
rb_distinct_user_count = rb_reviews['user_id'].nunique()

print(f"Number of distinct user_id values in BA: {ba_distinct_user_count}")
print(f"Number of distinct user_id values in RB: {rb_distinct_user_count}")


# Count beer
ba_reviews = pd.read_parquet('../generated/new_ba_reviews.parquet', columns=['beer_id'])
rb_reviews = pd.read_parquet('../generated/new_rb_reviews.parquet', columns=['beer_id'])
ba_distinct_beer_count = ba_reviews['beer_id'].nunique()
rb_distinct_beer_count = rb_reviews['beer_id'].nunique()

print(f"Number of distinct user_id values in BA: {ba_distinct_beer_count}")
print(f"Number of distinct user_id values in RB: {rb_distinct_beer_count}")



# Count of textual reviews

ba_reviews = pd.read_parquet('../generated/new_ba_reviews.parquet', columns=['text'])
rb_reviews = pd.read_parquet('../generated/new_rb_reviews.parquet', columns=['text'])

ba_text_count = ba_reviews['text'].dropna().shape[0]
rb_text_count = rb_reviews['text'].dropna().shape[0]

print(f"Number of non-NaN text rows in BA: {ba_text_count}")
print(f"Number of non-NaN text rows in RB: {rb_text_count}")


# Count breweries
ba_reviews = pd.read_parquet('../generated/new_ba_reviews.parquet', columns=['brewery_id'])
rb_reviews = pd.read_parquet('../generated/new_rb_reviews.parquet', columns=['brewery_id'])
ba_distinct_brewery_count = ba_reviews['brewery_id'].nunique()
rb_distinct_brewery_count = rb_reviews['brewery_id'].nunique()

print(f"Number of distinct user_id values in BA: {ba_distinct_brewery_count}")
print(f"Number of distinct user_id values in RB: {rb_distinct_brewery_count}")
