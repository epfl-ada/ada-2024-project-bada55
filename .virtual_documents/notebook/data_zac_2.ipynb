


























import pandas as pd
import numpy as np
import matplotlib.pyplot as plt
import seaborn as sns


DATA_FOLDER = 'F:\\9_COURS_EPFL_MA1\\4_ADA\\ada-2024-project-bada55\\data\\'
BEER_ADVOCATE_FOLDER = DATA_FOLDER + 'BeerAdvocate/' #BA
RATE_BEER_FOLDER = DATA_FOLDER + 'RateBeer/' #RB
MATCHED_BEER = DATA_FOLDER + 'matched_beer_data/' #MB

BA_BEERS_DATASET = BEER_ADVOCATE_FOLDER + "beers.csv"
BA_BREWERIES_DATASET = BEER_ADVOCATE_FOLDER + "breweries.csv"
BA_USERS_DATASET = BEER_ADVOCATE_FOLDER + "users.csv"
BA_RATINGS_DATASET = BEER_ADVOCATE_FOLDER + "ratings.txt"
BA_REVIEWS_DATASET = BEER_ADVOCATE_FOLDER + "reviews.txt"

RB_BEERS_DATASET = RATE_BEER_FOLDER + "beers.csv"
RB_BREWERIES_DATASET = RATE_BEER_FOLDER + "breweries.csv"
RB_USERS_DATASET = RATE_BEER_FOLDER + "users.csv"
RB_RATINGS_DATASET = RATE_BEER_FOLDER + "ratings.txt"
RB_REVIEWS_DATASET = RATE_BEER_FOLDER + "ratings.txt"








with open(BA_RATINGS_DATASET, 'r', encoding='utf-8') as file:
    line_count = sum(1 for line in file)

print(f"Number of lines: {line_count}")


columns = ['beer_name', 'beer_id', 'brewery_name', 'brewery_id', 'style', 'abv', 'date', 
           'user_name', 'user_id', 'appearance', 'aroma', 'palate', 'taste', 'overall', 
           'rating', 'text']
data = []
current_entry = {}

max_entries = 10000 #must be equal 2 589 586 to have all reviews
entry_count = 0

with open(BA_REVIEWS_DATASET, 'r', encoding='utf-8') as file:
    for line in file:
        line = line.strip()  # Supprimer les espaces de début/fin
        if line:  # Si la ligne n'est pas vide
            if ':' in line:
                key, value = line.split(':', 1)  # Séparer la clé et la valeur
                key = key.strip()
                value = value.strip()
                current_entry[key] = value
        else:
            if current_entry:  # Si un bloc est terminé, ajouter l'entrée au dataset
                data.append(current_entry)
                current_entry = {}  # Réinitialiser pour le prochain bloc
                entry_count += 1
                if entry_count >= max_entries:  # Arrêter après 40 entrées
                    break

# Ajouter la dernière entrée si nécessaire et si le fichier ne finit pas par une ligne vide
if current_entry and entry_count < max_entries:
    data.append(current_entry)

ba_reviews = pd.DataFrame(data, columns=columns)
ba_reviews["date"] = pd.to_numeric(ba_reviews["date"])
ba_reviews["date"] = pd.to_datetime(ba_reviews["date"], unit='s').dt.strftime('%d/%m/%Y')
cols = ['appearance', 'aroma', 'palate', 'taste', 'overall', 'rating']
ba_reviews[cols] = ba_reviews[cols].apply(pd.to_numeric, errors = 'coerce')


ba_beers = pd.read_csv(BA_BEERS_DATASET)
ba_breweries = pd.read_csv(BA_BREWERIES_DATASET)
ba_users = pd.read_csv(BA_USERS_DATASET)








columns = ['beer_name', 'beer_id', 'brewery_name', 'brewery_id', 'style', 'abv', 'date', 
           'user_name', 'user_id', 'appearance', 'aroma', 'palate', 'taste', 'overall', 
           'rating', 'text']
data = []
current_entry = {}

max_entries = 10000 #must be equal 7 122 074 to have all reviews
entry_count = 0

with open(RB_REVIEWS_DATASET, 'r', encoding='utf-8') as file:
    for line in file:
        line = line.strip()  # Supprimer les espaces de début/fin
        if line:  # Si la ligne n'est pas vide
            if ':' in line:
                key, value = line.split(':', 1)  # Séparer la clé et la valeur
                key = key.strip()
                value = value.strip()
                current_entry[key] = value
        else:
            if current_entry:  # Si un bloc est terminé, ajouter l'entrée au dataset
                data.append(current_entry)
                current_entry = {}  # Réinitialiser pour le prochain bloc
                entry_count += 1
                if entry_count >= max_entries:  # Arrêter après 40 entrées
                    break

# Ajouter la dernière entrée si nécessaire et si le fichier ne finit pas par une ligne vide
if current_entry and entry_count < max_entries:
    data.append(current_entry)

rb_reviews = pd.DataFrame(data, columns=columns)
rb_reviews["date"] = pd.to_numeric(rb_reviews["date"])
rb_reviews["date"] = pd.to_datetime(rb_reviews["date"], unit='s').dt.strftime('%d/%m/%Y')
cols = ['appearance', 'aroma', 'palate', 'taste', 'overall', 'rating']
rb_reviews[cols] = rb_reviews[cols].apply(pd.to_numeric)


rb_beers = pd.read_csv(RB_BEERS_DATASET)
rb_breweries = pd.read_csv(RB_BREWERIES_DATASET)
rb_users = pd.read_csv(RB_USERS_DATASET)








print("ba_beers :\n")
display(ba_beers)
print("=" * 150)
print("\nba_beweries :\n")
display(ba_breweries)
print("=" * 150)
print("\nba_users :\n")
display(ba_users)
print("=" * 150)
print("\nba_reviews :\n")
display(ba_reviews)




















print("rb_beers :\n")
display(rb_beers)
print("=" * 150)
print("\nrb_beweries :\n")
display(rb_breweries)
print("=" * 150)
print("\nrb_users :\n")
display(rb_users)
print("=" * 150)
print("\nrb_reviews :\n")
display(rb_reviews)








display(rb_beers)


unique_style = rb_beers.groupby('style').agg(nbr_beers= ('beer_id', 'count'),
                                             nbr_ratings_sum= ('nbr_ratings', 'sum'),
                                             nbr_ratings_mean= ('nbr_ratings', 'mean'),
                                             overall_score_mean= ('overall_score', 'mean'),
                                             style_score_mean= ('style_score', 'mean'),
                                             avg_mean= ('avg', 'mean'),
                                             abv_mean= ('abv', 'mean'),
                                             avg_computed_mean= ('avg_computed', 'mean')).reset_index()
display(unique_style)


sns.histplot(rb_beers['avg_computed'], bins= 50, stat= 'proportion')
plt.title('Distribution des notes des utilisateurs')
plt.xlabel('User Rating')
plt.ylabel('Proportion')
plt.show()


sns.histplot(rb_beers['nbr_ratings'], bins= 50, stat= 'proportion')
plt.yscale('log')
plt.title('Distribution du nombre de notes par bière (échelle logarithmique)')
plt.xlabel("Nombre de notes")
plt.ylabel('Proportion (log)')
plt.show()


fig, axs = plt.subplots(10, 10, figsize=(30, 30), sharex=True, sharey=True)
cmap = plt.get_cmap('tab20')
i, j = 0, 0

for idx, name in enumerate(rb_beers['style'].unique()):
    if j == 10:
        i += 1
        j = 0
    
    style_data = rb_beers[rb_beers['style'] == name]['avg_computed'].dropna()
    color = cmap(np.random.rand())

    if not style_data.empty:
        sns.histplot(style_data, bins= 50, binrange= [0, 5], ax= axs[i, j], stat= 'proportion', color= color)
        axs[i, j].set_title(name, fontsize= 15)
        axs[i, j].set_xlabel('')
        axs[i, j].set_ylabel('')
    
    j += 1

fig.text(0.5, -0.01, 'User rating', ha= 'center', fontsize= 20)
fig.text(-0.01, 0.5, 'Proportion', va= 'center', rotation= 'vertical', fontsize= 20)
fig.text(0.5, 1, 'Distribution des notes des utilisateurs par style de bières', ha= 'center', fontsize= 20)

plt.tight_layout()
plt.show()


plt.figure(figsize= (10, 20))
sorted_styles = rb_beers.groupby('style')['avg_computed'].mean().sort_values(ascending= False).index
sns.boxplot(data= rb_beers, x= 'avg_computed', y= 'style', palette= 'coolwarm', order= sorted_styles)
plt.title('Distribution des notes des utilisateurs par style de bière')
plt.xlabel('User rating')
plt.ylabel('Style de bière')
plt.show()


fig, axs = plt.subplots(10, 10, figsize=(30, 30), sharex=True, sharey=True)
cmap = plt.get_cmap('tab20')
i, j = 0, 0

for idx, name in enumerate(rb_beers['style'].unique()):
    if j == 10:
        i += 1
        j = 0
    
    style_data = rb_beers[rb_beers['style'] == name]['abv'].dropna()
    color = cmap(np.random.rand())

    if not style_data.empty:
        sns.histplot(style_data, bins= 35, binrange= [0, 70], ax= axs[i, j], stat= 'proportion', color= color) #70 because Snake Venom is the highest one 67.5%, rest is error
        axs[i, j].set_title(name, fontsize= 15)
        axs[i, j].set_xlabel('')
        axs[i, j].set_ylabel('')
    
    j += 1

fig.text(0.5, -0.01, 'Abv', ha= 'center', fontsize= 20)
fig.text(-0.01, 0.5, 'Proportion', va= 'center', rotation= 'vertical', fontsize= 20)
fig.text(0.5, 1, 'Distribution de la teneur en alcool par style de bière', ha= 'center', fontsize= 20)

plt.tight_layout()
plt.show()


plt.figure(figsize= (10, 20))
sorted_styles = rb_beers.groupby('style')['abv'].mean().sort_values(ascending= False).index
sns.boxplot(data= rb_beers, x= 'abv', y= 'style', palette= 'coolwarm', order= sorted_styles)
plt.title('Distribution de la teneur en alcool par style de bière')
plt.xlabel('Abv')
plt.ylabel('Style de bière')
plt.show()


plt.figure(figsize= (10, 10))
top_50 = unique_style.sort_values(ascending= False, by= 'nbr_beers').head(50)
sns.barplot(data= top_50, x= 'nbr_beers', y= 'style', hue= 'style', palette= 'coolwarm')
plt.title('Top 50 des styles avec le plus de bières')
plt.xlabel('Nombre de bières')
plt.ylabel('Style de bières')
plt.show()


plt.figure(figsize= (10, 10))
top_50 = unique_style.sort_values(ascending= False, by= 'avg_computed_mean').head(50)
min_top_50 = min(top_50['avg_computed_mean'])
max_top_50 = max(top_50['avg_computed_mean'])
sns.barplot(data= top_50, x= 'avg_computed_mean', y= 'style', hue= 'style', palette= 'coolwarm')
plt.xlim(min_top_50 - 0.1, max_top_50 + 0.1)
plt.title('Top 50 des styles avec les bières les mieux notées en moyenne')
plt.xlabel('Mean user rating')
plt.ylabel('Style de bières')
plt.show()











display(rb_breweries.sort_values(by= 'id'))


unique_brewery = rb_beers.groupby('brewery_id').agg(nbr_beers= ('beer_id', 'count'),
                                             nbr_ratings_sum= ('nbr_ratings', 'sum'),
                                             nbr_ratings_mean= ('nbr_ratings', 'mean'),
                                             overall_score_mean= ('overall_score', 'mean'),
                                             style_score_mean= ('style_score', 'mean'),
                                             avg_mean= ('avg', 'mean'),
                                             abv_mean= ('abv', 'mean'),
                                             avg_computed_mean= ('avg_computed', 'mean')).reset_index()
display(unique_brewery)


plt.figure(figsize= (10, 10))
top_50 = rb_breweries.sort_values(ascending= False, by= 'nbr_beers').head(50)
top_50['id'] = top_50['id'].astype(str)
sns.barplot(data= top_50, x= 'nbr_beers', y= 'id', hue= 'id', palette= 'coolwarm')
plt.title('Top 50 des brasseries avec le plus de bières')
plt.xlabel('Beer number')
plt.ylabel('Brewery ID')
plt.show()


sns.histplot(rb_breweries['nbr_beers'], bins= 50, stat= 'percent')
plt.title('Distribution de la quantité de bières produites par brasserie')
plt.yscale('log')
plt.xlabel('Beer number')
plt.ylabel('Proportion (log)')
plt.show()


plt.figure(figsize= (10, 10))
top_50 = unique_brewery.sort_values(ascending= False, by= 'avg_computed_mean').head(50)
top_50['brewery_id'] = top_50['brewery_id'].astype(str)
min_top_50 = min(top_50['avg_computed_mean'])
max_top_50 = max(top_50['avg_computed_mean'])
sns.barplot(data= top_50, x= 'avg_computed_mean', y= 'brewery_id', hue= 'brewery_id', palette= 'coolwarm')
plt.xlim(min_top_50 - 0.1, max_top_50 + 0.1)
plt.title('Top 50 des brasseries avec les bières les mieux notées en moyenne')
plt.xlabel('Mean user rating')
plt.ylabel('Brewery ID')
plt.show()


sns.histplot(unique_brewery['avg_computed_mean'], bins= 50, stat= 'percent')
plt.title('Distribution des moyennes des notes de bières produites par brasserie')
plt.yscale('log')
plt.xlabel('Mean user rating')
plt.ylabel('Proportion (log)')
plt.show()








rb_reviews


unique_beer = rb_reviews.groupby('beer_name').agg(number_beers= ('beer_id', 'count'),
                                             rating_mean= ('rating', 'mean'),
                                             number_beer= ('beer_id', 'count'))
unique_beer = unique_beer.reset_index()
display(unique_beer.sort_values(by= 'beer_name').head(20))
display(rb_beers[rb_beers['beer_name'].isin(unique_beer['beer_name'])].sort_values(by= 'beer_name').head(20))






