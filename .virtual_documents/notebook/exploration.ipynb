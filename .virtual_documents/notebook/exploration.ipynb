import pandas as pd
import os 
import sys
from matplotlib.figure import Figure
import matplotlib.pyplot as plt
import seaborn as sns
import statsmodels.formula.api as smf
import numpy as np
import plotly.express as px
root_dir = os.path.abspath('..') 
sys.path.append(root_dir)  
# from src.visualization import exploration





new_df_breweries = pd.read_csv("../generated/data/new_breweries.csv")


# Computation of percentages of continents
continent_counts = new_df_beers["continent"].value_counts().sort_index()
total_count = continent_counts.sum()
continent_percentages = (continent_counts / total_count) * 100

# DataFrame for the plot
plot_df = pd.DataFrame({
    'Continent': continent_counts.index,
    'Count': continent_counts.values,
    'Percentage': continent_percentages.values
})

# Figure
fig, ax = plt.subplots(figsize=(10, 6))

# Count
sns.barplot(
    x='Continent', y='Count', data=plot_df, ax=ax, color='orange', label="Count", palette="tab10", hue="Continent"
)

# Percentages
for index, row in plot_df.iterrows():
    ax.text(index, row['Count'], f"{row['Percentage']:.1f}%", color='black', ha="center")

# Titles 
ax.set_title("Continents")
ax.set_ylabel("Count")
ax.set_xlabel("Continent");





new_df_ratings = pd.read_csv("../generated/data/new_ratings.csv")
new_df_beers = pd.read_csv("../generated/data/new_beers.csv")


model = smf.ols("rating ~ appearance + aroma + palate + taste + overall - 1", new_df_ratings, ).fit()
display(model.summary())
print("Sum of parameters : ", model.params.sum())





new_df_ratings.groupby(["continent", "type"])[["appearance", "aroma", "palate", "taste", "overall", "rating"]].agg({"rating":["mean","sem"]}).reset_index()


fig = px.bar(
    new_df_ratings.groupby(["continent", "type"])[["appearance", "aroma", "palate", "taste", "overall", "rating"]].mean().reset_index(),
    x="type",
    y="rating",
    facet_row="continent",
    color="continent",
    title="Ratings Per Continent",
    error_y="rating"
)

fig.update_yaxes(range=[3, 5])

fig.update_yaxes(title_text="Continent", matches="y", showticklabels=True)

fig.update_layout(
    title={'text': "Ratings Per Continent", 'x': 0.5, 'xanchor': 'center'},
    margin=dict(t=50),
    showlegend=False
)

# fig.show()
fig.write_html("../generated/figures/style_continent_rating.html")


new_df_ratings





new_df_beers[new_df_beers['beer_id'] == 19590]


new_df_ratings.loc[new_df_ratings['beer_id'] == 19590,"rating"]


new_df_ratings.loc[new_df_ratings['beer_id'] == 19590,["appearance","aroma","palate","taste","overall","rating"]]


(np.mean(new_df_ratings.loc[new_df_ratings['beer_id'] == 19590,["appearance","aroma","palate","taste","overall"]].values,0) *  model.params.values).sum()


new_df_beers


rb_users = pd.read_csv("../data/processed/new_rb_users.csv")


rb_users.country.value_counts() / rb_users.country.value_counts().sum()


ba_users = pd.read_csv("../data/processed/new_ba_users.csv")


ba_users.country.value_counts() / ba_users.country.value_counts().sum()
