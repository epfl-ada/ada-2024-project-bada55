








import pandas as pd
%matplotlib inline

DATA_FOLDER = 'data/'
BEER_ADVOCATE_FOLDER = DATA_FOLDER + 'BeerAdvocate/' #BA

BA_BEERS_DATASET = BEER_ADVOCATE_FOLDER + "beers.csv"
BA_BREWERIES_DATASET = BEER_ADVOCATE_FOLDER + "breweries.csv"
BA_USERS_DATASET = BEER_ADVOCATE_FOLDER + "users.csv"
BA_RATINGS_DATASET = BEER_ADVOCATE_FOLDER + "ratings.txt"
BA_REVIEWS_DATASET = BEER_ADVOCATE_FOLDER + "reviews.txt"








columns = ['beer_name', 'beer_id', 'brewery_name', 'brewery_id', 'style', 'abv', 'date', 
           'user_name', 'user_id','appearance', 'aroma', 'palate', 'taste', 'overall', 
           'rating', 'text', 'review']

data = []
current_entry = {}

max_entries = 1000 #nb of treated lines in txt
entry_count = 0

with open(BA_RATINGS_DATASET, 'r', encoding='utf-8') as file:
    #preview = file.read(100)
    #print(preview)

    for line in file:
        line = line.strip()  # Supprimer les espaces de début/fin
        if line:  # Si la ligne n'est pas vide
            if ':' in line:
                key, value = line.split(':', 1)  # Séparer la clé et la valeur
                key = key.strip()
                value = value.strip()
                current_entry[key] = value
        else:
            if current_entry:  # Si un bloc est terminé, ajouter l'entrée au dataset
                data.append(current_entry)
                current_entry = {}  # Réinitialiser pour le prochain bloc
                entry_count += 1
                if entry_count >= max_entries:  # Arrêter après 40 entrées
                    break
# Ajouter la dernière entrée si nécessaire et si le fichier ne finit pas par une ligne vide
if current_entry and entry_count < max_entries:
    data.append(current_entry)

ba_ratings = pd.DataFrame(data, columns=columns)
ba_ratings["date"] = pd.to_numeric(ba_ratings["date"])
ba_ratings["date"] = pd.to_datetime(ba_ratings["date"], unit='s').dt.strftime('%d/%m/%Y')
cols = ['appearance', 'aroma', 'palate', 'taste', 'overall', 'rating']
ba_ratings[cols] = ba_ratings[cols].apply(pd.to_numeric, errors = 'coerce')
#display(ba_ratings.head(1))








columns = ['beer_name', 'beer_id', 'brewery_name', 'brewery_id', 'style', 'abv', 'date', 
           'user_name', 'user_id', 'appearance', 'aroma', 'palate', 'taste', 'overall', 
           'rating', 'text']
data = []
current_entry = {}

max_entries = 1000 #nb of treated lines in txt
entry_count = 0

with open(BA_REVIEWS_DATASET, 'r', encoding='utf-8') as file:
    #preview = file.read(700)
    #print(preview)

    for line in file:
        line = line.strip()  # Supprimer les espaces de début/fin
        if line:  # Si la ligne n'est pas vide
            if ':' in line:
                key, value = line.split(':', 1)  # Séparer la clé et la valeur
                key = key.strip()
                value = value.strip()
                current_entry[key] = value
        else:
            if current_entry:  # Si un bloc est terminé, ajouter l'entrée au dataset
                data.append(current_entry)
                current_entry = {}  # Réinitialiser pour le prochain bloc
                entry_count += 1
                if entry_count >= max_entries:  # Arrêter après 40 entrées
                    break

# Ajouter la dernière entrée si nécessaire et si le fichier ne finit pas par une ligne vide
if current_entry and entry_count < max_entries:
    data.append(current_entry)

ba_reviews = pd.DataFrame(data, columns=columns)
ba_reviews["date"] = pd.to_numeric(ba_reviews["date"])
ba_reviews["date"] = pd.to_datetime(ba_reviews["date"], unit='s').dt.strftime('%d/%m/%Y')
cols = ['appearance', 'aroma', 'palate', 'taste', 'overall', 'rating']
ba_reviews[cols] = ba_reviews[cols].apply(pd.to_numeric, errors = 'coerce')





ba_beers = pd.read_csv(BA_BEERS_DATASET)
ba_breweries = pd.read_csv(BA_BREWERIES_DATASET)
ba_users = pd.read_csv(BA_USERS_DATASET)
# ba_ratings
# ba_reviews





unique_count = ba_reviews['beer_name'].nunique()
print(f"Le nombre d'entrées uniques dans 'beer_name' est : {unique_count}")





display(ba_breweries.sample(3))


ba_breweries_c = ba_breweries[~ba_breweries['location'].str.contains('href', na=False)]

# display(sorted(ba_breweries_c['location'].unique()))

ba_breweries_c.sample(2)


ba_breweries_c['location'].describe()


ba_breweries_c['name'].describe()


ba_breweries_c['nbr_beers'].describe()


breweries_per_country = ba_breweries_c.groupby('location').size()
avg_beer_nbr_per_country = ba_breweries_c.groupby('location')['nbr_beers'].mean()

df = pd.DataFrame({
    'nbr_breweries': breweries_per_country,
    'avg_beer_nbr': avg_beer_nbr_per_country
})
df_sorted = df.sort_values(by='nbr_breweries', ascending=False)

display(df_sorted.head(3))


# Countries with many regions/states:

us = ba_breweries_c[ba_breweries_c['location'].str.contains("United States")]
canada = ba_breweries_c[ba_breweries_c['location'].str.contains("Canada")]

df_us = pd.DataFrame({
    'nbr_breweries': us.groupby('location').size(),
    'avg_beer_nbr': us.groupby('location')['nbr_beers'].mean()
})

df_canada = pd.DataFrame({
    'nbr_breweries': canada.groupby('location').size(),
    'avg_beer_nbr': canada.groupby('location')['nbr_beers'].mean()
})

df_us_sorted=df_us.sort_values(by='nbr_breweries', ascending=False)
df_canada_sorted=df_canada.sort_values(by='nbr_breweries', ascending=False)

#display(df_us_sorted)
#display(df_canada_sorted)


# ATTENTION US, US en dernière position !!!


us_calif_breweries = ba_breweries_c[ba_breweries_c['location'] == 'United States, California']
display(us_calif_breweries)
us_calif_breweries['nbr_beers'].describe()





ba_users.sample(10)


#Conversion en date lisible: joined column
ba_users_c = ba_users.copy()
ba_users_c['joined'] = pd.to_datetime(ba_users_c['joined'], unit='s')

display(ba_users_c.sort_values(by='nbr_ratings', ascending=False))


ba_users_c['nbr_ratings'].describe()


ba_users_c['nbr_reviews'].describe()


ba_users_c['joined'].describe()
