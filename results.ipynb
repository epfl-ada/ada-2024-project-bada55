{
 "cells": [
  {
   "cell_type": "code",
   "execution_count": null,
   "id": "fd9362c0-0db9-4e7e-8f39-bc03778bc23d",
   "metadata": {},
   "outputs": [],
   "source": [
    "import pandas as pd\n",
    "import numpy as np\n",
    "import seaborn as sns\n",
    "import matplotlib.pyplot as plt\n",
    "#import plotly.express as px\n",
    "#plt.rcParams[\"figure.figsize\"] = (18, 6)"
   ]
  },
  {
   "cell_type": "markdown",
   "id": "507a9ffd-cf2e-4bd5-84cf-c1b8cd53a4b4",
   "metadata": {},
   "source": [
    "# Beer Advocate Informations\n",
    "\n",
    "The first site we analyze is BeerAdvocate, a leading online community for beer enthusiasts that offers extensive reviews, ratings, and discussions on a wide variety of beers from around the world."
   ]
  },
  {
   "cell_type": "markdown",
   "id": "b0874c8d-eaa3-4551-9d46-9f23a70dcdeb",
   "metadata": {
    "jp-MarkdownHeadingCollapsed": true
   },
   "source": [
    "## ba_beers.csv"
   ]
  },
  {
   "cell_type": "code",
   "execution_count": null,
   "id": "dddde8c1-4f27-4476-a95c-328502468aba",
   "metadata": {},
   "outputs": [],
   "source": [
    "ba_beers = pd.read_csv(\"../data/processed/new_ba_beers.csv\")"
   ]
  },
  {
   "cell_type": "markdown",
   "id": "91440a82-8e88-4de2-8a77-ec4c2d7b0da2",
   "metadata": {},
   "source": [
    "| Column Name       | Description                                   | Commentary                              |\n",
    "|-------------------|-----------------------------------------------|-----------------------------------------|\n",
    "| beer_id           | id of each beer.                              |  unique for each beer. (int)            |\n",
    "| beer_name         | name of the beer.                             | (str)                                     |\n",
    "| brewery_id        | id of brewery of the beer.                    | unique for each brewery. (int)               |\n",
    "| brewery_name      | name of the brewery.                              |  (str)            |\n",
    "| style             | style of the beer.                            | 104 differents styles (str)             |\n",
    "| nbr_ratings       | Total number of ratings for the beer.         | (int)               |\n",
    "| nbr_reviews       | Total number of reviews for the beer.         | (int)               |\n",
    "| avg        |       -           |              |\n",
    "| ba_score        | aggregated rating for each beer         |   out of 100           |\n",
    "| bros_score        | rating provided by the BeerAdvocate website's founders, Todd and Jason Alström, who are also known as \"The Bros.\"                  |    out of 100          |\n",
    "| abv        |  Alcohol by Volume                |    in %          |\n",
    "| avg_computed      | \"mean\" of the different scores given in reviews                         |  ratings are coming from reviews.txt (txt)            |\n",
    "| zscore             |        -                     |             |\n",
    "| nbr_matched_valid_ratings|  Number of “valid” notes for this beer in cross-referenced data.       | when compared with another dataset such as RateBeer.            |\n",
    "| avg_matched_valid_ratings|  Mean of “valid” notes for this beer in cross-referenced data.       |      |\n",
    "| continent |  continent of the breweries.       | added to compare continents and group      |\n",
    "| type|  type of the beer.       | added for comparison     |\n"
   ]
  },
  {
   "cell_type": "markdown",
   "id": "c73e8916-dd1a-4279-9bcf-83331e403010",
   "metadata": {},
   "source": [
    "We have not yet investigated the exact way in which avg and z_score have been calculated. We have not yet needed to use these parameters in our initial analyses, so we will analyse them if necessary when the time comes."
   ]
  },
  {
   "cell_type": "markdown",
   "id": "d3c364ab-e406-43e9-8427-f3b0a7724042",
   "metadata": {
    "jp-MarkdownHeadingCollapsed": true
   },
   "source": [
    "## ba_breweries.csv"
   ]
  },
  {
   "cell_type": "code",
   "execution_count": null,
   "id": "19e18b85-d33c-4228-aa88-8ed3e379a4f6",
   "metadata": {},
   "outputs": [],
   "source": [
    "ba_breweries = pd.read_csv(\"../data/processed/new_ba_breweries.csv\")"
   ]
  },
  {
   "cell_type": "markdown",
   "id": "65cf15cd-057a-4af5-a279-970450051d05",
   "metadata": {},
   "source": [
    "| Column Name | Description                                                   | Commentary                                        |\n",
    "|-------------|---------------------------------------------------------------|---------------------------------------------------|\n",
    "| id          | Unique identifier for each brewery in the RateBeer database.  | Distinct for each brewery (int)                   |\n",
    "| location    | Geographic location of the brewery, including country/region. | Useful for regional analysis and trends (str)     |\n",
    "| name        | Name of the brewery.                                          | Indicates the brewery’s commercial name (str)     |\n",
    "| nbr_beers   | Number of beers produced by the brewery in the database.      | Reflects brewery production scale (int)           |\n",
    "| country     | Country of the brewery.                                       |                                                   |\n",
    "| continent   | Continent of the brewery.                                     |                                                   |\n"
   ]
  },
  {
   "cell_type": "markdown",
   "id": "3e4b254a-bcd1-4a49-8ba3-2fb094000308",
   "metadata": {
    "jp-MarkdownHeadingCollapsed": true
   },
   "source": [
    "## ba_users.csv"
   ]
  },
  {
   "cell_type": "code",
   "execution_count": null,
   "id": "bc438f0e-f735-4642-9849-4d27836d87dc",
   "metadata": {},
   "outputs": [],
   "source": [
    "ba_users = pd.read_csv(\"../data/processed/new_ba_users.csv\")"
   ]
  },
  {
   "cell_type": "markdown",
   "id": "8b0ed9e3-6c96-48c3-a893-1befcee31077",
   "metadata": {},
   "source": [
    "| Column Name  | Description                                                         | Commentary                                    |\n",
    "|--------------|---------------------------------------------------------------------|-----------------------------------------------|\n",
    "| nbr_ratings  | Total number of ratings left by the user for different beers.       | (int)                                         |\n",
    "| user_id      | Unique identifier for the user.                                     | Unique to each user (int)                     |\n",
    "| user_name    | Username or display name of the user.                               | (str)                                         |\n",
    "| joined       | User's registration date on the RateBeer platform (DD/MM/YYYY).     | (date)                                        |\n",
    "| location     | location of the user                                                | (str)                                         |\n",
    "| country     | Country of the user.                                                 | (str)                                         |\n",
    "| continent   | Continent of the user.                                               | (str)                                         |\n"
   ]
  },
  {
   "cell_type": "markdown",
   "id": "e9e30924-4df3-4f7d-9892-42126b3fae72",
   "metadata": {
    "jp-MarkdownHeadingCollapsed": true
   },
   "source": [
    "## ba_reviews.csv"
   ]
  },
  {
   "cell_type": "code",
   "execution_count": null,
   "id": "bbc406bc-78ff-4187-9c79-b74a7648b9bd",
   "metadata": {},
   "outputs": [],
   "source": [
    "ba_reviews = pd.read_csv(\"../data/processed/new_ba_reviews.csv\")"
   ]
  },
  {
   "cell_type": "markdown",
   "id": "b140a9f6-b6ae-4ac8-bc4f-84b2c740efc2",
   "metadata": {},
   "source": [
    "| Column Name     | Description                                                         | Commentary                                    |\n",
    "|-----------------|---------------------------------------------------------------------|-----------------------------------------------|\n",
    "| beer_name       | Name of the beer.                                                   | (str)                                         |\n",
    "| beer_id         | Unique identifier for each beer.                                    | Distinct for each beer (int)                  |\n",
    "| brewery_name    | Name of the brewery producing the beer.                             | (str)                                         |\n",
    "| brewery_id      | Unique identifier for each brewery.                                 | Distinct for each brewery (int)               |\n",
    "| style           | Style of the beer (e.g., IPA, Lager).                               | (str)                                         |\n",
    "| abv             | Alcohol by volume percentage.                                       | Indicates the strength of the beer (float)    |\n",
    "| date            | Date the beer was rated.                                            | (date)                                        |\n",
    "| user_name       | Username or display name of the user who rated the beer.            | (str)                                         |\n",
    "| user_id         | Unique identifier for the user who rated the beer.                  | Distinct for each user (int)                  |\n",
    "| appearance      | Rating for the beer's appearance, up to 5.                           | Scores the visual presentation (int)          |\n",
    "| aroma           | Rating for the beer's aroma, up to 5.                               | Scores the scent (int)                        |\n",
    "| palate          | Rating for the beer's palate, up to 5.                              | Scores the feel on the tongue (int)           |\n",
    "| taste           | Rating for the beer's taste, up to 5.                               | Scores the flavor (int)                       |\n",
    "| overall         | Overall rating for the beer, up to 5.                               | General assessment (int)                      |\n",
    "| rating          | Overall rating formula combining all parameters with unknown weights. | Provides a weighted score (float)             |\n",
    "| text            | Textual review of the beer.                                          | User's comments on the beer (str)             |\n"
   ]
  },
  {
   "cell_type": "markdown",
   "id": "4d5a64d8-b01c-4c35-99a8-f6e072a6cac8",
   "metadata": {},
   "source": [
    "# Ratebeer Informations\n",
    "\n",
    "The second site we analyze is RateBeer, a prominent online platform where beer enthusiasts share in-depth reviews, ratings, and discussions about a vast selection of beers from all over the world."
   ]
  },
  {
   "cell_type": "markdown",
   "id": "25cb023d-d345-4f4a-a763-97821bef7d17",
   "metadata": {
    "jp-MarkdownHeadingCollapsed": true
   },
   "source": [
    "## rb_beers.csv"
   ]
  },
  {
   "cell_type": "code",
   "execution_count": null,
   "id": "952a28de-a724-4894-a2b9-b285f519d077",
   "metadata": {},
   "outputs": [],
   "source": [
    "rb_beers = pd.read_csv(\"../data/processed/new_rb_beers.csv\")"
   ]
  },
  {
   "cell_type": "markdown",
   "id": "e8059c1b-92cf-44a3-9135-b17784d2b36a",
   "metadata": {},
   "source": [
    "| Column Name       | Description                                   | Commentary                              |\n",
    "|-------------------|-----------------------------------------------|-----------------------------------------|\n",
    "| beer_id           | id of each beer.                              |  unique for each beer. (int)            |\n",
    "| beer_name         | name of the beer.                             | (str)                                     |\n",
    "| brewery_id        | id of brewery of the beer.                    | unique for each brewery. (int)               |\n",
    "| brewery_name      | name of the brewery.                              |  (str)            |\n",
    "| style             | style of the beer.                            | 104 differents styles (str)             |\n",
    "| nbr_ratings       | Total number of ratings for the beer.         | between 0 and 16509 (most of them around 30 reviews). (int)               |\n",
    "| overall_score     | global score.                                 |  based on mean of scores. (int)            |\n",
    "| style_score       | score of the beer specific to its style.       | to compare to other beers of the same type.                                     |\n",
    "| avg        |          -        |              |\n",
    "| avg_computed      | mean of ratings.                         |  ratings comes from reviews.txt (txt)            |\n",
    "| zscore             |            -                |             |\n",
    "| nbr_matched_valid_ratings|  Number of “valid” notes for this beer in cross-referenced data.       | when compared with another dataset such as BeerAdvocate.            |\n",
    "| avg_matched_valid_ratings|  Mean of “valid” notes for this beer in cross-referenced data.       |      |\n",
    "| continent |  continent of the breweries.       |added to compare between continents.      |\n",
    "| type|  type of the beer.       | added for comparison     |\n"
   ]
  },
  {
   "cell_type": "markdown",
   "id": "627fa461-998d-4255-8d66-d7e4b5d7d211",
   "metadata": {},
   "source": [
    "We have not yet investigated the exact way in which avg and z_score have been calculated. We have not yet needed to use these parameters in our initial analyses, so we will analyse them if necessary when the time comes."
   ]
  },
  {
   "cell_type": "markdown",
   "id": "6d754ad9-cc4d-4deb-9ca2-7959a43a1ff7",
   "metadata": {},
   "source": [
    "## rb_breweries.csv"
   ]
  },
  {
   "cell_type": "code",
   "execution_count": null,
   "id": "19e27329-8af5-40b1-b36b-c82398f81837",
   "metadata": {},
   "outputs": [],
   "source": [
    "rb_breweries = pd.read_csv(\"../data/processed/new_rb_breweries.csv\")"
   ]
  },
  {
   "cell_type": "markdown",
   "id": "0ff49d15-2fec-4018-b4d7-86c6e0b5e985",
   "metadata": {},
   "source": [
    "| Column Name | Description                                                   | Commentary                                        |\n",
    "|-------------|---------------------------------------------------------------|---------------------------------------------------|\n",
    "| id          | Unique identifier for each brewery in the RateBeer database.  | Distinct for each brewery (int)                   |\n",
    "| location    | Geographic location of the brewery, including country/region. | Useful for regional analysis and trends (str)     |\n",
    "| name        | Name of the brewery.                                          | Indicates the brewery’s commercial name (str)     |\n",
    "| nbr_beers   | Number of beers produced by the brewery in the database.      | Reflects brewery production scale (int)           |\n",
    "| country     | Country of the brewery.                                       |                                                   |\n",
    "| continent   | Continent of the brewery.                                     |                                                   |\n"
   ]
  },
  {
   "cell_type": "markdown",
   "id": "5ab205b3-b76e-4512-b7e7-15d71340631f",
   "metadata": {
    "jp-MarkdownHeadingCollapsed": true
   },
   "source": [
    "## rb_users.csv"
   ]
  },
  {
   "cell_type": "code",
   "execution_count": null,
   "id": "b5e7afb5-8cdb-40ff-9080-192c2d2d0354",
   "metadata": {},
   "outputs": [],
   "source": [
    "rb_users = pd.read_csv(\"../data/processed/new_rb_users.csv\")"
   ]
  },
  {
   "cell_type": "markdown",
   "id": "d860fb1d-b884-45a8-b1f3-4623746fcd0a",
   "metadata": {},
   "source": [
    "| Column Name  | Description                                                         | Commentary                                    |\n",
    "|--------------|---------------------------------------------------------------------|-----------------------------------------------|\n",
    "| nbr_ratings  | Total number of ratings left by the user for different beers.       | (int)                                         |\n",
    "| user_id      | Unique identifier for the user.                                     | Unique to each user (int)                     |\n",
    "| user_name    | Username or display name of the user.                               | (str)                                         |\n",
    "| joined       | User's registration date on the RateBeer platform (DD/MM/YYYY).     | (date)                                        |\n",
    "| location     | location of the user                                                | (str)                                         |\n",
    "| country     | Country of the user.                                                 | (str)                                         |\n",
    "| continent   | Continent of the user.                                               | (str)                                         |\n"
   ]
  },
  {
   "cell_type": "markdown",
   "id": "47eeb2d2-b49b-4576-a00b-50ac590ef9cd",
   "metadata": {
    "jp-MarkdownHeadingCollapsed": true
   },
   "source": [
    "## rb_reviews.csv"
   ]
  },
  {
   "cell_type": "code",
   "execution_count": null,
   "id": "e9bf2fb7-d780-4fec-a7c2-aaf3c5179ba9",
   "metadata": {},
   "outputs": [],
   "source": [
    "rb_reviews = pd.read_parquet(\"../data/processed/rb_reviews.parquet\")"
   ]
  },
  {
   "cell_type": "markdown",
   "id": "29844c55-6154-466e-8a66-b2ce06d51ddc",
   "metadata": {},
   "source": [
    "| Column Name     | Description                                                         | Commentary                                    |\n",
    "|-----------------|---------------------------------------------------------------------|-----------------------------------------------|\n",
    "| beer_name       | Name of the beer.                                                   | (str)                                         |\n",
    "| beer_id         | Unique identifier for each beer.                                    | Distinct for each beer (int)                  |\n",
    "| brewery_name    | Name of the brewery producing the beer.                             | (str)                                         |\n",
    "| brewery_id      | Unique identifier for each brewery.                                 | Distinct for each brewery (int)               |\n",
    "| style           | Style of the beer (e.g., IPA, Lager).                               | (str)                                         |\n",
    "| abv             | Alcohol by volume percentage.                                       | Indicates the strength of the beer (float)    |\n",
    "| date            | Date the beer was rated.                                            | (date)                                        |\n",
    "| user_name       | Username or display name of the user who rated the beer.            | (str)                                         |\n",
    "| user_id         | Unique identifier for the user who rated the beer.                  | Distinct for each user (int)                  |\n",
    "| appearance      | Rating for the beer's appearance, up to 5.                           | Scores the visual presentation (int)          |\n",
    "| aroma           | Rating for the beer's aroma, up to 5.                               | Scores the scent (int)                        |\n",
    "| palate          | Rating for the beer's palate, up to 5.                              | Scores the feel on the tongue (int)           |\n",
    "| taste           | Rating for the beer's taste, up to 5.                               | Scores the flavor (int)                       |\n",
    "| overall         | Overall rating for the beer, up to 5.                               | General assessment (int)                      |\n",
    "| rating          | Overall rating formula combining all parameters with unknown weights. | Provides a weighted score (float)             |\n",
    "| text            | Textual review of the beer.                                          | User's comments on the beer (str)             |\n"
   ]
  },
  {
   "cell_type": "markdown",
   "id": "d8455c7c-db1f-4014-baeb-5441d5a62105",
   "metadata": {
    "jp-MarkdownHeadingCollapsed": true
   },
   "source": [
    "# Task 1 : Number of users : “Which platform attracts more reviewers over time ?”"
   ]
  },
  {
   "cell_type": "markdown",
   "id": "580a4d35-5855-4193-8700-56678c326025",
   "metadata": {},
   "source": [
    "## a) How does the number of reviewers evolve over time on both platforms ?\n"
   ]
  },
  {
   "cell_type": "code",
   "execution_count": null,
   "id": "1cbaec98-70b4-413c-a816-7e543c043d59",
   "metadata": {},
   "outputs": [],
   "source": [
    "ba_users_plot = ba_users.copy()\n",
    "rb_users_plot = rb_users.copy()\n",
    "ba_users_plot[\"site\"] = \"BeerAdvocate\"\n",
    "rb_users_plot[\"site\"] = \"RateBeer\"\n",
    "df_plot = pd.concat([ba_users_plot, rb_users_plot], ignore_index=True)\n",
    "\n",
    "df_plot['joined'] = pd.to_datetime(df_plot['joined'], format='%d/%m/%Y')\n",
    "df_plot[\"month_year\"] = df_plot['joined'].dt.to_period('M')\n",
    "min_year = int(df_plot['joined'].dt.to_period('Y').sort_values().astype(str).iloc[0])\n",
    "df_plot[\"month_year\"] = df_plot[\"month_year\"].astype(str)\n",
    "nb_month = df_plot[\"month_year\"].nunique()\n",
    "\n",
    "df_plot = df_plot.groupby([\"site\",\"month_year\"]).size().reset_index(name='nbr_users')\n",
    "\n",
    "plt.figure(figsize=(18, 6))\n",
    "sns.lineplot(data=df_plot, x='month_year', y='nbr_users',hue=\"site\")\n",
    "\n",
    "plt.grid(True, axis='both', color='gray', linestyle='--', linewidth=0.5)\n",
    "plt.title('Number of Users Registered by Month')\n",
    "plt.xlabel('Month')\n",
    "plt.ylabel('Number of Users')\n",
    "plt.xticks(ticks = np.arange(0,nb_month,12), labels=[year for year in range(min_year,min_year+len(np.arange(0,210,12)))], rotation=45)\n",
    "plt.tight_layout()\n",
    "\n",
    "plt.show()"
   ]
  },
  {
   "cell_type": "markdown",
   "id": "c4a10c67-9331-4f89-acb1-23f4d8bd2776",
   "metadata": {},
   "source": [
    "## b) How are each platform’s reviewers distributed around the world over time ? Which platform is dominant in each region ?"
   ]
  },
  {
   "cell_type": "code",
   "execution_count": null,
   "id": "9ad6b300-e165-49bb-8360-e27ecebcdbd9",
   "metadata": {},
   "outputs": [],
   "source": [
    "ba_users_plot = ba_users.copy()\n",
    "rb_users_plot = rb_users.copy()\n",
    "ba_users_plot[\"site\"] = \"BeerAdvocate\"\n",
    "rb_users_plot[\"site\"] = \"RateBeer\"\n",
    "df_plot = pd.concat([ba_users_plot, rb_users_plot], ignore_index=True)\n",
    "\n",
    "df_plot['joined'] = pd.to_datetime(df_plot['joined'], format='%d/%m/%Y')\n",
    "df_plot[\"year\"] = df_plot['joined'].dt.to_period('Y')\n",
    "\n",
    "df_grouped = df_plot.groupby(['site', 'year', 'country']).size().reset_index(name='nbr_users')\n",
    "\n",
    "top_countries = df_grouped.groupby(['site', 'country'])['nbr_users'].sum()\n",
    "top_countries = top_countries.groupby(level=0, group_keys=False).nlargest(3).reset_index()\n",
    "\n",
    "df_top_countries = df_grouped.merge(top_countries[['site', 'country']], on=['site', 'country'])\n",
    "\n",
    "nbr_users_pct = df_top_countries.groupby(['site', 'year']).apply(\n",
    "    lambda group: group['nbr_users'] / group['nbr_users'].sum() * 100,\n",
    "    include_groups=False\n",
    ").reset_index(level=[0, 1], drop=True)\n",
    "\n",
    "df_top_countries['nbr_users_pct'] = nbr_users_pct.values\n",
    "\n",
    "palette = sns.color_palette(\"tab20\", len(df_top_countries['country'].unique()))\n",
    "country_palette = dict(zip(df_top_countries['country'].unique(), palette))\n",
    "\n",
    "fig, axes = plt.subplots(2, 1, figsize=(18, 12), sharex=True)\n",
    "\n",
    "for i, (site, data) in enumerate(df_top_countries.groupby('site')):\n",
    "    data_pivot = data.pivot(index='year', columns='country', values='nbr_users_pct').fillna(0)\n",
    "    \n",
    "    data_pivot.plot(kind='bar', stacked=True, ax=axes[i], color=[country_palette[country] for country in data_pivot.columns])\n",
    "    axes[i].set_title(f'Percentage of Users Registered per Year by Country for {site}')\n",
    "    axes[i].set_xlabel('Year')\n",
    "    axes[i].set_ylabel('Percentage of Users')\n",
    "    axes[i].legend(title='Country', bbox_to_anchor=(1.05, 1), loc='upper left')\n",
    "\n",
    "plt.xticks(rotation=45)\n",
    "plt.tight_layout()\n",
    "\n",
    "# Affichez le graphique\n",
    "plt.show()"
   ]
  },
  {
   "cell_type": "markdown",
   "id": "47f1937b-6e2d-4ba1-9a30-5934c5105443",
   "metadata": {
    "jp-MarkdownHeadingCollapsed": true
   },
   "source": [
    "# Task 2 : Number of reviews : “On which platform is there the most activity in terms of reviews ?”\n"
   ]
  },
  {
   "cell_type": "markdown",
   "id": "f2f65a17-ea65-423d-95e6-47bd0a0775cc",
   "metadata": {
    "jp-MarkdownHeadingCollapsed": true
   },
   "source": [
    "## a) How does the number of reviews evolve over time on both platforms ?"
   ]
  },
  {
   "cell_type": "code",
   "execution_count": null,
   "id": "5a27abca-e059-432b-bd4f-8b4fd6fbce23",
   "metadata": {},
   "outputs": [],
   "source": [
    "ba_reviews_plot = ba_reviews.copy()\n",
    "rb_reviews_plot = rb_reviews.copy()\n",
    "ba_reviews_plot[\"site\"] = \"BeerAdvocate\"\n",
    "rb_reviews_plot[\"site\"] = \"RateBeer\"\n",
    "df_plot = pd.concat([ba_reviews_plot, rb_reviews_plot], ignore_index=True)\n",
    "\n",
    "df_plot['joined'] = pd.to_datetime(df_plot['date'], format='%d/%m/%Y')\n",
    "df_plot[\"month_year\"] = df_plot['joined'].dt.to_period('M')\n",
    "min_year = int(df_plot['joined'].dt.to_period('Y').sort_values().astype(str).iloc[0])\n",
    "df_plot[\"month_year\"] = df_plot[\"month_year\"].astype(str)\n",
    "nb_month = df_plot[\"month_year\"].nunique()\n",
    "\n",
    "df_plot = df_plot.groupby([\"site\",\"month_year\"]).size().reset_index(name='nbr_users')\n",
    "\n",
    "plt.figure(figsize=(18, 6))\n",
    "sns.lineplot(data=df_plot, x='month_year', y='nbr_users',hue=\"site\")\n",
    "\n",
    "plt.grid(True, axis='both', color='gray', linestyle='--', linewidth=0.5)\n",
    "plt.title('Number of Reviews Registered by Month')\n",
    "plt.xlabel('Month')\n",
    "plt.ylabel('Number of Users')\n",
    "plt.xticks(ticks = np.arange(0,nb_month,12), labels=[year for year in range(min_year,min_year+len(np.arange(0,nb_month,12)))], rotation=45)\n",
    "plt.tight_layout()\n",
    "\n",
    "plt.show()"
   ]
  },
  {
   "cell_type": "markdown",
   "id": "cff940d1-5547-4a95-9821-3a6b0d0f8640",
   "metadata": {
    "jp-MarkdownHeadingCollapsed": true
   },
   "source": [
    "## b) How are each platform’s activity distributed around the world over time ? "
   ]
  },
  {
   "cell_type": "code",
   "execution_count": null,
   "id": "cf9f5bda-380a-4c7c-95d5-6bbb63641ea3",
   "metadata": {},
   "outputs": [],
   "source": [
    "ba_reviews_plot = ba_reviews.copy()\n",
    "rb_reviews_plot = rb_reviews.copy()\n",
    "ba_reviews_plot[\"site\"] = \"BeerAdvocate\"\n",
    "rb_reviews_plot[\"site\"] = \"RateBeer\"\n",
    "df_plot = pd.concat([ba_reviews_plot, rb_reviews_plot], ignore_index=True)\n",
    "\n",
    "df_plot['joined'] = pd.to_datetime(df_plot['date'], format='%d/%m/%Y')\n",
    "df_plot[\"year\"] = df_plot['joined'].dt.to_period('Y')\n",
    "\n",
    "df_grouped = df_plot.groupby(['site', 'year', 'continent']).size().reset_index(name='nbr_users')\n",
    "\n",
    "top_countries = df_grouped.groupby(['site', 'continent'])['nbr_users'].sum()\n",
    "top_countries = top_countries.groupby(level=0, group_keys=False).nlargest(3).reset_index()\n",
    "\n",
    "df_top_countries = df_grouped.merge(top_countries[['site', 'continent']], on=['site', 'continent'])\n",
    "\n",
    "nbr_users_pct = df_top_countries.groupby(['site', 'year']).apply(\n",
    "    lambda group: group['nbr_users'] / group['nbr_users'].sum() * 100,\n",
    "    include_groups=False\n",
    ").reset_index(level=[0, 1], drop=True)\n",
    "\n",
    "df_top_countries['nbr_users_pct'] = nbr_users_pct.values\n",
    "\n",
    "palette = sns.color_palette(\"tab20\", len(df_top_countries['continent'].unique()))\n",
    "country_palette = dict(zip(df_top_countries['continent'].unique(), palette))\n",
    "\n",
    "fig, axes = plt.subplots(2, 1, figsize=(18, 12), sharex=True)\n",
    "\n",
    "for i, (site, data) in enumerate(df_top_countries.groupby('site')):\n",
    "    data_pivot = data.pivot(index='year', columns='continent', values='nbr_users_pct').fillna(0)\n",
    "    \n",
    "    data_pivot.plot(kind='bar', stacked=True, ax=axes[i], color=[country_palette[country] for country in data_pivot.columns])\n",
    "    axes[i].set_title(f'Percentage of Reviews Registered per Year by Country for {site}')\n",
    "    axes[i].set_xlabel('Year')\n",
    "    axes[i].set_ylabel('Percentage of Users')\n",
    "    axes[i].legend(title='continent', bbox_to_anchor=(1.05, 1), loc='upper left')\n",
    "\n",
    "plt.xticks(rotation=45)\n",
    "plt.tight_layout()\n",
    "\n",
    "# Affichez le graphique\n",
    "plt.show()"
   ]
  },
  {
   "cell_type": "markdown",
   "id": "9abf145a-5a81-4d36-a84b-5d34f132ee3d",
   "metadata": {
    "jp-MarkdownHeadingCollapsed": true
   },
   "source": [
    "# Task 3 : User activity : “On which platform are the reviewers most active ?”"
   ]
  },
  {
   "cell_type": "markdown",
   "id": "58f9a486-e0af-4bb5-9297-a348c0ad2b62",
   "metadata": {},
   "source": [
    "## a) How is reviewers’ activity shared out ? What proportion of users have written more than 10 reviews ?"
   ]
  },
  {
   "cell_type": "code",
   "execution_count": null,
   "id": "040738cb-36f5-448d-a1be-1326d21022f2",
   "metadata": {},
   "outputs": [],
   "source": [
    "df_plot = rb_reviews.groupby(\"user_id\").size().reset_index(name=\"nbr_reviews\")\n",
    "df_plot = df_plot[df_plot[\"nbr_reviews\"] >= 10]\n",
    "df_plot[\"mean\"] = df_plot[\"nbr_reviews\"] / df_plot[\"nbr_reviews\"].sum()\n",
    "df_plot"
   ]
  },
  {
   "cell_type": "code",
   "execution_count": null,
   "id": "0a5c77d4-51ba-4310-8339-7f6c6389bc6c",
   "metadata": {},
   "outputs": [],
   "source": [
    "df_plot = ba_reviews.groupby(\"user_id\").size().reset_index(name=\"nbr_reviews\")\n",
    "df_plot = df_plot[df_plot[\"nbr_reviews\"] >= 10]\n",
    "df_plot[\"mean\"] = df_plot[\"nbr_reviews\"] / df_plot[\"nbr_reviews\"].sum()\n",
    "df_plot"
   ]
  },
  {
   "cell_type": "markdown",
   "id": "16134383-e854-4146-b463-b509d14ad8cc",
   "metadata": {
    "jp-MarkdownHeadingCollapsed": true
   },
   "source": [
    "# Task 4 : General trends : “What are the top-rated beers, styles, and breweries by year ? And overall ?"
   ]
  },
  {
   "cell_type": "code",
   "execution_count": null,
   "id": "4a8f9547-4120-45ef-b526-63d379883e9a",
   "metadata": {},
   "outputs": [],
   "source": [
    "df_plot = ba_reviews.groupby(\"beer_name\").agg({\"rating\":[\"max\",\"min\",\"mean\",\"median\",\"std\",\"sem\",\"count\"]}).reset_index()\n",
    "df_plot = df_plot[df_plot[(\"rating\",\"count\")] >= 50]\n",
    "median_mean = df_plot[(\"rating\",\"mean\")].median()\n",
    "df_plot[\"good_rating\"] = df_plot[(\"rating\",\"mean\")].apply(lambda x: x>median_mean)\n",
    "df_plot = pd.concat((df_plot.nlargest(10,(\"rating\",\"mean\")),df_plot.nsmallest(10,(\"rating\",\"mean\"))))\n",
    "df_plot = df_plot.sort_values([(\"rating\",\"mean\")])\n",
    "\n",
    "plt.figure(figsize=(12, 6))\n",
    "sns.barplot(data=df_plot, x='beer_name', y=(\"rating\",\"mean\"), hue=\"good_rating\",palette='coolwarm')\n",
    "plt.errorbar(df_plot['beer_name'], df_plot[(\"rating\",\"mean\")], yerr=df_plot[(\"rating\",\"std\")], fmt=\"_\", color=\"black\")\n",
    "\n",
    "plt.title('Top 10 best and worse Beers by Average Rating with Standard Deviation for BeerAdvocate')\n",
    "plt.xlabel('Beer Name')\n",
    "plt.ylabel('Average Rating')\n",
    "plt.xticks(rotation=45, ha='right')\n",
    "plt.tight_layout()\n",
    "\n",
    "plt.show()"
   ]
  },
  {
   "cell_type": "code",
   "execution_count": null,
   "id": "e72178d4-0f1f-44ad-becd-29b39cc1910e",
   "metadata": {},
   "outputs": [],
   "source": [
    "df_plot = rb_reviews.groupby(\"beer_name\").agg({\"rating\":[\"max\",\"min\",\"mean\",\"median\",\"std\",\"sem\",\"count\"]}).reset_index()\n",
    "df_plot = df_plot[df_plot[(\"rating\",\"count\")] >= 50]\n",
    "median_mean = df_plot[(\"rating\",\"mean\")].median()\n",
    "df_plot[\"good_rating\"] = df_plot[(\"rating\",\"mean\")].apply(lambda x: x>median_mean)\n",
    "df_plot = pd.concat((df_plot.nlargest(10,(\"rating\",\"mean\")),df_plot.nsmallest(10,(\"rating\",\"mean\"))))\n",
    "df_plot = df_plot.sort_values([(\"rating\",\"mean\")])\n",
    "\n",
    "plt.figure(figsize=(12, 6))\n",
    "sns.barplot(data=df_plot, x='beer_name', y=(\"rating\",\"mean\"), hue=\"good_rating\",palette='coolwarm')\n",
    "plt.errorbar(df_plot['beer_name'], df_plot[(\"rating\",\"mean\")], yerr=df_plot[(\"rating\",\"std\")], fmt=\"_\", color=\"black\")\n",
    "\n",
    "plt.title('Top 10 best and worse Beers by Average Rating with Standard Deviation for RateBeer')\n",
    "plt.xlabel('Beer Name')\n",
    "plt.ylabel('Average Rating')\n",
    "plt.xticks(rotation=45, ha='right')\n",
    "plt.tight_layout()\n",
    "\n",
    "plt.show()"
   ]
  },
  {
   "cell_type": "code",
   "execution_count": null,
   "id": "985883e0-f6e9-4d1c-a473-4c792852ce6d",
   "metadata": {},
   "outputs": [],
   "source": [
    "df_plot = ba_reviews.groupby(\"brewery_name\").agg({\"rating\":[\"max\",\"min\",\"mean\",\"median\",\"std\",\"sem\",\"count\"]}).reset_index()\n",
    "df_plot = df_plot[df_plot[(\"rating\",\"count\")] >= 50]\n",
    "median_mean = df_plot[(\"rating\",\"mean\")].median()\n",
    "df_plot[\"good_rating\"] = df_plot[(\"rating\",\"mean\")].apply(lambda x: x>median_mean)\n",
    "df_plot = pd.concat((df_plot.nlargest(10,(\"rating\",\"mean\")),df_plot.nsmallest(10,(\"rating\",\"mean\"))))\n",
    "df_plot = df_plot.sort_values([(\"rating\",\"mean\")])\n",
    "\n",
    "plt.figure(figsize=(12, 6))\n",
    "sns.barplot(data=df_plot, x='brewery_name', y=(\"rating\",\"mean\"), hue=\"good_rating\",palette='coolwarm')\n",
    "plt.errorbar(df_plot['brewery_name'], df_plot[(\"rating\",\"mean\")], yerr=df_plot[(\"rating\",\"std\")], fmt=\"_\", color=\"black\")\n",
    "\n",
    "plt.title('Top 10 best and worse Breweries by Average Rating with Standard Deviation for BeerAdvocate')\n",
    "plt.xlabel('Brewery Name')\n",
    "plt.ylabel('Average Rating')\n",
    "plt.xticks(rotation=45, ha='right')\n",
    "plt.tight_layout()\n",
    "\n",
    "plt.show()"
   ]
  },
  {
   "cell_type": "code",
   "execution_count": null,
   "id": "71f6c356-e3f1-485a-aa4a-a3fec54c23be",
   "metadata": {},
   "outputs": [],
   "source": [
    "df_plot = rb_reviews.groupby(\"brewery_name\").agg({\"rating\":[\"max\",\"min\",\"mean\",\"median\",\"std\",\"sem\",\"count\"]}).reset_index()\n",
    "df_plot = df_plot[df_plot[(\"rating\",\"count\")] >= 50]\n",
    "median_mean = df_plot[(\"rating\",\"mean\")].median()\n",
    "df_plot[\"good_rating\"] = df_plot[(\"rating\",\"mean\")].apply(lambda x: x>median_mean)\n",
    "df_plot = pd.concat((df_plot.nlargest(10,(\"rating\",\"mean\")),df_plot.nsmallest(10,(\"rating\",\"mean\"))))\n",
    "df_plot = df_plot.sort_values([(\"rating\",\"mean\")])\n",
    "\n",
    "plt.figure(figsize=(12, 6))\n",
    "sns.barplot(data=df_plot, x='brewery_name', y=(\"rating\",\"mean\"), hue=\"good_rating\",palette='coolwarm')\n",
    "plt.errorbar(df_plot['brewery_name'], df_plot[(\"rating\",\"mean\")], yerr=df_plot[(\"rating\",\"std\")], fmt=\"_\", color=\"black\")\n",
    "\n",
    "plt.title('Top 10 best and worse Breweries by Average Rating with Standard Deviation for RateBeer')\n",
    "plt.xlabel('Brewery Name')\n",
    "plt.ylabel('Average Rating')\n",
    "plt.xticks(rotation=45, ha='right')\n",
    "plt.tight_layout()\n",
    "\n",
    "plt.show()"
   ]
  },
  {
   "cell_type": "markdown",
   "id": "3757e833-48c0-4200-ba01-dee2bb76dec5",
   "metadata": {
    "jp-MarkdownHeadingCollapsed": true
   },
   "source": [
    "# Task 5 : User rating “How do reviewers rate the main types of beer on average on each platform ?”"
   ]
  },
  {
   "cell_type": "code",
   "execution_count": null,
   "id": "8f9a0d61-94fb-4681-9cfc-1427b88e2e24",
   "metadata": {},
   "outputs": [],
   "source": [
    "df_plot = ba_reviews.groupby(\"type\").agg({\"rating\":[\"max\",\"min\",\"mean\",\"median\",\"std\",\"sem\",\"count\"]}).reset_index()\n",
    "df_plot = df_plot[df_plot[(\"rating\",\"count\")] >= 50]\n",
    "median_mean = df_plot[(\"rating\",\"mean\")].median()\n",
    "df_plot[\"good_rating\"] = df_plot[(\"rating\",\"mean\")].apply(lambda x: x>median_mean)\n",
    "df_plot = pd.concat((df_plot.nlargest(10,(\"rating\",\"mean\")),df_plot.nsmallest(10,(\"rating\",\"mean\"))))\n",
    "df_plot = df_plot.sort_values([(\"rating\",\"mean\")])\n",
    "\n",
    "plt.figure(figsize=(12, 6))\n",
    "sns.barplot(data=df_plot, x='type', y=(\"rating\",\"mean\"), hue=\"good_rating\",palette='coolwarm')\n",
    "plt.errorbar(df_plot['type'], df_plot[(\"rating\",\"mean\")], yerr=df_plot[(\"rating\",\"std\")], fmt=\"_\", color=\"black\")\n",
    "\n",
    "plt.title('Top 3 best and worse type by Average Rating with Standard Deviation for BeerAdvocate')\n",
    "plt.xlabel('Type Name')\n",
    "plt.ylabel('Average Rating')\n",
    "plt.xticks(rotation=45, ha='right')\n",
    "plt.tight_layout()\n",
    "\n",
    "plt.show()"
   ]
  },
  {
   "cell_type": "code",
   "execution_count": null,
   "id": "b4326e31-b1fb-4e4d-b5e4-18310a4f28a6",
   "metadata": {},
   "outputs": [],
   "source": [
    "df_plot = rb_reviews.groupby(\"type\").agg({\"rating\":[\"max\",\"min\",\"mean\",\"median\",\"std\",\"sem\",\"count\"]}).reset_index()\n",
    "df_plot = df_plot[df_plot[(\"rating\",\"count\")] >= 50]\n",
    "median_mean = df_plot[(\"rating\",\"mean\")].median()\n",
    "df_plot[\"good_rating\"] = df_plot[(\"rating\",\"mean\")].apply(lambda x: x>median_mean)\n",
    "df_plot = pd.concat((df_plot.nlargest(10,(\"rating\",\"mean\")),df_plot.nsmallest(10,(\"rating\",\"mean\"))))\n",
    "df_plot = df_plot.sort_values([(\"rating\",\"mean\")])\n",
    "\n",
    "plt.figure(figsize=(12, 6))\n",
    "sns.barplot(data=df_plot, x='type', y=(\"rating\",\"mean\"), hue=\"good_rating\",palette='coolwarm')\n",
    "plt.errorbar(df_plot['type'], df_plot[(\"rating\",\"mean\")], yerr=df_plot[(\"rating\",\"std\")], fmt=\"_\", color=\"black\")\n",
    "\n",
    "plt.title('Top 3 best and worse type by Average Rating with Standard Deviation for RateBeer')\n",
    "plt.xlabel('Type Name')\n",
    "plt.ylabel('Average Rating')\n",
    "plt.xticks(rotation=45, ha='right')\n",
    "plt.tight_layout()\n",
    "\n",
    "plt.show()"
   ]
  }
 ],
 "metadata": {
  "kernelspec": {
   "display_name": "Python 3 (ipykernel)",
   "language": "python",
   "name": "python3"
  },
  "language_info": {
   "codemirror_mode": {
    "name": "ipython",
    "version": 3
   },
   "file_extension": ".py",
   "mimetype": "text/x-python",
   "name": "python",
   "nbconvert_exporter": "python",
   "pygments_lexer": "ipython3",
   "version": "3.12.2"
  }
 },
 "nbformat": 4,
 "nbformat_minor": 5
}
