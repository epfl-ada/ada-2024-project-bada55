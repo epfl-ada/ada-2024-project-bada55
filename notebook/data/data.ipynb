{
 "cells": [
  {
   "cell_type": "markdown",
   "id": "58b039bd-894c-4595-9f3a-af6ae3d2143c",
   "metadata": {},
   "source": [
    "## Data from Beer Reviews"
   ]
  },
  {
   "cell_type": "markdown",
   "id": "5f3a827e-7743-4b84-b2a2-5935e499f417",
   "metadata": {},
   "source": [
    "*Data*: BeerAdvocate / RateBeer / matched_beer_data\n",
    "\n",
    "*Difference ratings-reviews*: **reviews.txt** semble être un sous-ensemble de **ratings.txt** car ce dernier a en plus la colonne review (True or False) et **reviews.txt** est l'ensemble de tous les ratings qui sont True\n",
    "\n",
    "*Ligne to print .txt*: \n",
    "* \"\"\"with open(BA_REVIEWS_DATASET, 'r', encoding='utf-8') as file:\n",
    "    for _ in range(16):\n",
    "        print(file.readline())\"\"\"\n",
    "* \"\"\"with open(BA_RATINGS_DATASET, 'r', encoding='utf-8') as file:\n",
    "    for _ in range(17):\n",
    "        print(file.readline())\"\"\"\n",
    "* !head Data/BeerAdvocate/ratings.txt/ratings.txt\n",
    "* \"\"\"from collections import deque\n",
    "n_last_lines = 10\n",
    "with open(BA_REVIEWS_DATASET, 'r', encoding='utf-8') as file:\n",
    "    last_lines = deque(file, maxlen=n_last_lines)\n",
    "for line in last_lines:\n",
    "    print(line.strip())\"\"\""
   ]
  },
  {
   "cell_type": "markdown",
   "id": "30c7de93-4170-4505-bff2-b7fb0a142558",
   "metadata": {
    "jp-MarkdownHeadingCollapsed": true
   },
   "source": [
    "# BeerAdvocate"
   ]
  },
  {
   "cell_type": "markdown",
   "id": "6c03a356-b2a3-4ed6-8378-cbe1b22db1e1",
   "metadata": {},
   "source": [
    "**beers.csv**\n",
    "* beer_id\n",
    "* beer_name\n",
    "* brewery_id\n",
    "* brewery_name\n",
    "* style\n",
    "* nbr_ratings\n",
    "* nbr_reviews\n",
    "* avg\n",
    "* ba_score\n",
    "* bros_score\n",
    "* abv\n",
    "* avg_computed\n",
    "* zscore\n",
    "* nbr_matched_valid_ratings\n",
    "* avg_matched_valid_ratings\n",
    "\n",
    "**breweries.csv**\n",
    "* id,\n",
    "* location\n",
    "* name\n",
    "* nbr_beers\n",
    "\n",
    "**users.csv**\n",
    "* nbr_ratings\n",
    "* nbr_reviews\n",
    "* user_id\n",
    "* user_name\n",
    "* joined\n",
    "* location\n",
    "\n",
    "**ratings.txt** (format ligne i.e. Header=None)\n",
    "* beer_name\n",
    "* beer_id\n",
    "* brewery_name\n",
    "* brewery_id\n",
    "* style\n",
    "* abv\n",
    "* date\n",
    "* user_name\n",
    "* user_id\n",
    "* appearance\n",
    "* aroma\n",
    "* palate\n",
    "* taste\n",
    "* overall\n",
    "* rating\n",
    "* text\n",
    "* review: *True or False*\n",
    "\n",
    "**reviews.txt** (format ligne i.e. Header=None, sous-ensemble de **ratings.txt**)\n",
    "* beer_name\n",
    "* beer_id\n",
    "* brewery_name\n",
    "* brewery_id\n",
    "* style\n",
    "* abv\n",
    "* date\n",
    "* user_name\n",
    "* user_id\n",
    "* appearance : *up to 5*\n",
    "* aroma : *up to 5*\n",
    "* palate : *up to 5*\n",
    "* taste : *up to 5*\n",
    "* overall : *up to 5*\n",
    "* rating : *up to 5, unkown formula but different weights for each parameter*\n",
    "* text\n",
    "\n",
    "----------------------------------------------------------------------------------------------------"
   ]
  },
  {
   "cell_type": "markdown",
   "id": "24e8c6a8-7f48-47d1-81ee-175b10675320",
   "metadata": {
    "jp-MarkdownHeadingCollapsed": true
   },
   "source": [
    "# RateBeer"
   ]
  },
  {
   "cell_type": "markdown",
   "id": "d74cef8f-3ced-418e-a166-b5995f42c3b6",
   "metadata": {},
   "source": [
    "*Appearance and Mouthfeel (= Palate) are each scored out of 5. Aroma and Taste are scored out of 10. While Overall is scored out of 20. These all combine to give the beer a total score out of 50, which is then divided and displayed as a score out of 5 for each rating.*\n",
    "\n",
    "**beers.csv**\n",
    "* beer_id\n",
    "* beer_name\n",
    "* brewery_id\n",
    "* brewery_name\n",
    "* style\n",
    "* nbr_ratings\n",
    "* overall_score\n",
    "* style_score\n",
    "* avg\n",
    "* abv\n",
    "* avg_computed\n",
    "* zscore\n",
    "* nbr_matched_valid_ratings\n",
    "* avg_matched_valid_ratings\n",
    "\n",
    "**breweries.csv**\n",
    "* id\n",
    "* location\n",
    "* name\n",
    "* nbr_beers\n",
    "\n",
    "**users.csv**\n",
    "* nbr_ratings\n",
    "* user_id\n",
    "* user_name\n",
    "* joined\n",
    "* location\n",
    "\n",
    "**ratings.txt = reviews.txt** (format ligne i.e. Header=None)\n",
    "* beer_name\n",
    "* beer_id\n",
    "* brewery_name\n",
    "* brewery_id\n",
    "* style\n",
    "* abv\n",
    "* date\n",
    "* user_name\n",
    "* user_id\n",
    "* appearance : *up to 5*\n",
    "* aroma : *up to 10*\n",
    "* palate (=mouthfeel) : *up to 5*\n",
    "* taste : *up to 10*\n",
    "* overall : *up to 20*\n",
    "* rating : *up to 50 (sum of all previous) then divided by 10 --> up to 5*\n",
    "* text\n",
    "\n",
    "----------------------------------------------------------------------------------------------------"
   ]
  },
  {
   "cell_type": "markdown",
   "id": "a6c1df16-d4a9-41f2-b5b3-b8ba45400f66",
   "metadata": {
    "jp-MarkdownHeadingCollapsed": true
   },
   "source": [
    "# matched_beer_data"
   ]
  },
  {
   "cell_type": "markdown",
   "id": "ef5ada04-107d-4c29-9135-5a64e007b329",
   "metadata": {},
   "source": [
    "**beers.csv**\n",
    "### ba:\n",
    "* abv\n",
    "* avg\n",
    "* avg_computed\n",
    "* avg_matched_valid_ratings\n",
    "* ba_score\n",
    "* beer_id\n",
    "* beer_name\n",
    "* beer_wout_brewery_name\n",
    "* brewery_id\n",
    "* brewery_name\n",
    "* bros_score\n",
    "* nbr_matched_valid_ratings\n",
    "* nbr_ratings\n",
    "* nbr_reviews\n",
    "* style\n",
    "* zscore\n",
    "### rb:\n",
    "* abv\n",
    "* avg\n",
    "* avg_computed\n",
    "* avg_matched_valid_ratings\n",
    "* beer_id\n",
    "* beer_name\n",
    "* beer_wout_brewery_name\n",
    "* brewery_id\n",
    "* brewery_name\n",
    "* nbr_matched_valid_ratings\n",
    "* nbr_ratings\n",
    "* overall_score\n",
    "* style\n",
    "* style_score\n",
    "* zscore\n",
    "### scores:\n",
    "* diff\n",
    "* sim\n",
    "\n",
    "**breweries.csv**\n",
    "### ba:\n",
    "* id\n",
    "* location\n",
    "* name\n",
    "* nbr_beers\n",
    "### rb:\n",
    "* id\n",
    "* location\n",
    "* name\n",
    "* nbr_beers\n",
    "### scores:\n",
    "* diff\n",
    "* sim\n",
    "\n",
    "**ratings.csv**\n",
    "### ba:\n",
    "* abv\n",
    "* appearance\n",
    "* aroma\n",
    "* beer_id\n",
    "* beer_name\n",
    "* brewery_id\n",
    "* brewery_name\n",
    "* date\n",
    "* overall\n",
    "* palate\n",
    "* rating\n",
    "* review\n",
    "* style\n",
    "* taste\n",
    "* text\n",
    "* user_id\n",
    "* user_name\n",
    "### rb:\n",
    "* abv\n",
    "* appearance\n",
    "* aroma\n",
    "* beer_id\n",
    "* beer_name\n",
    "* brewery_id\n",
    "* brewery_name\n",
    "* date\n",
    "* overall\n",
    "* palate\n",
    "* rating\n",
    "* style\n",
    "* taste\n",
    "* text\n",
    "* user_id\n",
    "* user_name\n",
    "\n",
    "\n",
    "**users_approx.csv**\n",
    "### ba:\n",
    "* joined\n",
    "* location\n",
    "* nbr_ratings\n",
    "* nbr_reviews\n",
    "* user_id\n",
    "* user_name\n",
    "* user_name_lower\n",
    "### rb:\n",
    "* joined\n",
    "* location\n",
    "* nbr_ratings\n",
    "* user_id\n",
    "* user_name\n",
    "* user_name_lower\n",
    "### scores:\n",
    "* sim\n",
    "\n",
    "**users.csv**\n",
    "### ba:\n",
    "* joined\n",
    "* location\n",
    "* nbr_ratings\n",
    "* nbr_reviews\n",
    "* user_id\n",
    "* user_name\n",
    "* user_name_lower\n",
    "### rb:\n",
    "* joined\n",
    "* location\n",
    "* nbr_ratings\n",
    "* user_id\n",
    "* user_name\n",
    "* user_name_lower\n",
    "\n",
    "----------------------------------------------------------------------------------------------------"
   ]
  },
  {
   "cell_type": "markdown",
   "id": "e9da2a4a-671c-4f00-af0b-d60819885dbe",
   "metadata": {},
   "source": [
    "# Loading the data"
   ]
  },
  {
   "cell_type": "code",
   "execution_count": 6,
   "id": "5a97bc91-744f-4a2f-b7c9-b240e1a8eb09",
   "metadata": {},
   "outputs": [],
   "source": [
    "import pandas as pd\n",
    "import numpy as np\n",
    "import matplotlib.pyplot as plt\n",
    "import seaborn as sns"
   ]
  },
  {
   "cell_type": "code",
   "execution_count": 7,
   "id": "36091e11-0d92-41d7-8033-06f7421b67c8",
   "metadata": {},
   "outputs": [],
   "source": [
    "DATA_FOLDER = 'C:/Users/leroy/Documents/Etudes/EPFL/Master EST/Cours/MA 1/Applied Data Analysis/bADA55-project/data/'\n",
    "BEER_ADVOCATE_FOLDER = DATA_FOLDER + 'BeerAdvocate/' #BA\n",
    "RATE_BEER_FOLDER = DATA_FOLDER + 'RateBeer/' #RB\n",
    "MATCHED_BEER = DATA_FOLDER + 'matched_beer_data/' #MB\n",
    "\n",
    "BA_BEERS_DATASET = BEER_ADVOCATE_FOLDER + \"beers.csv\"\n",
    "BA_BREWERIES_DATASET = BEER_ADVOCATE_FOLDER + \"breweries.csv\"\n",
    "BA_USERS_DATASET = BEER_ADVOCATE_FOLDER + \"users.csv\"\n",
    "BA_RATINGS_DATASET = BEER_ADVOCATE_FOLDER + 'ratings.txt/' + \"ratings.txt\"\n",
    "BA_REVIEWS_DATASET = BEER_ADVOCATE_FOLDER + 'reviews.txt/' + \"reviews.txt\"\n",
    "\n",
    "RB_BEERS_DATASET = RATE_BEER_FOLDER + \"beers.csv\"\n",
    "RB_BREWERIES_DATASET = RATE_BEER_FOLDER + \"breweries.csv\"\n",
    "RB_USERS_DATASET = RATE_BEER_FOLDER + \"users.csv\"\n",
    "RB_RATINGS_DATASET = RATE_BEER_FOLDER + 'ratings.txt/' + \"ratings.txt\"\n",
    "RB_REVIEWS_DATASET = RATE_BEER_FOLDER + 'reviews.txt/' + \"ratings.txt\""
   ]
  },
  {
   "cell_type": "markdown",
   "id": "6d0e64cb-6f81-40d0-bc66-26aa4e4fa7d3",
   "metadata": {
    "jp-MarkdownHeadingCollapsed": true
   },
   "source": [
    "### Beer Advocate"
   ]
  },
  {
   "cell_type": "markdown",
   "id": "3a7eb69d-f177-4b8f-8f27-25ae994748ab",
   "metadata": {},
   "source": [
    "ratings.txt != reviews.txt\n",
    "\n",
    "ratings :\n",
    "[151 074 576 lines = 151 074 576/18 reviews = 8 393 032 reviews]\n",
    "\n",
    "reviews :\n",
    "[4 4022 962 lines = 44022962/17 reviews = 2 589 586 reviews]"
   ]
  },
  {
   "cell_type": "code",
   "execution_count": 8,
   "id": "d41810c3-8a7a-453e-b53f-62e3c32e5250",
   "metadata": {},
   "outputs": [],
   "source": [
    "columns = ['beer_name', 'beer_id', 'brewery_name', 'brewery_id', 'style', 'abv', 'date', \n",
    "           'user_name', 'user_id', 'appearance', 'aroma', 'palate', 'taste', 'overall', \n",
    "           'rating']\n",
    "data = []\n",
    "current_entry = {}\n",
    "\n",
    "max_entries = 2589586 #must be equal 2 589 586 to have all reviews\n",
    "entry_count = 0\n",
    "\n",
    "with open(BA_REVIEWS_DATASET, 'r', encoding='utf-8') as file:\n",
    "    for line in file:\n",
    "        line = line.strip()  # Supprimer les espaces de début/fin\n",
    "        if line:  # Si la ligne n'est pas vide\n",
    "            if line.startswith('text:'):\n",
    "                continue  # Ignorer les lignes de texte\n",
    "            if ':' in line:\n",
    "                key, value = line.split(':', 1)  # Séparer la clé et la valeur\n",
    "                key = key.strip()\n",
    "                value = value.strip()\n",
    "                current_entry[key] = value\n",
    "        else:\n",
    "            if current_entry:  # Si un bloc est terminé, ajouter l'entrée au dataset\n",
    "                data.append(current_entry)\n",
    "                current_entry = {}  # Réinitialiser pour le prochain bloc\n",
    "                entry_count += 1\n",
    "                if entry_count >= max_entries:  # Arrêter après 40 entrées\n",
    "                    break\n",
    "\n",
    "# Ajouter la dernière entrée si nécessaire et si le fichier ne finit pas par une ligne vide\n",
    "if current_entry and entry_count < max_entries:\n",
    "    data.append(current_entry)\n",
    "\n",
    "ba_reviews = pd.DataFrame(data, columns=columns)\n",
    "ba_reviews[\"date\"] = pd.to_numeric(ba_reviews[\"date\"])\n",
    "ba_reviews[\"date\"] = pd.to_datetime(ba_reviews[\"date\"], unit='s').dt.strftime('%d/%m/%Y')\n",
    "cols = ['appearance', 'aroma', 'palate', 'taste', 'overall', 'rating']\n",
    "ba_reviews[cols] = ba_reviews[cols].apply(pd.to_numeric, errors = 'coerce')"
   ]
  },
  {
   "cell_type": "code",
   "execution_count": 9,
   "id": "d32091f0-1a22-4046-9a6c-834b649df0cb",
   "metadata": {},
   "outputs": [],
   "source": [
    "ba_beers = pd.read_csv(BA_BEERS_DATASET)\n",
    "ba_breweries = pd.read_csv(BA_BREWERIES_DATASET)\n",
    "ba_users = pd.read_csv(BA_USERS_DATASET)\n",
    "ba_users['joined'] = pd.to_datetime(ba_users['joined'], unit='s').dt.strftime('%d/%m/%Y')"
   ]
  },
  {
   "cell_type": "markdown",
   "id": "27bb601b-5224-439d-9a96-825e0504d480",
   "metadata": {},
   "source": [
    "### Rate Beer"
   ]
  },
  {
   "cell_type": "markdown",
   "id": "07b1a04b-af64-4bc5-b8a3-7bebb5560eee",
   "metadata": {},
   "source": [
    "ratings.txt = reviews.txt (i.e. no difference for this dataset)\n",
    "\n",
    "[121 075 258 lines = 121075258/17 reviews = 7 122 074 review]"
   ]
  },
  {
   "cell_type": "code",
   "execution_count": null,
   "id": "c63de445-5af1-463a-9c50-b7908e0cad12",
   "metadata": {},
   "outputs": [],
   "source": [
    "columns = ['beer_name', 'beer_id', 'brewery_name', 'brewery_id', 'style', 'abv', 'date', \n",
    "           'user_name', 'user_id', 'appearance', 'aroma', 'palate', 'taste', 'overall', \n",
    "           'rating']\n",
    "data = []\n",
    "current_entry = {}\n",
    "\n",
    "max_entries = 7122074 #must be equal 7 122 074 to have all reviews\n",
    "entry_count = 0\n",
    "\n",
    "with open(RB_REVIEWS_DATASET, 'r', encoding='utf-8') as file:\n",
    "    for line in file:\n",
    "        line = line.strip()  # Supprimer les espaces de début/fin\n",
    "        if line:  # Si la ligne n'est pas vide\n",
    "            if line.startswith('text:'):\n",
    "                continue  # Ignorer les lignes de texte\n",
    "            if ':' in line:\n",
    "                key, value = line.split(':', 1)  # Séparer la clé et la valeur\n",
    "                key = key.strip()\n",
    "                value = value.strip()\n",
    "                current_entry[key] = value\n",
    "        else:\n",
    "            if current_entry:  # Si un bloc est terminé, ajouter l'entrée au dataset\n",
    "                data.append(current_entry)\n",
    "                current_entry = {}  # Réinitialiser pour le prochain bloc\n",
    "                entry_count += 1\n",
    "                if entry_count >= max_entries:  # Arrêter après 40 entrées\n",
    "                    break\n",
    "\n",
    "# Ajouter la dernière entrée si nécessaire et si le fichier ne finit pas par une ligne vide\n",
    "if current_entry and entry_count < max_entries:\n",
    "    data.append(current_entry)\n",
    "\n",
    "rb_reviews = pd.DataFrame(data, columns=columns)\n",
    "rb_reviews[\"date\"] = pd.to_numeric(rb_reviews[\"date\"])\n",
    "rb_reviews[\"date\"] = pd.to_datetime(rb_reviews[\"date\"], unit='s').dt.strftime('%d/%m/%Y')\n",
    "cols = ['appearance', 'aroma', 'palate', 'taste', 'overall', 'rating']\n",
    "rb_reviews[cols] = rb_reviews[cols].apply(pd.to_numeric)"
   ]
  },
  {
   "cell_type": "code",
   "execution_count": null,
   "id": "28ee7db3-3b33-4bb1-9a8d-2731ed43a55a",
   "metadata": {},
   "outputs": [],
   "source": [
    "rb_beers = pd.read_csv(RB_BEERS_DATASET)\n",
    "rb_breweries = pd.read_csv(RB_BREWERIES_DATASET)\n",
    "rb_users = pd.read_csv(RB_USERS_DATASET)\n",
    "rb_users['joined'] = pd.to_datetime(rb_users['joined'], unit='s').dt.strftime('%d/%m/%Y')"
   ]
  },
  {
   "cell_type": "markdown",
   "id": "4a3b21ac-e6c7-4803-9f5a-e20e9a33ef01",
   "metadata": {},
   "source": [
    "# Tendencies : BeerAdvocate"
   ]
  },
  {
   "cell_type": "markdown",
   "id": "5993f104-7a97-478e-a9b8-91378e3189c2",
   "metadata": {
    "jp-MarkdownHeadingCollapsed": true
   },
   "source": [
    "## Display :"
   ]
  },
  {
   "cell_type": "code",
   "execution_count": null,
   "id": "002d81af-1072-4baf-8c51-0065dc7239db",
   "metadata": {},
   "outputs": [],
   "source": [
    "print(\"ba_beers :\\n\")\n",
    "display(ba_beers)\n",
    "print(\"=\" * 150)\n",
    "print(\"\\nba_beweries :\\n\")\n",
    "display(ba_breweries)\n",
    "print(\"=\" * 150)\n",
    "print(\"\\nba_users :\\n\")\n",
    "display(ba_users)\n",
    "print(\"=\" * 150)\n",
    "print(\"\\nba_reviews :\\n\")\n",
    "display(ba_reviews)"
   ]
  },
  {
   "cell_type": "markdown",
   "id": "a40aacba-814e-442e-ae43-14c01773564f",
   "metadata": {},
   "source": [
    "## ba_beers"
   ]
  },
  {
   "cell_type": "markdown",
   "id": "426d9760-0488-4942-8d6a-294bd748c93c",
   "metadata": {},
   "source": [
    "## ba_breweries"
   ]
  },
  {
   "cell_type": "markdown",
   "id": "d9cefd8d-e399-4fb7-a53e-4ec46b92fbe4",
   "metadata": {},
   "source": [
    "## ba_users"
   ]
  },
  {
   "cell_type": "markdown",
   "id": "0261535f-add0-4f87-a6ed-8da6bb56282a",
   "metadata": {},
   "source": [
    "## ba_reviews"
   ]
  },
  {
   "cell_type": "markdown",
   "id": "75905aa3-6076-4028-a3cd-5ce0afe227ca",
   "metadata": {},
   "source": [
    "# Tendencies : Rate Beer"
   ]
  },
  {
   "cell_type": "markdown",
   "id": "63300fa5-d2f2-42a3-ab0f-064768766d1e",
   "metadata": {
    "jp-MarkdownHeadingCollapsed": true
   },
   "source": [
    "## Display :"
   ]
  },
  {
   "cell_type": "code",
   "execution_count": null,
   "id": "e6a3c23e-7682-4622-b498-62c2830b5424",
   "metadata": {},
   "outputs": [],
   "source": [
    "print(\"rb_beers :\\n\")\n",
    "display(rb_beers)\n",
    "print(\"=\" * 150)\n",
    "print(\"\\nrb_beweries :\\n\")\n",
    "display(rb_breweries)\n",
    "print(\"=\" * 150)\n",
    "print(\"\\nrb_users :\\n\")\n",
    "display(rb_users)\n",
    "print(\"=\" * 150)\n",
    "print(\"\\nrb_reviews :\\n\")\n",
    "display(rb_reviews)"
   ]
  },
  {
   "cell_type": "markdown",
   "id": "8c6ce350-2fef-472d-8cdb-82ddcdafe8e7",
   "metadata": {},
   "source": [
    "## rb_beers"
   ]
  },
  {
   "cell_type": "markdown",
   "id": "e11ee40f-858a-4718-92b8-e2fe6773b686",
   "metadata": {},
   "source": [
    "beer_id : Identifiant unique pour chaque bière dans le dataset RateBeer.\\\n",
    "beer_name : Nom de la bière.\\\n",
    "brewery_id : Identifiant unique pour chaque brasserie associée à la bière.\\\n",
    "brewery_name : Nom de la brasserie qui produit la bière.\\\n",
    "style : Style de la bière (par exemple, Pale Lager, Stout, Pilsener), indiquant le type ou la catégorie de la bière.\\\n",
    "nbr_ratings : Nombre total de notes reçues pour cette bière.\\\n",
    "overall_score : Score global de la bière, basé sur la moyenne de toutes les évaluations des utilisateurs (peut être exprimé sur une échelle de 0 à 100).\\\n",
    "style_score : Score de la bière spécifique à son style (comparée aux autres bières du même type).\\\n",
    "avg : -\\\n",
    "abv : Teneur en alcool par volume (ABV) de la bière, exprimée en pourcentage.\\\n",
    "avg_computed : Note moyenne de la bière, i.e. moyenne des ratings (note disponible sur le site arrondi à 2 chiffres après la virgule), *appelons le rating*\\\n",
    "zscore : -\\\n",
    "nbr_matched_valid_ratings : **Nombre de notes \"valides\" pour cette bière dans les données croisées (par exemple, lorsqu'on compare avec un autre dataset comme BeerAdvocate).**\\\n",
    "avg_matched_valid_ratings : **Moyenne des notes \"valides\" pour cette bière dans les données croisées.**\\\n",
    "**gras = pas sûr**"
   ]
  },
  {
   "cell_type": "code",
   "execution_count": null,
   "id": "c276d6d8-e351-47f7-8af5-e70ac298a4f8",
   "metadata": {
    "scrolled": true
   },
   "outputs": [],
   "source": [
    "display(rb_beers)"
   ]
  },
  {
   "cell_type": "code",
   "execution_count": null,
   "id": "618a3935-f1cb-4596-84f0-48adc974bb82",
   "metadata": {
    "scrolled": true
   },
   "outputs": [],
   "source": [
    "unique_style = rb_beers.groupby('style').agg(nbr_beers= ('beer_id', 'count'),\n",
    "                                             nbr_ratings_sum= ('nbr_ratings', 'sum'),\n",
    "                                             nbr_ratings_mean= ('nbr_ratings', 'mean'),\n",
    "                                             overall_score_mean= ('overall_score', 'mean'),\n",
    "                                             style_score_mean= ('style_score', 'mean'),\n",
    "                                             avg_mean= ('avg', 'mean'),\n",
    "                                             abv_mean= ('abv', 'mean'),\n",
    "                                             avg_computed_mean= ('avg_computed', 'mean')).reset_index()\n",
    "display(unique_style)"
   ]
  },
  {
   "cell_type": "code",
   "execution_count": null,
   "id": "81c4f6bb-4d8d-4cae-8cd2-9a6de2ff9274",
   "metadata": {
    "scrolled": true
   },
   "outputs": [],
   "source": [
    "sns.histplot(rb_beers['avg_computed'], bins= 50, stat= 'proportion')\n",
    "plt.title('Distribution des notes des utilisateurs')\n",
    "plt.xlabel('User Rating')\n",
    "plt.ylabel('Proportion')\n",
    "plt.show()"
   ]
  },
  {
   "cell_type": "code",
   "execution_count": null,
   "id": "29a8df71-bde6-4902-b6fc-54109719e549",
   "metadata": {
    "scrolled": true
   },
   "outputs": [],
   "source": [
    "sns.histplot(rb_beers['nbr_ratings'], bins= 50, stat= 'proportion')\n",
    "plt.yscale('log')\n",
    "plt.title('Distribution du nombre de notes par bière (échelle logarithmique)')\n",
    "plt.xlabel(\"Nombre de notes\")\n",
    "plt.ylabel('Proportion (log)')\n",
    "plt.show()"
   ]
  },
  {
   "cell_type": "code",
   "execution_count": null,
   "id": "53757c4d-7efb-4c9c-aee6-592208a7b6a7",
   "metadata": {
    "scrolled": true
   },
   "outputs": [],
   "source": [
    "fig, axs = plt.subplots(10, 10, figsize=(30, 30), sharex=True, sharey=True)\n",
    "cmap = plt.get_cmap('tab20')\n",
    "i, j = 0, 0\n",
    "\n",
    "for idx, name in enumerate(rb_beers['style'].unique()):\n",
    "    if j == 10:\n",
    "        i += 1\n",
    "        j = 0\n",
    "    \n",
    "    style_data = rb_beers[rb_beers['style'] == name]['avg_computed'].dropna()\n",
    "    color = cmap(np.random.rand())\n",
    "\n",
    "    if not style_data.empty:\n",
    "        sns.histplot(style_data, bins= 50, binrange= [0, 5], ax= axs[i, j], stat= 'proportion', color= color)\n",
    "        axs[i, j].set_title(name, fontsize= 15)\n",
    "        axs[i, j].set_xlabel('')\n",
    "        axs[i, j].set_ylabel('')\n",
    "    \n",
    "    j += 1\n",
    "\n",
    "fig.text(0.5, -0.01, 'User rating', ha= 'center', fontsize= 20)\n",
    "fig.text(-0.01, 0.5, 'Proportion', va= 'center', rotation= 'vertical', fontsize= 20)\n",
    "fig.text(0.5, 1, 'Distribution des notes des utilisateurs par style de bières', ha= 'center', fontsize= 20)\n",
    "\n",
    "plt.tight_layout()\n",
    "plt.show()"
   ]
  },
  {
   "cell_type": "code",
   "execution_count": null,
   "id": "e0838d53-c12a-45f3-8dc3-411c4862eff3",
   "metadata": {
    "scrolled": true
   },
   "outputs": [],
   "source": [
    "plt.figure(figsize= (10, 20))\n",
    "sorted_styles = rb_beers.groupby('style')['avg_computed'].mean().sort_values(ascending= False).index\n",
    "sns.boxplot(data= rb_beers, x= 'avg_computed', y= 'style', palette= 'coolwarm', order= sorted_styles)\n",
    "plt.title('Distribution des notes des utilisateurs par style de bière')\n",
    "plt.xlabel('User rating')\n",
    "plt.ylabel('Style de bière')\n",
    "plt.show()"
   ]
  },
  {
   "cell_type": "code",
   "execution_count": null,
   "id": "5a3da4a1-0ab7-4c15-b675-e5e292336094",
   "metadata": {
    "scrolled": true
   },
   "outputs": [],
   "source": [
    "fig, axs = plt.subplots(10, 10, figsize=(30, 30), sharex=True, sharey=True)\n",
    "cmap = plt.get_cmap('tab20')\n",
    "i, j = 0, 0\n",
    "\n",
    "for idx, name in enumerate(rb_beers['style'].unique()):\n",
    "    if j == 10:\n",
    "        i += 1\n",
    "        j = 0\n",
    "    \n",
    "    style_data = rb_beers[rb_beers['style'] == name]['abv'].dropna()\n",
    "    color = cmap(np.random.rand())\n",
    "\n",
    "    if not style_data.empty:\n",
    "        sns.histplot(style_data, bins= 35, binrange= [0, 70], ax= axs[i, j], stat= 'proportion', color= color) #70 because Snake Venom is the highest one 67.5%, rest is error\n",
    "        axs[i, j].set_title(name, fontsize= 15)\n",
    "        axs[i, j].set_xlabel('')\n",
    "        axs[i, j].set_ylabel('')\n",
    "    \n",
    "    j += 1\n",
    "\n",
    "fig.text(0.5, -0.01, 'Abv', ha= 'center', fontsize= 20)\n",
    "fig.text(-0.01, 0.5, 'Proportion', va= 'center', rotation= 'vertical', fontsize= 20)\n",
    "fig.text(0.5, 1, 'Distribution de la teneur en alcool par style de bière', ha= 'center', fontsize= 20)\n",
    "\n",
    "plt.tight_layout()\n",
    "plt.show()"
   ]
  },
  {
   "cell_type": "code",
   "execution_count": null,
   "id": "44281389-a6c0-4963-9a22-cda61bb9ffb3",
   "metadata": {
    "scrolled": true
   },
   "outputs": [],
   "source": [
    "plt.figure(figsize= (10, 20))\n",
    "sorted_styles = rb_beers.groupby('style')['abv'].mean().sort_values(ascending= False).index\n",
    "sns.boxplot(data= rb_beers, x= 'abv', y= 'style', palette= 'coolwarm', order= sorted_styles)\n",
    "plt.title('Distribution de la teneur en alcool par style de bière')\n",
    "plt.xlabel('Abv')\n",
    "plt.ylabel('Style de bière')\n",
    "plt.show()"
   ]
  },
  {
   "cell_type": "code",
   "execution_count": null,
   "id": "6a2988db-f65e-4568-b49c-6c63c3cf935c",
   "metadata": {
    "scrolled": true
   },
   "outputs": [],
   "source": [
    "plt.figure(figsize= (10, 10))\n",
    "top_50 = unique_style.sort_values(ascending= False, by= 'nbr_beers').head(50)\n",
    "sns.barplot(data= top_50, x= 'nbr_beers', y= 'style', hue= 'style', palette= 'coolwarm')\n",
    "plt.title('Top 50 des styles avec le plus de bières')\n",
    "plt.xlabel('Nombre de bières')\n",
    "plt.ylabel('Style de bières')\n",
    "plt.show()"
   ]
  },
  {
   "cell_type": "code",
   "execution_count": null,
   "id": "8a8e752c-3d41-431e-a890-1fc53335687b",
   "metadata": {
    "scrolled": true
   },
   "outputs": [],
   "source": [
    "plt.figure(figsize= (10, 10))\n",
    "top_50 = unique_style.sort_values(ascending= False, by= 'avg_computed_mean').head(50)\n",
    "min_top_50 = min(top_50['avg_computed_mean'])\n",
    "max_top_50 = max(top_50['avg_computed_mean'])\n",
    "sns.barplot(data= top_50, x= 'avg_computed_mean', y= 'style', hue= 'style', palette= 'coolwarm')\n",
    "plt.xlim(min_top_50 - 0.1, max_top_50 + 0.1)\n",
    "plt.title('Top 50 des styles avec les bières les mieux notées en moyenne')\n",
    "plt.xlabel('Mean user rating')\n",
    "plt.ylabel('Style de bières')\n",
    "plt.show()"
   ]
  },
  {
   "cell_type": "markdown",
   "id": "7daddb8b-b22e-4611-81a0-38392c43dd25",
   "metadata": {
    "jp-MarkdownHeadingCollapsed": true
   },
   "source": [
    "## rb_breweries"
   ]
  },
  {
   "cell_type": "markdown",
   "id": "794c293e-2422-49f3-aba4-154aba6da5a8",
   "metadata": {},
   "source": [
    "id : Identifiant unique de chaque brasserie dans la base de données RateBeer.\\\n",
    "location : Emplacement géographique de la brasserie, incluant le pays ou la région.\\\n",
    "name : Nom de la brasserie.\\\n",
    "nbr_beers : Nombre de bières produites par cette brasserie, référencées dans la base de données."
   ]
  },
  {
   "cell_type": "markdown",
   "id": "bc988279-e322-4917-a8b2-14d4db647cdb",
   "metadata": {},
   "source": [
    "Si je crée `unique_brewery` à partir `de rb_beers` j'ai moins de breweries que celle dans `rb_brewerie`s (i.e. `rb_breweries` comptabilise des brasseries en plsu, un exemple : `unique_brewery` n'a pas de brasserie sans bière)\n",
    "\n",
    "Code pour voir : *display(rb_breweries[~rb_breweries['id'].isin(unique_brewery['brewery_id'])])*\n",
    "\n",
    "Si on compare les *nbr_beers* entre `unique_brewey` et `rb_breweries`, parfois `rb_breweries` a plus de bières"
   ]
  },
  {
   "cell_type": "code",
   "execution_count": null,
   "id": "fca662d0-4a82-45c4-9def-dd30cf93579e",
   "metadata": {
    "scrolled": true
   },
   "outputs": [],
   "source": [
    "display(rb_breweries.sort_values(by= 'id'))"
   ]
  },
  {
   "cell_type": "code",
   "execution_count": null,
   "id": "63a43419-544e-4508-abb9-2b331ca043c3",
   "metadata": {
    "scrolled": true
   },
   "outputs": [],
   "source": [
    "unique_brewery = rb_beers.groupby('brewery_id').agg(nbr_beers= ('beer_id', 'count'),\n",
    "                                             nbr_ratings_sum= ('nbr_ratings', 'sum'),\n",
    "                                             nbr_ratings_mean= ('nbr_ratings', 'mean'),\n",
    "                                             overall_score_mean= ('overall_score', 'mean'),\n",
    "                                             style_score_mean= ('style_score', 'mean'),\n",
    "                                             avg_mean= ('avg', 'mean'),\n",
    "                                             abv_mean= ('abv', 'mean'),\n",
    "                                             avg_computed_mean= ('avg_computed', 'mean')).reset_index()\n",
    "display(unique_brewery)"
   ]
  },
  {
   "cell_type": "code",
   "execution_count": null,
   "id": "04e3d73f-48b3-4a30-ae52-570426973024",
   "metadata": {},
   "outputs": [],
   "source": [
    "plt.figure(figsize= (10, 10))\n",
    "top_50 = rb_breweries.sort_values(ascending= False, by= 'nbr_beers').head(50)\n",
    "top_50['id'] = top_50['id'].astype(str)\n",
    "sns.barplot(data= top_50, x= 'nbr_beers', y= 'id', hue= 'id', palette= 'coolwarm')\n",
    "plt.title('Top 50 des brasseries avec le plus de bières')\n",
    "plt.xlabel('Beer number')\n",
    "plt.ylabel('Brewery ID')\n",
    "plt.show()"
   ]
  },
  {
   "cell_type": "code",
   "execution_count": null,
   "id": "b19b89a9-5ff0-48dc-85c7-bd2551ff9ad9",
   "metadata": {},
   "outputs": [],
   "source": [
    "sns.histplot(rb_breweries['nbr_beers'], bins= 50, stat= 'percent')\n",
    "plt.title('Distribution de la quantité de bières produites par brasserie')\n",
    "plt.yscale('log')\n",
    "plt.xlabel('Beer number')\n",
    "plt.ylabel('Proportion (log)')\n",
    "plt.show()"
   ]
  },
  {
   "cell_type": "code",
   "execution_count": null,
   "id": "227d59b8-663d-42ef-b811-49e72204405d",
   "metadata": {},
   "outputs": [],
   "source": [
    "plt.figure(figsize= (10, 10))\n",
    "top_50 = unique_brewery.sort_values(ascending= False, by= 'avg_computed_mean').head(50)\n",
    "top_50['brewery_id'] = top_50['brewery_id'].astype(str)\n",
    "min_top_50 = min(top_50['avg_computed_mean'])\n",
    "max_top_50 = max(top_50['avg_computed_mean'])\n",
    "sns.barplot(data= top_50, x= 'avg_computed_mean', y= 'brewery_id', hue= 'brewery_id', palette= 'coolwarm')\n",
    "plt.xlim(min_top_50 - 0.1, max_top_50 + 0.1)\n",
    "plt.title('Top 50 des brasseries avec les bières les mieux notées en moyenne')\n",
    "plt.xlabel('Mean user rating')\n",
    "plt.ylabel('Brewery ID')\n",
    "plt.show()"
   ]
  },
  {
   "cell_type": "code",
   "execution_count": null,
   "id": "80a2955e-3cdf-4ed5-9de2-1831e0dfdb16",
   "metadata": {},
   "outputs": [],
   "source": [
    "sns.histplot(unique_brewery['avg_computed_mean'], bins= 50, stat= 'percent')\n",
    "plt.title('Distribution des moyennes des notes de bières produites par brasserie')\n",
    "plt.yscale('log')\n",
    "plt.xlabel('Mean user rating')\n",
    "plt.ylabel('Proportion (log)')\n",
    "plt.show()"
   ]
  },
  {
   "cell_type": "markdown",
   "id": "927f8fbd-929f-46cb-91c0-e1c0edc9720d",
   "metadata": {},
   "source": [
    "## rb_users"
   ]
  },
  {
   "cell_type": "markdown",
   "id": "5f7a5131-9350-412b-b2d9-d428f86ea9ff",
   "metadata": {},
   "source": [
    "nbr_ratings : Nombre total de notes laissées par l'utilisateur pour différentes bières.\\\n",
    "user_id : Identifiant unique de l'utilisateur dans la base de données RateBeer.\\\n",
    "user_name : Pseudonyme ou nom d'utilisateur.\\\n",
    "joined : Date d'inscription de l'utilisateur sur la plateforme RateBeer, au format JJ/MM/AAAA.\\\n",
    "location : Localisation géographique de l'utilisateur, incluant le pays, et parfois la région ou l'état."
   ]
  },
  {
   "cell_type": "code",
   "execution_count": null,
   "id": "54a84133-bbaf-4f41-ae49-91d3d0c1d3f1",
   "metadata": {},
   "outputs": [],
   "source": [
    "display(rb_users)"
   ]
  },
  {
   "cell_type": "markdown",
   "id": "f0edbd81-5746-49ad-aa98-36972c44826a",
   "metadata": {},
   "source": [
    "## rb_reviews"
   ]
  },
  {
   "cell_type": "code",
   "execution_count": null,
   "id": "21148d74-929d-42c1-9320-c9bb25e33272",
   "metadata": {},
   "outputs": [],
   "source": [
    "rb_reviews"
   ]
  },
  {
   "cell_type": "code",
   "execution_count": null,
   "id": "bf4aa6ed-1472-4b38-b816-faa02c2be601",
   "metadata": {},
   "outputs": [],
   "source": []
  }
 ],
 "metadata": {
  "kernelspec": {
   "display_name": "Python 3 (ipykernel)",
   "language": "python",
   "name": "python3"
  },
  "language_info": {
   "codemirror_mode": {
    "name": "ipython",
    "version": 3
   },
   "file_extension": ".py",
   "mimetype": "text/x-python",
   "name": "python",
   "nbconvert_exporter": "python",
   "pygments_lexer": "ipython3",
   "version": "3.11.9"
  }
 },
 "nbformat": 4,
 "nbformat_minor": 5
}
