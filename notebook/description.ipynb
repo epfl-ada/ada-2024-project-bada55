{
 "cells": [
  {
   "cell_type": "code",
   "execution_count": 2,
   "id": "4699e724-3e68-43b2-bc29-71f51f7c8158",
   "metadata": {},
   "outputs": [],
   "source": [
    "import pandas as pd\n",
    "import numpy as np\n",
    "import matplotlib.pyplot as plt"
   ]
  },
  {
   "cell_type": "code",
   "execution_count": 3,
   "id": "eb5641ad-1222-4fab-aa1c-468f12110ab9",
   "metadata": {},
   "outputs": [],
   "source": [
    "ba_reviews = pd.read_parquet('../generated/new_ba_reviews.parquet')\n",
    "rb_reviews = pd.read_parquet('../generated/new_rb_reviews.parquet')"
   ]
  },
  {
   "cell_type": "markdown",
   "id": "3cb3de5f-c2c9-4a9a-8844-746651f21011",
   "metadata": {},
   "source": [
    "# General description of both datasets"
   ]
  },
  {
   "cell_type": "markdown",
   "id": "81bd7f80-4417-4500-835a-385d281f07d9",
   "metadata": {},
   "source": [
    "This is an overview of our our two already prepocessed datasets new_ba_reviews and and new_rb_reviews (preprocessed from reviews.txt). These two datasets are the basis of the rest of our project. These are the columns of the dataset :"
   ]
  },
  {
   "cell_type": "markdown",
   "id": "8836b4bc-04a4-45c1-bc1a-b9103616d673",
   "metadata": {},
   "source": [
    "| Column Name       | Description                                   | \n",
    "|-------------------|-----------------------------------------------|\n",
    "| beer_name           | name of the beer                             |\n",
    "| beer_id        | id of the beer.                             |\n",
    "| brewery_name       | name of brewery of the beer.                    | \n",
    "| brewery_id      | id of the brewery.                          | \n",
    "| style             | style of the beer.                            | \n",
    "| abv       | Alcohol percentage of the beer         | \n",
    "| date      | date of the review        | \n",
    "| user_name             |        name of the user (who published the review)                     | \n",
    "| user_id |  id of user      |\n",
    "| appearance |  rating gived to appearance       |\n",
    "| aroma |  rating gived to aroma       |\n",
    "| palate |  rating gived to palate       |\n",
    "| taste |  rating gived to taste       |\n",
    "| overall |  rating gived to overall       |\n",
    "| rating | \"mean\" calculated by the website       |\n",
    "| text|  review      | \n"
   ]
  },
  {
   "cell_type": "markdown",
   "id": "05c07a22-a180-4ba9-a4c3-b955ac294c5d",
   "metadata": {},
   "source": [
    "In the first part we will analyze the rating system and then we will mainly focus on the users and their according review."
   ]
  },
  {
   "cell_type": "code",
   "execution_count": 12,
   "id": "f95c2cca-869b-40e0-9937-181c6389af5a",
   "metadata": {},
   "outputs": [
    {
     "name": "stdout",
     "output_type": "stream",
     "text": [
      "Descriptive analysis BeerAdvocate : \n",
      "Number of unique users: 60974\n",
      "Number of reviews: 2501212\n",
      "Number of unique beer styles: 104\n",
      "Number of unique breweries: 11638\n"
     ]
    }
   ],
   "source": [
    "num_unique_users = ba_reviews['user_id'].nunique()\n",
    "num_reviews = ba_reviews['text'].count()\n",
    "num_unique_styles = ba_reviews['style'].nunique()\n",
    "num_unique_breweries = ba_reviews['brewery_name'].nunique()\n",
    "\n",
    "print(\"Basic descriptive analysis BeerAdvocate : \")\n",
    "print(f\"Number of unique users: {num_unique_users}\")\n",
    "print(f\"Number of reviews: {num_reviews}\")\n",
    "print(f\"Number of unique beer styles: {num_unique_styles}\")\n",
    "print(f\"Number of breweries: {num_unique_breweries}\")"
   ]
  },
  {
   "cell_type": "code",
   "execution_count": 13,
   "id": "57e3fcf2-ed6a-4cfa-ba3f-c706bd3c1944",
   "metadata": {},
   "outputs": [
    {
     "name": "stdout",
     "output_type": "stream",
     "text": [
      "Descriptive analysis Ratebeer : \n",
      "Number of unique users: 70070\n",
      "Number of reviews: 7118976\n",
      "Number of unique beer styles: 93\n",
      "Number of unique breweries: 21816\n"
     ]
    }
   ],
   "source": [
    "num_unique_users = rb_reviews['user_id'].nunique()\n",
    "num_reviews = rb_reviews['text'].count()\n",
    "num_unique_styles = rb_reviews['style'].nunique()\n",
    "num_unique_breweries = rb_reviews['brewery_name'].nunique()\n",
    "\n",
    "print(\"Basic descriptive analysis Ratebeer : \")\n",
    "print(f\"Number of unique users: {num_unique_users}\")\n",
    "print(f\"Number of reviews: {num_reviews}\")\n",
    "print(f\"Number of breweries: {num_unique_breweries}\")"
   ]
  },
  {
   "cell_type": "markdown",
   "id": "920fb48f-386b-43bf-bec2-5590cfff8ad9",
   "metadata": {},
   "source": [
    "An interesting thing can already be seen here. The number of users on each platforms are close but we can see that the number of reviews are 3 times higher on Ratebeer. This indicates that users on RateBeer are far more active in contributing reviews compared to those on BeerAdvocate."
   ]
  }
 ],
 "metadata": {
  "kernelspec": {
   "display_name": "Python 3 (ipykernel)",
   "language": "python",
   "name": "python3"
  },
  "language_info": {
   "codemirror_mode": {
    "name": "ipython",
    "version": 3
   },
   "file_extension": ".py",
   "mimetype": "text/x-python",
   "name": "python",
   "nbconvert_exporter": "python",
   "pygments_lexer": "ipython3",
   "version": "3.11.9"
  }
 },
 "nbformat": 4,
 "nbformat_minor": 5
}
