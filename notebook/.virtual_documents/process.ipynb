





























import pandas as pd
import numpy as np
import matplotlib.pyplot as plt
import seaborn as sns
import glob


DATA_FOLDER = '../data/'
BEER_ADVOCATE_FOLDER = DATA_FOLDER + 'BeerAdvocate/' #BA
RATE_BEER_FOLDER = DATA_FOLDER + 'RateBeer/' #RB
MATCHED_BEER_FOLDER = DATA_FOLDER + 'matched_beer_data/' #MB

BA_BEERS_DATASET = BEER_ADVOCATE_FOLDER + "beers.csv"
BA_BREWERIES_DATASET = BEER_ADVOCATE_FOLDER + "breweries.csv"
BA_USERS_DATASET = BEER_ADVOCATE_FOLDER + "users.csv"
BA_RATINGS_DATASET = BEER_ADVOCATE_FOLDER + 'ratings.txt/' + "ratings.txt"
BA_REVIEWS_DATASET = BEER_ADVOCATE_FOLDER + 'reviews.txt/' + "reviews.txt"

RB_BEERS_DATASET = RATE_BEER_FOLDER + "beers.csv"
RB_BREWERIES_DATASET = RATE_BEER_FOLDER + "breweries.csv"
RB_USERS_DATASET = RATE_BEER_FOLDER + "users.csv"
RB_RATINGS_DATASET = RATE_BEER_FOLDER + 'ratings.txt/' + "ratings.txt"
RB_REVIEWS_DATASET = RATE_BEER_FOLDER + 'reviews.txt/' + 'reviews.txt/'

MB_BEERS_DATASET = MATCHED_BEER_FOLDER + "beers.csv"
MB_BREWERIES_DATASET = MATCHED_BEER_FOLDER + "breweries.csv"
MB_USERS_DATASET = MATCHED_BEER_FOLDER + "users.csv"
MB_USERS_APPROX_DATASET = MATCHED_BEER_FOLDER + "users_approx.csv"
MB_RATINGS_DATASET = MATCHED_BEER_FOLDER + "ratings.csv"


ba_beers = pd.read_csv(BA_BEERS_DATASET)
ba_breweries = pd.read_csv(BA_BREWERIES_DATASET)
ba_users = pd.read_csv(BA_USERS_DATASET)

rb_beers = pd.read_csv(RB_BEERS_DATASET)
rb_breweries = pd.read_csv(RB_BREWERIES_DATASET)
rb_users = pd.read_csv(RB_USERS_DATASET)

# mb_beers = pd.read_csv(MB_BEERS_DATASET, skiprows= 1)
# mb_breweries = pd.read_csv(MB_BREWERIES_DATASET, skiprows= 1)
# mb_users = pd.read_csv(MB_USERS_DATASET, skiprows= 1)
# mb_users_approx = pd.read_csv(MB_USERS_APPROX_DATASET, skiprows= 1)
# mb_ratings = pd.read_csv(MB_RATINGS_DATASET, skiprows= 1)





def name_to_country(name : str) -> str:
    if len(name) >= 13:
        if name.split('<')[0] in ['United States', 'Utah', 'New York', 'Illinois']:
            return 'United States'
        if name.split(',')[0] in ['United States']:
            return 'United States'
    return name


country_continent_map = {
    'Kyrgyzstan': 'Asia', 'Gabon': 'Africa', 'Northern Ireland': 'Europe',
    'Wales': 'Europe', 'Scotland': 'Europe', 'England': 'Europe',
    'Singapore': 'Asia', 'China': 'Asia', 'Chad': 'Africa', 
    'Saint Lucia': 'North America', 'Cameroon': 'Africa',
    'Burkina Faso': 'Africa', 'Zambia': 'Africa', 'Romania': 'Europe',
    'Nigeria': 'Africa', 'South Korea': 'Asia', 'Georgia': 'Asia',
    'Hong Kong': 'Asia', 'Guinea': 'Africa', 'Montenegro': 'Europe',
    'Benin': 'Africa', 'Mexico': 'North America', 'Fiji Islands': 'Oceania',
    'Guam': 'Oceania', 'Laos': 'Asia', 'Senegal': 'Africa',
    'Honduras': 'North America', 'Morocco': 'Africa', 'Indonesia': 'Asia',
    'Monaco': 'Europe', 'Ukraine': 'Europe', 'Canada': 'North America',
    'Jordan': 'Asia', 'Portugal': 'Europe', 'Guernsey': 'Europe',
    'India': 'Asia', 'Puerto Rico': 'North America', 'Japan': 'Asia',
    'Iran': 'Asia', 'Hungary': 'Europe', 'Bulgaria': 'Europe',
    'Guinea-Bissau': 'Africa', 'Liberia': 'Africa', 'Togo': 'Africa',
    'Niger': 'Africa', 'Croatia': 'Europe', 'Lithuania': 'Europe',
    'Cyprus': 'Asia', 'Italy': 'Europe', 'Andorra': 'Europe',
    'Botswana': 'Africa', 'Turks and Caicos Islands': 'North America',
    'Papua New Guinea': 'Oceania', 'Mongolia': 'Asia', 'Ethiopia': 'Africa',
    'Denmark': 'Europe', 'French Polynesia': 'Oceania', 'Greece': 'Europe',
    'Sri Lanka': 'Asia', 'Syria': 'Asia', 'Germany': 'Europe', 'Jersey': 'Europe',
    'Armenia': 'Asia', 'Mozambique': 'Africa', 'Palestine': 'Asia',
    'Bangladesh': 'Asia', 'Turkmenistan': 'Asia', 'Reunion': 'Africa',
    'Eritrea': 'Africa', 'Switzerland': 'Europe', 'Malta': 'Europe',
    'Israel': 'Asia', 'El Salvador': 'North America', 'French Guiana': 'South America',
    'Tonga': 'Oceania', 'Zimbabwe': 'Africa', 'Samoa': 'Oceania', 'Barbados': 'North America',
    'Chile': 'South America', 'Cambodia': 'Asia', 'Cook Islands': 'Oceania',
    'Trinidad & Tobago': 'North America', 'Bhutan': 'Asia', 'Uzbekistan': 'Asia',
    'Egypt': 'Africa', 'Uruguay': 'South America', 'Dominican Republic': 'North America',
    'Equatorial Guinea': 'Africa', 'Russia': 'Europe', 'Tajikistan': 'Asia',
    'Vietnam': 'Asia', 'Palau': 'Oceania', 'Namibia': 'Africa',
    'Cayman Islands': 'North America', 'Sao Tome and Principe': 'Africa', 'Australia': 'Oceania',
    'Martinique': 'North America', 'Virgin Islands (British)': 'North America',
    'Ecuador': 'South America', 'Vanuatu': 'Oceania', 'Congo': 'Africa',
    'Uganda': 'Africa', 'Mauritius': 'Africa', 'Azerbaijan': 'Asia',
    'Argentina': 'South America', 'Tunisia': 'Africa', 'Belize': 'North America',
    'Luxembourg': 'Europe', 'Madagascar': 'Africa', 'Aruba': 'North America',
    'Spain': 'Europe', 'Swaziland': 'Africa', 'South Sudan': 'Africa',
    'Belarus': 'Europe', 'Ivory Coast': 'Africa', 'Austria': 'Europe',
    'Bolivia': 'South America', 'Central African Republic': 'Africa',
    'Mali': 'Africa', 'Suriname': 'South America', 'Solomon Islands': 'Oceania',
    'Rwanda': 'Africa', 'Brazil': 'South America', 'Gibraltar': 'Europe',
    'Taiwan': 'Asia', 'Turkey': 'Asia', 'Greenland': 'North America',
    'Moldova': 'Europe', 'Haiti': 'North America', 'Guadeloupe': 'North America',
    'South Africa': 'Africa', 'Lesotho': 'Africa', 'Czech Republic': 'Europe',
    'Micronesia': 'Oceania', 'Paraguay': 'South America', 'Iraq': 'Asia',
    'Faroe Islands': 'Europe', 'Panama': 'North America', 'Netherlands': 'Europe',
    'Peru': 'South America', 'New Zealand': 'Oceania', 'Ghana': 'Africa',
    'Slovenia': 'Europe', 'Serbia': 'Europe', 'Macedonia': 'Europe',
    'Latvia': 'Europe', 'Guatemala': 'North America', 'Cuba': 'North America',
    'Venezuela': 'South America', 'Angola': 'Africa', 'Finland': 'Europe',
    'Nicaragua': 'North America', 'Sweden': 'Europe', 'Seychelles': 'Africa',
    'Poland': 'Europe', 'Cape Verde Islands': 'Africa', 'Libya': 'Africa',
    'Isle of Man': 'Europe', 'Ireland': 'Europe', 'Myanmar': 'Asia',
    'Algeria': 'Africa', 'Kazakhstan': 'Asia', 'Norway': 'Europe',
    'United States': 'North America', 'Costa Rica': 'North America',
    'North Korea': 'Asia', 'Bosnia and Herzegovina': 'Europe', 'Jamaica': 'North America',
    'Lebanon': 'Asia', 'Dominica': 'North America', 'Virgin Islands (U.S.)': 'North America',
    'Colombia': 'South America', 'Iceland': 'Europe', 'Macau': 'Asia',
    'Grenada': 'North America', 'Malaysia': 'Asia', 'Belgium': 'Europe',
    'Saint Vincent and The Grenadines': 'North America', 'Bahamas': 'North America',
    'Philippines': 'Asia', 'Curaçao': 'North America', 'San Marino': 'Europe',
    'France': 'Europe', 'Bermuda': 'North America', 'Mayotte': 'Africa',
    'Antigua & Barbuda': 'North America', 'Estonia': 'Europe', 'Gambia': 'Africa',
    'Pakistan': 'Asia', 'New Caledonia': 'Oceania', 'Slovak Republic': 'Europe',
    'Liechtenstein': 'Europe', 'Tanzania': 'Africa', 'Malawi': 'Africa',
    'Nepal': 'Asia', 'United Arab Emirates': 'Asia', 'Kenya': 'Africa',
    'Thailand': 'Asia', 'Albania': 'Europe', 'Canada, Ontario': 'North America',
    'United Kingdom, England': 'Europe', 'Canada, Manitoba': 'North America',
    'Canada, Nova Scotia': 'North America', 'Canada, Quebec': 'North America',
    'Canada, Newfoundland and Labrador': 'North America', 'Canada, Alberta': 'North America',
    'Canada, British Columbia': 'North America', 'Canada, Saskatchewan': 'North America',
    'UNKNOWN': 'Unknown', 'Canada, New Brunswick': 'North America',
    'United Kingdom, Wales': 'Europe', 'United Kingdom, Scotland': 'Europe'
}


style_to_type = {
    # Lager
    'Euro Pale Lager': 'Lager', 'German Pilsener': 'Lager', 'Munich Helles Lager': 'Lager', 
    'Czech Pilsener': 'Lager', 'American Pale Lager': 'Lager', 'Light Lager': 'Lager',
    'Vienna Lager': 'Lager', 'Dortmunder / Export Lager': 'Lager', 'Euro Dark Lager': 'Lager',
    'Munich Dunkel Lager': 'Lager', 'Kellerbier / Zwickelbier': 'Lager', 'Japanese Rice Lager': 'Lager',
    'American Amber / Red Lager': 'Lager', 'Euro Strong Lager': 'Lager', 'American Adjunct Lager': 'Lager',
    
    # Ale
    'English Pale Ale': 'Ale', 'English Bitter': 'Ale', 'American Pale Ale (APA)': 'Ale', 
    'Irish Red Ale': 'Ale', 'American Blonde Ale': 'Ale', 'American Amber / Red Ale': 'Ale',
    'English Brown Ale': 'Ale', 'Saison / Farmhouse Ale': 'Ale', 'American Black Ale': 'Ale', 
    'Altbier': 'Ale', 'Extra Special / Strong Bitter (ESB)': 'Ale', 'Belgian Pale Ale': 'Ale',
    'American Wild Ale': 'Ale', 'Winter Warmer': 'Ale', 'English Strong Ale': 'Ale', 'Old Ale': 'Ale',
    'Scottish Ale': 'Ale', 'Scottish Gruit / Ancient Herbed Ale': 'Ale', 'Flanders Red Ale': 'Ale',
    'American Strong Ale': 'Ale', 'Braggot': 'Ale', 'American Barleywine': 'Ale', 
    'English Barleywine': 'Ale', 'Flanders Oud Bruin': 'Ale', 'American Dark Wheat Ale': 'Ale',
    
    # Stout
    'American Stout': 'Stout', 'Milk / Sweet Stout': 'Stout', 'Irish Dry Stout': 'Stout',
    'Foreign / Export Stout': 'Stout', 'Oatmeal Stout': 'Stout', 'Russian Imperial Stout': 'Stout', 
    'English Stout': 'Stout', 'American Double / Imperial Stout': 'Stout',
    
    # Pilsner
    'American Double / Imperial Pilsner': 'Pilsner', 'German Pilsener': 'Pilsner', 'Czech Pilsener': 'Pilsner',
    
    # Wheat Beer
    'American Pale Wheat Ale': 'Wheat Beer', 'Berliner Weissbier': 'Wheat Beer', 'Hefeweizen': 'Wheat Beer',
    'Dunkelweizen': 'Wheat Beer', 'Kristalweizen': 'Wheat Beer', 'Weizenbock': 'Wheat Beer',
    'Witbier': 'Wheat Beer',

    # Belgian Styles (often considered Ales but could be a distinct category)
    'Tripel': 'Ale', 'Dubbel': 'Ale', 'Quadrupel (Quad)': 'Ale', 'Belgian Strong Dark Ale': 'Ale',
    'Belgian Dark Ale': 'Ale', 'Belgian Strong Pale Ale': 'Ale', 'Belgian IPA': 'Ale',

    # Other
    'Bière de Garde': 'Other', 'Kvass': 'Other', 'Lambic - Fruit': 'Other', 'Lambic - Unblended': 'Other',
    'Gueuze': 'Other', 'Bière de Champagne / Bière Brut': 'Other', 'Gose': 'Other', 'Faro': 'Other',
    'Pumpkin Ale': 'Other', 'Sahti': 'Other', 'Eisbock': 'Other', 'Rauchbier': 'Other', 
    'Maibock / Helles Bock': 'Other', 'Bock': 'Other', 'Doppelbock': 'Other', 'Cream Ale': 'Other', 
    'California Common / Steam Beer': 'Other', 'Schwarzbier': 'Other', 'Smoked Beer': 'Other', 
    'Fruit / Vegetable Beer': 'Other', 'Herbed / Spiced Beer': 'Other', 'Rye Beer': 'Other', 
    'English Pale Mild Ale': 'Other', 'Black & Tan': 'Other', 'Chile Beer': 'Other', 
    'American Malt Liquor': 'Other', 'Low Alcohol Beer': 'Other', 'Wheatwine': 'Other'
}


style_to_type={'Euro Pale Lager': 'Lager',
 'American Pale Lager': 'Lager',
 'Euro Dark Lager': 'Lager',
 'Foreign / Export Stout': 'Stout',
 'Irish Red Ale': 'Ale',
 'Czech Pilsener': 'Pilsener',
 'Kölsch': 'Ale',
 'Dortmunder / Export Lager': 'Lager',
 'Munich Dunkel Lager': 'Lager',
 'Märzen / Oktoberfest': 'Lager',
 'English Pale Ale': 'Ale',
 'English Bitter': 'Ale',
 'American Pale Wheat Ale': 'Wheat Ale',
 'American Blonde Ale': 'Ale',
 'English India Pale Ale (IPA)': 'IPA',
 'Irish Dry Stout': 'Stout',
 'American Stout': 'Stout',
 'American Pale Ale (APA)': 'Ale',
 'Milk / Sweet Stout': 'Stout',
 'American Double / Imperial IPA': 'IPA',
 'German Pilsener': 'Pilsener',
 'American IPA': 'IPA',
 'Witbier': 'Wheat Ale',
 'Munich Helles Lager': 'Lager',
 'English Brown Ale': 'Ale',
 'English Porter': 'Porter',
 'English Pale Mild Ale': 'Ale',
 'American Black Ale': 'Ale',
 'Saison / Farmhouse Ale': 'Farmhouse Ale',
 'Berliner Weissbier': 'Wheat Ale',
 'American Double / Imperial Stout': 'Stout',
 'American Porter': 'Porter',
 'American Wild Ale': 'Wild Ale',
 'Fruit / Vegetable Beer': 'Fruit/Vegetable Beer',
 'English Dark Mild Ale': 'Ale',
 'Hefeweizen': 'Wheat Ale',
 'English Stout': 'Stout',
 'California Common / Steam Beer': 'Lager',
 'American Amber / Red Ale': 'Ale',
 'Tripel': 'Belgian Ale',
 'Altbier': 'Ale',
 'Smoked Beer': 'Smoked Beer',
 'Bière de Garde': 'Farmhouse Ale',
 'Oatmeal Stout': 'Stout',
 'Rye Beer': 'Rye Beer',
 'Extra Special / Strong Bitter (ESB)': 'Ale',
 'Russian Imperial Stout': 'Stout',
 'Winter Warmer': 'Winter Ale',
 'Belgian Pale Ale': 'Belgian Ale',
 'Belgian IPA': 'IPA',
 'Belgian Strong Pale Ale': 'Belgian Ale',
 'Old Ale': 'Ale',
 'Dunkelweizen': 'Wheat Ale',
 'English Barleywine': 'Barleywine',
 'English Strong Ale': 'Ale',
 'American Brown Ale': 'Ale',
 'Schwarzbier': 'Lager',
 'Baltic Porter': 'Porter',
 'Vienna Lager': 'Lager',
 'Herbed / Spiced Beer': 'Spiced Beer',
 'Rauchbier': 'Smoked Beer',
 'Scottish Ale': 'Ale',
 'Scottish Gruit / Ancient Herbed Ale': 'Herbed Beer',
 'Black & Tan': 'Blend',
 'Gose': 'Sour Ale',
 'Scotch Ale / Wee Heavy': 'Ale',
 'Low Alcohol Beer': 'Low Alcohol',
 'Kristalweizen': 'Wheat Ale',
 'Doppelbock': 'Bock',
 'Chile Beer': 'Spiced Beer',
 'Sahti': 'Farmhouse Ale',
 'Euro Strong Lager': 'Lager',
 'American Strong Ale': 'Ale',
 'Dubbel': 'Belgian Ale',
 'Cream Ale': 'Ale',
 'American Barleywine': 'Barleywine',
 'Flanders Red Ale': 'Sour Ale',
 'Light Lager': 'Lager',
 'Pumpkin Ale': 'Spiced Beer',
 'Quadrupel (Quad)': 'Belgian Ale',
 'Bock': 'Bock',
 'Bière de Champagne / Bière Brut': 'Champagne Beer',
 'Kellerbier / Zwickelbier': 'Lager',
 'American Amber / Red Lager': 'Lager',
 'American Dark Wheat Ale': 'Wheat Ale',
 'Weizenbock': 'Bock',
 'American Double / Imperial Pilsner': 'Pilsener',
 'Belgian Strong Dark Ale': 'Belgian Ale',
 'Lambic - Fruit': 'Lambic',
 'Eisbock': 'Bock',
 'Braggot': 'Honey Ale',
 'Belgian Dark Ale': 'Belgian Ale',
 'Maibock / Helles Bock': 'Bock',
 'Flanders Oud Bruin': 'Sour Ale',
 'American Adjunct Lager': 'Lager',
 'American Malt Liquor': 'Malt Liquor',
 'Kvass': 'Kvass',
 'Wheatwine': 'Wheat Wine',
 'Gueuze': 'Lambic',
 'Roggenbier': 'Rye Beer',
 'Lambic - Unblended': 'Lambic',
 'Japanese Rice Lager': 'Rice Lager',
 'Happoshu': 'Rice Beer',
 'Faro': 'Lambic'}











ba_breweries['country'] = ba_breweries['location'].apply(lambda name : name_to_country(name))
ba_breweries['continent'] = ba_breweries['country'].apply(lambda country : country_continent_map.get(country, 'Unknown'))








ba_dict_id_br_concat = dict(zip(ba_breweries['id'], ba_breweries['continent']))
ba_beers['continent'] = ba_beers['brewery_id'].apply(lambda id_: ba_dict_id_br_concat.get(id_))
ba_beers['type'] = ba_beers['style'].apply(lambda style: style_to_type.get(style))








ba_users['location'] = ba_users['location'].astype(str)
ba_users['country'] = ba_users['location'].apply(lambda name : name_to_country(name))
ba_users['continent'] = ba_users['country'].apply(lambda country : country_continent_map.get(country, 'Unknown'))





ba_users['joined'] = pd.to_datetime(ba_users['joined'], unit='s').dt.strftime('%d/%m/%Y')











columns = ['beer_name', 'beer_id', 'brewery_name', 'brewery_id', 'style', 'abv', 'date', 
           'user_name', 'user_id', 'appearance', 'aroma', 'palate', 'taste', 'overall', 
           'rating']
data = []
current_entry = {}

max_entries = 100_000
# max_entries = 2589586 #must be equal 2 589 586 to have all reviews
entry_count = 0

with open(BA_REVIEWS_DATASET, 'r', encoding='utf-8') as file:
    for line in file:
        line = line.strip()  # Supprimer les espaces de début/fin
        if line:  # Si la ligne n'est pas vide
            if line.startswith('text:'):
                continue  # Ignorer les lignes de texte
            if ':' in line:
                key, value = line.split(':', 1)  # Séparer la clé et la valeur
                key = key.strip()
                value = value.strip()
                current_entry[key] = value
        else:
            if current_entry:  # Si un bloc est terminé, ajouter l'entrée au dataset
                data.append(current_entry)
                current_entry = {}  # Réinitialiser pour le prochain bloc
                entry_count += 1
                if entry_count >= max_entries:  # Arrêter après 40 entrées
                    break

# Ajouter la dernière entrée si nécessaire et si le fichier ne finit pas par une ligne vide
if current_entry and entry_count < max_entries:
    data.append(current_entry)

ba_reviews = pd.DataFrame(data, columns=columns)


cols_to_numeric = ['beer_id', 'brewery_id', 'abv', 'date', 'appearance', 'aroma', 'palate', 'taste', 'overall', 'rating']
ba_reviews[cols_to_numeric] = ba_reviews[cols_to_numeric].apply(pd.to_numeric, errors = 'coerce')
ba_reviews['date'] = pd.to_datetime(ba_reviews['date'], unit='s').dt.strftime('%d/%m/%Y')
ba_reviews['continent'] = ba_reviews['brewery_id'].apply(lambda id_: ba_dict_id_br_concat.get(int(id_)))
ba_reviews['type'] = ba_reviews['style'].apply(style_to_type.get)











rb_breweries['country'] = rb_breweries['location'].apply(lambda name : name_to_country(name))
rb_breweries['continent'] = rb_breweries['country'].apply(lambda country : country_continent_map.get(country, 'Unknown'))








rb_dict_id_br_concat = dict(zip(rb_breweries['id'], rb_breweries['continent']))
rb_beers['continent'] = rb_beers['brewery_id'].apply(lambda id_: rb_dict_id_br_concat.get(id_))
rb_beers['type'] = rb_beers['style'].apply(lambda style: style_to_type.get(style))








rb_users['location'] = rb_users['location'].astype(str)
rb_users['country'] = rb_users['location'].apply(lambda name : name_to_country(name))
rb_users['continent'] = rb_users['country'].apply(lambda country : country_continent_map.get(country, 'Unknown'))





rb_users['joined'] = pd.to_datetime(rb_users['joined'], unit='s').dt.strftime('%d/%m/%Y')











columns = ['beer_name', 'beer_id', 'brewery_name', 'brewery_id', 'style', 'abv', 'date', 
           'user_name', 'user_id', 'appearance', 'aroma', 'palate', 'taste', 'overall', 
           'rating']
chunk_size = 1000000
data = []
entry_count = 0
chunk_count = 0

with open(RB_REVIEWS_DATASET, 'r', encoding='utf-8') as file:
    for line in file:
        line = line.strip()
        if line:
            if line.startswith('text:'):
                continue
            if ':' in line:
                key, value = line.split(':', 1)
                key = key.strip()
                value = value.strip()
                current_entry[key] = value
        else:
            if current_entry:
                data.append(current_entry)
                current_entry = {}
                entry_count += 1

                # Save chunk when reaching chunk size
                if entry_count >= chunk_size:
                    chunk_df = pd.DataFrame(data, columns=columns)
                    chunk_file_path = f"../data/processed/rb_chunks/rb_reviews_chunk_{chunk_count}.parquet"
                    chunk_df.to_parquet(chunk_file_path)
                    print(f"Saved {chunk_file_path}")
                    data = []
                    entry_count = 0
                    chunk_count += 1
                    
# Process any remaining entries after the loop
if data:
    chunk_df = pd.DataFrame(data, columns=columns)
    chunk_file_path = f"../data/processed/rb_chunks/rb_reviews_chunk_{chunk_count}.parquet"
    chunk_df.to_parquet(chunk_file_path)
    print(f"Saved {chunk_file_path}")


chunk_files = glob.glob("../data/processed/rb_chunks/rb_reviews_chunk_*.parquet")
rb_reviews = pd.concat([pd.read_parquet(chunk) for chunk in chunk_files], ignore_index=True)


cols_to_numeric = ['beer_id', 'brewery_id', 'abv', 'date', 'appearance', 'aroma', 'palate', 'taste', 'overall', 'rating']
rb_reviews[cols_to_numeric] = rb_reviews[cols_to_numeric].apply(pd.to_numeric, errors = 'coerce')
rb_reviews['date'] = pd.to_datetime(rb_reviews['date'], unit='s').dt.strftime('%d/%m/%Y')
rb_reviews['continent'] = rb_reviews['brewery_id'].apply(lambda id_: rb_dict_id_br_concat.get(int(id_)))
rb_reviews['type'] = rb_reviews['style'].apply(style_to_type.get)





ba_breweries.to_csv('../data/processed/new_ba_breweries.csv')
ba_beers.to_csv('../data/processed/new_ba_beers.csv')
ba_users.to_csv('../data/processed/new_ba_users.csv')
ba_reviews.to_csv('../data/processed/new_ba_reviews.csv')

rb_breweries.to_csv('../data/processed/new_rb_breweries.csv')
rb_beers.to_csv('../data/processed/new_rb_beers.csv')
rb_users.to_csv('../data/processed/new_rb_users.csv')
rb_reviews.to_parquet('../data/processed/rb_reviews.parquet')



