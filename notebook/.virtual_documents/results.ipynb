import pandas as pd
import numpy as np
import seaborn as sns
import matplotlib.pyplot as plt
#import plotly.express as px
#plt.rcParams["figure.figsize"] = (18, 6)








ba_beers = pd.read_csv("../data/processed/new_ba_beers.csv")











ba_breweries = pd.read_csv("../data/processed/new_ba_breweries.csv")








ba_users = pd.read_csv("../data/processed/new_ba_users.csv")








ba_reviews = pd.read_csv("../data/processed/new_ba_reviews.csv")











rb_beers = pd.read_csv("../data/processed/new_rb_beers.csv")











rb_breweries = pd.read_csv("../data/processed/new_rb_breweries.csv")








rb_users = pd.read_csv("../data/processed/new_rb_users.csv")








rb_reviews = pd.read_parquet("../data/processed/rb_reviews.parquet")











ba_users_plot = ba_users.copy()
rb_users_plot = rb_users.copy()
ba_users_plot["site"] = "BeerAdvocate"
rb_users_plot["site"] = "RateBeer"
df_plot = pd.concat([ba_users_plot, rb_users_plot], ignore_index=True)

df_plot['joined'] = pd.to_datetime(df_plot['joined'], format='%d/%m/%Y')
df_plot["month_year"] = df_plot['joined'].dt.to_period('M')
min_year = int(df_plot['joined'].dt.to_period('Y').sort_values().astype(str).iloc[0])
df_plot["month_year"] = df_plot["month_year"].astype(str)
nb_month = df_plot["month_year"].nunique()

df_plot = df_plot.groupby(["site","month_year"]).size().reset_index(name='nbr_users')

plt.figure(figsize=(18, 6))
sns.lineplot(data=df_plot, x='month_year', y='nbr_users',hue="site")

plt.grid(True, axis='both', color='gray', linestyle='--', linewidth=0.5)
plt.title('Number of Users Registered by Month')
plt.xlabel('Month')
plt.ylabel('Number of Users')
plt.xticks(ticks = np.arange(0,nb_month,12), labels=[year for year in range(min_year,min_year+len(np.arange(0,210,12)))], rotation=45)
plt.tight_layout()

plt.show()





ba_users_plot = ba_users.copy()
rb_users_plot = rb_users.copy()
ba_users_plot["site"] = "BeerAdvocate"
rb_users_plot["site"] = "RateBeer"
df_plot = pd.concat([ba_users_plot, rb_users_plot], ignore_index=True)

df_plot['joined'] = pd.to_datetime(df_plot['joined'], format='%d/%m/%Y')
df_plot["year"] = df_plot['joined'].dt.to_period('Y')

df_grouped = df_plot.groupby(['site', 'year', 'country']).size().reset_index(name='nbr_users')

top_countries = df_grouped.groupby(['site', 'country'])['nbr_users'].sum()
top_countries = top_countries.groupby(level=0, group_keys=False).nlargest(3).reset_index()

df_top_countries = df_grouped.merge(top_countries[['site', 'country']], on=['site', 'country'])

nbr_users_pct = df_top_countries.groupby(['site', 'year']).apply(
    lambda group: group['nbr_users'] / group['nbr_users'].sum() * 100,
    include_groups=False
).reset_index(level=[0, 1], drop=True)

df_top_countries['nbr_users_pct'] = nbr_users_pct.values

palette = sns.color_palette("tab20", len(df_top_countries['country'].unique()))
country_palette = dict(zip(df_top_countries['country'].unique(), palette))

fig, axes = plt.subplots(2, 1, figsize=(18, 12), sharex=True)

for i, (site, data) in enumerate(df_top_countries.groupby('site')):
    data_pivot = data.pivot(index='year', columns='country', values='nbr_users_pct').fillna(0)
    
    data_pivot.plot(kind='bar', stacked=True, ax=axes[i], color=[country_palette[country] for country in data_pivot.columns])
    axes[i].set_title(f'Percentage of Users Registered per Year by Country for {site}')
    axes[i].set_xlabel('Year')
    axes[i].set_ylabel('Percentage of Users')
    axes[i].legend(title='Country', bbox_to_anchor=(1.05, 1), loc='upper left')

plt.xticks(rotation=45)
plt.tight_layout()

# Affichez le graphique
plt.show()








ba_reviews_plot = ba_reviews.copy()
rb_reviews_plot = rb_reviews.copy()
ba_reviews_plot["site"] = "BeerAdvocate"
rb_reviews_plot["site"] = "RateBeer"
df_plot = pd.concat([ba_reviews_plot, rb_reviews_plot], ignore_index=True)

df_plot['joined'] = pd.to_datetime(df_plot['date'], format='%d/%m/%Y')
df_plot["month_year"] = df_plot['joined'].dt.to_period('M')
min_year = int(df_plot['joined'].dt.to_period('Y').sort_values().astype(str).iloc[0])
df_plot["month_year"] = df_plot["month_year"].astype(str)
nb_month = df_plot["month_year"].nunique()

df_plot = df_plot.groupby(["site","month_year"]).size().reset_index(name='nbr_users')

plt.figure(figsize=(18, 6))
sns.lineplot(data=df_plot, x='month_year', y='nbr_users',hue="site")

plt.grid(True, axis='both', color='gray', linestyle='--', linewidth=0.5)
plt.title('Number of Reviews Registered by Month')
plt.xlabel('Month')
plt.ylabel('Number of Users')
plt.xticks(ticks = np.arange(0,nb_month,12), labels=[year for year in range(min_year,min_year+len(np.arange(0,nb_month,12)))], rotation=45)
plt.tight_layout()

plt.show()





ba_reviews_plot = ba_reviews.copy()
rb_reviews_plot = rb_reviews.copy()
ba_reviews_plot["site"] = "BeerAdvocate"
rb_reviews_plot["site"] = "RateBeer"
df_plot = pd.concat([ba_reviews_plot, rb_reviews_plot], ignore_index=True)

df_plot['joined'] = pd.to_datetime(df_plot['date'], format='%d/%m/%Y')
df_plot["year"] = df_plot['joined'].dt.to_period('Y')

df_grouped = df_plot.groupby(['site', 'year', 'continent']).size().reset_index(name='nbr_users')

top_countries = df_grouped.groupby(['site', 'continent'])['nbr_users'].sum()
top_countries = top_countries.groupby(level=0, group_keys=False).nlargest(3).reset_index()

df_top_countries = df_grouped.merge(top_countries[['site', 'continent']], on=['site', 'continent'])

nbr_users_pct = df_top_countries.groupby(['site', 'year']).apply(
    lambda group: group['nbr_users'] / group['nbr_users'].sum() * 100,
    include_groups=False
).reset_index(level=[0, 1], drop=True)

df_top_countries['nbr_users_pct'] = nbr_users_pct.values

palette = sns.color_palette("tab20", len(df_top_countries['continent'].unique()))
country_palette = dict(zip(df_top_countries['continent'].unique(), palette))

fig, axes = plt.subplots(2, 1, figsize=(18, 12), sharex=True)

for i, (site, data) in enumerate(df_top_countries.groupby('site')):
    data_pivot = data.pivot(index='year', columns='continent', values='nbr_users_pct').fillna(0)
    
    data_pivot.plot(kind='bar', stacked=True, ax=axes[i], color=[country_palette[country] for country in data_pivot.columns])
    axes[i].set_title(f'Percentage of Reviews Registered per Year by Country for {site}')
    axes[i].set_xlabel('Year')
    axes[i].set_ylabel('Percentage of Users')
    axes[i].legend(title='continent', bbox_to_anchor=(1.05, 1), loc='upper left')

plt.xticks(rotation=45)
plt.tight_layout()

# Affichez le graphique
plt.show()








df_plot = rb_reviews.groupby("user_id").size().reset_index(name="nbr_reviews")
df_plot = df_plot[df_plot["nbr_reviews"] >= 10]
df_plot["mean"] = df_plot["nbr_reviews"] / df_plot["nbr_reviews"].sum()
df_plot


df_plot = ba_reviews.groupby("user_id").size().reset_index(name="nbr_reviews")
df_plot = df_plot[df_plot["nbr_reviews"] >= 10]
df_plot["mean"] = df_plot["nbr_reviews"] / df_plot["nbr_reviews"].sum()
df_plot





df_plot = ba_reviews.groupby("beer_name").agg({"rating":["max","min","mean","median","std","sem","count"]}).reset_index()
df_plot = df_plot[df_plot[("rating","count")] >= 50]
median_mean = df_plot[("rating","mean")].median()
df_plot["good_rating"] = df_plot[("rating","mean")].apply(lambda x: x>median_mean)
df_plot = pd.concat((df_plot.nlargest(10,("rating","mean")),df_plot.nsmallest(10,("rating","mean"))))
df_plot = df_plot.sort_values([("rating","mean")])

plt.figure(figsize=(12, 6))
sns.barplot(data=df_plot, x='beer_name', y=("rating","mean"), hue="good_rating",palette='coolwarm')
plt.errorbar(df_plot['beer_name'], df_plot[("rating","mean")], yerr=df_plot[("rating","std")], fmt="_", color="black")

plt.title('Top 10 best and worse Beers by Average Rating with Standard Deviation for BeerAdvocate')
plt.xlabel('Beer Name')
plt.ylabel('Average Rating')
plt.xticks(rotation=45, ha='right')
plt.tight_layout()

plt.show()


df_plot = rb_reviews.groupby("beer_name").agg({"rating":["max","min","mean","median","std","sem","count"]}).reset_index()
df_plot = df_plot[df_plot[("rating","count")] >= 50]
median_mean = df_plot[("rating","mean")].median()
df_plot["good_rating"] = df_plot[("rating","mean")].apply(lambda x: x>median_mean)
df_plot = pd.concat((df_plot.nlargest(10,("rating","mean")),df_plot.nsmallest(10,("rating","mean"))))
df_plot = df_plot.sort_values([("rating","mean")])

plt.figure(figsize=(12, 6))
sns.barplot(data=df_plot, x='beer_name', y=("rating","mean"), hue="good_rating",palette='coolwarm')
plt.errorbar(df_plot['beer_name'], df_plot[("rating","mean")], yerr=df_plot[("rating","std")], fmt="_", color="black")

plt.title('Top 10 best and worse Beers by Average Rating with Standard Deviation for RateBeer')
plt.xlabel('Beer Name')
plt.ylabel('Average Rating')
plt.xticks(rotation=45, ha='right')
plt.tight_layout()

plt.show()


df_plot = ba_reviews.groupby("brewery_name").agg({"rating":["max","min","mean","median","std","sem","count"]}).reset_index()
df_plot = df_plot[df_plot[("rating","count")] >= 50]
median_mean = df_plot[("rating","mean")].median()
df_plot["good_rating"] = df_plot[("rating","mean")].apply(lambda x: x>median_mean)
df_plot = pd.concat((df_plot.nlargest(10,("rating","mean")),df_plot.nsmallest(10,("rating","mean"))))
df_plot = df_plot.sort_values([("rating","mean")])

plt.figure(figsize=(12, 6))
sns.barplot(data=df_plot, x='brewery_name', y=("rating","mean"), hue="good_rating",palette='coolwarm')
plt.errorbar(df_plot['brewery_name'], df_plot[("rating","mean")], yerr=df_plot[("rating","std")], fmt="_", color="black")

plt.title('Top 10 best and worse Breweries by Average Rating with Standard Deviation for BeerAdvocate')
plt.xlabel('Brewery Name')
plt.ylabel('Average Rating')
plt.xticks(rotation=45, ha='right')
plt.tight_layout()

plt.show()


df_plot = rb_reviews.groupby("brewery_name").agg({"rating":["max","min","mean","median","std","sem","count"]}).reset_index()
df_plot = df_plot[df_plot[("rating","count")] >= 50]
median_mean = df_plot[("rating","mean")].median()
df_plot["good_rating"] = df_plot[("rating","mean")].apply(lambda x: x>median_mean)
df_plot = pd.concat((df_plot.nlargest(10,("rating","mean")),df_plot.nsmallest(10,("rating","mean"))))
df_plot = df_plot.sort_values([("rating","mean")])

plt.figure(figsize=(12, 6))
sns.barplot(data=df_plot, x='brewery_name', y=("rating","mean"), hue="good_rating",palette='coolwarm')
plt.errorbar(df_plot['brewery_name'], df_plot[("rating","mean")], yerr=df_plot[("rating","std")], fmt="_", color="black")

plt.title('Top 10 best and worse Breweries by Average Rating with Standard Deviation for RateBeer')
plt.xlabel('Brewery Name')
plt.ylabel('Average Rating')
plt.xticks(rotation=45, ha='right')
plt.tight_layout()

plt.show()





df_plot = ba_reviews.groupby("type").agg({"rating":["max","min","mean","median","std","sem","count"]}).reset_index()
df_plot = df_plot[df_plot[("rating","count")] >= 50]
median_mean = df_plot[("rating","mean")].median()
df_plot["good_rating"] = df_plot[("rating","mean")].apply(lambda x: x>median_mean)
df_plot = pd.concat((df_plot.nlargest(10,("rating","mean")),df_plot.nsmallest(10,("rating","mean"))))
df_plot = df_plot.sort_values([("rating","mean")])

plt.figure(figsize=(12, 6))
sns.barplot(data=df_plot, x='type', y=("rating","mean"), hue="good_rating",palette='coolwarm')
plt.errorbar(df_plot['type'], df_plot[("rating","mean")], yerr=df_plot[("rating","std")], fmt="_", color="black")

plt.title('Top 3 best and worse type by Average Rating with Standard Deviation for BeerAdvocate')
plt.xlabel('Type Name')
plt.ylabel('Average Rating')
plt.xticks(rotation=45, ha='right')
plt.tight_layout()

plt.show()


df_plot = rb_reviews.groupby("type").agg({"rating":["max","min","mean","median","std","sem","count"]}).reset_index()
df_plot = df_plot[df_plot[("rating","count")] >= 50]
median_mean = df_plot[("rating","mean")].median()
df_plot["good_rating"] = df_plot[("rating","mean")].apply(lambda x: x>median_mean)
df_plot = pd.concat((df_plot.nlargest(10,("rating","mean")),df_plot.nsmallest(10,("rating","mean"))))
df_plot = df_plot.sort_values([("rating","mean")])

plt.figure(figsize=(12, 6))
sns.barplot(data=df_plot, x='type', y=("rating","mean"), hue="good_rating",palette='coolwarm')
plt.errorbar(df_plot['type'], df_plot[("rating","mean")], yerr=df_plot[("rating","std")], fmt="_", color="black")

plt.title('Top 3 best and worse type by Average Rating with Standard Deviation for RateBeer')
plt.xlabel('Type Name')
plt.ylabel('Average Rating')
plt.xticks(rotation=45, ha='right')
plt.tight_layout()

plt.show()
