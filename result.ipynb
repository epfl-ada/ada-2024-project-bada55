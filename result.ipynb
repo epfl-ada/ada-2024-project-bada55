{
 "cells": [
  {
   "cell_type": "code",
   "execution_count": 1,
   "id": "6b11a22e-34ec-4801-b039-f987880e1979",
   "metadata": {},
   "outputs": [],
   "source": [
    "from src.data.datasets import *\n",
    "from src.scripts import notation_system"
   ]
  },
  {
   "cell_type": "code",
   "execution_count": 2,
   "id": "9cbb94ce-62e1-41b8-9c55-1204455c91f8",
   "metadata": {},
   "outputs": [],
   "source": [
    "DATA_FOLDER = \"data/\"\n",
    "GENERATED_FOLDER = \"generated/\"\n",
    "rb_dataset = RateBeerDataset(data_folder=DATA_FOLDER, generated_folder=GENERATED_FOLDER, from_raw=False)\n",
    "ba_dataset = BeerAdvocateDataset(data_folder=DATA_FOLDER, generated_folder=GENERATED_FOLDER, from_raw=False)"
   ]
  },
  {
   "cell_type": "code",
   "execution_count": 3,
   "id": "c306e712-ad06-407d-b4fc-50c0d2866717",
   "metadata": {},
   "outputs": [],
   "source": [
    "data_rb = rb_dataset.get_data()\n",
    "data_ba = ba_dataset.get_data()"
   ]
  },
  {
   "cell_type": "markdown",
   "id": "c45e1b26-fdc0-4537-8ab8-f8a2a0ead079",
   "metadata": {},
   "source": [
    "# Notation system"
   ]
  },
  {
   "cell_type": "code",
   "execution_count": null,
   "id": "ba2f0b91-1dcd-4b4a-be3f-fb68193bdab3",
   "metadata": {},
   "outputs": [],
   "source": [
    "fig1, fig2 = notation_system.fig_notation_system(data_ba[\"reviews\"], data_rb[\"reviews\"])"
   ]
  },
  {
   "cell_type": "markdown",
   "id": "e679a0aa-e056-43d8-ab40-2dd13d9f33b9",
   "metadata": {},
   "source": [
    "### The Importance of the Rating System in Interpreting Beer Ratings\n",
    "\n",
    "The rating system is essential for understanding the scores given to a beer. Notably, the same overall rating on BeerAdvocate and RateBeer does not reflect identical scores across different topics. In theory, if a user provides the same scores and descriptions for a beer on both platforms, the overall score would still differ between the two sites.\n",
    "\n",
    "The topics considered in these ratings are as follows: **\"appearance,\" \"aroma,\" \"palate,\" \"taste,\" and \"overall.\"** Concretely, the overall score is a weighted average of these topics' ratings. Our objective is to determine these weights.\n",
    "\n",
    "This relationship can be analyzed through a **linear regression (without intercept)**. Formally, we aim to find the coefficients $(\\beta_1, \\beta_2, \\beta_3, \\beta_4, \\beta_5)$ such that:\n",
    "\n",
    "$\n",
    "\\text{rating} = \\beta_1 \\cdot \\text{appearance} + \\beta_2 \\cdot \\text{aroma} + \\beta_3 \\cdot \\text{palate} + \\beta_4 \\cdot \\text{taste} + \\beta_5 \\cdot \\text{overall}\n",
    "$\n",
    "\n",
    "### Normalization\n",
    "\n",
    "It is crucial to **normalize** the topic scores so that all values fall between 0 and 1.\n",
    "\n",
    "### Results\n",
    "\n",
    "We find the following $\\beta\\$ parameters for the topics:"
   ]
  },
  {
   "cell_type": "code",
   "execution_count": null,
   "id": "b3867756-b8f6-40a4-834f-03602d731c72",
   "metadata": {},
   "outputs": [],
   "source": [
    "fig1.show()"
   ]
  },
  {
   "cell_type": "markdown",
   "id": "9fdc3aff-9951-49d3-8eb4-97878bb34b28",
   "metadata": {},
   "source": [
    "### Analysis of BeerAdvocate and RateBeer Notation System\n",
    "\n",
    "BeerAdvocate and RateBeer assign similar weights to **appearance**, **aroma**, and **palate** (approximately 6%-9%, 20%-24%, and 10%, respectively). These criteria contribute comparably to the overall rating on both platforms.\n",
    "\n",
    "However, significant differences emerge for **taste** and **overall**:  \n",
    "- BeerAdvocate gives much greater weight to **taste** (40%) compared to RateBeer (20%), indicating that the perception of taste is crucial for high ratings on BeerAdvocate.  \n",
    "- Conversely, RateBeer assigns double the weight to **overall** (42%) than BeerAdvocate (20%), emphasizing a more general, holistic evaluation.\n",
    "\n",
    "### Implications:  \n",
    "- **BeerAdvocate** prioritizes sensory aspects like **taste**, making it key for achieving high ratings.  \n",
    "- **RateBeer** takes a broader approach, with the **overall** impression being the most critical factor.\n",
    "\n",
    "This distinction helps explain why the same beer may receive different scores across the two platforms, even with similar topic-level ratings.\n"
   ]
  },
  {
   "cell_type": "markdown",
   "id": "3237b0f5-d930-4a30-bba6-f52f7a397565",
   "metadata": {},
   "source": [
    "The linear regressions yield an \\(R^2\\) of **1.00** for both platforms. This indicates that the ratings across the five topics explain **100%** of the overall rating. Below are the predicted ratings compared to the real ratings:\n"
   ]
  },
  {
   "cell_type": "code",
   "execution_count": null,
   "id": "6ec29591-8e64-48e9-8ea9-52a7b4744d92",
   "metadata": {},
   "outputs": [],
   "source": [
    "fig2.show()"
   ]
  },
  {
   "cell_type": "markdown",
   "id": "ddbdc82a-b44a-4c53-aab2-b18ff44fcd0f",
   "metadata": {},
   "source": [
    "### Conclusion\n",
    "\n",
    "The results of the linear regression confirm the validity of the topic weightings found for both BeerAdvocate and RateBeer. With an \\(R^2\\) of **1.00** for both platforms, it is evident that the five topics (**appearance**, **aroma**, **palate**, **taste**, and **overall**) fully determine the final rating. The coefficients reflect the relative importance of each topic, highlighting the key differences between the platforms: BeerAdvocate prioritizes **taste**, while RateBeer emphasizes the **overall** impression. These findings provide a clear understanding of how each platform evaluates beer ratings and the factors that influence their scoring systems.\n"
   ]
  },
  {
   "cell_type": "code",
   "execution_count": null,
   "id": "8edd005f-22f2-414a-9803-5147542f63e0",
   "metadata": {},
   "outputs": [],
   "source": []
  }
 ],
 "metadata": {
  "kernelspec": {
   "display_name": "Python 3 (ipykernel)",
   "language": "python",
   "name": "python3"
  },
  "language_info": {
   "codemirror_mode": {
    "name": "ipython",
    "version": 3
   },
   "file_extension": ".py",
   "mimetype": "text/x-python",
   "name": "python",
   "nbconvert_exporter": "python",
   "pygments_lexer": "ipython3",
   "version": "3.10.0"
  }
 },
 "nbformat": 4,
 "nbformat_minor": 5
}
