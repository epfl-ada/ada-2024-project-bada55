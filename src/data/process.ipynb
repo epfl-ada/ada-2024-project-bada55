{
 "cells": [
  {
   "cell_type": "markdown",
   "id": "f19b5a00-d181-426d-baa8-0591c6ed4df7",
   "metadata": {},
   "source": [
    "# NOTEBOOK TO PREPROCESS THE DATA (then used for the project accomplishment)"
   ]
  },
  {
   "cell_type": "markdown",
   "id": "6b13364f-5128-4ceb-83b9-3a6fba19cb48",
   "metadata": {},
   "source": [
    "## **INFORMATIONS ON THE CSVs**"
   ]
  },
  {
   "cell_type": "markdown",
   "id": "2bb650e4-cb35-4227-a3cd-6851911d1af3",
   "metadata": {},
   "source": [
    "*Data*: BeerAdvocate / RateBeer / matched_beer_data\n",
    "\n",
    "*Difference ratings-reviews*: **reviews.txt** appears to be a subset of **ratings.txt** because the latter also has the review column (True or False) and **reviews.txt** is the set of all ratings that are True.\n",
    "\n",
    "*Code to print .txt*: \n",
    "* \"\"\"with open(BA_REVIEWS_DATASET, 'r', encoding='utf-8') as file:\n",
    "    for _ in range(16):\n",
    "        print(file.readline())\"\"\"\n",
    "* \"\"\"with open(BA_RATINGS_DATASET, 'r', encoding='utf-8') as file:\n",
    "    for _ in range(17):\n",
    "        print(file.readline())\"\"\"\n",
    "* !head Data/BeerAdvocate/ratings.txt/ratings.txt\n",
    "* \"\"\"from collections import deque\n",
    "n_last_lines = 10\n",
    "with open(BA_REVIEWS_DATASET, 'r', encoding='utf-8') as file:\n",
    "    last_lines = deque(file, maxlen=n_last_lines)\n",
    "for line in last_lines:\n",
    "    print(line.strip())\"\"\""
   ]
  },
  {
   "cell_type": "markdown",
   "id": "aad28347-8110-48fd-be40-eaa21f3a1e0d",
   "metadata": {},
   "source": [
    "### BeerAdvocate"
   ]
  },
  {
   "cell_type": "markdown",
   "id": "994460dd-1ff9-49ef-827b-f9878e840375",
   "metadata": {},
   "source": [
    "**beers.csv**\n",
    "* beer_id\n",
    "* beer_name\n",
    "* brewery_id\n",
    "* brewery_name\n",
    "* style\n",
    "* nbr_ratings\n",
    "* nbr_reviews\n",
    "* avg\n",
    "* ba_score\n",
    "* bros_score\n",
    "* abv\n",
    "* avg_computed\n",
    "* zscore\n",
    "* nbr_matched_valid_ratings\n",
    "* avg_matched_valid_ratings\n",
    "\n",
    "**breweries.csv**\n",
    "* id,\n",
    "* location\n",
    "* name\n",
    "* nbr_beers\n",
    "\n",
    "**users.csv**\n",
    "* nbr_ratings\n",
    "* nbr_reviews\n",
    "* user_id\n",
    "* user_name\n",
    "* joined\n",
    "* location\n",
    "\n",
    "**ratings.txt** (line format i.e. Header=None)\n",
    "* beer_name\n",
    "* beer_id\n",
    "* brewery_name\n",
    "* brewery_id\n",
    "* style\n",
    "* abv\n",
    "* date\n",
    "* user_name\n",
    "* user_id\n",
    "* appearance\n",
    "* aroma\n",
    "* palate\n",
    "* taste\n",
    "* overall\n",
    "* rating\n",
    "* text\n",
    "* review: *True or False*\n",
    "\n",
    "**reviews.txt** (line format i.e. Header=None, subset of **ratings.txt**)\n",
    "* beer_name\n",
    "* beer_id\n",
    "* brewery_name\n",
    "* brewery_id\n",
    "* style\n",
    "* abv\n",
    "* date\n",
    "* user_name\n",
    "* user_id\n",
    "* appearance : *up to 5*\n",
    "* aroma : *up to 5*\n",
    "* palate : *up to 5*\n",
    "* taste : *up to 5*\n",
    "* overall : *up to 5*\n",
    "* rating : *up to 5, unkown formula but different weights for each parameter*\n",
    "* text\n",
    "\n",
    "----------------------------------------------------------------------------------------------------"
   ]
  },
  {
   "cell_type": "markdown",
   "id": "0e033d0c-f20c-44b8-bff0-1af5be077643",
   "metadata": {},
   "source": [
    "### RateBeer"
   ]
  },
  {
   "cell_type": "markdown",
   "id": "2559dc1b-7f7a-4020-808a-a2d7447455ae",
   "metadata": {},
   "source": [
    "**beers.csv**\n",
    "* beer_id\n",
    "* beer_name\n",
    "* brewery_id\n",
    "* brewery_name\n",
    "* style\n",
    "* nbr_ratings\n",
    "* overall_score\n",
    "* style_score\n",
    "* avg\n",
    "* abv\n",
    "* avg_computed\n",
    "* zscore\n",
    "* nbr_matched_valid_ratings\n",
    "* avg_matched_valid_ratings\n",
    "\n",
    "**breweries.csv**\n",
    "* id\n",
    "* location\n",
    "* name\n",
    "* nbr_beers\n",
    "\n",
    "**users.csv**\n",
    "* nbr_ratings\n",
    "* user_id\n",
    "* user_name\n",
    "* joined\n",
    "* location\n",
    "\n",
    "**ratings.txt = reviews.txt** (line format i.e. Header=None)\n",
    "* beer_name\n",
    "* beer_id\n",
    "* brewery_name\n",
    "* brewery_id\n",
    "* style\n",
    "* abv\n",
    "* date\n",
    "* user_name\n",
    "* user_id\n",
    "* appearance : *up to 5*\n",
    "* aroma : *up to 10*\n",
    "* palate (=mouthfeel) : *up to 5*\n",
    "* taste : *up to 10*\n",
    "* overall : *up to 20*\n",
    "* rating : *up to 50 (sum of all previous) then divided by 10 --> up to 5*\n",
    "* text\n",
    "\n",
    "----------------------------------------------------------------------------------------------------"
   ]
  },
  {
   "cell_type": "markdown",
   "id": "4a7d031d-d98b-4aed-9785-0cce90e4a6d7",
   "metadata": {},
   "source": [
    "### matched_beer_data"
   ]
  },
  {
   "cell_type": "markdown",
   "id": "c3b8aeb9-927d-4238-867e-e59ac70f1b01",
   "metadata": {
    "jp-MarkdownHeadingCollapsed": true
   },
   "source": [
    "**beers.csv**\n",
    "#### ba:\n",
    "* abv\n",
    "* avg\n",
    "* avg_computed\n",
    "* avg_matched_valid_ratings\n",
    "* ba_score\n",
    "* beer_id\n",
    "* beer_name\n",
    "* beer_wout_brewery_name\n",
    "* brewery_id\n",
    "* brewery_name\n",
    "* bros_score\n",
    "* nbr_matched_valid_ratings\n",
    "* nbr_ratings\n",
    "* nbr_reviews\n",
    "* style\n",
    "* zscore\n",
    "#### rb:\n",
    "* abv\n",
    "* avg\n",
    "* avg_computed\n",
    "* avg_matched_valid_ratings\n",
    "* beer_id\n",
    "* beer_name\n",
    "* beer_wout_brewery_name\n",
    "* brewery_id\n",
    "* brewery_name\n",
    "* nbr_matched_valid_ratings\n",
    "* nbr_ratings\n",
    "* overall_score\n",
    "* style\n",
    "* style_score\n",
    "* zscore\n",
    "#### scores:\n",
    "* diff\n",
    "* sim\n",
    "\n",
    "**breweries.csv**\n",
    "#### ba:\n",
    "* id\n",
    "* location\n",
    "* name\n",
    "* nbr_beers\n",
    "#### rb:\n",
    "* id\n",
    "* location\n",
    "* name\n",
    "* nbr_beers\n",
    "#### scores:\n",
    "* diff\n",
    "* sim\n",
    "\n",
    "**ratings.csv**\n",
    "#### ba:\n",
    "* abv\n",
    "* appearance\n",
    "* aroma\n",
    "* beer_id\n",
    "* beer_name\n",
    "* brewery_id\n",
    "* brewery_name\n",
    "* date\n",
    "* overall\n",
    "* palate\n",
    "* rating\n",
    "* review\n",
    "* style\n",
    "* taste\n",
    "* text\n",
    "* user_id\n",
    "* user_name\n",
    "#### rb:\n",
    "* abv\n",
    "* appearance\n",
    "* aroma\n",
    "* beer_id\n",
    "* beer_name\n",
    "* brewery_id\n",
    "* brewery_name\n",
    "* date\n",
    "* overall\n",
    "* palate\n",
    "* rating\n",
    "* style\n",
    "* taste\n",
    "* text\n",
    "* user_id\n",
    "* user_name\n",
    "\n",
    "\n",
    "**users_approx.csv**\n",
    "#### ba:\n",
    "* joined\n",
    "* location\n",
    "* nbr_ratings\n",
    "* nbr_reviews\n",
    "* user_id\n",
    "* user_name\n",
    "* user_name_lower\n",
    "#### rb:\n",
    "* joined\n",
    "* location\n",
    "* nbr_ratings\n",
    "* user_id\n",
    "* user_name\n",
    "* user_name_lower\n",
    "#### scores:\n",
    "* sim\n",
    "\n",
    "**users.csv** (is a subset of **users_approx** --> it is composed of users from **users_approx** where `sim` closed to 1)\n",
    "#### ba:\n",
    "* joined\n",
    "* location\n",
    "* nbr_ratings\n",
    "* nbr_reviews\n",
    "* user_id\n",
    "* user_name\n",
    "* user_name_lower\n",
    "#### rb:\n",
    "* joined\n",
    "* location\n",
    "* nbr_ratings\n",
    "* user_id\n",
    "* user_name\n",
    "* user_name_lower\n",
    "\n",
    "----------------------------------------------------------------------------------------------------"
   ]
  },
  {
   "cell_type": "markdown",
   "id": "626c65d4-a866-4f6c-8d4d-c9cbf1f37c64",
   "metadata": {},
   "source": [
    "## **LOADING DATAs**"
   ]
  },
  {
   "cell_type": "code",
   "execution_count": 1,
   "id": "3a3e5a76-1c9a-43cc-8ecd-b4f088268654",
   "metadata": {},
   "outputs": [],
   "source": [
    "import os\n",
    "import pandas as pd\n",
    "import numpy as np\n",
    "import matplotlib.pyplot as plt\n",
    "import seaborn as sns\n",
    "import glob\n",
    "import fastparquet\n",
    "import pyarrow\n",
    "import datetime as dt"
   ]
  },
  {
   "cell_type": "code",
   "execution_count": 2,
   "id": "4a91fbe6-cbce-4e5a-8700-68f15e493664",
   "metadata": {},
   "outputs": [],
   "source": [
    "DATA_FOLDER = '../../data/'\n",
    "BEER_ADVOCATE_FOLDER = DATA_FOLDER + 'BeerAdvocate/' #BA\n",
    "RATE_BEER_FOLDER = DATA_FOLDER + 'RateBeer/' #RB\n",
    "\n",
    "BA_USERS_DATASET = BEER_ADVOCATE_FOLDER + \"users.csv\"\n",
    "BA_REVIEWS_DATASET = BEER_ADVOCATE_FOLDER + 'reviews.txt/' + \"reviews.txt\"\n",
    "\n",
    "RB_USERS_DATASET = RATE_BEER_FOLDER + \"users.csv\"\n",
    "RB_REVIEWS_DATASET = RATE_BEER_FOLDER + 'reviews.txt/' + \"ratings.txt\"\n"
   ]
  },
  {
   "cell_type": "markdown",
   "id": "f8ddce98-c248-41ac-939b-06abe442bfa8",
   "metadata": {},
   "source": [
    "## **PROCESSING users.csv**"
   ]
  },
  {
   "cell_type": "code",
   "execution_count": 3,
   "id": "57a32edd-70a9-4ef8-8d96-98d6d71baac5",
   "metadata": {},
   "outputs": [],
   "source": [
    "ba_users = pd.read_csv(BA_USERS_DATASET)\n",
    "rb_users = pd.read_csv(RB_USERS_DATASET)"
   ]
  },
  {
   "cell_type": "code",
   "execution_count": 4,
   "id": "f1008ae6-f6d7-41c6-9606-1f09b1dd9559",
   "metadata": {},
   "outputs": [],
   "source": [
    "ba_users['joined'] = pd.to_datetime(ba_users['joined'], unit='s').dt.strftime('%d/%m/%Y')\n",
    "ba_users['joined'] = pd.to_datetime(ba_users['joined'], dayfirst=True)\n",
    "ba_users['user_id'] = ba_users['user_id'].astype(str)\n",
    "\n",
    "rb_users['joined'] = pd.to_datetime(rb_users['joined'], unit='s').dt.strftime('%d/%m/%Y')\n",
    "rb_users['joined'] = pd.to_datetime(rb_users['joined'], dayfirst=True)\n",
    "rb_users['user_id'] = rb_users['user_id'].astype(str)"
   ]
  },
  {
   "cell_type": "markdown",
   "id": "a5ded355-1b05-40e4-9afd-bab060cc7ecc",
   "metadata": {},
   "source": [
    "## **PROCESSING reviews.txt**"
   ]
  },
  {
   "cell_type": "markdown",
   "id": "fcc2dea1-8f49-47cf-b299-ac9340abf96e",
   "metadata": {},
   "source": [
    "## BeerAdvocate"
   ]
  },
  {
   "cell_type": "code",
   "execution_count": 6,
   "id": "5e45c7a2-e337-4e4d-870a-fc4a0eca900d",
   "metadata": {},
   "outputs": [
    {
     "name": "stdout",
     "output_type": "stream",
     "text": [
      "Saved ../../generated/ba_chunks/ba_reviews_chunk_0.parquet\n",
      "Saved ../../generated/ba_chunks/ba_reviews_chunk_1.parquet\n",
      "Saved ../../generated/ba_chunks/ba_reviews_chunk_2.parquet\n",
      "Saving done\n"
     ]
    }
   ],
   "source": [
    "columns = ['beer_name', 'beer_id', 'brewery_name', 'brewery_id', 'style', 'abv', 'date', \n",
    "           'user_name', 'user_id', 'appearance', 'aroma', 'palate', 'taste', 'overall', \n",
    "           'rating', 'text']\n",
    "chunk_size = 1_000_000\n",
    "data = []\n",
    "entry_count = 0\n",
    "chunk_count = 0\n",
    "current_entry = {}\n",
    "\n",
    "with open(BA_REVIEWS_DATASET, 'r', encoding='utf-8') as file:\n",
    "    for line in file:\n",
    "        line = line.strip()\n",
    "        if line:\n",
    "                key, value = line.split(':', 1)\n",
    "                key = key.strip()\n",
    "                value = value.strip()\n",
    "                current_entry[key] = value\n",
    "        else:\n",
    "            if current_entry:\n",
    "                data.append(current_entry)\n",
    "                current_entry = {}\n",
    "                entry_count += 1\n",
    "\n",
    "                # Save chunk when reaching chunk size\n",
    "                if entry_count >= chunk_size:\n",
    "                    chunk_df = pd.DataFrame(data, columns=columns)\n",
    "                    chunk_file_path = f\"../../generated/ba_chunks/ba_reviews_chunk_{chunk_count}.parquet\"\n",
    "                    chunk_df.to_parquet(chunk_file_path)\n",
    "                    print(f\"Saved {chunk_file_path}\")\n",
    "                    data = []\n",
    "                    entry_count = 0\n",
    "                    chunk_count += 1\n",
    "\n",
    "# Process any remaining entries after the loop\n",
    "if data:\n",
    "    chunk_df = pd.DataFrame(data, columns=columns)\n",
    "    chunk_file_path = f\"../../generated/ba_chunks/ba_reviews_chunk_{chunk_count}.parquet\"\n",
    "    chunk_df.to_parquet(chunk_file_path)\n",
    "    print(f\"Saved {chunk_file_path}\")\n",
    "\n",
    "print('Saving done')"
   ]
  },
  {
   "cell_type": "code",
   "execution_count": 7,
   "id": "b3da552b-22e5-46bd-a529-93f986eabe09",
   "metadata": {},
   "outputs": [],
   "source": [
    "ba_chunk_files = glob.glob(\"../../generated/ba_chunks/ba_reviews_chunk_*.parquet\")\n",
    "ba_reviews = pd.concat([pd.read_parquet(ba_chunk) for ba_chunk in ba_chunk_files], ignore_index=True)\n"
   ]
  },
  {
   "cell_type": "code",
   "execution_count": 8,
   "id": "36574ca6-0b17-4a63-b7e7-595f081f9b80",
   "metadata": {},
   "outputs": [
    {
     "name": "stdout",
     "output_type": "stream",
     "text": [
      "The dataset is clean, with no missing values.\n"
     ]
    }
   ],
   "source": [
    "empty_text = ba_reviews['text'] == ''\n",
    "ba_reviews.drop(ba_reviews[empty_text].index, inplace= True)\n",
    "missing_values = np.where(pd.isnull(ba_reviews))\n",
    "if missing_values[0].size == 0:\n",
    "    print(\"The dataset is clean, with no missing values.\")\n",
    "else:\n",
    "    print(\"The dataset has missing values at:\")\n",
    "    print(\"Row indices:\", missing_values[0])\n",
    "    print(\"Column indices:\", missing_values[1])"
   ]
  },
  {
   "cell_type": "code",
   "execution_count": 9,
   "id": "9c1f87bc-6537-4440-b65a-b9f01eef859f",
   "metadata": {},
   "outputs": [],
   "source": [
    "cols_to_numeric = ['abv', 'date', 'appearance', 'aroma', 'palate', 'taste', 'overall', 'rating']\n",
    "ba_reviews[cols_to_numeric] = ba_reviews[cols_to_numeric].apply(pd.to_numeric, errors = 'coerce')\n",
    "\n",
    "cols_to_string = ['beer_id', 'brewery_id','user_id']\n",
    "for col in cols_to_string:\n",
    "    ba_reviews[col] = ba_reviews[col].astype(str)"
   ]
  },
  {
   "cell_type": "code",
   "execution_count": 10,
   "id": "a33ffba2-71da-4deb-9284-193ec7670498",
   "metadata": {},
   "outputs": [],
   "source": [
    "ba_reviews['date'] = pd.to_datetime(ba_reviews['date'], unit='s').dt.strftime('%d/%m/%Y')\n",
    "ba_reviews['date'] = pd.to_datetime(ba_reviews['date'], dayfirst=True)"
   ]
  },
  {
   "cell_type": "markdown",
   "id": "7f33bd25-684c-4b30-b7e7-48bed8b09ded",
   "metadata": {},
   "source": [
    "## RateBeer"
   ]
  },
  {
   "cell_type": "code",
   "execution_count": 11,
   "id": "36ae5787-a608-4ad7-8bf5-f5018dd78eb3",
   "metadata": {},
   "outputs": [
    {
     "name": "stdout",
     "output_type": "stream",
     "text": [
      "Saved ../../generated/rb_chunks/rb_reviews_chunk_0.parquet\n",
      "Saved ../../generated/rb_chunks/rb_reviews_chunk_1.parquet\n",
      "Saved ../../generated/rb_chunks/rb_reviews_chunk_2.parquet\n",
      "Saved ../../generated/rb_chunks/rb_reviews_chunk_3.parquet\n",
      "Saved ../../generated/rb_chunks/rb_reviews_chunk_4.parquet\n",
      "Saved ../../generated/rb_chunks/rb_reviews_chunk_5.parquet\n",
      "Saved ../../generated/rb_chunks/rb_reviews_chunk_6.parquet\n",
      "Saved ../../generated/rb_chunks/rb_reviews_chunk_7.parquet\n",
      "Saving done\n"
     ]
    }
   ],
   "source": [
    "columns = ['beer_name', 'beer_id', 'brewery_name', 'brewery_id', 'style', 'abv', 'date', \n",
    "           'user_name', 'user_id', 'appearance', 'aroma', 'palate', 'taste', 'overall', \n",
    "           'rating', 'text']\n",
    "chunk_size = 1_000_000\n",
    "data = []\n",
    "entry_count = 0\n",
    "chunk_count = 0\n",
    "current_entry = {}\n",
    "\n",
    "with open(RB_REVIEWS_DATASET, 'r', encoding='utf-8') as file:\n",
    "    for line in file:\n",
    "        line = line.strip()\n",
    "        if line:\n",
    "                key, value = line.split(':', 1)\n",
    "                key = key.strip()\n",
    "                value = value.strip()\n",
    "                current_entry[key] = value\n",
    "        else:\n",
    "            if current_entry:\n",
    "                data.append(current_entry)\n",
    "                current_entry = {}\n",
    "                entry_count += 1\n",
    "\n",
    "                # Save chunk when reaching chunk size\n",
    "                if entry_count >= chunk_size:\n",
    "                    chunk_df = pd.DataFrame(data, columns=columns)\n",
    "                    chunk_file_path = f\"../../generated/rb_chunks/rb_reviews_chunk_{chunk_count}.parquet\"\n",
    "                    chunk_df.to_parquet(chunk_file_path)\n",
    "                    print(f\"Saved {chunk_file_path}\")\n",
    "                    data = []\n",
    "                    entry_count = 0\n",
    "                    chunk_count += 1\n",
    "\n",
    "# Process any remaining entries after the loop\n",
    "if data:\n",
    "    chunk_df = pd.DataFrame(data, columns=columns)\n",
    "    chunk_file_path = f\"../../generated/rb_chunks/rb_reviews_chunk_{chunk_count}.parquet\"\n",
    "    chunk_df.to_parquet(chunk_file_path)\n",
    "    print(f\"Saved {chunk_file_path}\")\n",
    "\n",
    "print('Saving done')"
   ]
  },
  {
   "cell_type": "code",
   "execution_count": 12,
   "id": "025b2041-9cd9-4aea-befc-033b880cad34",
   "metadata": {},
   "outputs": [],
   "source": [
    "rb_chunk_files = glob.glob(\"../../generated/rb_chunks/rb_reviews_chunk_*.parquet\")\n",
    "rb_reviews = pd.concat([pd.read_parquet(rb_chunk) for rb_chunk in rb_chunk_files], ignore_index=True)\n"
   ]
  },
  {
   "cell_type": "code",
   "execution_count": 13,
   "id": "c3b6002b-76d7-4de6-b118-eee414edcaa9",
   "metadata": {},
   "outputs": [
    {
     "name": "stdout",
     "output_type": "stream",
     "text": [
      "The dataset is clean, with no missing values.\n"
     ]
    }
   ],
   "source": [
    "empty_text = rb_reviews['text'] == ''\n",
    "rb_reviews.drop(rb_reviews[empty_text].index, inplace= True)\n",
    "np.where(pd.isnull(rb_reviews))\n",
    "if missing_values[0].size == 0:\n",
    "    print(\"The dataset is clean, with no missing values.\")\n",
    "else:\n",
    "    print(\"The dataset has missing values at:\")\n",
    "    print(\"Row indices:\", missing_values[0])\n",
    "    print(\"Column indices:\", missing_values[1])\n"
   ]
  },
  {
   "cell_type": "code",
   "execution_count": 14,
   "id": "17deb03d-71bc-4498-a64d-33bc079d7f20",
   "metadata": {},
   "outputs": [],
   "source": [
    "cols_to_numeric = ['abv', 'date', 'appearance', 'aroma', 'palate', 'taste', 'overall', 'rating']\n",
    "rb_reviews[cols_to_numeric] = rb_reviews[cols_to_numeric].apply(pd.to_numeric, errors = 'coerce')\n",
    "\n",
    "cols_to_string = ['beer_id', 'brewery_id','user_id']\n",
    "for col in cols_to_string:  \n",
    "    rb_reviews[col] = rb_reviews[col].astype(str)"
   ]
  },
  {
   "cell_type": "code",
   "execution_count": 15,
   "id": "9195666a-d0fe-46e1-a5cb-19d1484cfa5f",
   "metadata": {},
   "outputs": [],
   "source": [
    "rb_reviews['date'] = pd.to_datetime(rb_reviews['date'], unit='s').dt.strftime('%d/%m/%Y')\n",
    "rb_reviews['date'] = pd.to_datetime(rb_reviews['date'], dayfirst=True)"
   ]
  },
  {
   "cell_type": "markdown",
   "id": "b077c931-bfd2-4e80-bce2-395487dd380a",
   "metadata": {},
   "source": [
    "## **SAVING PROCESSED DFs**"
   ]
  },
  {
   "cell_type": "code",
   "execution_count": 17,
   "id": "295599da-55a2-4c1c-a61e-65462fad02ce",
   "metadata": {},
   "outputs": [],
   "source": [
    "ba_users.to_csv('../../generated/new_ba_users.csv')\n",
    "ba_reviews.to_parquet('../../generated/new_ba_reviews.parquet')\n",
    "\n",
    "rb_users.to_csv('../../generated/new_rb_users.csv')\n",
    "rb_reviews.to_parquet('../../generated/new_rb_reviews.parquet')"
   ]
  },
  {
   "cell_type": "code",
   "execution_count": null,
   "id": "f0c46b5c-c54b-462e-9248-be12c39e42c7",
   "metadata": {},
   "outputs": [],
   "source": []
  }
 ],
 "metadata": {
  "kernelspec": {
   "display_name": "Python [conda env:ada] *",
   "language": "python",
   "name": "conda-env-ada-py"
  },
  "language_info": {
   "codemirror_mode": {
    "name": "ipython",
    "version": 3
   },
   "file_extension": ".py",
   "mimetype": "text/x-python",
   "name": "python",
   "nbconvert_exporter": "python",
   "pygments_lexer": "ipython3",
   "version": "3.11.9"
  }
 },
 "nbformat": 4,
 "nbformat_minor": 5
}
