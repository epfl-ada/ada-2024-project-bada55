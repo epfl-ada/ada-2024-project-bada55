{
 "cells": [
  {
   "cell_type": "markdown",
   "id": "f19b5a00-d181-426d-baa8-0591c6ed4df7",
   "metadata": {},
   "source": [
    "# NOTEBOOK TO PREPROCESS THE DATA (then used for the project accomplishment)"
   ]
  },
  {
   "cell_type": "markdown",
   "id": "6b13364f-5128-4ceb-83b9-3a6fba19cb48",
   "metadata": {},
   "source": [
    "## **INFORMATIONS ON THE CSVs**"
   ]
  },
  {
   "cell_type": "markdown",
   "id": "2bb650e4-cb35-4227-a3cd-6851911d1af3",
   "metadata": {},
   "source": [
    "*Data*: BeerAdvocate / RateBeer / matched_beer_data\n",
    "\n",
    "*Difference ratings-reviews*: **reviews.txt** appears to be a subset of **ratings.txt** because the latter also has the review column (True or False) and **reviews.txt** is the set of all ratings that are True.\n",
    "\n",
    "*Code to print .txt*: \n",
    "* \"\"\"with open(BA_REVIEWS_DATASET, 'r', encoding='utf-8') as file:\n",
    "    for _ in range(16):\n",
    "        print(file.readline())\"\"\"\n",
    "* \"\"\"with open(BA_RATINGS_DATASET, 'r', encoding='utf-8') as file:\n",
    "    for _ in range(17):\n",
    "        print(file.readline())\"\"\"\n",
    "* !head Data/BeerAdvocate/ratings.txt/ratings.txt\n",
    "* \"\"\"from collections import deque\n",
    "n_last_lines = 10\n",
    "with open(BA_REVIEWS_DATASET, 'r', encoding='utf-8') as file:\n",
    "    last_lines = deque(file, maxlen=n_last_lines)\n",
    "for line in last_lines:\n",
    "    print(line.strip())\"\"\""
   ]
  },
  {
   "cell_type": "markdown",
   "id": "aad28347-8110-48fd-be40-eaa21f3a1e0d",
   "metadata": {
    "jp-MarkdownHeadingCollapsed": true
   },
   "source": [
    "### BeerAdvocate"
   ]
  },
  {
   "cell_type": "markdown",
   "id": "994460dd-1ff9-49ef-827b-f9878e840375",
   "metadata": {},
   "source": [
    "**beers.csv**\n",
    "* beer_id\n",
    "* beer_name\n",
    "* brewery_id\n",
    "* brewery_name\n",
    "* style\n",
    "* nbr_ratings\n",
    "* nbr_reviews\n",
    "* avg\n",
    "* ba_score\n",
    "* bros_score\n",
    "* abv\n",
    "* avg_computed\n",
    "* zscore\n",
    "* nbr_matched_valid_ratings\n",
    "* avg_matched_valid_ratings\n",
    "\n",
    "**breweries.csv**\n",
    "* id,\n",
    "* location\n",
    "* name\n",
    "* nbr_beers\n",
    "\n",
    "**users.csv**\n",
    "* nbr_ratings\n",
    "* nbr_reviews\n",
    "* user_id\n",
    "* user_name\n",
    "* joined\n",
    "* location\n",
    "\n",
    "**ratings.txt** (line format i.e. Header=None)\n",
    "* beer_name\n",
    "* beer_id\n",
    "* brewery_name\n",
    "* brewery_id\n",
    "* style\n",
    "* abv\n",
    "* date\n",
    "* user_name\n",
    "* user_id\n",
    "* appearance\n",
    "* aroma\n",
    "* palate\n",
    "* taste\n",
    "* overall\n",
    "* rating\n",
    "* text\n",
    "* review: *True or False*\n",
    "\n",
    "**reviews.txt** (line format i.e. Header=None, subset of **ratings.txt**)\n",
    "* beer_name\n",
    "* beer_id\n",
    "* brewery_name\n",
    "* brewery_id\n",
    "* style\n",
    "* abv\n",
    "* date\n",
    "* user_name\n",
    "* user_id\n",
    "* appearance : *up to 5*\n",
    "* aroma : *up to 5*\n",
    "* palate : *up to 5*\n",
    "* taste : *up to 5*\n",
    "* overall : *up to 5*\n",
    "* rating : *up to 5, unkown formula but different weights for each parameter*\n",
    "* text\n",
    "\n",
    "----------------------------------------------------------------------------------------------------"
   ]
  },
  {
   "cell_type": "markdown",
   "id": "0e033d0c-f20c-44b8-bff0-1af5be077643",
   "metadata": {
    "jp-MarkdownHeadingCollapsed": true
   },
   "source": [
    "### RateBeer"
   ]
  },
  {
   "cell_type": "markdown",
   "id": "2559dc1b-7f7a-4020-808a-a2d7447455ae",
   "metadata": {},
   "source": [
    "**beers.csv**\n",
    "* beer_id\n",
    "* beer_name\n",
    "* brewery_id\n",
    "* brewery_name\n",
    "* style\n",
    "* nbr_ratings\n",
    "* overall_score\n",
    "* style_score\n",
    "* avg\n",
    "* abv\n",
    "* avg_computed\n",
    "* zscore\n",
    "* nbr_matched_valid_ratings\n",
    "* avg_matched_valid_ratings\n",
    "\n",
    "**breweries.csv**\n",
    "* id\n",
    "* location\n",
    "* name\n",
    "* nbr_beers\n",
    "\n",
    "**users.csv**\n",
    "* nbr_ratings\n",
    "* user_id\n",
    "* user_name\n",
    "* joined\n",
    "* location\n",
    "\n",
    "**ratings.txt = reviews.txt** (line format i.e. Header=None)\n",
    "* beer_name\n",
    "* beer_id\n",
    "* brewery_name\n",
    "* brewery_id\n",
    "* style\n",
    "* abv\n",
    "* date\n",
    "* user_name\n",
    "* user_id\n",
    "* appearance : *up to 5*\n",
    "* aroma : *up to 10*\n",
    "* palate (=mouthfeel) : *up to 5*\n",
    "* taste : *up to 10*\n",
    "* overall : *up to 20*\n",
    "* rating : *up to 50 (sum of all previous) then divided by 10 --> up to 5*\n",
    "* text\n",
    "\n",
    "----------------------------------------------------------------------------------------------------"
   ]
  },
  {
   "cell_type": "markdown",
   "id": "4a7d031d-d98b-4aed-9785-0cce90e4a6d7",
   "metadata": {
    "jp-MarkdownHeadingCollapsed": true
   },
   "source": [
    "### matched_beer_data"
   ]
  },
  {
   "cell_type": "markdown",
   "id": "c3b8aeb9-927d-4238-867e-e59ac70f1b01",
   "metadata": {
    "jp-MarkdownHeadingCollapsed": true
   },
   "source": [
    "**beers.csv**\n",
    "#### ba:\n",
    "* abv\n",
    "* avg\n",
    "* avg_computed\n",
    "* avg_matched_valid_ratings\n",
    "* ba_score\n",
    "* beer_id\n",
    "* beer_name\n",
    "* beer_wout_brewery_name\n",
    "* brewery_id\n",
    "* brewery_name\n",
    "* bros_score\n",
    "* nbr_matched_valid_ratings\n",
    "* nbr_ratings\n",
    "* nbr_reviews\n",
    "* style\n",
    "* zscore\n",
    "#### rb:\n",
    "* abv\n",
    "* avg\n",
    "* avg_computed\n",
    "* avg_matched_valid_ratings\n",
    "* beer_id\n",
    "* beer_name\n",
    "* beer_wout_brewery_name\n",
    "* brewery_id\n",
    "* brewery_name\n",
    "* nbr_matched_valid_ratings\n",
    "* nbr_ratings\n",
    "* overall_score\n",
    "* style\n",
    "* style_score\n",
    "* zscore\n",
    "#### scores:\n",
    "* diff\n",
    "* sim\n",
    "\n",
    "**breweries.csv**\n",
    "#### ba:\n",
    "* id\n",
    "* location\n",
    "* name\n",
    "* nbr_beers\n",
    "#### rb:\n",
    "* id\n",
    "* location\n",
    "* name\n",
    "* nbr_beers\n",
    "#### scores:\n",
    "* diff\n",
    "* sim\n",
    "\n",
    "**ratings.csv**\n",
    "#### ba:\n",
    "* abv\n",
    "* appearance\n",
    "* aroma\n",
    "* beer_id\n",
    "* beer_name\n",
    "* brewery_id\n",
    "* brewery_name\n",
    "* date\n",
    "* overall\n",
    "* palate\n",
    "* rating\n",
    "* review\n",
    "* style\n",
    "* taste\n",
    "* text\n",
    "* user_id\n",
    "* user_name\n",
    "#### rb:\n",
    "* abv\n",
    "* appearance\n",
    "* aroma\n",
    "* beer_id\n",
    "* beer_name\n",
    "* brewery_id\n",
    "* brewery_name\n",
    "* date\n",
    "* overall\n",
    "* palate\n",
    "* rating\n",
    "* style\n",
    "* taste\n",
    "* text\n",
    "* user_id\n",
    "* user_name\n",
    "\n",
    "\n",
    "**users_approx.csv**\n",
    "#### ba:\n",
    "* joined\n",
    "* location\n",
    "* nbr_ratings\n",
    "* nbr_reviews\n",
    "* user_id\n",
    "* user_name\n",
    "* user_name_lower\n",
    "#### rb:\n",
    "* joined\n",
    "* location\n",
    "* nbr_ratings\n",
    "* user_id\n",
    "* user_name\n",
    "* user_name_lower\n",
    "#### scores:\n",
    "* sim\n",
    "\n",
    "**users.csv** (is a subset of **users_approx** --> it is composed of users from **users_approx** where `sim` closed to 1)\n",
    "#### ba:\n",
    "* joined\n",
    "* location\n",
    "* nbr_ratings\n",
    "* nbr_reviews\n",
    "* user_id\n",
    "* user_name\n",
    "* user_name_lower\n",
    "#### rb:\n",
    "* joined\n",
    "* location\n",
    "* nbr_ratings\n",
    "* user_id\n",
    "* user_name\n",
    "* user_name_lower\n",
    "\n",
    "----------------------------------------------------------------------------------------------------"
   ]
  },
  {
   "cell_type": "markdown",
   "id": "626c65d4-a866-4f6c-8d4d-c9cbf1f37c64",
   "metadata": {},
   "source": [
    "## **LOADING DATAs**"
   ]
  },
  {
   "cell_type": "code",
   "execution_count": 1,
   "id": "3a3e5a76-1c9a-43cc-8ecd-b4f088268654",
   "metadata": {},
   "outputs": [],
   "source": [
    "import pandas as pd\n",
    "import numpy as np\n",
    "import matplotlib.pyplot as plt\n",
    "import seaborn as sns\n",
    "import glob"
   ]
  },
  {
   "cell_type": "code",
   "execution_count": 2,
   "id": "4a91fbe6-cbce-4e5a-8700-68f15e493664",
   "metadata": {},
   "outputs": [],
   "source": [
    "DATA_FOLDER = '../../data/'\n",
    "BEER_ADVOCATE_FOLDER = DATA_FOLDER + 'BeerAdvocate/' #BA\n",
    "RATE_BEER_FOLDER = DATA_FOLDER + 'RateBeer/' #RB\n",
    "MATCHED_BEER_FOLDER = DATA_FOLDER + 'matched_beer_data/' #MB\n",
    "\n",
    "BA_BEERS_DATASET = BEER_ADVOCATE_FOLDER + \"beers.csv\"\n",
    "BA_BREWERIES_DATASET = BEER_ADVOCATE_FOLDER + \"breweries.csv\"\n",
    "BA_USERS_DATASET = BEER_ADVOCATE_FOLDER + \"users.csv\"\n",
    "BA_RATINGS_DATASET = BEER_ADVOCATE_FOLDER + 'ratings.txt/' + \"ratings.txt\"\n",
    "BA_REVIEWS_DATASET = BEER_ADVOCATE_FOLDER + 'reviews.txt/' + \"reviews.txt\"\n",
    "\n",
    "RB_BEERS_DATASET = RATE_BEER_FOLDER + \"beers.csv\"\n",
    "RB_BREWERIES_DATASET = RATE_BEER_FOLDER + \"breweries.csv\"\n",
    "RB_USERS_DATASET = RATE_BEER_FOLDER + \"users.csv\"\n",
    "RB_RATINGS_DATASET = RATE_BEER_FOLDER + 'ratings.txt/' + \"ratings.txt\"\n",
    "RB_REVIEWS_DATASET = RATE_BEER_FOLDER + 'reviews.txt/' + \"reviews.txt\"\n",
    "\n",
    "MB_BEERS_DATASET = MATCHED_BEER_FOLDER + \"beers.csv\"\n",
    "MB_BREWERIES_DATASET = MATCHED_BEER_FOLDER + \"breweries.csv\"\n",
    "MB_USERS_DATASET = MATCHED_BEER_FOLDER + \"users.csv\"\n",
    "MB_USERS_APPROX_DATASET = MATCHED_BEER_FOLDER + \"users_approx.csv\"\n",
    "MB_RATINGS_DATASET = MATCHED_BEER_FOLDER + \"ratings.csv\""
   ]
  },
  {
   "cell_type": "code",
   "execution_count": 3,
   "id": "57a32edd-70a9-4ef8-8d96-98d6d71baac5",
   "metadata": {},
   "outputs": [],
   "source": [
    "ba_beers = pd.read_csv(BA_BEERS_DATASET)\n",
    "ba_breweries = pd.read_csv(BA_BREWERIES_DATASET)\n",
    "ba_users = pd.read_csv(BA_USERS_DATASET)\n",
    "\n",
    "rb_beers = pd.read_csv(RB_BEERS_DATASET)\n",
    "rb_breweries = pd.read_csv(RB_BREWERIES_DATASET)\n",
    "rb_users = pd.read_csv(RB_USERS_DATASET)\n",
    "\n",
    "# mb_beers = pd.read_csv(MB_BEERS_DATASET, skiprows= 1)\n",
    "# mb_breweries = pd.read_csv(MB_BREWERIES_DATASET, skiprows= 1)\n",
    "# mb_users = pd.read_csv(MB_USERS_DATASET, skiprows= 1)\n",
    "# mb_users_approx = pd.read_csv(MB_USERS_APPROX_DATASET, skiprows= 1)\n",
    "# mb_ratings = pd.read_csv(MB_RATINGS_DATASET, skiprows= 1)"
   ]
  },
  {
   "cell_type": "markdown",
   "id": "78f31fc6-5554-4917-a4ba-1233e81d8ccf",
   "metadata": {},
   "source": [
    "## **CONTINENT & BEER STYLE CATEGORIZATION (function, list)**"
   ]
  },
  {
   "cell_type": "code",
   "execution_count": 4,
   "id": "b9d62792-fa15-42d7-88f0-0ff11fab1d03",
   "metadata": {},
   "outputs": [],
   "source": [
    "def name_to_country(name: str) -> str:\n",
    "    '''\n",
    "    Determines the country associated with a given name string\n",
    "    based on specific formatting rules.\n",
    "    :param name: str, a string representing a geographical or generic name.\n",
    "    :return: str, the formatted country name or the original input.\n",
    "    '''\n",
    "    if len(name) >= 13:\n",
    "        if name.split('<')[0] in ['United States', 'Utah', 'New York', 'Illinois']:\n",
    "            return 'United States'\n",
    "        if name.split(',')[0] in ['United States']:\n",
    "            return 'United States'\n",
    "    return name"
   ]
  },
  {
   "cell_type": "code",
   "execution_count": 5,
   "id": "2565a1a8-8588-4d5b-bfed-3f4a3c30dd61",
   "metadata": {},
   "outputs": [],
   "source": [
    "country_continent_map = {\n",
    "    'Kyrgyzstan': 'Asia', 'Gabon': 'Africa', 'Northern Ireland': 'Europe',\n",
    "    'Wales': 'Europe', 'Scotland': 'Europe', 'England': 'Europe',\n",
    "    'Singapore': 'Asia', 'China': 'Asia', 'Chad': 'Africa', \n",
    "    'Saint Lucia': 'North America', 'Cameroon': 'Africa',\n",
    "    'Burkina Faso': 'Africa', 'Zambia': 'Africa', 'Romania': 'Europe',\n",
    "    'Nigeria': 'Africa', 'South Korea': 'Asia', 'Georgia': 'Asia',\n",
    "    'Hong Kong': 'Asia', 'Guinea': 'Africa', 'Montenegro': 'Europe',\n",
    "    'Benin': 'Africa', 'Mexico': 'North America', 'Fiji Islands': 'Oceania',\n",
    "    'Guam': 'Oceania', 'Laos': 'Asia', 'Senegal': 'Africa',\n",
    "    'Honduras': 'North America', 'Morocco': 'Africa', 'Indonesia': 'Asia',\n",
    "    'Monaco': 'Europe', 'Ukraine': 'Europe', 'Canada': 'North America',\n",
    "    'Jordan': 'Asia', 'Portugal': 'Europe', 'Guernsey': 'Europe',\n",
    "    'India': 'Asia', 'Puerto Rico': 'North America', 'Japan': 'Asia',\n",
    "    'Iran': 'Asia', 'Hungary': 'Europe', 'Bulgaria': 'Europe',\n",
    "    'Guinea-Bissau': 'Africa', 'Liberia': 'Africa', 'Togo': 'Africa',\n",
    "    'Niger': 'Africa', 'Croatia': 'Europe', 'Lithuania': 'Europe',\n",
    "    'Cyprus': 'Asia', 'Italy': 'Europe', 'Andorra': 'Europe',\n",
    "    'Botswana': 'Africa', 'Turks and Caicos Islands': 'North America',\n",
    "    'Papua New Guinea': 'Oceania', 'Mongolia': 'Asia', 'Ethiopia': 'Africa',\n",
    "    'Denmark': 'Europe', 'French Polynesia': 'Oceania', 'Greece': 'Europe',\n",
    "    'Sri Lanka': 'Asia', 'Syria': 'Asia', 'Germany': 'Europe', 'Jersey': 'Europe',\n",
    "    'Armenia': 'Asia', 'Mozambique': 'Africa', 'Palestine': 'Asia',\n",
    "    'Bangladesh': 'Asia', 'Turkmenistan': 'Asia', 'Reunion': 'Africa',\n",
    "    'Eritrea': 'Africa', 'Switzerland': 'Europe', 'Malta': 'Europe',\n",
    "    'Israel': 'Asia', 'El Salvador': 'North America', 'French Guiana': 'South America',\n",
    "    'Tonga': 'Oceania', 'Zimbabwe': 'Africa', 'Samoa': 'Oceania', 'Barbados': 'North America',\n",
    "    'Chile': 'South America', 'Cambodia': 'Asia', 'Cook Islands': 'Oceania',\n",
    "    'Trinidad & Tobago': 'North America', 'Bhutan': 'Asia', 'Uzbekistan': 'Asia',\n",
    "    'Egypt': 'Africa', 'Uruguay': 'South America', 'Dominican Republic': 'North America',\n",
    "    'Equatorial Guinea': 'Africa', 'Russia': 'Europe', 'Tajikistan': 'Asia',\n",
    "    'Vietnam': 'Asia', 'Palau': 'Oceania', 'Namibia': 'Africa',\n",
    "    'Cayman Islands': 'North America', 'Sao Tome and Principe': 'Africa', 'Australia': 'Oceania',\n",
    "    'Martinique': 'North America', 'Virgin Islands (British)': 'North America',\n",
    "    'Ecuador': 'South America', 'Vanuatu': 'Oceania', 'Congo': 'Africa',\n",
    "    'Uganda': 'Africa', 'Mauritius': 'Africa', 'Azerbaijan': 'Asia',\n",
    "    'Argentina': 'South America', 'Tunisia': 'Africa', 'Belize': 'North America',\n",
    "    'Luxembourg': 'Europe', 'Madagascar': 'Africa', 'Aruba': 'North America',\n",
    "    'Spain': 'Europe', 'Swaziland': 'Africa', 'South Sudan': 'Africa',\n",
    "    'Belarus': 'Europe', 'Ivory Coast': 'Africa', 'Austria': 'Europe',\n",
    "    'Bolivia': 'South America', 'Central African Republic': 'Africa',\n",
    "    'Mali': 'Africa', 'Suriname': 'South America', 'Solomon Islands': 'Oceania',\n",
    "    'Rwanda': 'Africa', 'Brazil': 'South America', 'Gibraltar': 'Europe',\n",
    "    'Taiwan': 'Asia', 'Turkey': 'Asia', 'Greenland': 'North America',\n",
    "    'Moldova': 'Europe', 'Haiti': 'North America', 'Guadeloupe': 'North America',\n",
    "    'South Africa': 'Africa', 'Lesotho': 'Africa', 'Czech Republic': 'Europe',\n",
    "    'Micronesia': 'Oceania', 'Paraguay': 'South America', 'Iraq': 'Asia',\n",
    "    'Faroe Islands': 'Europe', 'Panama': 'North America', 'Netherlands': 'Europe',\n",
    "    'Peru': 'South America', 'New Zealand': 'Oceania', 'Ghana': 'Africa',\n",
    "    'Slovenia': 'Europe', 'Serbia': 'Europe', 'Macedonia': 'Europe',\n",
    "    'Latvia': 'Europe', 'Guatemala': 'North America', 'Cuba': 'North America',\n",
    "    'Venezuela': 'South America', 'Angola': 'Africa', 'Finland': 'Europe',\n",
    "    'Nicaragua': 'North America', 'Sweden': 'Europe', 'Seychelles': 'Africa',\n",
    "    'Poland': 'Europe', 'Cape Verde Islands': 'Africa', 'Libya': 'Africa',\n",
    "    'Isle of Man': 'Europe', 'Ireland': 'Europe', 'Myanmar': 'Asia',\n",
    "    'Algeria': 'Africa', 'Kazakhstan': 'Asia', 'Norway': 'Europe',\n",
    "    'United States': 'North America', 'Costa Rica': 'North America',\n",
    "    'North Korea': 'Asia', 'Bosnia and Herzegovina': 'Europe', 'Jamaica': 'North America',\n",
    "    'Lebanon': 'Asia', 'Dominica': 'North America', 'Virgin Islands (U.S.)': 'North America',\n",
    "    'Colombia': 'South America', 'Iceland': 'Europe', 'Macau': 'Asia',\n",
    "    'Grenada': 'North America', 'Malaysia': 'Asia', 'Belgium': 'Europe',\n",
    "    'Saint Vincent and The Grenadines': 'North America', 'Bahamas': 'North America',\n",
    "    'Philippines': 'Asia', 'Curaçao': 'North America', 'San Marino': 'Europe',\n",
    "    'France': 'Europe', 'Bermuda': 'North America', 'Mayotte': 'Africa',\n",
    "    'Antigua & Barbuda': 'North America', 'Estonia': 'Europe', 'Gambia': 'Africa',\n",
    "    'Pakistan': 'Asia', 'New Caledonia': 'Oceania', 'Slovak Republic': 'Europe',\n",
    "    'Liechtenstein': 'Europe', 'Tanzania': 'Africa', 'Malawi': 'Africa',\n",
    "    'Nepal': 'Asia', 'United Arab Emirates': 'Asia', 'Kenya': 'Africa',\n",
    "    'Thailand': 'Asia', 'Albania': 'Europe', 'Canada, Ontario': 'North America',\n",
    "    'United Kingdom, England': 'Europe', 'Canada, Manitoba': 'North America',\n",
    "    'Canada, Nova Scotia': 'North America', 'Canada, Quebec': 'North America',\n",
    "    'Canada, Newfoundland and Labrador': 'North America', 'Canada, Alberta': 'North America',\n",
    "    'Canada, British Columbia': 'North America', 'Canada, Saskatchewan': 'North America',\n",
    "    'UNKNOWN': 'Unknown', 'Canada, New Brunswick': 'North America',\n",
    "    'United Kingdom, Wales': 'Europe', 'United Kingdom, Scotland': 'Europe'\n",
    "}"
   ]
  },
  {
   "cell_type": "code",
   "execution_count": 6,
   "id": "937bf64f-e1f7-4ed0-9445-0ced4314124e",
   "metadata": {},
   "outputs": [],
   "source": [
    "style_classification = {\n",
    "    \"Lager\": [\"lager\"],\n",
    "    \"Ale\": [\"ale\"],\n",
    "    \"IPA\": [\"ipa\"],\n",
    "    \"Stout/Porter\": [\"stout\", \"porter\"],\n",
    "    \"Wheat/Sour\": [\"wheat\", \"sour\"],\n",
    "    \"Bitter\": [\"bitter\"],\n",
    "    \"Saké\": [\"saké\"],\n",
    "}"
   ]
  },
  {
   "cell_type": "code",
   "execution_count": 7,
   "id": "7acca2c3-8a98-40e4-8863-d3f2ba949713",
   "metadata": {},
   "outputs": [],
   "source": [
    "def style_to_type(style: str) -> str:\n",
    "    '''\n",
    "    Classifies a given beer style into a broader type \n",
    "    based on predefined keywords.\n",
    "    :param style: str, a string representing a beer style.\n",
    "    :return: str, the broader beer type or \"Other\" if no match is found.\n",
    "    '''\n",
    "    for k, v in style_classification.items():\n",
    "        for keyword in v:\n",
    "            if keyword in style.lower():\n",
    "                return k\n",
    "    return \"Other\""
   ]
  },
  {
   "cell_type": "markdown",
   "id": "73f42529-7cc8-476d-85cd-6eb2badb3498",
   "metadata": {},
   "source": [
    "## **PROCESSING BEERADVOCATE**"
   ]
  },
  {
   "cell_type": "markdown",
   "id": "9c33e32b-4637-4f16-b5f7-556383773ac9",
   "metadata": {},
   "source": [
    "### breweries.csv"
   ]
  },
  {
   "cell_type": "markdown",
   "id": "d29b1626-ca30-421d-9881-7d9095977121",
   "metadata": {},
   "source": [
    "Continent categorization (+2 col: country & continent)"
   ]
  },
  {
   "cell_type": "code",
   "execution_count": 8,
   "id": "1b19dcbd-e7e3-4ef4-a304-938ab17f5bf8",
   "metadata": {},
   "outputs": [],
   "source": [
    "ba_breweries['country'] = ba_breweries['location'].apply(lambda name : name_to_country(name))\n",
    "ba_breweries['continent'] = ba_breweries['country'].apply(lambda country : country_continent_map.get(country, 'Unknown'))"
   ]
  },
  {
   "cell_type": "markdown",
   "id": "208bc5df-1614-4a40-95c3-0453786bd140",
   "metadata": {},
   "source": [
    "### beers.csv"
   ]
  },
  {
   "cell_type": "markdown",
   "id": "6936b90f-f923-4c16-b979-ca6b921e1bc2",
   "metadata": {},
   "source": [
    "Continent & beer type categorization (+2 col: continent & style)"
   ]
  },
  {
   "cell_type": "code",
   "execution_count": 9,
   "id": "18a47ee9-c70f-4afa-8c7a-bb3f92a454c7",
   "metadata": {},
   "outputs": [],
   "source": [
    "ba_dict_id_br_concat = dict(zip(ba_breweries['id'], ba_breweries['continent']))\n",
    "ba_beers['continent'] = ba_beers['brewery_id'].apply(lambda id_: ba_dict_id_br_concat.get(id_))\n",
    "ba_beers['type'] = ba_beers['style'].apply(style_to_type)"
   ]
  },
  {
   "cell_type": "markdown",
   "id": "a2cbb10f-65db-47f8-91d0-247c82cbbda1",
   "metadata": {},
   "source": [
    "### users.csv"
   ]
  },
  {
   "cell_type": "markdown",
   "id": "c342c107-4576-4254-b9ce-6e278b46f527",
   "metadata": {},
   "source": [
    "\n",
    "Continent categorization (+2 col: country & continent)"
   ]
  },
  {
   "cell_type": "code",
   "execution_count": 10,
   "id": "fc056391-9606-46c3-9317-3a9956a43abc",
   "metadata": {},
   "outputs": [],
   "source": [
    "ba_users['location'] = ba_users['location'].astype(str)\n",
    "ba_users['country'] = ba_users['location'].apply(lambda name : name_to_country(name))\n",
    "ba_users['continent'] = ba_users['country'].apply(lambda country : country_continent_map.get(country, 'Unknown'))"
   ]
  },
  {
   "cell_type": "markdown",
   "id": "46ec349a-7d89-4735-a5fa-39d9e6129e9b",
   "metadata": {},
   "source": [
    "Conversion for the date"
   ]
  },
  {
   "cell_type": "code",
   "execution_count": 11,
   "id": "414fc5a8-1892-42a2-9091-9edef552ea02",
   "metadata": {},
   "outputs": [],
   "source": [
    "ba_users['joined'] = pd.to_datetime(ba_users['joined'], unit='s').dt.strftime('%d/%m/%Y')"
   ]
  },
  {
   "cell_type": "markdown",
   "id": "5a457d05-0d26-4191-9944-bff108cf335f",
   "metadata": {},
   "source": [
    "### ratings.csv / reviews.csv"
   ]
  },
  {
   "cell_type": "markdown",
   "id": "71a7544f-45f2-420e-bb27-94f2034f691b",
   "metadata": {},
   "source": [
    "ratings.txt != reviews.txt\n",
    "\n",
    "ratings :\n",
    "[151 074 576 lines i.e. 151 074 576/18 = 8 393 032 reviews]\n",
    "\n",
    "reviews :\n",
    "[4 4022 962 lines i.e. 44 022 962/17 = 2 589 586 reviews]\n",
    "\n",
    "----------------------------------------------------------------------------------------------------"
   ]
  },
  {
   "cell_type": "markdown",
   "id": "87b8f76f-0cb6-49f6-9b83-f574e37a7c39",
   "metadata": {},
   "source": [
    "Treatment of .txt to df"
   ]
  },
  {
   "cell_type": "code",
   "execution_count": 12,
   "id": "58fe8df7-8216-4344-b20a-8555be4ea3c5",
   "metadata": {},
   "outputs": [
    {
     "name": "stdout",
     "output_type": "stream",
     "text": [
      "Saved ../../generated/ba_chunks/ba_reviews_chunk_0.parquet\n",
      "Saved ../../generated/ba_chunks/ba_reviews_chunk_1.parquet\n",
      "Saved ../../generated/ba_chunks/ba_reviews_chunk_2.parquet\n"
     ]
    }
   ],
   "source": [
    "columns = ['beer_name', 'beer_id', 'brewery_name', 'brewery_id', 'style', 'abv', 'date', \n",
    "           'user_name', 'user_id', 'appearance', 'aroma', 'palate', 'taste', 'overall', \n",
    "           'rating']\n",
    "chunk_size = 1_000_000\n",
    "data = []\n",
    "entry_count = 0\n",
    "chunk_count = 0\n",
    "current_entry = {}\n",
    "\n",
    "with open(BA_REVIEWS_DATASET, 'r', encoding='utf-8') as file:\n",
    "    for line in file:\n",
    "        line = line.strip()\n",
    "        if line:\n",
    "            if line.startswith('text:'):\n",
    "                continue\n",
    "            if ':' in line:\n",
    "                key, value = line.split(':', 1)\n",
    "                key = key.strip()\n",
    "                value = value.strip()\n",
    "                current_entry[key] = value\n",
    "        else:\n",
    "            if current_entry:\n",
    "                data.append(current_entry)\n",
    "                current_entry = {}\n",
    "                entry_count += 1\n",
    "\n",
    "                # Save chunk when reaching chunk size\n",
    "                if entry_count >= chunk_size:\n",
    "                    chunk_df = pd.DataFrame(data, columns=columns)\n",
    "                    chunk_file_path = f\"../../generated/ba_chunks/ba_reviews_chunk_{chunk_count}.parquet\"\n",
    "                    chunk_df.to_parquet(chunk_file_path)\n",
    "                    print(f\"Saved {chunk_file_path}\")\n",
    "                    data = []\n",
    "                    entry_count = 0\n",
    "                    chunk_count += 1\n",
    "                    \n",
    "# Process any remaining entries after the loop\n",
    "if data:\n",
    "    chunk_df = pd.DataFrame(data, columns=columns)\n",
    "    chunk_file_path = f\"../../generated/ba_chunks/ba_reviews_chunk_{chunk_count}.parquet\"\n",
    "    chunk_df.to_parquet(chunk_file_path)\n",
    "    print(f\"Saved {chunk_file_path}\")"
   ]
  },
  {
   "cell_type": "code",
   "execution_count": 13,
   "id": "07090ed4-d058-44e5-83f7-1c0297446f8a",
   "metadata": {},
   "outputs": [],
   "source": [
    "ba_chunk_files = glob.glob(\"../../generated/ba_chunks/ba_reviews_chunk_*.parquet\")\n",
    "ba_reviews = pd.concat([pd.read_parquet(ba_chunk) for ba_chunk in ba_chunk_files], ignore_index=True)"
   ]
  },
  {
   "cell_type": "code",
   "execution_count": 14,
   "id": "67dd5ace-14aa-49e0-ab5c-4cc7f5f1fbfe",
   "metadata": {},
   "outputs": [],
   "source": [
    "cols_to_numeric = ['beer_id', 'brewery_id', 'abv', 'date', 'appearance', 'aroma', 'palate', 'taste', 'overall', 'rating']\n",
    "ba_reviews[cols_to_numeric] = ba_reviews[cols_to_numeric].apply(pd.to_numeric, errors = 'coerce')\n",
    "ba_reviews['date'] = pd.to_datetime(ba_reviews['date'], unit='s').dt.strftime('%d/%m/%Y')\n",
    "ba_reviews['continent'] = ba_reviews['brewery_id'].apply(lambda id_: ba_dict_id_br_concat.get(int(id_)))\n",
    "ba_reviews['type'] = ba_reviews['style'].apply(style_to_type)"
   ]
  },
  {
   "cell_type": "markdown",
   "id": "f2ca7c3e-4498-46fd-b930-f3db4842dbef",
   "metadata": {},
   "source": [
    "## **PROCESSING RATEBEER**"
   ]
  },
  {
   "cell_type": "markdown",
   "id": "923315a2-ec29-4e85-b57b-e74f15b156ca",
   "metadata": {},
   "source": [
    "### breweries.csv"
   ]
  },
  {
   "cell_type": "markdown",
   "id": "aa184d77-e29e-475c-b3b8-f2f01cfee2a1",
   "metadata": {},
   "source": [
    "Continent categorization (+2 col: country & continent)"
   ]
  },
  {
   "cell_type": "code",
   "execution_count": 15,
   "id": "3ad2569e-0184-4683-96c3-5754021dc194",
   "metadata": {},
   "outputs": [],
   "source": [
    "rb_breweries['country'] = rb_breweries['location'].apply(lambda name : name_to_country(name))\n",
    "rb_breweries['continent'] = rb_breweries['country'].apply(lambda country : country_continent_map.get(country, 'Unknown'))"
   ]
  },
  {
   "cell_type": "markdown",
   "id": "14c155ca-0a46-4fac-882b-0311a13e38a0",
   "metadata": {},
   "source": [
    "### beers.csv"
   ]
  },
  {
   "cell_type": "markdown",
   "id": "35dee4d9-8fc7-4329-bd41-e1c75b10911b",
   "metadata": {},
   "source": [
    "Continent & beer type categorization (+2 col: continent & style)"
   ]
  },
  {
   "cell_type": "code",
   "execution_count": 16,
   "id": "4332ac3b-1c97-4c83-bb92-8b0c8af803d0",
   "metadata": {},
   "outputs": [],
   "source": [
    "rb_dict_id_br_concat = dict(zip(rb_breweries['id'], rb_breweries['continent']))\n",
    "rb_beers['continent'] = rb_beers['brewery_id'].apply(lambda id_: rb_dict_id_br_concat.get(id_))\n",
    "rb_beers['type'] = rb_beers['style'].apply(lambda style: style_to_type)"
   ]
  },
  {
   "cell_type": "markdown",
   "id": "cc10b3fd-5627-40bb-b644-fd7eac2b2d7e",
   "metadata": {},
   "source": [
    "### users.csv"
   ]
  },
  {
   "cell_type": "markdown",
   "id": "898b7734-e073-4c46-a162-9ce8499b2adb",
   "metadata": {},
   "source": [
    "Continent categorization (+2 col: country & continent)"
   ]
  },
  {
   "cell_type": "code",
   "execution_count": 17,
   "id": "da5903a2-339a-47fa-99ba-0aa3fe9b71c9",
   "metadata": {},
   "outputs": [],
   "source": [
    "rb_users['location'] = rb_users['location'].astype(str)\n",
    "rb_users['country'] = rb_users['location'].apply(lambda name : name_to_country(name))\n",
    "rb_users['continent'] = rb_users['country'].apply(lambda country : country_continent_map.get(country, 'Unknown'))"
   ]
  },
  {
   "cell_type": "markdown",
   "id": "63625e0c-c707-4b5d-b9fe-a9ed9683861a",
   "metadata": {},
   "source": [
    "Conversion for the date"
   ]
  },
  {
   "cell_type": "code",
   "execution_count": 18,
   "id": "a5287721-e8f9-4dfd-917b-1d579e3af3f7",
   "metadata": {},
   "outputs": [],
   "source": [
    "rb_users['joined'] = pd.to_datetime(rb_users['joined'], unit='s').dt.strftime('%d/%m/%Y')"
   ]
  },
  {
   "cell_type": "markdown",
   "id": "f549f982-d1be-4d9e-89a9-434ef25cff0c",
   "metadata": {},
   "source": [
    "### ratings.csv / reviews.csv"
   ]
  },
  {
   "cell_type": "markdown",
   "id": "b4df893b-097d-4f58-a2bb-a143411147e2",
   "metadata": {},
   "source": [
    "ratings.txt = reviews.txt (i.e. no difference for this dataset)\n",
    "\n",
    "[121 075 258 lines i.e. 121075258/17 = 7 122 074 review]\n",
    "\n",
    "----------------------------------------------------------------------------------------------------"
   ]
  },
  {
   "cell_type": "markdown",
   "id": "ce0b08c7-9a43-4801-9e7b-d486efbf1bb7",
   "metadata": {},
   "source": [
    "Treatment of .txt to df"
   ]
  },
  {
   "cell_type": "code",
   "execution_count": 19,
   "id": "2b8bbfdc-38c9-4593-8e41-1a2fa92ad968",
   "metadata": {},
   "outputs": [
    {
     "name": "stdout",
     "output_type": "stream",
     "text": [
      "Saved ../../generated/rb_chunks/rb_reviews_chunk_0.parquet\n",
      "Saved ../../generated/rb_chunks/rb_reviews_chunk_1.parquet\n",
      "Saved ../../generated/rb_chunks/rb_reviews_chunk_2.parquet\n",
      "Saved ../../generated/rb_chunks/rb_reviews_chunk_3.parquet\n",
      "Saved ../../generated/rb_chunks/rb_reviews_chunk_4.parquet\n",
      "Saved ../../generated/rb_chunks/rb_reviews_chunk_5.parquet\n",
      "Saved ../../generated/rb_chunks/rb_reviews_chunk_6.parquet\n",
      "Saved ../../generated/rb_chunks/rb_reviews_chunk_7.parquet\n"
     ]
    }
   ],
   "source": [
    "columns = ['beer_name', 'beer_id', 'brewery_name', 'brewery_id', 'style', 'abv', 'date', \n",
    "           'user_name', 'user_id', 'appearance', 'aroma', 'palate', 'taste', 'overall', \n",
    "           'rating']\n",
    "chunk_size = 1_000_000\n",
    "data = []\n",
    "entry_count = 0\n",
    "chunk_count = 0\n",
    "current_entry = {}\n",
    "\n",
    "with open(RB_REVIEWS_DATASET, 'r', encoding='utf-8') as file:\n",
    "    for line in file:\n",
    "        line = line.strip()\n",
    "        if line:\n",
    "            if line.startswith('text:'):\n",
    "                continue\n",
    "            if ':' in line:\n",
    "                key, value = line.split(':', 1)\n",
    "                key = key.strip()\n",
    "                value = value.strip()\n",
    "                current_entry[key] = value\n",
    "        else:\n",
    "            if current_entry:\n",
    "                data.append(current_entry)\n",
    "                current_entry = {}\n",
    "                entry_count += 1\n",
    "\n",
    "                # Save chunk when reaching chunk size\n",
    "                if entry_count >= chunk_size:\n",
    "                    chunk_df = pd.DataFrame(data, columns=columns)\n",
    "                    chunk_file_path = f\"../../generated/rb_chunks/rb_reviews_chunk_{chunk_count}.parquet\"\n",
    "                    chunk_df.to_parquet(chunk_file_path)\n",
    "                    print(f\"Saved {chunk_file_path}\")\n",
    "                    data = []\n",
    "                    entry_count = 0\n",
    "                    chunk_count += 1\n",
    "                    \n",
    "# Process any remaining entries after the loop\n",
    "if data:\n",
    "    chunk_df = pd.DataFrame(data, columns=columns)\n",
    "    chunk_file_path = f\"../../generated/rb_chunks/rb_reviews_chunk_{chunk_count}.parquet\"\n",
    "    chunk_df.to_parquet(chunk_file_path)\n",
    "    print(f\"Saved {chunk_file_path}\")"
   ]
  },
  {
   "cell_type": "code",
   "execution_count": 20,
   "id": "14a931d9-978f-4207-9ad5-6bb343e6737d",
   "metadata": {},
   "outputs": [],
   "source": [
    "rb_chunk_files = glob.glob(\"../../generated/rb_chunks/rb_reviews_chunk_*.parquet\")\n",
    "rb_reviews = pd.concat([pd.read_parquet(rb_chunk) for rb_chunk in rb_chunk_files], ignore_index=True)"
   ]
  },
  {
   "cell_type": "code",
   "execution_count": 21,
   "id": "443901c7-5e8a-400d-a11d-0c7014c23f43",
   "metadata": {},
   "outputs": [],
   "source": [
    "cols_to_numeric = ['beer_id', 'brewery_id', 'abv', 'date', 'appearance', 'aroma', 'palate', 'taste', 'overall', 'rating']\n",
    "rb_reviews[cols_to_numeric] = rb_reviews[cols_to_numeric].apply(pd.to_numeric, errors = 'coerce')\n",
    "rb_reviews['date'] = pd.to_datetime(rb_reviews['date'], unit='s').dt.strftime('%d/%m/%Y')\n",
    "rb_reviews['continent'] = rb_reviews['brewery_id'].apply(lambda id_: rb_dict_id_br_concat.get(int(id_)))\n",
    "rb_reviews['type'] = rb_reviews['style'].apply(style_to_type)"
   ]
  },
  {
   "cell_type": "markdown",
   "id": "b077c931-bfd2-4e80-bce2-395487dd380a",
   "metadata": {},
   "source": [
    "## **SAVING PROCESSED DFs**"
   ]
  },
  {
   "cell_type": "code",
   "execution_count": 22,
   "id": "295599da-55a2-4c1c-a61e-65462fad02ce",
   "metadata": {},
   "outputs": [],
   "source": [
    "ba_breweries.to_csv('../../generated/new_ba_breweries.csv')\n",
    "ba_beers.to_csv('../../generated/new_ba_beers.csv')\n",
    "ba_users.to_csv('../../generated/new_ba_users.csv')\n",
    "ba_reviews.to_parquet('../../generated/new_ba_reviews.parquet')\n",
    "\n",
    "rb_breweries.to_csv('../../generated/new_rb_breweries.csv')\n",
    "rb_beers.to_csv('../../generated/new_rb_beers.csv')\n",
    "rb_users.to_csv('../../generated/new_rb_users.csv')\n",
    "rb_reviews.to_parquet('../../generated/new_rb_reviews.parquet')"
   ]
  }
 ],
 "metadata": {
  "kernelspec": {
   "display_name": "Python 3 (ipykernel)",
   "language": "python",
   "name": "python3"
  },
  "language_info": {
   "codemirror_mode": {
    "name": "ipython",
    "version": 3
   },
   "file_extension": ".py",
   "mimetype": "text/x-python",
   "name": "python",
   "nbconvert_exporter": "python",
   "pygments_lexer": "ipython3",
   "version": "3.12.4"
  }
 },
 "nbformat": 4,
 "nbformat_minor": 5
}
